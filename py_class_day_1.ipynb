{
 "cells": [
  {
   "cell_type": "markdown",
   "id": "c5a7fb7c",
   "metadata": {
    "toc": true
   },
   "source": [
    "<h1>Table of Contents<span class=\"tocSkip\"></span></h1>\n",
    "<div class=\"toc\"><ul class=\"toc-item\"><li><span><a href=\"#-An-Introduction-To-Python\" data-toc-modified-id=\"-An-Introduction-To-Python-0\"><span class=\"toc-item-num\">0&nbsp;&nbsp;</span> An Introduction To Python</a></span><ul class=\"toc-item\"><li><span><a href=\"#Welcome!\" data-toc-modified-id=\"Welcome!-0.1\"><span class=\"toc-item-num\">0.1&nbsp;&nbsp;</span>Welcome!</a></span></li><li><span><a href=\"#The-Python-Environment\" data-toc-modified-id=\"The-Python-Environment-0.2\"><span class=\"toc-item-num\">0.2&nbsp;&nbsp;</span>The Python Environment</a></span></li><li><span><a href=\"#Some-Basics-\" data-toc-modified-id=\"Some-Basics--0.3\"><span class=\"toc-item-num\">0.3&nbsp;&nbsp;</span>Some Basics </a></span></li></ul></li><li><span><a href=\"#Basic-Python-Syntax\" data-toc-modified-id=\"Basic-Python-Syntax-1\"><span class=\"toc-item-num\">1&nbsp;&nbsp;</span>Basic Python Syntax</a></span><ul class=\"toc-item\"><li><span><a href=\"#Hello,-Python\" data-toc-modified-id=\"Hello,-Python-1.1\"><span class=\"toc-item-num\">1.1&nbsp;&nbsp;</span>Hello, Python</a></span></li><li><span><a href=\"#Comments-and-Escape-Characters\" data-toc-modified-id=\"Comments-and-Escape-Characters-1.2\"><span class=\"toc-item-num\">1.2&nbsp;&nbsp;</span>Comments and Escape Characters</a></span></li><li><span><a href=\"#Namespaces-and-String-Variants\" data-toc-modified-id=\"Namespaces-and-String-Variants-1.3\"><span class=\"toc-item-num\">1.3&nbsp;&nbsp;</span>Namespaces and String Variants</a></span></li><li><span><a href=\"#Automatic-Concatenation\" data-toc-modified-id=\"Automatic-Concatenation-1.4\"><span class=\"toc-item-num\">1.4&nbsp;&nbsp;</span>Automatic Concatenation</a></span></li><li><span><a href=\"#Line-Continuation\" data-toc-modified-id=\"Line-Continuation-1.5\"><span class=\"toc-item-num\">1.5&nbsp;&nbsp;</span>Line Continuation</a></span></li><li><span><a href=\"#Exercise\" data-toc-modified-id=\"Exercise-1.6\"><span class=\"toc-item-num\">1.6&nbsp;&nbsp;</span>Exercise</a></span></li></ul></li><li><span><a href=\"#What’s-Your-Number?\" data-toc-modified-id=\"What’s-Your-Number?-2\"><span class=\"toc-item-num\">2&nbsp;&nbsp;</span>What’s Your Number?</a></span><ul class=\"toc-item\"><li><span><a href=\"#Which-Python\" data-toc-modified-id=\"Which-Python-2.1\"><span class=\"toc-item-num\">2.1&nbsp;&nbsp;</span>Which Python</a></span></li><li><span><a href=\"#Chatting-up-an-Object\" data-toc-modified-id=\"Chatting-up-an-Object-2.2\"><span class=\"toc-item-num\">2.2&nbsp;&nbsp;</span>Chatting up an Object</a></span></li><li><span><a href=\"#Methods-Can-Be-Built-Into-Objects\" data-toc-modified-id=\"Methods-Can-Be-Built-Into-Objects-2.3\"><span class=\"toc-item-num\">2.3&nbsp;&nbsp;</span>Methods Can Be Built Into Objects</a></span></li><li><span><a href=\"#Implementation-of-Operators-Varies\" data-toc-modified-id=\"Implementation-of-Operators-Varies-2.4\"><span class=\"toc-item-num\">2.4&nbsp;&nbsp;</span>Implementation of Operators Varies</a></span></li><li><span><a href=\"#Getting-Help\" data-toc-modified-id=\"Getting-Help-2.5\"><span class=\"toc-item-num\">2.5&nbsp;&nbsp;</span>Getting Help</a></span></li><li><span><a href=\"#Numbers-and-More-Numbers\" data-toc-modified-id=\"Numbers-and-More-Numbers-2.6\"><span class=\"toc-item-num\">2.6&nbsp;&nbsp;</span>Numbers and More Numbers</a></span></li><li><span><a href=\"#-Accuracy-and-Garbage\" data-toc-modified-id=\"-Accuracy-and-Garbage-2.7\"><span class=\"toc-item-num\">2.7&nbsp;&nbsp;</span> Accuracy and Garbage</a></span></li><li><span><a href=\"#-Numeric-Types-as-Methods\" data-toc-modified-id=\"-Numeric-Types-as-Methods-2.8\"><span class=\"toc-item-num\">2.8&nbsp;&nbsp;</span> Numeric Types as Methods</a></span></li><li><span><a href=\"#Getting-User-Input\" data-toc-modified-id=\"Getting-User-Input-2.9\"><span class=\"toc-item-num\">2.9&nbsp;&nbsp;</span>Getting User Input</a></span></li><li><span><a href=\"#Exercise\" data-toc-modified-id=\"Exercise-2.10\"><span class=\"toc-item-num\">2.10&nbsp;&nbsp;</span>Exercise</a></span></li></ul></li><li><span><a href=\"#“String-Theory”\" data-toc-modified-id=\"“String-Theory”-3\"><span class=\"toc-item-num\">3&nbsp;&nbsp;</span>“String Theory”</a></span><ul class=\"toc-item\"><li><span><a href=\"#String-Methods\" data-toc-modified-id=\"String-Methods-3.1\"><span class=\"toc-item-num\">3.1&nbsp;&nbsp;</span>String Methods</a></span></li><li><span><a href=\"#Breaking-up-and-Getting-Together-Again\" data-toc-modified-id=\"Breaking-up-and-Getting-Together-Again-3.2\"><span class=\"toc-item-num\">3.2&nbsp;&nbsp;</span>Breaking up and Getting Together Again</a></span></li><li><span><a href=\"#Literals-and-Escape-Sequences\" data-toc-modified-id=\"Literals-and-Escape-Sequences-3.3\"><span class=\"toc-item-num\">3.3&nbsp;&nbsp;</span>Literals and Escape Sequences</a></span></li><li><span><a href=\"#Cleaning-House-and-Moving-Furniture\" data-toc-modified-id=\"Cleaning-House-and-Moving-Furniture-3.4\"><span class=\"toc-item-num\">3.4&nbsp;&nbsp;</span>Cleaning House and Moving Furniture</a></span><ul class=\"toc-item\"><li><span><a href=\"#Boolean-Evaluations\" data-toc-modified-id=\"Boolean-Evaluations-3.4.1\"><span class=\"toc-item-num\">3.4.1&nbsp;&nbsp;</span>Boolean Evaluations</a></span></li><li><span><a href=\"#More-Python-Keywords-and-str-Object-Manipulations\" data-toc-modified-id=\"More-Python-Keywords-and-str-Object-Manipulations-3.4.2\"><span class=\"toc-item-num\">3.4.2&nbsp;&nbsp;</span>More Python Keywords and <strong>str</strong> Object Manipulations</a></span></li></ul></li><li><span><a href=\"#Making-Things-Beautiful:-the-Format-Mini-Language\" data-toc-modified-id=\"Making-Things-Beautiful:-the-Format-Mini-Language-3.5\"><span class=\"toc-item-num\">3.5&nbsp;&nbsp;</span>Making Things Beautiful: the Format Mini-Language</a></span></li><li><span><a href=\"#Exercise\" data-toc-modified-id=\"Exercise-3.6\"><span class=\"toc-item-num\">3.6&nbsp;&nbsp;</span>Exercise</a></span></li></ul></li></ul></div>"
   ]
  },
  {
   "cell_type": "code",
   "execution_count": null,
   "id": "0b8d71ca",
   "metadata": {},
   "outputs": [],
   "source": []
  },
  {
   "cell_type": "markdown",
   "id": "eb2eba37",
   "metadata": {},
   "source": [
    " An Introduction To Python\n",
    "========================="
   ]
  },
  {
   "cell_type": "markdown",
   "id": "f2889a54",
   "metadata": {},
   "source": [
    "Welcome!\n",
    "--------\n",
    "\n",
    "This course will take you on a journey through the world of Python 3.0.  Whether you are new to programming or just new to Python, expect to come away with a solid understanding of:\n",
    "\n",
    "-   What the heck is Python and where did it come from?\n",
    "\n",
    "\n",
    "-   Interacting with Python at the command line (Python is really\n",
    "    gregarious!)\n",
    "    \n",
    "\n",
    "-   Working effectively with an interactive debugging environment\n",
    "\n",
    "\n",
    "-   Utilizing professional code distributions and package managers\n",
    "\n",
    "\n",
    "-   Python objects including classes, methods, and collections\n",
    "\n",
    "\n",
    "-   Customizing your Python objects with your own code\n",
    "\n",
    "This might sound like a lot – and it is. But Python really is fun to work with and very forgiving to the beginner. \n",
    "\n",
    "You can’t break Python. \n",
    "\n",
    "It talks to you. In fact, it’s downright loquacious. You can ask it questions and it (usually) provides sensible answers. And when it doesn’t, there are hundreds of thousands of great resources available over the internet. We’ll show you how to access some of these, as well.  So roll up your sleeves and get ready to enjoy the ride!"
   ]
  },
  {
   "cell_type": "markdown",
   "id": "01908717",
   "metadata": {},
   "source": [
    "The Python Environment\n",
    "----------------------\n",
    "\n",
    "You should already have Python installed on your machine. If not, no worries. You could go ahead and install a fresh Python distribution and an IDE (integrated development environment).\n",
    "\n",
    "Yes, it’s possible to download, compile, and install Python. If you’re ever interested, downloads are available directly from the official Python web site:\n",
    "\n",
    "https://www.python.org/downloads.\n",
    "\n",
    "This being said, there are distributions such as EnThought and Anaconda which offer integrated package management that allows easy access to extended libraries and their sometimes extensive/tedious dependencies. This is especially valuable when adding complex libraries such as NumPy, which can take hours to get right.\n",
    "\n",
    "For this course, we’ll use the Anaconda distribution. This supports all sorts of data science and visualization packages that we’ll touch on in the advanced course, along with Python virtual environments “right out of the box.” You can install it by browsing to this sight and following\n",
    "the instructions to get the 64-bit version for Python 3. \n",
    "\n",
    "https://www.anaconda.com/download/\n",
    "\n",
    "The “official” IDE for Python is called IDLE. It provides a rudimentary and very light weight debugger and file manager. IDLE works and works well, but for serious work I much prefer a more fully-functional environment such as PyCharm, WingIDE, or VSCode with the Python plug-in. If you’re accustomed to Eclipse, you could use the PyDev plug-in[1]. A light-weight debugger, Spyder, comes packaged with Anaconda. If you want to use Wing, you can download a full-on Professional version (free for 30 days)[2]. You have many options.\n",
    "\n",
    "Python uses environment variables to help it work and play well with the operating system (OS). The most important of these are PATH and PYTHONPATH.\n",
    "\n",
    "PATH contains the directories your OS will search when looking for a particular application. In order for Python to “just work” when you\n",
    "type:\n",
    "\n",
    "**\\$ python \n",
    "\n",
    "You have to include Python’s binary (executable) directory in the PATH variable. That’s where python.exe lives. On a Windows system, you can do that by clicking:  \n",
    "\n",
    "**Start ... Control Panel... System ... Advanced System Settings ...\n",
    "Environment Variables**\n",
    "\n",
    "Then edit PATH by appending the binary directory. You have to be a bit careful. Add a semicolon, no spaces, and the name of the new directory with no trailing slash. Something like:\n",
    "\n",
    "\\<existing path\\>;c:\\\\Path\\\\To\\\\Directory\n",
    "\n",
    "On a Linux system, you can simply add an export to \\~/.bashrc:\n",
    "\n",
    "Export PATH = \\$PATH:/path/to/directory\n",
    "\n",
    "PYTHONPATH works the same way PATH does, but it’s used internally by Python to search for modules (libraries, for instance) that you’ll want to import into your code’s namespace.\n",
    "\n",
    "Once you make the necessary changes to your environment variables, you’ll need to start a new terminal to apply them (or run source \\~/.bashrc in Linux)."
   ]
  },
  {
   "cell_type": "markdown",
   "id": "d9502260",
   "metadata": {},
   "source": [
    "Some Basics \n",
    "-----------\n",
    "\n",
    "Let’s have a quick look at some Python concepts. We’ll cover all these\n",
    "in more depth later, but we’ll put them on the table early.\n",
    "\n",
    "Python is an amazingly simple language from a syntax perspective.\n",
    "Believe it or not, there are only 33 keywords only a few of which are\n",
    "exotic. Here’s a list[3]:\n",
    "\n",
    "|        |          |         |          |        |\n",
    "|--------|----------|---------|----------|--------|\n",
    "| False  | class    | finally | is       | return |\n",
    "| None   | continue | for     | lambda   | try    |\n",
    "| True   | def      | from    | nonlocal | while  |\n",
    "| and    | del      | global  | not      | with   |\n",
    "| as     | elif     | if      | or       | yield  |\n",
    "| assert | else     | import  | pass     |        |\n",
    "| break  | except   | in      | raise    |        |\n",
    "|<img width=110/>|<img width=110/>|<img width=110/>|<img width=110/>|<img width=110/>|\n",
    "\n",
    "Let’s have a quick look at some Python concepts. We’ll cover all these in more depth later, but we’ll put them on the table early.\n",
    "\n",
    "If you are ever uncertain about whether a variable name you’re considering is a keyword (or otherwise known to the interpreter), you can just type it into a command line. If the interpreter “yells at you”, you can choose another name.\n",
    "\n",
    "A few other things to know:  \n",
    "\n",
    "-   Case matters – Python is case sensitive  \n",
    "\n",
    "\n",
    "-   Indentation matters – Python doesn’t rely on brackets or braces   \n",
    "\n",
    "\n",
    "-   Whitespace typically does not matter  \n",
    "\n",
    "\n",
    "-   Help is just a few keystrokes away – just type “help”  \n",
    "\n",
    "So, what is Python, anyway?\n",
    "\n",
    "-   A **high-level**, **object oriented** (each object has its own\n",
    "    repertoire of nouns and verbs, and they can borrow from and build on\n",
    "    each other) **interpreted** language (“just in time” compilation).\n",
    "    \n",
    "\n",
    "-   You can think of it a giant wrapper around hundreds of thousands of\n",
    "    lines of C and C++ libraries, each providing consistent APIs\n",
    "    (Application Programming Interfaces) so everything has the same look\n",
    "    and feel.\n",
    "    \n",
    "\n",
    "-   Created by **Guido van Rossum**, a great fan of **Monty Python**, in\n",
    "    the late 1990s as a successor to the ABC language, with significant\n",
    "    support from **DARPA**. (That’s Guido holding a beer in the photo\n",
    "    below.)\n",
    "    \n",
    "\n",
    "-   Highly extensible to applications such as GIS (pyqgis), scientific\n",
    "    programming (numpy), visualization (matplotlib), and many other\n",
    "    domains.\n",
    "    \n",
    "\n",
    "-   Python is operating system agnostic, and runs equally well on\n",
    "    Windows, Linux, Raspberry Pi, and Mac systems.\n",
    "    \n",
    "\n",
    "Python has been around since 1994 and has undergone several transformations. Most notably, Python evolved from 2.7 to 3.0 in 2008, implementing Unicode characters and addressing some lingering structural concerns.\n",
    "\n",
    "There are plenty of solid applications written in 2.7 in the world, but most newer developments have shifted to Python 3. You should be aware that there are enough substantive differences between 2.x and 3.x that code written against one version is not wholly compatible with the other.\n",
    "\n",
    "By design Python is simple, clear, and transparent. Philosophical tenants (shown in abbreviated form here) are always available from a Python prompt:\n",
    "\n",
    "\\>\\>\\> import this\n"
   ]
  },
  {
   "cell_type": "markdown",
   "id": "71580179",
   "metadata": {
    "ExecuteTime": {
     "end_time": "2021-07-02T19:32:22.949319Z",
     "start_time": "2021-07-02T19:32:22.929753Z"
    }
   },
   "source": [
    "> The Zen of Python, by Tim Peters\n",
    ">\n",
    "- Beautiful is better than ugly.\n",
    "\n",
    "- Explicit is better than implicit.\n",
    "\n",
    "- Simple is better than complex.\n",
    "\n",
    "- Complex is better than complicated.\n",
    "\n",
    "- Flat is better than nested.\n",
    "\n",
    "- Sparse is better than dense.\n",
    "\n",
    "- Readability counts.\n",
    "\n",
    "- Special cases aren't special enough to break the rules.\n",
    "\n",
    "- Although practicality beats purity.\n",
    "\n",
    "- Errors should never pass silently.\n",
    "\n",
    "- Unless explicitly silenced.\n",
    "\n",
    "- In the face of ambiguity, refuse the temptation to guess.\n",
    "\n",
    "- There should be one-- and preferably only one --obvious way to do it.\n",
    "\n",
    "- Although that way may not be obvious at first unless you're Dutch.\n",
    "\n",
    "- Now is better than never.\n",
    "\n",
    "- Although never is often better than \\*right\\* now.\n",
    "\n",
    "- If the implementation is hard to explain, it's a bad idea.\n",
    "\n",
    "- If the implementation is easy to explain, it may be a good idea.\n",
    "\n",
    "- Namespaces are one honking great idea -- let's do more of those!.\n",
    "\n",
    "OK. Let’s get started and have some fun!"
   ]
  },
  {
   "cell_type": "markdown",
   "id": "d733d3ff",
   "metadata": {},
   "source": [
    "Basic Python Syntax\n",
    "===================\n",
    "\n",
    "Hello, Python\n",
    "-------------\n",
    "\n",
    "As you know, there’s an unwritten Cosmic Law stating all computer courses have to start with a “Hello World” application. Since we don’t want the Cosmic Police kicking the door down, let’s start with that.  Besides, it’s a great introduction to Python’s command line operations.\n",
    "\n",
    "To invoke the interpreter, type this from the command line (except the “\\$”):\n",
    "\n",
    "\\$ python3\n",
    "\n",
    "Python 3.9.0 (default, Oct 14 2020, 11:33:57) [GCC 4.8.4\\] on linux\n",
    "\n",
    "Type \"help\", \"copyright\", \"credits\" or \"license\" for more information.\n",
    "\n",
    "\\>\\>\\>\n",
    "\n",
    "\n",
    "So what’s this? The first few lines let you know what “flavor” of Python you’re using, and how it was compiled. This can be important because you may well have several versions installed on the same machine. More on that later.\n",
    "\n",
    "The last line is the interpreter’s prompt (\\>\\>\\> )  to let you know you’re talking to Python. So let’s say “hello.”"
   ]
  },
  {
   "cell_type": "code",
   "execution_count": 1,
   "id": "bd2ff96e",
   "metadata": {
    "ExecuteTime": {
     "end_time": "2021-07-02T20:10:42.971369Z",
     "start_time": "2021-07-02T20:10:42.953015Z"
    }
   },
   "outputs": [
    {
     "name": "stdout",
     "output_type": "stream",
     "text": [
      "hello\n"
     ]
    }
   ],
   "source": [
    "print(\"hello\")"
   ]
  },
  {
   "cell_type": "markdown",
   "id": "5a2e3563",
   "metadata": {},
   "source": [
    "In this command, we utilize one of Python’s top-level methods, the **print function,** and one of Python’s top-level objects, the string, known internally as a **str**. Note that the arguments to the function are enclosed in parentheses, and that the contents of the string are enclosed in quotes.\n",
    "\n",
    "Strings are ubiquitous, so it’s good to know a few ways to compose them.  \n",
    "\n",
    "## Comments and Escape Characters\n",
    "\n",
    "Here are some examples. These are annotated using the **\\#** character – that’s how you can make single line comments. Anything to the right of the \\# will not compile, so you can embed your comments in-line."
   ]
  },
  {
   "cell_type": "code",
   "execution_count": 2,
   "id": "3f0adb77",
   "metadata": {},
   "outputs": [
    {
     "name": "stdout",
     "output_type": "stream",
     "text": [
      "Hello, Guido's cool project.\n",
      "Hello, Guido's cool project.\n"
     ]
    }
   ],
   "source": [
    "# You can use double quotes – useful with apostrophes.\n",
    "print(\"Hello, Guido's cool project.\")\n",
    "\n",
    "# You can also “escape” the apostrophe with a \"\\\".\n",
    "print('Hello, Guido\\'s cool project.')"
   ]
  },
  {
   "cell_type": "markdown",
   "id": "75d85d58",
   "metadata": {},
   "source": [
    "Let’s try a few more strings. This time, we’ll assign them to names so wrangling them will be easier. \n",
    "\n",
    "\n",
    "## Namespaces and String Variants\n",
    "So what are names? These are just tags you can associate with values. “Values” are simply the bits of information stored in the computer’s memory."
   ]
  },
  {
   "cell_type": "code",
   "execution_count": 3,
   "id": "71c7daa8",
   "metadata": {},
   "outputs": [
    {
     "name": "stdout",
     "output_type": "stream",
     "text": [
      "Cubs 2018 win\n"
     ]
    }
   ],
   "source": [
    "#single quotes work just fine\n",
    "team = 'Cubs'\n",
    "\n",
    "#you can also use triple double quotes\n",
    "year = \"\"\"2018\"\"\"\n",
    "\n",
    "#... or triple single quotes\n",
    "outcome = '''win'''\n",
    "\n",
    "#these can be provided to print as arguments, separated by commas.\n",
    "print(team, year, outcome)"
   ]
  },
  {
   "cell_type": "markdown",
   "id": "3461a2b4",
   "metadata": {},
   "source": [
    "## Automatic Concatenation\n",
    "You can provide a series of strings together and Python will automatically concatenate them (run them together):"
   ]
  },
  {
   "cell_type": "code",
   "execution_count": 4,
   "id": "5d02c148",
   "metadata": {},
   "outputs": [
    {
     "data": {
      "text/plain": [
       "'andaoneandatwo'"
      ]
     },
     "execution_count": 4,
     "metadata": {},
     "output_type": "execute_result"
    }
   ],
   "source": [
    "\"and\" \"a\" \"one\" \"and\" \"a\" \"two\""
   ]
  },
  {
   "cell_type": "markdown",
   "id": "ce6e56fd",
   "metadata": {
    "solution": "hidden"
   },
   "source": [
    "## Line Continuation\n",
    "If you ever want a multi-line string, you can use either of the triple quote styles."
   ]
  },
  {
   "cell_type": "code",
   "execution_count": 5,
   "id": "dfff2d67",
   "metadata": {},
   "outputs": [
    {
     "name": "stdout",
     "output_type": "stream",
     "text": [
      "             Cubs\n",
      "             2018\n",
      "             win\n"
     ]
    }
   ],
   "source": [
    "chant = \"\"\" \\\n",
    "            Cubs\n",
    "             2018\n",
    "             win\"\"\"\n",
    "print(chant)"
   ]
  },
  {
   "cell_type": "markdown",
   "id": "bb2b19d2",
   "metadata": {},
   "source": [
    "If you study the above example carefully, you’ll notice a couple features. The interpreter will automatically allow a command to be broken up into several lines if there’s an unclosed control symbol. Since we had not yet included the terminating triple quote, it patiently waited. This feature also works for parentheses, braces, etc.\n",
    "\n",
    "Here is another example:"
   ]
  },
  {
   "cell_type": "code",
   "execution_count": 6,
   "id": "dc5aefae",
   "metadata": {},
   "outputs": [
    {
     "data": {
      "text/plain": [
       "[99, 33, 40]"
      ]
     },
     "execution_count": 6,
     "metadata": {},
     "output_type": "execute_result"
    }
   ],
   "source": [
    "# we’ll introduce the list object soon\n",
    "a_list = [99,\n",
    "          33,\n",
    "          40\n",
    "          ]\n",
    "a_list"
   ]
  },
  {
   "cell_type": "markdown",
   "id": "aab70412",
   "metadata": {},
   "source": [
    "You now know how to communicate with Python’s command line. You can execute functions, create objects, provide commands, and receive output.  \n",
    "\n",
    "Now, it’s time to roll your sleeves up."
   ]
  },
  {
   "cell_type": "markdown",
   "id": "6348cccd",
   "metadata": {},
   "source": [
    "## Exercise\n",
    "Please write your own version of a “hello world”, working at the terminal. Practice using all four of the string composition methods, and with both single and multiple line versions.  Document your code for posterity.\n",
    "\n",
    "Solution: solution_hello"
   ]
  },
  {
   "cell_type": "markdown",
   "id": "d3791af9",
   "metadata": {
    "solution": "hidden"
   },
   "source": [
    "# What’s Your Number?\n",
    "-------------------\n",
    "\n",
    "Do you remember when I said that Python is loquacious? I was not kidding. You can have an interactive conversation with the interpreter in which it will tell you about itself and all the objects it knows about. The best part is that you can ask it for help and get reliable information to guide your programming efforts.\n",
    "\n",
    "No course can teach you everything you need to know, not even this one.  Knowing how to efficiently get the help you need is perhaps the most important skill you can acquire. So the information in this chapter is the most critical bit of the course.\n",
    "\n",
    "The interpreter can tell you about itself. Sometimes you have to access built-in libraries by importing them into your local **namespace**. A namespace is all the names (“tags”), associated with the **values** stored in memory, your program has access to. By importing more names, we have access to more values and objects."
   ]
  },
  {
   "cell_type": "markdown",
   "id": "44d2e0bd",
   "metadata": {},
   "source": [
    "## Which Python\n",
    "\n",
    "Here, we’re asking the interpreter what version of Python we’re using, which release, and what operating system it finds itself operating within.\n",
    "\n",
    "Let’s have a conversation!"
   ]
  },
  {
   "cell_type": "code",
   "execution_count": 7,
   "id": "39773684",
   "metadata": {},
   "outputs": [
    {
     "data": {
      "text/plain": [
       "'3.8.8 (default, Apr 13 2021, 15:08:03) [MSC v.1916 64 bit (AMD64)]'"
      ]
     },
     "execution_count": 7,
     "metadata": {},
     "output_type": "execute_result"
    }
   ],
   "source": [
    "import sys  # tools for working with the Python environment\n",
    "sys.version"
   ]
  },
  {
   "cell_type": "code",
   "execution_count": 8,
   "id": "1d8bb42c",
   "metadata": {},
   "outputs": [
    {
     "data": {
      "text/plain": [
       "sys.version_info(major=3, minor=8, micro=8, releaselevel='final', serial=0)"
      ]
     },
     "execution_count": 8,
     "metadata": {},
     "output_type": "execute_result"
    }
   ],
   "source": [
    "sys.version_info"
   ]
  },
  {
   "cell_type": "code",
   "execution_count": 9,
   "id": "214c3caa",
   "metadata": {},
   "outputs": [
    {
     "data": {
      "text/plain": [
       "'nt'"
      ]
     },
     "execution_count": 9,
     "metadata": {},
     "output_type": "execute_result"
    }
   ],
   "source": [
    "import os  # tools for working with the OS\n",
    "os.name"
   ]
  },
  {
   "cell_type": "markdown",
   "id": "05c3bf56",
   "metadata": {},
   "source": [
    "## Chatting up an Object\n",
    "\n",
    "Now, this gets even better. Let’s say we have an object. \n",
    "\n",
    "*“One is the loneliest number that there ever was ...”*, or so the song goes. \n",
    "\n",
    "Maybe we can address the issue by engaging with 1.  Or maybe we can’t, but let’s try.  To start with we’ll give it the name “one”, pull up a chair, then chat it up."
   ]
  },
  {
   "cell_type": "code",
   "execution_count": 10,
   "id": "1cbc3146",
   "metadata": {},
   "outputs": [],
   "source": [
    "one = 1  # hey, can I call you ‘one’?"
   ]
  },
  {
   "cell_type": "code",
   "execution_count": 11,
   "id": "ebdd39ce",
   "metadata": {},
   "outputs": [
    {
     "data": {
      "text/plain": [
       "1"
      ]
     },
     "execution_count": 11,
     "metadata": {},
     "output_type": "execute_result"
    }
   ],
   "source": [
    "one  # tell me a little about yourself"
   ]
  },
  {
   "cell_type": "code",
   "execution_count": 12,
   "id": "b865bea6",
   "metadata": {},
   "outputs": [
    {
     "data": {
      "text/plain": [
       "140726850168624"
      ]
     },
     "execution_count": 12,
     "metadata": {},
     "output_type": "execute_result"
    }
   ],
   "source": [
    "id(one)  # where do you live?"
   ]
  },
  {
   "cell_type": "code",
   "execution_count": 13,
   "id": "931a6176",
   "metadata": {},
   "outputs": [
    {
     "data": {
      "text/plain": [
       "int"
      ]
     },
     "execution_count": 13,
     "metadata": {},
     "output_type": "execute_result"
    }
   ],
   "source": [
    "type(one)  # I like your type. What is it, anyway?"
   ]
  },
  {
   "cell_type": "code",
   "execution_count": 14,
   "id": "03937c53",
   "metadata": {},
   "outputs": [
    {
     "data": {
      "text/plain": [
       "True"
      ]
     },
     "execution_count": 14,
     "metadata": {},
     "output_type": "execute_result"
    }
   ],
   "source": [
    "isinstance(one, int)  # Um. Right, then an integer?"
   ]
  },
  {
   "cell_type": "markdown",
   "id": "0444310a",
   "metadata": {},
   "source": [
    "Let’s step through this preliminary conversation. \n",
    "\n",
    "After we assigned it a name, we then called it by name and it responded. It happened to respond with its value, but not all objects do that. The response is built into the object as its **\\_\\_repr\\_\\_** method, which is executed when you type the name. When you make your own classes later on, you’ll be able to make it say something like “I’m 1, and I’m a Leo”, or anything else you like. The **int** object simply replies with a parsimonious string representation of itself.\n",
    "\n",
    "The next bit, invoking the top level function **id** provides a unique descriptor of the object. Under the hood, it’s just the location in memory where the object resides (that’s how it’s guaranteed to be unique – no two objects can occupy the same space at the same time).\n",
    "\n",
    "We’re pretty sure what type of object one is, but we can ask to be sure using the **type** method. In this case, we learn that it’s an **int** object (not an “integer”). In fact, **int** is the name of a built-in function and already reserved by Python. We can use it with the **isinstance** method to verify its type. This can become important – for instance, we might want to check whether an object is a number before attempting to do math with it.\n",
    "\n",
    "One of the really useful aspects of Python is that objects come to us already endowed with properties and already knowing how to do type-appropriate tricks. More properly these are called **attributes** and **methods** (“nouns” and “verbs”). "
   ]
  },
  {
   "cell_type": "markdown",
   "id": "c5206a58",
   "metadata": {},
   "source": [
    "## Methods Can Be Built Into Objects\n",
    "\n",
    "We can discover some of the methods built into the **int** objects empirically, just by interacting with it.  So let’s experiment:"
   ]
  },
  {
   "cell_type": "code",
   "execution_count": 15,
   "id": "e0362bd3",
   "metadata": {},
   "outputs": [
    {
     "data": {
      "text/plain": [
       "2"
      ]
     },
     "execution_count": 15,
     "metadata": {},
     "output_type": "execute_result"
    }
   ],
   "source": [
    "one + one  # can you add?"
   ]
  },
  {
   "cell_type": "code",
   "execution_count": 16,
   "id": "64169b41",
   "metadata": {},
   "outputs": [
    {
     "data": {
      "text/plain": [
       "1.0"
      ]
     },
     "execution_count": 16,
     "metadata": {},
     "output_type": "execute_result"
    }
   ],
   "source": [
    "one / one  # divide?"
   ]
  },
  {
   "cell_type": "code",
   "execution_count": 17,
   "id": "b47b04ec",
   "metadata": {},
   "outputs": [
    {
     "data": {
      "text/plain": [
       "1"
      ]
     },
     "execution_count": 17,
     "metadata": {},
     "output_type": "execute_result"
    }
   ],
   "source": [
    "one * one  # OK then, can you multiply?"
   ]
  },
  {
   "cell_type": "code",
   "execution_count": 18,
   "id": "9449f278",
   "metadata": {},
   "outputs": [
    {
     "data": {
      "text/plain": [
       "1"
      ]
     },
     "execution_count": 18,
     "metadata": {},
     "output_type": "execute_result"
    }
   ],
   "source": [
    "one ** one  # do powers?"
   ]
  },
  {
   "cell_type": "code",
   "execution_count": 19,
   "id": "de82c964",
   "metadata": {},
   "outputs": [
    {
     "data": {
      "text/plain": [
       "0"
      ]
     },
     "execution_count": 19,
     "metadata": {},
     "output_type": "execute_result"
    }
   ],
   "source": [
    "one % one  # how about modulo operations?"
   ]
  },
  {
   "cell_type": "markdown",
   "id": "d0078c2e",
   "metadata": {},
   "source": [
    "This is pretty much as expected, since we’re already familiar with integers. But we’ll frequently encounter objects that we’re not familiar with, or need to know how they handle various operators. Sometimes things aren’t as expected. For instance, what happens if we do a “multiplication” or “addition” operation on a string?"
   ]
  },
  {
   "cell_type": "markdown",
   "id": "bbad38ab",
   "metadata": {},
   "source": [
    "##  Implementation of Operators Varies\n",
    "\n",
    "Sometimes things aren’t as expected. For instance, what happens if we do a “multiplication” or “addition” operation on a string?"
   ]
  },
  {
   "cell_type": "code",
   "execution_count": 20,
   "id": "1a7529ed",
   "metadata": {},
   "outputs": [
    {
     "data": {
      "text/plain": [
       "'gocubs'"
      ]
     },
     "execution_count": 20,
     "metadata": {},
     "output_type": "execute_result"
    }
   ],
   "source": [
    " \"go\" + \"cubs\""
   ]
  },
  {
   "cell_type": "code",
   "execution_count": 21,
   "id": "350f7437",
   "metadata": {},
   "outputs": [
    {
     "data": {
      "text/plain": [
       "'cubscubscubscubscubscubscubscubscubscubs'"
      ]
     },
     "execution_count": 21,
     "metadata": {},
     "output_type": "execute_result"
    }
   ],
   "source": [
    "\"cubs\" * 10"
   ]
  },
  {
   "cell_type": "markdown",
   "id": "9756a76e",
   "metadata": {},
   "source": [
    "Getting Help\n",
    "------------\n",
    "\n",
    "Though it’s interesting and really informative to experiment, you’ll typically be too busy to indulge. In these cases, the most straightforward way to engage is to ask for help. This is easy enough to accomplish as you can see below. "
   ]
  },
  {
   "cell_type": "code",
   "execution_count": 22,
   "id": "ac1656ed",
   "metadata": {},
   "outputs": [
    {
     "name": "stdout",
     "output_type": "stream",
     "text": [
      "Help on int object:\n",
      "\n",
      "class int(object)\n",
      " |  int([x]) -> integer\n",
      " |  int(x, base=10) -> integer\n",
      " |  \n",
      " |  Convert a number or string to an integer, or return 0 if no arguments\n",
      " |  are given.  If x is a number, return x.__int__().  For floating point\n",
      " |  numbers, this truncates towards zero.\n",
      " |  \n",
      " |  If x is not a number or if base is given, then x must be a string,\n",
      " |  bytes, or bytearray instance representing an integer literal in the\n",
      " |  given base.  The literal can be preceded by '+' or '-' and be surrounded\n",
      " |  by whitespace.  The base defaults to 10.  Valid bases are 0 and 2-36.\n",
      " |  Base 0 means to interpret the base from the string as an integer literal.\n",
      " |  >>> int('0b100', base=0)\n",
      " |  4\n",
      " |  \n",
      " |  Built-in subclasses:\n",
      " |      bool\n",
      " |  \n",
      " |  Methods defined here:\n",
      " |  \n",
      " |  __abs__(self, /)\n",
      " |      abs(self)\n",
      " |  \n",
      " |  __add__(self, value, /)\n",
      " |      Return self+value.\n",
      " |  \n",
      " |  __and__(self, value, /)\n",
      " |      Return self&value.\n",
      " |  \n",
      " |  __bool__(self, /)\n",
      " |      self != 0\n",
      " |  \n",
      " |  __ceil__(...)\n",
      " |      Ceiling of an Integral returns itself.\n",
      " |  \n",
      " |  __divmod__(self, value, /)\n",
      " |      Return divmod(self, value).\n",
      " |  \n",
      " |  __eq__(self, value, /)\n",
      " |      Return self==value.\n",
      " |  \n",
      " |  __float__(self, /)\n",
      " |      float(self)\n",
      " |  \n",
      " |  __floor__(...)\n",
      " |      Flooring an Integral returns itself.\n",
      " |  \n",
      " |  __floordiv__(self, value, /)\n",
      " |      Return self//value.\n",
      " |  \n",
      " |  __format__(self, format_spec, /)\n",
      " |      Default object formatter.\n",
      " |  \n",
      " |  __ge__(self, value, /)\n",
      " |      Return self>=value.\n",
      " |  \n",
      " |  __getattribute__(self, name, /)\n",
      " |      Return getattr(self, name).\n",
      " |  \n",
      " |  __getnewargs__(self, /)\n",
      " |  \n",
      " |  __gt__(self, value, /)\n",
      " |      Return self>value.\n",
      " |  \n",
      " |  __hash__(self, /)\n",
      " |      Return hash(self).\n",
      " |  \n",
      " |  __index__(self, /)\n",
      " |      Return self converted to an integer, if self is suitable for use as an index into a list.\n",
      " |  \n",
      " |  __int__(self, /)\n",
      " |      int(self)\n",
      " |  \n",
      " |  __invert__(self, /)\n",
      " |      ~self\n",
      " |  \n",
      " |  __le__(self, value, /)\n",
      " |      Return self<=value.\n",
      " |  \n",
      " |  __lshift__(self, value, /)\n",
      " |      Return self<<value.\n",
      " |  \n",
      " |  __lt__(self, value, /)\n",
      " |      Return self<value.\n",
      " |  \n",
      " |  __mod__(self, value, /)\n",
      " |      Return self%value.\n",
      " |  \n",
      " |  __mul__(self, value, /)\n",
      " |      Return self*value.\n",
      " |  \n",
      " |  __ne__(self, value, /)\n",
      " |      Return self!=value.\n",
      " |  \n",
      " |  __neg__(self, /)\n",
      " |      -self\n",
      " |  \n",
      " |  __or__(self, value, /)\n",
      " |      Return self|value.\n",
      " |  \n",
      " |  __pos__(self, /)\n",
      " |      +self\n",
      " |  \n",
      " |  __pow__(self, value, mod=None, /)\n",
      " |      Return pow(self, value, mod).\n",
      " |  \n",
      " |  __radd__(self, value, /)\n",
      " |      Return value+self.\n",
      " |  \n",
      " |  __rand__(self, value, /)\n",
      " |      Return value&self.\n",
      " |  \n",
      " |  __rdivmod__(self, value, /)\n",
      " |      Return divmod(value, self).\n",
      " |  \n",
      " |  __repr__(self, /)\n",
      " |      Return repr(self).\n",
      " |  \n",
      " |  __rfloordiv__(self, value, /)\n",
      " |      Return value//self.\n",
      " |  \n",
      " |  __rlshift__(self, value, /)\n",
      " |      Return value<<self.\n",
      " |  \n",
      " |  __rmod__(self, value, /)\n",
      " |      Return value%self.\n",
      " |  \n",
      " |  __rmul__(self, value, /)\n",
      " |      Return value*self.\n",
      " |  \n",
      " |  __ror__(self, value, /)\n",
      " |      Return value|self.\n",
      " |  \n",
      " |  __round__(...)\n",
      " |      Rounding an Integral returns itself.\n",
      " |      Rounding with an ndigits argument also returns an integer.\n",
      " |  \n",
      " |  __rpow__(self, value, mod=None, /)\n",
      " |      Return pow(value, self, mod).\n",
      " |  \n",
      " |  __rrshift__(self, value, /)\n",
      " |      Return value>>self.\n",
      " |  \n",
      " |  __rshift__(self, value, /)\n",
      " |      Return self>>value.\n",
      " |  \n",
      " |  __rsub__(self, value, /)\n",
      " |      Return value-self.\n",
      " |  \n",
      " |  __rtruediv__(self, value, /)\n",
      " |      Return value/self.\n",
      " |  \n",
      " |  __rxor__(self, value, /)\n",
      " |      Return value^self.\n",
      " |  \n",
      " |  __sizeof__(self, /)\n",
      " |      Returns size in memory, in bytes.\n",
      " |  \n",
      " |  __sub__(self, value, /)\n",
      " |      Return self-value.\n",
      " |  \n",
      " |  __truediv__(self, value, /)\n",
      " |      Return self/value.\n",
      " |  \n",
      " |  __trunc__(...)\n",
      " |      Truncating an Integral returns itself.\n",
      " |  \n",
      " |  __xor__(self, value, /)\n",
      " |      Return self^value.\n",
      " |  \n",
      " |  as_integer_ratio(self, /)\n",
      " |      Return integer ratio.\n",
      " |      \n",
      " |      Return a pair of integers, whose ratio is exactly equal to the original int\n",
      " |      and with a positive denominator.\n",
      " |      \n",
      " |      >>> (10).as_integer_ratio()\n",
      " |      (10, 1)\n",
      " |      >>> (-10).as_integer_ratio()\n",
      " |      (-10, 1)\n",
      " |      >>> (0).as_integer_ratio()\n",
      " |      (0, 1)\n",
      " |  \n",
      " |  bit_length(self, /)\n",
      " |      Number of bits necessary to represent self in binary.\n",
      " |      \n",
      " |      >>> bin(37)\n",
      " |      '0b100101'\n",
      " |      >>> (37).bit_length()\n",
      " |      6\n",
      " |  \n",
      " |  conjugate(...)\n",
      " |      Returns self, the complex conjugate of any int.\n",
      " |  \n",
      " |  to_bytes(self, /, length, byteorder, *, signed=False)\n",
      " |      Return an array of bytes representing an integer.\n",
      " |      \n",
      " |      length\n",
      " |        Length of bytes object to use.  An OverflowError is raised if the\n",
      " |        integer is not representable with the given number of bytes.\n",
      " |      byteorder\n",
      " |        The byte order used to represent the integer.  If byteorder is 'big',\n",
      " |        the most significant byte is at the beginning of the byte array.  If\n",
      " |        byteorder is 'little', the most significant byte is at the end of the\n",
      " |        byte array.  To request the native byte order of the host system, use\n",
      " |        `sys.byteorder' as the byte order value.\n",
      " |      signed\n",
      " |        Determines whether two's complement is used to represent the integer.\n",
      " |        If signed is False and a negative integer is given, an OverflowError\n",
      " |        is raised.\n",
      " |  \n",
      " |  ----------------------------------------------------------------------\n",
      " |  Class methods defined here:\n",
      " |  \n",
      " |  from_bytes(bytes, byteorder, *, signed=False) from builtins.type\n",
      " |      Return the integer represented by the given array of bytes.\n",
      " |      \n",
      " |      bytes\n",
      " |        Holds the array of bytes to convert.  The argument must either\n",
      " |        support the buffer protocol or be an iterable object producing bytes.\n",
      " |        Bytes and bytearray are examples of built-in objects that support the\n",
      " |        buffer protocol.\n",
      " |      byteorder\n",
      " |        The byte order used to represent the integer.  If byteorder is 'big',\n",
      " |        the most significant byte is at the beginning of the byte array.  If\n",
      " |        byteorder is 'little', the most significant byte is at the end of the\n",
      " |        byte array.  To request the native byte order of the host system, use\n",
      " |        `sys.byteorder' as the byte order value.\n",
      " |      signed\n",
      " |        Indicates whether two's complement is used to represent the integer.\n",
      " |  \n",
      " |  ----------------------------------------------------------------------\n",
      " |  Static methods defined here:\n",
      " |  \n",
      " |  __new__(*args, **kwargs) from builtins.type\n",
      " |      Create and return a new object.  See help(type) for accurate signature.\n",
      " |  \n",
      " |  ----------------------------------------------------------------------\n",
      " |  Data descriptors defined here:\n",
      " |  \n",
      " |  denominator\n",
      " |      the denominator of a rational number in lowest terms\n",
      " |  \n",
      " |  imag\n",
      " |      the imaginary part of a complex number\n",
      " |  \n",
      " |  numerator\n",
      " |      the numerator of a rational number in lowest terms\n",
      " |  \n",
      " |  real\n",
      " |      the real part of a complex number\n",
      "\n"
     ]
    }
   ],
   "source": [
    "help(one)"
   ]
  },
  {
   "cell_type": "markdown",
   "id": "ab2560e6",
   "metadata": {},
   "source": [
    "Another way to get information quickly is to use the built-in **dir** method on the object. The output is a little harder to interpret, especially when you’re looking at it for the first time, but you can get a fairly compact look at the contents of the object’s **namespace**.  Let’s check it out, and I’ll explain some of the bits and pieces below."
   ]
  },
  {
   "cell_type": "code",
   "execution_count": 23,
   "id": "d1109f30",
   "metadata": {},
   "outputs": [
    {
     "data": {
      "text/plain": [
       "['__abs__',\n",
       " '__add__',\n",
       " '__and__',\n",
       " '__bool__',\n",
       " '__ceil__',\n",
       " '__class__',\n",
       " '__delattr__',\n",
       " '__dir__',\n",
       " '__divmod__',\n",
       " '__doc__',\n",
       " '__eq__',\n",
       " '__float__',\n",
       " '__floor__',\n",
       " '__floordiv__',\n",
       " '__format__',\n",
       " '__ge__',\n",
       " '__getattribute__',\n",
       " '__getnewargs__',\n",
       " '__gt__',\n",
       " '__hash__',\n",
       " '__index__',\n",
       " '__init__',\n",
       " '__init_subclass__',\n",
       " '__int__',\n",
       " '__invert__',\n",
       " '__le__',\n",
       " '__lshift__',\n",
       " '__lt__',\n",
       " '__mod__',\n",
       " '__mul__',\n",
       " '__ne__',\n",
       " '__neg__',\n",
       " '__new__',\n",
       " '__or__',\n",
       " '__pos__',\n",
       " '__pow__',\n",
       " '__radd__',\n",
       " '__rand__',\n",
       " '__rdivmod__',\n",
       " '__reduce__',\n",
       " '__reduce_ex__',\n",
       " '__repr__',\n",
       " '__rfloordiv__',\n",
       " '__rlshift__',\n",
       " '__rmod__',\n",
       " '__rmul__',\n",
       " '__ror__',\n",
       " '__round__',\n",
       " '__rpow__',\n",
       " '__rrshift__',\n",
       " '__rshift__',\n",
       " '__rsub__',\n",
       " '__rtruediv__',\n",
       " '__rxor__',\n",
       " '__setattr__',\n",
       " '__sizeof__',\n",
       " '__str__',\n",
       " '__sub__',\n",
       " '__subclasshook__',\n",
       " '__truediv__',\n",
       " '__trunc__',\n",
       " '__xor__',\n",
       " 'as_integer_ratio',\n",
       " 'bit_length',\n",
       " 'conjugate',\n",
       " 'denominator',\n",
       " 'from_bytes',\n",
       " 'imag',\n",
       " 'numerator',\n",
       " 'real',\n",
       " 'to_bytes']"
      ]
     },
     "execution_count": 23,
     "metadata": {},
     "output_type": "execute_result"
    }
   ],
   "source": [
    "dir(one)"
   ]
  },
  {
   "cell_type": "markdown",
   "id": "21943bfe",
   "metadata": {},
   "source": [
    "The strange looking names that are surrounded by the “\\_\\_” characters (which some call “dunder”, for “double underscore”) are mostly methods that implement logic to make operational characters like “+” or “\\<.” In general, any name beginning with one or more “\\_” characters is intended for the object’s internal usage. You can access these, of course, but you’ve been warned.\n",
    "\n",
    "The plain-text names are designed for “public consumption.” You can learn more about them by slogging through the verbose help, asking for help on a more narrow topic, or just by typing them in at the command line, something like:"
   ]
  },
  {
   "cell_type": "code",
   "execution_count": 24,
   "id": "c9dd3e00",
   "metadata": {},
   "outputs": [
    {
     "data": {
      "text/plain": [
       "1"
      ]
     },
     "execution_count": 24,
     "metadata": {},
     "output_type": "execute_result"
    }
   ],
   "source": [
    "one.denominator"
   ]
  },
  {
   "cell_type": "code",
   "execution_count": 25,
   "id": "956b8285",
   "metadata": {},
   "outputs": [
    {
     "data": {
      "text/plain": [
       "1"
      ]
     },
     "execution_count": 25,
     "metadata": {},
     "output_type": "execute_result"
    }
   ],
   "source": [
    "one.real"
   ]
  },
  {
   "cell_type": "code",
   "execution_count": 26,
   "id": "5a042990",
   "metadata": {},
   "outputs": [
    {
     "data": {
      "text/plain": [
       "<function int.from_bytes(bytes, byteorder, *, signed=False)>"
      ]
     },
     "execution_count": 26,
     "metadata": {},
     "output_type": "execute_result"
    }
   ],
   "source": [
    "one.from_bytes"
   ]
  },
  {
   "cell_type": "code",
   "execution_count": 27,
   "id": "3e4ff2d9",
   "metadata": {},
   "outputs": [
    {
     "name": "stdout",
     "output_type": "stream",
     "text": [
      "Help on built-in function from_bytes:\n",
      "\n",
      "from_bytes(bytes, byteorder, *, signed=False) method of builtins.type instance\n",
      "    Return the integer represented by the given array of bytes.\n",
      "    \n",
      "    bytes\n",
      "      Holds the array of bytes to convert.  The argument must either\n",
      "      support the buffer protocol or be an iterable object producing bytes.\n",
      "      Bytes and bytearray are examples of built-in objects that support the\n",
      "      buffer protocol.\n",
      "    byteorder\n",
      "      The byte order used to represent the integer.  If byteorder is 'big',\n",
      "      the most significant byte is at the beginning of the byte array.  If\n",
      "      byteorder is 'little', the most significant byte is at the end of the\n",
      "      byte array.  To request the native byte order of the host system, use\n",
      "      `sys.byteorder' as the byte order value.\n",
      "    signed\n",
      "      Indicates whether two's complement is used to represent the integer.\n",
      "\n"
     ]
    }
   ],
   "source": [
    "help(one.from_bytes)"
   ]
  },
  {
   "cell_type": "markdown",
   "id": "cd7da166",
   "metadata": {},
   "source": [
    "You’ll recall that when you simply type the name of an object into the command line, you’re asking it to describe itself by invoking its **\\_\\_repr\\_\\_** method. This is one of Python’s so-called “magic methods” which are baked into the object with specific names that are meaningful to the interpreter. As another example, the **\\_\\_str\\_\\_** method is invoked when you use the object as an argument to the **print** method.\n",
    "\n",
    "Here’s a list of some of the other “magic methods”, along with their meanings. From the **dir** listing, we can see that most of these are baked into the **int** object. We’ll actually be writing our own versions of some these later in the course, but for now, here’s an overview of the math operations."
   ]
  },
  {
   "cell_type": "markdown",
   "id": "111cc904",
   "metadata": {},
   "source": [
    "| Human                   | Operator    | Method                |\n",
    "|-------------------------|-------------|-----------------------|\n",
    "| addition                | x + y       | x.\\_\\_add\\_\\_(y)      |\n",
    "| bitwise and             | x & y       | x.\\_\\_and\\_\\_(y)      |\n",
    "| bitwise or              | x \\| y      | x.\\_\\_or\\_\\_(y)       |\n",
    "| bitwise xor             | x ^ y       | x.\\_\\_xor\\_\\_(y)      |\n",
    "| division                | x / y       | x.\\_\\_truediv\\_\\_(y)  |\n",
    "| floor division          | x // y      | x.\\_\\_floordiv\\_\\_(y) |\n",
    "| floor division & modulo | divmod(x,y) | x.\\_\\_divmod\\_\\_(y)   |\n",
    "| left bit-shift          | x \\<\\< y    | x.\\_\\_lshift\\_\\_(y)   |\n",
    "| modulo (remainder)      | x % y       | x.\\_\\_mod\\_\\_(y)      |\n",
    "| multiplication          | x \\* y      | x.\\_\\_mul\\_\\_(y)      |\n",
    "| raise to power          | x \\*\\* y    | x.\\_\\_pow\\_\\_(y)      |\n",
    "| right bit-shift         | x \\>\\> y    | x.\\_\\_rshift\\_\\_(y)   |\n",
    "| subtraction             | x - y       | x.\\_\\_sub\\_\\_(y)      |\n",
    "|<img width=210/>         |<img width=210/>    |<img width=210/>|"
   ]
  },
  {
   "cell_type": "markdown",
   "id": "29013aa0",
   "metadata": {},
   "source": [
    "You’ll note that the **help** method is not within the namespace of the objects. That’s because **help** is a top-level method. It works by ransacking the object for what are called its **docstrings** – these are provided by the programmer. They survive compilation so are carried with the object itself, and can be whatever the programmer wants them to be.  By contrast, comments do not survive compilation and exist mostly as developer-to-developer notes.\n",
    "\n",
    "**Docstrings** are simply the first executable line(s) of code in an object, assuming a couple of things: the line(s) of code is a **str** object, and the **str** object is not associated with a name. A quick example should serve to clarify."
   ]
  },
  {
   "cell_type": "code",
   "execution_count": 28,
   "id": "1b84336f",
   "metadata": {},
   "outputs": [
    {
     "name": "stdout",
     "output_type": "stream",
     "text": [
      "Help on function my_first_function in module __main__:\n",
      "\n",
      "my_first_function()\n",
      "    the most simple function on Earth\n",
      "\n"
     ]
    }
   ],
   "source": [
    "def my_first_function():\n",
    "    \"the most simple function on Earth\"\n",
    "\n",
    "help(my_first_function)"
   ]
  },
  {
   "cell_type": "markdown",
   "id": "b27e64f9",
   "metadata": {},
   "source": [
    "Here, the built-in **help** method simply picked off the docstring and served it up as content within its delivery system (which is just like **man** to deliver manual pages in a Posix system).\n",
    "\n",
    "Had this function been a method within a containing object like a class, the help system would provide all available docstrings in the containing object. That’s what happened when we used **help**(**one**) – we got all the docstrings for the methods and attributes within the **int** class.\n",
    "\n",
    "While the built-in functionality typically serves well, sometimes it’s necessary to go outside your code or use libraries that support introspection of your objects[4]. Python has exceptionally well-written official documentation that’s available at:\n",
    "\n",
    "<http://python.org/3>\n",
    "\n",
    "One word of caution – at the top-left of the Python docs web page, you’ll see a small scroll-down menu with a number in it. \n",
    "\n",
    "The number is the version of Python addressed by the main page’s contents. It’s quite easy to follow a link from a StackOverflow posting (say) that vectors into the wrong version. Among versions of Python3 it usually won’t matter, but there are significant differences between 2.x and 3.x and you could waste a lot of time trying to get the wrong material to work.\n"
   ]
  },
  {
   "cell_type": "markdown",
   "id": "f9972979",
   "metadata": {},
   "source": [
    "Numbers and More Numbers\n",
    "------------------------\n",
    "\n",
    "There are only two other numeric types within the core Python language, the **float** and **complex** types. There are some exotic types in external libraries such as decimal, such as **Fraction** (for real numbers) and **Decimal** (for arbitrary levels of precision)[5].\n",
    "\n",
    "The **float** type is pretty much what you would expect – it’s anything with a decimal point. Here’s an example:"
   ]
  },
  {
   "cell_type": "code",
   "execution_count": 29,
   "id": "933ea560",
   "metadata": {},
   "outputs": [
    {
     "data": {
      "text/plain": [
       "float"
      ]
     },
     "execution_count": 29,
     "metadata": {},
     "output_type": "execute_result"
    }
   ],
   "source": [
    "root_beer = 1.0\n",
    "type(root_beer)"
   ]
  },
  {
   "cell_type": "markdown",
   "id": "7432ad80",
   "metadata": {},
   "source": [
    "Unless you’re an electrical engineer or a glutton for punishment, you probably have little to do with “complex numbers.” They’re not all that complex, but require two components. The first is “real” – an ordinary number that stands on its own feet – and the second is “imaginary” – a number that’s multiplied by the square root of -1. Yes, that’s where it gets weird, but it’s beyond the scope of this class. Here’s one way to specify a **complex** object:"
   ]
  },
  {
   "cell_type": "code",
   "execution_count": 30,
   "id": "ecae2bbd",
   "metadata": {},
   "outputs": [
    {
     "data": {
      "text/plain": [
       "complex"
      ]
     },
     "execution_count": 30,
     "metadata": {},
     "output_type": "execute_result"
    }
   ],
   "source": [
    "complexity = (3 + 5j)   #Note that 'j' signifies the imaginary component - not 'i'\n",
    "type(complexity)"
   ]
  },
  {
   "cell_type": "markdown",
   "id": "2ae7dca4",
   "metadata": {},
   "source": [
    " Accuracy and Garbage\n",
    "--------------------\n",
    "\n",
    "Integers can be represented accurately in a computer because they are nicely discrete. Later versions of Python implement integers in such a way as they can be arbitrarily long, and don’t have to be explicitly specified as such.\n",
    "\n",
    "Floating point numbers are only so accurate (the default level of precision is 28 places). This can become an issue with numbers that never end, like 1/3, or numbers which are really large. Just for fun, you can try adding .1 + .1 + .1 to see what happens.\n",
    "\n",
    "A final point: floating point number can contain some “garbage bits” in the 1/1000000 decimal place and beyond, even if you’ve specified it as simply as 1.0 – something to be aware of when doing tests of equality."
   ]
  },
  {
   "cell_type": "markdown",
   "id": "7c11d507",
   "metadata": {},
   "source": [
    " Numeric Types as Methods\n",
    "------------------------\n",
    "\n",
    "We have seen numeric types like **int** and **float** used to describe objects, but they can also be used to convert data types (“type casting”) by invoking them as constructor methods. Here’s how you can convert an **int** to a **float**"
   ]
  },
  {
   "cell_type": "code",
   "execution_count": 31,
   "id": "e13eb372",
   "metadata": {},
   "outputs": [
    {
     "data": {
      "text/plain": [
       "float"
      ]
     },
     "execution_count": 31,
     "metadata": {},
     "output_type": "execute_result"
    }
   ],
   "source": [
    "one = 1\n",
    "one_float = float(one)\n",
    "type(one_float)"
   ]
  },
  {
   "cell_type": "code",
   "execution_count": 32,
   "id": "4010c27b",
   "metadata": {},
   "outputs": [
    {
     "data": {
      "text/plain": [
       "int"
      ]
     },
     "execution_count": 32,
     "metadata": {},
     "output_type": "execute_result"
    }
   ],
   "source": [
    "and_back = int(one_float)\n",
    "type(and_back)"
   ]
  },
  {
   "cell_type": "code",
   "execution_count": 33,
   "id": "7ff59086",
   "metadata": {},
   "outputs": [
    {
     "data": {
      "text/plain": [
       "float"
      ]
     },
     "execution_count": 33,
     "metadata": {},
     "output_type": "execute_result"
    }
   ],
   "source": [
    "one = 1\n",
    "one_float = float(one)\n",
    "type(one_float)"
   ]
  },
  {
   "cell_type": "code",
   "execution_count": 34,
   "id": "6a897eae",
   "metadata": {},
   "outputs": [
    {
     "data": {
      "text/plain": [
       "int"
      ]
     },
     "execution_count": 34,
     "metadata": {},
     "output_type": "execute_result"
    }
   ],
   "source": [
    "and_back = int(one_float)\n",
    "type(and_back)"
   ]
  },
  {
   "cell_type": "markdown",
   "id": "5d19e91a",
   "metadata": {},
   "source": [
    "Python will even try to convert strings to numeric types. If it can’t, you’ll get a **ValueError** exception."
   ]
  },
  {
   "cell_type": "code",
   "execution_count": 35,
   "id": "66025af7",
   "metadata": {},
   "outputs": [
    {
     "data": {
      "text/plain": [
       "1.0"
      ]
     },
     "execution_count": 35,
     "metadata": {},
     "output_type": "execute_result"
    }
   ],
   "source": [
    "one_string = (\"1\")\n",
    "one_string_float = float(one_string)\n",
    "one_string_float"
   ]
  },
  {
   "cell_type": "code",
   "execution_count": 36,
   "id": "1998f328",
   "metadata": {},
   "outputs": [
    {
     "data": {
      "text/plain": [
       "float"
      ]
     },
     "execution_count": 36,
     "metadata": {},
     "output_type": "execute_result"
    }
   ],
   "source": [
    "type(one_string_float)"
   ]
  },
  {
   "cell_type": "markdown",
   "id": "f6e13127",
   "metadata": {},
   "source": [
    "You can also directly specify variables invoking the constructor with appropriate arguments. Python will do its level best to whistle up the right object for you. Here are some examples:"
   ]
  },
  {
   "cell_type": "code",
   "execution_count": 37,
   "id": "9a14f81f",
   "metadata": {},
   "outputs": [
    {
     "name": "stdout",
     "output_type": "stream",
     "text": [
      "(1+2j) (1+0j)\n",
      "1.0 333\n",
      "1 123\n"
     ]
    }
   ],
   "source": [
    "print(complex(1, 2), complex(1))\n",
    "\n",
    "print(float(1), int('333'))\n",
    "\n",
    "print(int(1.3),  str(123))"
   ]
  },
  {
   "cell_type": "markdown",
   "id": "398edccb",
   "metadata": {},
   "source": [
    "Getting User Input\n",
    "------------------\n",
    "\n",
    "Python has built-in method for getting information from the user using the standard input stream (think “keyboard” for now). You probably won’t be building applications using direct user input very often, but it’s handy to know how to use. The syntax is straightforward:"
   ]
  },
  {
   "cell_type": "code",
   "execution_count": 38,
   "id": "9715e7bc",
   "metadata": {},
   "outputs": [],
   "source": [
    "# NB Python will hang until you hit 'Enter' !  This will drive you insane if you forget.\n",
    "live_demo = False\n",
    "if live_demo:\n",
    "    answer = input(\"Hey yo, how’s it going?   \")\n",
    "    print(answer)"
   ]
  },
  {
   "cell_type": "markdown",
   "id": "7f7cecaf",
   "metadata": {},
   "source": [
    "The response will always be returned as a string, no matter what, as you can see from this terminal session:\n",
    "\n",
    "\\>\\>\\> my_input = input(\"Can I pleeese have a one? \")\n",
    "Can I pleeese have a one? 1\n",
    "\n",
    "\\>\\>\\> my_input\n",
    "\n",
    "'1'\n",
    "\n",
    "\\>\\>\\> type(my_input)\n",
    "\n",
    "class ‘str’\n",
    "\n",
    "If you need an integer, you’ll have to use the **int** constructor to type-cast it.\n",
    "\n"
   ]
  },
  {
   "cell_type": "markdown",
   "id": "b9a3255c",
   "metadata": {},
   "source": [
    "## Exercise\n",
    "\n",
    "You now have the wisdom of the ages at your disposal – a good bit of it, anyway. Let’s see if you can put some of this to good use.\n",
    "\n",
    "- If it takes three buckets of water to put out a campfire (two just won’t do it), how many campfires can you extinguish with 50 buckets? Solve the problem using the modulo operator.  You might use help() or experiment if you don't know how to use it.\n",
    "\n",
    "\n",
    "- Create a program that tests how “*”, ‘/’, “+” and “-“ are implemented for string, float, and complex numbers. Use a docstring to document it and make sure it works when calling help on it. Include some comments as a kindness to yourself and your teammates.\n",
    "\n",
    "\n",
    "- Create a program that asks the user for their name, sign, and favorite beverage, then asks them to confirm that information.\n",
    "\n",
    "Solution:  solution_operations.ipynb"
   ]
  },
  {
   "cell_type": "markdown",
   "id": "ad0feff0",
   "metadata": {},
   "source": [
    "You now have the wisdom of the ages at your disposal – a good bit of it, anyway. Let’s see if you can put some of this to good use."
   ]
  },
  {
   "cell_type": "markdown",
   "id": "98adbedc",
   "metadata": {},
   "source": [
    "# “String Theory” \n",
    "---------------\n",
    "\n",
    "Now that you know how to create strings, let’s explore what how we can manipulate and interact with them.\n",
    "\n",
    "The first thing you should know that strings are **sequences**. We’ll discuss more complicated sequences later, but for now you should know you can iterate over them quite easily[6]. \n",
    "\n",
    "Check this out:"
   ]
  },
  {
   "cell_type": "code",
   "execution_count": 39,
   "id": "568c8ed2",
   "metadata": {},
   "outputs": [
    {
     "name": "stdout",
     "output_type": "stream",
     "text": [
      "H\n",
      "e\n",
      "y\n",
      "!\n"
     ]
    }
   ],
   "source": [
    "some_string = \"Hey!\"\n",
    "for s in some_string:\n",
    "    print(s)"
   ]
  },
  {
   "cell_type": "raw",
   "id": "41e340e2",
   "metadata": {},
   "source": [
    "Here, we used the **for** statement to loop through each element of the string. The **for** statement is really simple to implement. The syntax is:\n",
    "\n",
    "for <the name of the index> in <some iterable>:\n",
    "     <an indented suite>[7]"
   ]
  },
  {
   "cell_type": "markdown",
   "id": "373ce8da",
   "metadata": {},
   "source": [
    "String Methods\n",
    "--------------\n",
    "\n",
    "There’s a rich inventory of methods baked into the **str** object that makes text processing really easy[8]. As with any Python object, we can get a quick look using **dir**.\n",
    "\n",
    "\n",
    "\n",
    "\n",
    "\\>\\>\\> dir(str)\n",
    "\n",
    "[snip, ‘capitalize’, ‘casefold’, ‘center’, ‘count’, ‘encode’, ‘endswith’, ‘expandtabs’, ‘find’, ‘format’, ‘format_map’, ‘index’, ‘isalnum’, ‘isalpha’, ‘isdecimal’, ‘isdigit’, ‘isidentifier’, ‘islower’, ‘isnumeric’, ‘isprintable’, ‘isspace’, ‘istitle’, ‘isupper’, ‘join’, ‘ljust’, ‘lower’, ‘lstrip’, ‘maketrans’, ‘partition’, ‘replace’, ‘rfind’, ‘rindex’, ‘rjust’, ‘rpartition’, ‘rsplit’, ‘rstrip’, ‘split’, ‘splitlines’, ‘startswith’, ‘strip’, ‘swapcase’, ‘title’, ‘translate’, ‘upper’, ‘zfill’]\n",
    "\n",
    "\n",
    "\n",
    "\n",
    "Most of these are self-explanatory, but we’ll discuss a few of the most commonly-encountered ones and how to use them here. You can test a string – or a bit of one – to see what type of characters are in it.  \n",
    "\n",
    "Note that in Python there is no “character” object *per se* – a single character is simply a really short string. We could apply these operations to the intact some\\_string object just as easily.\n",
    "\n",
    "Also note that when we execute a method, we need the parentheses even if we’re not supplying any arguments[9]. \n",
    "\n",
    "The following script demonstrates some of the string methods and introduces the use of \"{ }\". This is one way to create placeholders for arguments supplied to the **format** method. We’ll cover formatting in more detail later."
   ]
  },
  {
   "cell_type": "code",
   "execution_count": 40,
   "id": "67db96d8",
   "metadata": {},
   "outputs": [
    {
     "name": "stdout",
     "output_type": "stream",
     "text": [
      "$ is alphanumeric? False\n",
      "$ is alpha? False\n",
      "$ is numeric? False.\n",
      "$ is upper? False.\n",
      "\n",
      "R is alphanumeric? True\n",
      "R is alpha? True\n",
      "R is numeric? False.\n",
      "R is upper? True.\n",
      "\n",
      "5 is alphanumeric? True\n",
      "5 is alpha? False\n",
      "5 is numeric? True.\n",
      "5 is upper? False.\n",
      "\n",
      "a is alphanumeric? True\n",
      "a is alpha? True\n",
      "a is numeric? False.\n",
      "a is upper? False.\n",
      "\n",
      "  is alphanumeric? False\n",
      "  is alpha? False\n",
      "  is numeric? False.\n",
      "  is upper? False.\n",
      "\n"
     ]
    }
   ],
   "source": [
    "some_string = \"$R5a \"\n",
    "for s in some_string:\n",
    "    print(\"{} is alphanumeric? {}\".format(s, s.isalnum()))\n",
    "    print(\"{} is alpha? {}\".format(s, s.isalpha()))\n",
    "    print(\"{} is numeric? {}.\".format(s, s.isnumeric()))\n",
    "    print(\"{} is upper? {}.\".format(s, s.isupper()))\n",
    "    print()"
   ]
  },
  {
   "cell_type": "markdown",
   "id": "71c21e29",
   "metadata": {},
   "source": [
    "There are lots of methods to query for, and change the case of, a string. Note that the queries return a Boolean (**True** or **False**) object."
   ]
  },
  {
   "cell_type": "code",
   "execution_count": 41,
   "id": "4113142f",
   "metadata": {},
   "outputs": [
    {
     "name": "stdout",
     "output_type": "stream",
     "text": [
      "my team ends with an ‘s’? True\n",
      "my team starts with an ‘s’? False\n",
      "in caps THE CHICAGO CUBS .\n",
      "swapped-case tHE cHICAGO cUBS .\n"
     ]
    }
   ],
   "source": [
    "my_team = \"The Chicago Cubs\"\n",
    "\n",
    "print(\"my team ends with an ‘s’? {}\".format(my_team.endswith(\"s\")))\n",
    "print(\"my team starts with an ‘s’? {}\".format(my_team.startswith(\"s\")))\n",
    "print(\"in caps {} .\".format(my_team.upper()))\n",
    "print(\"swapped-case {} .\".format(my_team.swapcase()))"
   ]
  },
  {
   "cell_type": "markdown",
   "id": "16580801",
   "metadata": {},
   "source": [
    "Breaking up and Getting Together Again\n",
    "--------------------------------------\n",
    "\n",
    "There are also methods to split up strings (returning a **list**[10] object) and to create a string by stitching together the elements of an **iterable**[11] object. In the example below, we can supply the **split** method a single argument – the string we’ll use to determine where to break the main string up[12]. Providing a single space (or calling it with no arguments) splits up the words into individual **list** elements.\n",
    "\n",
    "The reciprocal operation is **join**. With **join** we provide a string to insert between each element pulled from the list to reform the string. Though this example uses a **list**, this method works for any iterable object (such as a **tuple**[13] or even another string)."
   ]
  },
  {
   "cell_type": "code",
   "execution_count": 42,
   "id": "f7d9ce03",
   "metadata": {},
   "outputs": [
    {
     "name": "stdout",
     "output_type": "stream",
     "text": [
      "splits: ['The', 'Chicago', 'Cubs']\n",
      "\n",
      "together again: The!!!Chicago!!!Cubs.!!!\n"
     ]
    }
   ],
   "source": [
    "my_team = \"The Chicago Cubs\"\n",
    "split_team = my_team.split(\" \")\n",
    "print(\"splits: {}\".format(split_team))\n",
    "print()\n",
    "\n",
    "join_string = \"!!!\"\n",
    "together_again = join_string.join(split_team)\n",
    "print(\"together again: {}.\"\n",
    "    .format(together_again), end=join_string + \"\\n\")"
   ]
  },
  {
   "cell_type": "markdown",
   "id": "0e694e10",
   "metadata": {},
   "source": [
    "Literals and Escape Sequences\n",
    "-----------------------------\n",
    "\n",
    "Sometimes, you need to insert a specific character into a string that you can’t type directly. There are a couple ways to handle this.  The first is using “escape sequences.\" We’ve already seen that “\\\\n\"\n",
    "\n",
    "produces a new line character, but there are many more. The idea here is that inclusion of a backslash “\\\\\" tells the interpreter to do something special with (“escape\") the character that follows instead of taking it literally. Others include:\n",
    "\n",
    "> \\\\t tab\n",
    ">\n",
    "> \\\\r carriage return\n",
    ">\n",
    "> \\\\’ prints a single quote\n",
    ">\n",
    "> \\\\\" prints a double quote\n",
    ">\n",
    "> \\\\\\\\ if you really want a backslash\n",
    "\n",
    "Another way to handle this is to figure out what the character code is.  You can do that easily enough for the first 128 (ASCII) characters by printing them out with the **chr** method[14], finding your character, then using the same method in your code . You could go something like:"
   ]
  },
  {
   "cell_type": "code",
   "execution_count": 43,
   "id": "059db2cd",
   "metadata": {},
   "outputs": [
    {
     "name": "stdout",
     "output_type": "stream",
     "text": [
      "33 !\n",
      "34 \"\n",
      "35 #\n",
      "I’m a double quote: \"\n"
     ]
    }
   ],
   "source": [
    "for i in range(33, 36): #yes, I’m cheating I know it’s 34\n",
    "    print (i, chr(i))\n",
    "    \n",
    "QUOTE = chr(34)\n",
    "print(\"I’m a double quote: {}\".format(QUOTE))"
   ]
  },
  {
   "cell_type": "markdown",
   "id": "00d71837",
   "metadata": {},
   "source": [
    "Cleaning House and Moving Furniture\n",
    "-----------------------------------\n",
    "\n",
    "Python’s string methods have an easy-to-use, and remarkably efficient, ways to do searches and replacements. “Under the hood\" they wrap regular expressions (“regexes\") and, for many operations, deliver the same performance. Once we get into regexes later, you will really appreciate this implementation.\n",
    "\n",
    "### Boolean Evaluations\n",
    "Observe how Python handles Boolean tests applied to things like strings. You might think this is pretty weird:"
   ]
  },
  {
   "cell_type": "code",
   "execution_count": 44,
   "id": "86aadfd3",
   "metadata": {},
   "outputs": [
    {
     "data": {
      "text/plain": [
       "'Quinn the Husky'"
      ]
     },
     "execution_count": 44,
     "metadata": {},
     "output_type": "execute_result"
    }
   ],
   "source": [
    "dog = \"Quinn the Husky\"\n",
    "dog"
   ]
  },
  {
   "cell_type": "code",
   "execution_count": 45,
   "id": "b796bbcb",
   "metadata": {},
   "outputs": [
    {
     "data": {
      "text/plain": [
       "False"
      ]
     },
     "execution_count": 45,
     "metadata": {},
     "output_type": "execute_result"
    }
   ],
   "source": [
    "not dog"
   ]
  },
  {
   "cell_type": "markdown",
   "id": "62d490fb",
   "metadata": {},
   "source": [
    "Huh? How can Python possibly evaluate a string as a Boolean value? \n",
    "\n",
    "Well, it turns out that whenever we ask for a Boolean evaluation, Python will go ahead and serve one up. \n",
    "\n",
    "It will return **False** if the object is the number 0, the keyword **None**[15], a null string, an empty list, or any other empty object. \n",
    "\n",
    "The opposite is also the case. When a Boolean operation is applied against a non-zero number, a string with at least one character, etc., **True** will be returned. \n",
    "\n",
    "Here's how one might use this behavior to test whether a user provided any input:"
   ]
  },
  {
   "cell_type": "raw",
   "id": "20fe7cc5",
   "metadata": {},
   "source": [
    "dog = input(\"What's your dog's name?  \")\n",
    "\n",
    "What's your dog's name?  Quinn\n",
    "\n",
    "if dog:\n",
    "    print(dog)\n",
    "Quinn"
   ]
  },
  {
   "cell_type": "markdown",
   "id": "061757dc",
   "metadata": {},
   "source": [
    "Note the use of the **if** keyword for a simple logical branch. The syntax is straightforward:\n",
    "\n",
    "**if** \\<condition\\>:\n",
    "\n",
    "      \\<an indented suite\\>"
   ]
  },
  {
   "cell_type": "markdown",
   "id": "4e20c175",
   "metadata": {},
   "source": [
    "### More Python Keywords and **str** Object Manipulations\n",
    "Let's take a tour of some of the methods built into the string object with some real code. Here we'll learn ways to find and replace components of **str** objects. \n",
    "\n",
    "We'll begin with a string containing some popular sins."
   ]
  },
  {
   "cell_type": "code",
   "execution_count": 46,
   "id": "3427eaf8",
   "metadata": {},
   "outputs": [
    {
     "name": "stdout",
     "output_type": "stream",
     "text": [
      " avarice envy wrath sloth gluttony lust hubris \n"
     ]
    }
   ],
   "source": [
    "seven_deadly = \" avarice envy wrath sloth \\\n",
    "gluttony lust hubris \"\n",
    "print(seven_deadly)"
   ]
  },
  {
   "cell_type": "markdown",
   "id": "ba093601",
   "metadata": {},
   "source": [
    "Here is how we can use the keyword **in**[16] to figure out if one string can be found within another. This is a very vague query that will yield a Boolean response. \n",
    "\n",
    "In Python we can use **not** in a logical expression for negation."
   ]
  },
  {
   "cell_type": "code",
   "execution_count": 47,
   "id": "2ffc616c",
   "metadata": {},
   "outputs": [
    {
     "name": "stdout",
     "output_type": "stream",
     "text": [
      "envy in there? True\n",
      "\n",
      "Try the key word not:\n",
      "envy NOT in there? False\n",
      "\n"
     ]
    }
   ],
   "source": [
    "sin = 'eNvY'\n",
    "\n",
    "print(\"{} in there? {}\\n\"\n",
    "      .format(sin.lower(),\n",
    "              sin.lower() in seven_deadly.lower())\n",
    "      )\n",
    "\n",
    "# doesn't exist? (use not for Boolean negation)\n",
    "print(\"Try the key word not:\")\n",
    "print(\"{} NOT in there? {}\\n\"\n",
    "      .format(sin.lower(),\n",
    "              sin.lower() not in seven_deadly)\n",
    "      )"
   ]
  },
  {
   "cell_type": "markdown",
   "id": "9efb34ed",
   "metadata": {},
   "source": [
    "Note that we're invoking the lower method when searching the string.  It's not necessary, but not a bad idea because it lets you get away without trying every petty permutation of the word.\n",
    "\n",
    "A more surgical approach is to use **find**. This will attempt to locate the initial position of the string you're looking for and return its findings. If it strikes out, **find** will return a -1."
   ]
  },
  {
   "cell_type": "code",
   "execution_count": 48,
   "id": "0ac00f17",
   "metadata": {},
   "outputs": [
    {
     "name": "stdout",
     "output_type": "stream",
     "text": [
      "Checking envy:\n",
      "Yup. We found 'envy' starting in position 9.\n",
      "\n",
      "Checking texting while driving:\n",
      "Nope. Since find() returned -1, 'texting while driving' wasn't there.\n",
      "\n",
      "Checking sloth:\n",
      "Yup. We found 'sloth' starting in position 20.\n",
      "\n"
     ]
    }
   ],
   "source": [
    "# Locate the position. Note the two-element tuple object.\n",
    "for sin in ('envy', 'texting while driving', 'sloth'):\n",
    "    sin_position = seven_deadly.find(sin.lower())\n",
    "\n",
    "    print (\"Checking {}:\".format(sin))\n",
    "\n",
    "    if sin_position > 0:\n",
    "        print(\"Yup. We found '{}' starting in position {}.\\n\"\n",
    "                  .format(sin.lower(), sin_position))\n",
    "    else:\n",
    "        print(\"Nope. Since find() returned {}, '{}' wasn't there.\\n\"\n",
    "                  .format(sin_position, sin.lower()))\n",
    "        "
   ]
  },
  {
   "cell_type": "markdown",
   "id": "68c67a72",
   "metadata": {},
   "source": [
    "It's possible to replace characters with new ones with the – you guessed it – **replace** method[17]. Here's a simple example that shows a potential pitfall for a new Python programmer. \n",
    "\n",
    "Strings are \"immutable\" – not changeable. Running a replace operation doesn't change the string."
   ]
  },
  {
   "cell_type": "code",
   "execution_count": 49,
   "id": "0bc48ac5",
   "metadata": {},
   "outputs": [
    {
     "name": "stdout",
     "output_type": "stream",
     "text": [
      "strings are immutable - compare these:\n",
      "\n",
      "no replacement:   avarice envy wrath sloth gluttony lust hubris  \n",
      "\n",
      "replaced at last:   greed envy wrath sloth gluttony lust hubris \n",
      "\n"
     ]
    }
   ],
   "source": [
    "#Replace characters\n",
    "print(\"strings are immutable - compare these:\\n\")\n",
    "seven_deadly.replace('avarice', 'greed')\n",
    "\n",
    "print(\"no replacement: \", seven_deadly, \"\\n\")\n",
    "seven_deadly = seven_deadly.replace('avarice', 'greed')\n",
    "\n",
    "print(\"replaced at last: \", seven_deadly + '\\n')"
   ]
  },
  {
   "cell_type": "markdown",
   "id": "05f4e038",
   "metadata": {},
   "source": [
    "You can remove leading and trailing whitespaces using various flavors of the **strip** method[18]. \n",
    "\n",
    "This is really handy when handling potentially-messy data like user inputs. The following example demonstrates this, along with one of Python's top-level functions len.  \n",
    "\n",
    "Note that **len** is not built into the string method – it's generally available for all objects"
   ]
  },
  {
   "cell_type": "code",
   "execution_count": 50,
   "id": "8bd9520a",
   "metadata": {},
   "outputs": [
    {
     "name": "stdout",
     "output_type": "stream",
     "text": [
      "The original sin list is 45 characters long.\n",
      "With the white spaces removed it's 43 long.\n"
     ]
    }
   ],
   "source": [
    "#Remove leading/trailing spaces. Note chained methods.\n",
    "print(\"The original sin list is {} characters long.\".\n",
    "        format(len(seven_deadly)))\n",
    "\n",
    "print(\"With the white spaces removed it's {} long.\".\n",
    "        format(len(seven_deadly.strip())))"
   ]
  },
  {
   "cell_type": "markdown",
   "id": "edd46dee",
   "metadata": {},
   "source": [
    "Python's ability to have one function \"swallow\" the output of another so it's possible to chain operations together. Here, the output from the **strip** method is fed into the **len** method. The combined result is fed to **format**. And the result of all that activity is rolled up into a single argument to **print**. You'll see a lot of code like this as you explore Python.\n",
    "\n",
    " "
   ]
  },
  {
   "cell_type": "markdown",
   "id": "5d949a5c",
   "metadata": {},
   "source": [
    "Making Things Beautiful: the Format Mini-Language\n",
    "-----------------------------------------------------\n",
    "\n",
    "You have already seen some basic applications of Python's text formatting capabilities. If you place opposing curly braces in a string they serve as \"catcher's mitt\" for any arguments you provide to **format**().  Python actually supports different styles of formatting.  We touch on a few of these here.\n",
    "\n",
    "The olde tyme, C-style method (which you'll see in Python 2 code) is not recommended, but is still supported."
   ]
  },
  {
   "cell_type": "code",
   "execution_count": 51,
   "id": "11d9454b",
   "metadata": {},
   "outputs": [],
   "source": [
    "my_str = \"'My String'\"\n",
    "my_float = 1.23\n",
    "my_int = 666"
   ]
  },
  {
   "cell_type": "code",
   "execution_count": 52,
   "id": "ae052d95",
   "metadata": {},
   "outputs": [
    {
     "name": "stdout",
     "output_type": "stream",
     "text": [
      "Python can print strings 'My String', floats 1.230000, and ints 666.\n"
     ]
    }
   ],
   "source": [
    "print(\"Python can print strings %s, floats %f, and ints %i.\" %(my_str, my_float, my_int))"
   ]
  },
  {
   "cell_type": "markdown",
   "id": "fd7ce62d",
   "metadata": {},
   "source": [
    "You can also provide empty braces as placeholders.   Under the hood, they are indexed as 0, 1, 2, etc. and are replaced by arguments provided to **format()**:"
   ]
  },
  {
   "cell_type": "code",
   "execution_count": 53,
   "id": "a399207e",
   "metadata": {},
   "outputs": [
    {
     "name": "stdout",
     "output_type": "stream",
     "text": [
      "Python can print strings 'My String', floats 1.23, and ints 666.\n"
     ]
    }
   ],
   "source": [
    "print(\"Python can print strings {}, floats {}, and ints {}.\".  \n",
    "      format(my_str, my_float, my_int))"
   ]
  },
  {
   "cell_type": "markdown",
   "id": "8aa5aeef",
   "metadata": {},
   "source": [
    "It's also possible to scramble the indices, and even repeat elements.  Note, also, that we don't need to use all the arguments provided.   Here's how:"
   ]
  },
  {
   "cell_type": "code",
   "execution_count": 54,
   "id": "799310e3",
   "metadata": {},
   "outputs": [
    {
     "name": "stdout",
     "output_type": "stream",
     "text": [
      "Some numbers: 3 3 2 2 1 0\n"
     ]
    }
   ],
   "source": [
    "print(\"Some numbers: {3} {3} {2} {2} {1} {0}\".format(0, 1, 2, 3, 4))"
   ]
  },
  {
   "cell_type": "markdown",
   "id": "a5f9fb59",
   "metadata": {},
   "source": [
    "Separating the formatted string from the data is also possible.  That can make your code more reusable.   Here, we're using a multi-line version of a string.   Instead of a numeric index, we're naming the fields - that allows us to use it with dictionary-like arguments:"
   ]
  },
  {
   "cell_type": "code",
   "execution_count": 55,
   "id": "57081b35",
   "metadata": {},
   "outputs": [
    {
     "name": "stdout",
     "output_type": "stream",
     "text": [
      "    Dear SuperPAC,\n",
      "   \n",
      "       I'm running for President and would like to shake\n",
      "       you down for a $100 contribution.\n",
      "\n",
      "    Sincerly, \n",
      "\n",
      "     - Me\n"
     ]
    }
   ],
   "source": [
    "stg = \"\"\"\\\n",
    "    Dear {donor},\\n   \n",
    "       I'm running for {office} and would like to shake\n",
    "       you down for a ${dollars} contribution.\\n\n",
    "    Sincerly, \\n\n",
    "     - {candidate}\"\"\"\n",
    "\n",
    "print(stg.format(donor = \"SuperPAC\", office = \"President\",\n",
    "                 dollars =100, candidate = 'Me'))"
   ]
  },
  {
   "cell_type": "markdown",
   "id": "b333ff1e",
   "metadata": {},
   "source": [
    "If we already have the variables defined, we can simply create a format statment using those names.  This is the most common and most readable (IMHO) way to do it.   Note that you can perform operations of any kind within the format string's {placeholders}."
   ]
  },
  {
   "cell_type": "code",
   "execution_count": 56,
   "id": "537d5aa2",
   "metadata": {},
   "outputs": [
    {
     "name": "stdout",
     "output_type": "stream",
     "text": [
      "Jerry Garcia and the fabulous Grateful Dead are the greatest!\n",
      "\n",
      "... because there are 12 letters in Jerry Garcia's name...\n",
      "... and half of that is 6.0.\n"
     ]
    }
   ],
   "source": [
    "fav_musician = \"Jerry Garcia\"\n",
    "fav_band = \"Grateful Dead\"\n",
    "\n",
    "# This is called an 'f-string' - introduced in Python 3.6\n",
    "print(f\"{fav_musician} and the fabulous {fav_band} are the greatest!\\n\")\n",
    "\n",
    "print(f\"... because there are {len(fav_musician)} letters in {fav_musician}'s name...\")\n",
    "print(f\"... and half of that is {len(fav_musician)/2}.\")\n"
   ]
  },
  {
   "cell_type": "markdown",
   "id": "9ad718c9",
   "metadata": {},
   "source": [
    "It's also easy to provide column width and justification specifications.  The general form of the specification is something like:\n",
    "\n",
    "{ \\<field name\\> : \\<alignment\\>[21] \\<width\\> }\n",
    "\n",
    "This example creates three columns of equal width, left justified in a\n",
    "format string, then \"recycles\" the string to build a nicely-formatted\n",
    "table."
   ]
  },
  {
   "cell_type": "code",
   "execution_count": 57,
   "id": "f7aac27d",
   "metadata": {},
   "outputs": [
    {
     "name": "stdout",
     "output_type": "stream",
     "text": [
      "Presenting: Addition!!!\n",
      "g                      \n",
      "output       input         input\n",
      "======       ======       ======\n",
      "4              2               2\n",
      "8              4               4\n"
     ]
    }
   ],
   "source": [
    "stg = \"{0:<10} {1:^10} {1:>10}\"\n",
    "print(stg.format(\"Presenting: Addition!!!\\ng\", ''))\n",
    "print(stg.format(\"output\", \"input\"))\n",
    "print(stg.format(\"=\" * 6, \"=\" * 6))\n",
    "print(stg.format(4, 2))\n",
    "print(stg.format(8, 4))\n"
   ]
  },
  {
   "cell_type": "markdown",
   "id": "acafab5a",
   "metadata": {},
   "source": [
    "You can also ask Python to temporarily cast variables into other forms for the purposes of output. Here, we're printing out decimal, binary, and hex flavors of some numbers."
   ]
  },
  {
   "cell_type": "code",
   "execution_count": 58,
   "id": "b8c08988",
   "metadata": {},
   "outputs": [
    {
     "name": "stdout",
     "output_type": "stream",
     "text": [
      "     1 =              0b1 = 0x0001\n",
      "    23 =          0b10111 = 0x0017\n",
      "   456 =      0b111001000 = 0x01c8\n",
      "  7890 =  0b1111011010010 = 0x1ed2\n"
     ]
    }
   ],
   "source": [
    "fmt = \"{0:6} = {0:#16b} = {0:#06x}\"\n",
    "for i in (1, 23, 456, 7890):\n",
    "    print(fmt.format(i))"
   ]
  },
  {
   "cell_type": "markdown",
   "id": "aec71668",
   "metadata": {},
   "source": [
    "Other options allow you to do things like represent add \"+\" and \"-\" signs in front of values, to pad out columns, etc. Things can be much more complicated but Python's official documentation is (fortunately) exceptional on this topic[22].\n",
    "\n",
    "Here's a final example that demonstrates how to use formatting to output a type-cast version of the information displayed."
   ]
  },
  {
   "cell_type": "code",
   "execution_count": 59,
   "id": "2ab8bc6a",
   "metadata": {},
   "outputs": [
    {
     "name": "stdout",
     "output_type": "stream",
     "text": [
      "Steve          59  202.\n",
      "Dorothy        49  156.\n",
      "Simon          39  155.\n",
      "David          61  135.\n"
     ]
    }
   ],
   "source": [
    "\"\"\"List people's names, ages and weights.\"\"\"\n",
    "data = [\n",
    "        (\"Steve\", 59, 202),\n",
    "        (\"Dorothy\", 49, 156),\n",
    "        (\"Simon\", 39, 155),\n",
    "        (\"David\", 61, 135) \n",
    "        ]\n",
    "for name, age, weight in data:\n",
    "    print(\"{0:12s} {1:4d} {2:4d}.\".format(name, age, weight))"
   ]
  },
  {
   "cell_type": "markdown",
   "id": "658f9e8a",
   "metadata": {},
   "source": [
    "Strings can be evaluated with logical tests.  Python uses == for a logical 'is equal to' and != for 'is not equal to'."
   ]
  },
  {
   "cell_type": "code",
   "execution_count": 60,
   "id": "e12a74c1",
   "metadata": {},
   "outputs": [
    {
     "name": "stdout",
     "output_type": "stream",
     "text": [
      "Are 'CUBS' and 'cubs' the same?   False\n",
      "Are 'CUBS' and 'cubs' different?  True\n"
     ]
    }
   ],
   "source": [
    "string_a = 'CUBS'\n",
    "string_b = 'cubs'\n",
    "\n",
    "print(f\"Are '{string_a}' and '{string_b}' the same?   {string_a == string_b}\")\n",
    "print(f\"Are '{string_a}' and '{string_b}' different?  {string_a != string_b}\")\n"
   ]
  },
  {
   "cell_type": "markdown",
   "id": "a4ff1fdf",
   "metadata": {},
   "source": [
    "OK. You have learned a lot about string and numeric data types, how to work with strings, and how to make nicely formatted output. Now, let's flex some Pythonic muscles and make something beautiful!"
   ]
  },
  {
   "cell_type": "markdown",
   "id": "e9662e1c",
   "metadata": {},
   "source": [
    "## Exercise\n",
    "\n",
    "Please write an application that quizzes challenges the user to guess all of Python's keywords, keeping track of the successes. \n",
    "\n",
    "When the user gives up (maybe by typing \"help\"), report the number of correctly-guessed keywords, then number not guessed, and a nicely-formatted table for each group.\n",
    "\n",
    "Hint: you'll find some useful tools in the keyword library, which you can get by going:\n",
    "\n",
    "import keyword\n",
    "\n",
    "Hint: you just might find the keyword called **in** useful to determine membership in keywords. You can access it like this:\n",
    "\n",
    "keyword.kwlist\n",
    "\n",
    "You'll want to use this approach to query the list you'll find in the keyword library. \n",
    "\n",
    "    list_of_critters = ['fox', 'skunk', 'bear']\n",
    "\n",
    "    print (f\"Is 'fox' in our critter list? {'fox' in list_of_critters}\") \n",
    "    \n",
    "    Is 'fox' in our critter list? True\n",
    "\n",
    "Also, you'll need to be able to use the for and if statements.  Recall the general forms:\n",
    "\n",
    "for i in iterable_object: \n",
    "    \n",
    "    pass\n",
    "    \n",
    "if condition:   \n",
    "    \n",
    "    pass\n",
    "    \n",
    "Solution:  solution_keywords"
   ]
  },
  {
   "cell_type": "code",
   "execution_count": null,
   "id": "b8cf8ce1",
   "metadata": {},
   "outputs": [],
   "source": []
  }
 ],
 "metadata": {
  "kernelspec": {
   "display_name": "py39",
   "language": "python",
   "name": "py39"
  },
  "language_info": {
   "codemirror_mode": {
    "name": "ipython",
    "version": 3
   },
   "file_extension": ".py",
   "mimetype": "text/x-python",
   "name": "python",
   "nbconvert_exporter": "python",
   "pygments_lexer": "ipython3",
   "version": "3.8.8"
  },
  "toc": {
   "base_numbering": "0",
   "nav_menu": {},
   "number_sections": true,
   "sideBar": true,
   "skip_h1_title": false,
   "title_cell": "Table of Contents",
   "title_sidebar": "Contents",
   "toc_cell": true,
   "toc_position": {},
   "toc_section_display": true,
   "toc_window_display": true
  },
  "varInspector": {
   "cols": {
    "lenName": 16,
    "lenType": 16,
    "lenVar": 40
   },
   "kernels_config": {
    "python": {
     "delete_cmd_postfix": "",
     "delete_cmd_prefix": "del ",
     "library": "var_list.py",
     "varRefreshCmd": "print(var_dic_list())"
    },
    "r": {
     "delete_cmd_postfix": ") ",
     "delete_cmd_prefix": "rm(",
     "library": "var_list.r",
     "varRefreshCmd": "cat(var_dic_list()) "
    }
   },
   "types_to_exclude": [
    "module",
    "function",
    "builtin_function_or_method",
    "instance",
    "_Feature"
   ],
   "window_display": false
  }
 },
 "nbformat": 4,
 "nbformat_minor": 5
}
