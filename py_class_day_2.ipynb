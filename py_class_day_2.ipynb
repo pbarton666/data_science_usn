{
 "cells": [
  {
   "cell_type": "markdown",
   "id": "4b754c61",
   "metadata": {},
   "source": [
    "Language Components\n",
    "===================\n",
    "\n",
    "From a syntax perspective, Python is a simple language. As we've seen, there are only 33 keywords. While Python has data types, variables don't need to be declared to be of some specific type before use. There's no requirement to initialize variables. Objects generally come to us \"batteries included.\" Pretty slick, no?"
   ]
  },
  {
   "cell_type": "markdown",
   "id": "cf648f32",
   "metadata": {},
   "source": [
    "Indentation\n",
    "-----------\n",
    "\n",
    "We've seen the **for** statement before, but let's take another look."
   ]
  },
  {
   "cell_type": "code",
   "execution_count": null,
   "id": "457031a1",
   "metadata": {},
   "outputs": [],
   "source": [
    "for value in range(5):\n",
    "    print(value)"
   ]
  },
  {
   "cell_type": "markdown",
   "id": "b4dd62dd",
   "metadata": {},
   "source": [
    "The first line is of the form:\n",
    "\n",
    "\\<key word\\> \\<name for index\\> **in** \\<iterable object\\>:\n",
    "\n",
    "That's it – no fussing around with pointers, instancing index values, or running past the end of the object. The **for** statement \"just works.\"\n",
    "\n",
    "What follows is an \"indented suite\", and it can comprise any number of lines of code. Indentation is extremely important in Python because that's how the interpreter keeps track of how to group statements.  Unlike languages such as C and Java, it can't rely on braces for that purpose – Python uses <span class=\"underline\">only</span> indentation.  Statements at the same level of indentation are treated as a being in the same code block, and code blocks can be nested to any level.\n",
    "\n",
    "This further simplifies Python – it's unburdened by the clutter of braces, statement terminating semicolons, and loop terminating keywords.  All this creates and enforces a high level of readability. The cost, of course, is the need to have attention to fine level of detail and a limited ability to write spatially-dense code.\n",
    "\n",
    "Strictly speaking, Python doesn't care how much each statement in the same suite is indented, as long as all are the same. Some developers use tabs (each is seen by the interpreter as a single character), but four white spaces is the recommended convention per Python's official style guide \"PEP-8.\" \n",
    "\n",
    "PEP-8 is a bit of a dry read, but well worth a quick look, especially if you're planning to work as part of a team[24].   Jupyter, as well as many IDEs have built-in PEP-8 checkers and will (usually!) format your code nicely even if you've forgotten some nuance."
   ]
  },
  {
   "cell_type": "markdown",
   "id": "0d6edcd4",
   "metadata": {},
   "source": [
    "## Iteration and Lazy Evaluation\n",
    "\n",
    "Many objects in Python have the built-in capability for looping over the elements.  Under the hood, each of these objects has an __iter__ method that provides exact instructions for doing so.   \n",
    "\n",
    "In the exercise, you saw how the **for** keyword can invoke this automatic looping behavior over a **list** object.  Just above, we used a **range** object with the same syntax.   The **range** object is good to know about because it's a good way to whistle up a sequence of numbers.\n",
    "\n",
    "It's also an example of a common built-in optimizing technique achieved by making \"iterator\" and \"generator\" objects.  These objects contain recipes to generate the next object in a series without having to remember all the elements in the series.   The example we just saw will create five consecutive integers - but it only had to have the wisdom to add one to the last integer it produced.  \n",
    "\n",
    "These expressions take exactly the same amount of memory to create:"
   ]
  },
  {
   "cell_type": "code",
   "execution_count": null,
   "id": "beb351d6",
   "metadata": {},
   "outputs": [],
   "source": [
    "print(range(5))\n",
    "print(range(5_000_000_000_000))"
   ]
  },
  {
   "cell_type": "markdown",
   "id": "783e8456",
   "metadata": {},
   "source": [
    "Note that we're printing out string representations of the objects.   We're not causing either one to iterate or create all of its elements.  That will happen only when we apply a **for** loop.\n",
    "\n",
    "You'll also note use of underscores to specify the integer 5 trillion.  This is possible since Python 3.6."
   ]
  },
  {
   "cell_type": "markdown",
   "id": "d957ef75",
   "metadata": {},
   "source": [
    "The if Statement\n",
    "----------------\n",
    "\n",
    "We've touched on the **if** statement, the most basic of control statements. Let's expand the discussion a bit. Its general form is:\n",
    "\n",
    "if \\<condition\\>:\n",
    "\n",
    "    <indented suite>\n",
    "\n",
    "elif \\<condition\\>:\n",
    "\n",
    "    <indented suite>\n",
    "\n",
    "else:\n",
    "\n",
    "    <indented suite>\n",
    "\n",
    "The first condition presented to the **if** is evaluated True or False.  If evaluated **True**, the indented suite immediately beneath is executed and it's done. Execution drops out of the entire block of code.\n",
    "\n",
    "There can be any number of **elif** (\"else if\") statements and they are evaluated in top-to-bottom order. If any is **True**, the associated indented suite of statement is evaluated and it's done. Only when no **if** or **elif** condition is met will the **else** suite be executed[25].\n",
    "\n",
    "The **elif** and **else** clauses are completely optional, and leaving them off is routine. \n",
    "\n",
    "Here's a simple example where we apply an the **if** alone to prevent a crash (technically, an \"exception\" caused by a ZeroDivisionError)."
   ]
  },
  {
   "cell_type": "code",
   "execution_count": null,
   "id": "571a630d",
   "metadata": {},
   "outputs": [],
   "source": [
    "denominator = 0\n",
    "numerator = 100\n",
    "if denominator:\n",
    "    print(numerator/denominator)"
   ]
  },
  {
   "cell_type": "markdown",
   "id": "90af13c5",
   "metadata": {},
   "source": [
    "## Using for and if Together\n",
    "\n",
    "Here's a program to demonstrate a more complicated application, this time coupling **for** and **if** expressions.  We introduce a few nuances in the process.\n",
    "\n",
    "The object iterated over is a **tuple**.   A tuple is an ordered set of objects and is represented within parentheses - something like:  (0, 'bear' 1.1).\n",
    "\n",
    "In his case we have a tuple-of-tuples.  The contained elements (1, 0) and (9, 3) are each tuples in their own right.  The outer tuple object bundles them:   ( (1, 0), (9, 3) )\n",
    "\n",
    "We can iterate over the outer tuple to get:"
   ]
  },
  {
   "cell_type": "code",
   "execution_count": null,
   "id": "343cc462",
   "metadata": {},
   "outputs": [],
   "source": [
    "for element in ( (1, 0), (9, 3) ):\n",
    "    print (element)"
   ]
  },
  {
   "cell_type": "markdown",
   "id": "a1ddf1c2",
   "metadata": {},
   "source": [
    "A common operation to use within a **for** statement is called \"unpacking\".  You do not have to use it unless you want to, but we bring the topic up here so you'll recognize it when you see it.\n",
    "\n",
    "Let's assume you have the tuple (9, 3).   You can create an assignment to split it up into constituent elements by providing a name for each element on the left side of an expression like this:"
   ]
  },
  {
   "cell_type": "code",
   "execution_count": null,
   "id": "702315a5",
   "metadata": {},
   "outputs": [],
   "source": [
    "first_tuple_component, second_tuple_component = (9, 3)\n",
    "\n",
    "print(f\"first: {first_tuple_component}  second: {second_tuple_component}\")"
   ]
  },
  {
   "cell_type": "markdown",
   "id": "aa2652cb",
   "metadata": {},
   "source": [
    "This will work on any Python sequence, like a string or a list.   You have to remember to provide just the right number of names on the left side.\n",
    "\n",
    "Suppose our tuple components contained numerator, denominator pairs.   An easy way to parse these out is to do the \"unpacking\" operation in the header of the **for** loop.   This lets you save a couple of steps and - much more importantly - make code transparent enough for anyone to understand.\n",
    "\n",
    "Here we take advantage of unpacking and the left-to-right operation of conditional statements to make a robust means of generating fractions."
   ]
  },
  {
   "cell_type": "code",
   "execution_count": null,
   "id": "ce1cff31",
   "metadata": {},
   "outputs": [],
   "source": [
    "for numerator, denominator in ( (1, 0), (9, 3) ):\n",
    "    if denominator and numerator/denominator == 3:\n",
    "        print(f\"yay! We have a {numerator/denominator}!\")"
   ]
  },
  {
   "cell_type": "markdown",
   "id": "c03827dd",
   "metadata": {},
   "source": [
    "The while Statement\n",
    "-------------------\n",
    "\n",
    "The **while** statement is also pretty straightforward:\n",
    "\n",
    "condition = <something>\n",
    "\n",
    "while <condition>:\n",
    "\n",
    "    <indented suite>\n",
    "\n",
    "else:\n",
    "\n",
    "    <indented suite>\n",
    "\n",
    "The indented suite will be executed top-to-bottom forever until it's asked to stop or the condition is no longer **True**. Here's a simple example using a condition to halt execution. Note that the \"sentinel condition\" and counter are defined outside and before the loop[26]."
   ]
  },
  {
   "cell_type": "code",
   "execution_count": null,
   "id": "61a391dd",
   "metadata": {},
   "outputs": [],
   "source": [
    "stop_me = False\n",
    "counter = 0\n",
    "while not stop_me:\n",
    "    print(f\"The counter is now: {counter}.\", end = '')\n",
    "    if counter > 2:\n",
    "        print(\" Yo. I'm done!\")\n",
    "        stop_me = True     \n",
    "    else:\n",
    "        print(\" I'm still trudging along.\")      \n",
    "        \n",
    "    counter = counter + 1 "
   ]
  },
  {
   "cell_type": "markdown",
   "id": "3083bb7e",
   "metadata": {},
   "source": [
    "There are more elegant ways to proceed, however. A common idiom is to use the keyword **break** within the loop to terminate it immediately.  This can be combined with tautologically-true condition to streamline things. \n",
    "\n",
    "For instance, you could go:"
   ]
  },
  {
   "cell_type": "code",
   "execution_count": null,
   "id": "f72ed4cc",
   "metadata": {},
   "outputs": [],
   "source": [
    "counter = 0\n",
    "while True:\n",
    "    print(f\"The counter is now: {counter}.\", end = \"\")\n",
    "    if counter > 2:\n",
    "        print(\" Yo. I'm done!\")\n",
    "        break\n",
    "    else:\n",
    "        print(\" I'm still trudging along.\")\n",
    "        \n",
    "    counter += 1"
   ]
  },
  {
   "cell_type": "markdown",
   "id": "2c856f74",
   "metadata": {},
   "source": [
    "Not only is this simple to read, it doesn't require much in the way of resources to evaluate. This is not at issue with a simple application, but if your project involves millions of iterations e.g., a polling routine for a web server, efficiency becomes relevant.\n",
    "\n",
    "You probably noticed that the **else** clause did not execute. The reason is that its indented suite runs only if the **while** statement terminates due to the condition becoming **False**. The **break** keyword causes the code that would do this to be bypassed.\n",
    "\n",
    "The philotic twin of the **break** statement is **continue**. When **continue** is encountered, execution is immediately passed to the top of the loop where the condition is reevaluated.\n",
    "\n",
    "The **else** clause is completely optional. Since we're using **break**, we'll get rid of the extra baggage and show how **continue** might be applied. Note the use of the comparative operator == (returns a Boolean evaluation of whether the two values are the same) and the shortcut way to increment the counter with the += operator[27]."
   ]
  },
  {
   "cell_type": "code",
   "execution_count": null,
   "id": "f3c5630b",
   "metadata": {},
   "outputs": [],
   "source": [
    "counter = 0\n",
    "while True:\n",
    "    if counter == 1:\n",
    "        print(\"One is the loneliest number that there ever was.\")\n",
    "        counter += 1\n",
    "        continue\n",
    "    print(\"The counter is now: {}.\".format(counter))\n",
    "    if counter:\n",
    "        break\n",
    "\n",
    "    counter += 1"
   ]
  },
  {
   "cell_type": "markdown",
   "id": "6beb1b52",
   "metadata": {},
   "source": [
    "Inner and Outer Loops\n",
    "---------------------\n",
    "\n",
    "The final point I would make here is that **break** and **continue** work on both **for** and **while** loops. And both work only on the inner-most loop (the one they reside inside of). \n",
    "\n",
    "Here's an example of a program with both types of loops:\n"
   ]
  },
  {
   "cell_type": "code",
   "execution_count": null,
   "id": "07c18af5",
   "metadata": {},
   "outputs": [],
   "source": [
    "stop_me = False\n",
    "counter = 0\n",
    "for i in range(10):\n",
    "    if i%2: #odd numbers evaluate True:\n",
    "        while True:\n",
    "            if counter == 1:\n",
    "                print(\"One is the loneliest number that there ever was.\")\n",
    "                counter += 1\n",
    "                continue\n",
    "            print(f\"The counter is now: {counter } and i is now {i}.\")\n",
    "            if counter:\n",
    "                break #breaks out of the inner(while) loop\n",
    "\n",
    "            counter += 1\n",
    "    if i == 5:\n",
    "        print(\"I'm done - about to go on a break.\")\n",
    "        break #this breaks out of the outer (for) loop"
   ]
  },
  {
   "cell_type": "markdown",
   "id": "77bfc6d5",
   "metadata": {},
   "source": [
    "Some Useful Logical and Binary Operators\n",
    "----------------------------------------\n",
    "\n",
    "Python comes with a typical set of comparative operators. Here's a quick\n",
    "summary:\n",
    "\n",
    "|     | Equal to              |\n",
    "|:----|:----------------------|\n",
    "| !=  | Not equal             |\n",
    "| \\<  | Less than             |\n",
    "| \\>  | Greater than          |\n",
    "| \\<= | Less than or equal    |\n",
    "| \\>= | Greater than or equal |\n",
    "|<img width=150/>|<img width=150/>|\n",
    "\n",
    "There is also a set of bitwise operators. These operate on the 1s and 0s in a number represented in binary format. You can create a binary representation of a number in Python by using the keyword **bin**, something like:"
   ]
  },
  {
   "cell_type": "code",
   "execution_count": null,
   "id": "94ae65aa",
   "metadata": {},
   "outputs": [],
   "source": [
    "bin(128)"
   ]
  },
  {
   "cell_type": "markdown",
   "id": "e74cea4e",
   "metadata": {},
   "source": [
    "You can see that the result's first two characters are '0b', flagging it as a binary representation. You'll also note that the result is a string, which you can't do much with mathematically – you need to do operations <span class=\"underline\">before</span> it's converted.\n",
    "\n",
    "The operators for bitwise shifts are **\\>\\>** and **\\<\\<** and here's how you might apply them as you're creating the binary number. These are like changing the power of 10 to which you raise a base 10 number."
   ]
  },
  {
   "cell_type": "code",
   "execution_count": null,
   "id": "d213442a",
   "metadata": {},
   "outputs": [],
   "source": [
    "mybin_1000 = bin(1000)\n",
    "fmt = \"{:30} {:30}\"\n",
    "print(\"Base 2 operations:\")\n",
    "print(fmt.format(\"mybin_1000: \", mybin_1000))\n",
    "print(fmt.format(\"mybin_1000 shifted left: \", bin(1000 << 3)))\n",
    "print(fmt.format(\"mybin_1000 shifted right: \", bin(1000 >> 5)))"
   ]
  },
  {
   "cell_type": "markdown",
   "id": "b7c4a9a2",
   "metadata": {},
   "source": [
    "There are other operators you can use to \"mask\" a binary number with another. A common use is IP address masking when setting up subnets.  These are:\n",
    "\n",
    "|        |                                                                     |\n",
    "|--------|---------------------------------------------------------------------|\n",
    "| a & b  | Both 1 -\\> 1, otherwise -\\>0                                        |\n",
    "| a \\| b | Both 0 -\\> 0, otherwise -\\>1                                        |\n",
    "| \\~a    | \"flips\" each bit. 1 -\\> 0 and 0 -\\>1                                |\n",
    "| a ^ b  | if the bit in b is 0, use the bit in a; otherwise flip the bit in a |\n",
    "\n",
    "This is just an aside, but you can use the \"exclusive or\", a.k.a. XOR, implemented with the \"^\" operator, as a cheesy encryption tool. That's because sequential applications simply flip the results. The first application encrypts the original and the second application undoes the encryption."
   ]
  },
  {
   "cell_type": "markdown",
   "id": "5b6df0ff",
   "metadata": {},
   "source": [
    "## Exercise\n",
    "\n",
    "\n",
    "Create a program that asks the user to guess a number between 1 and 100 (whole numbers only). If the guess is wrong, let the user know if the guess is too high or too low. If the guess is right, offer hearty congratulations and exit the program. If, after five attempts, the user can't get the number then offer deep condolences and invite him/her to try again. Be sure to check for valid input and remind the user if necessary.\n",
    "\n",
    "\n",
    "Hint: the random library has several handy pseudo-random number generator functions such as random.randrange(). You'll need to import random in order to use it. A good way to start might be:\n",
    "\n",
    "    import random\n",
    "\n",
    "    help(random)\n",
    "\n",
    "\n",
    "Also, you might consider putting in some sort of logical that will \"freeze\" both the random number and the user's guess while debugging. That gives you a stationary target."
   ]
  },
  {
   "cell_type": "markdown",
   "id": "86631afb",
   "metadata": {},
   "source": [
    "Collections\n",
    "===========\n",
    "\n",
    "Next, we'll investigate several of the built-in Python **sequences.** Sequences are composite objects (that is they contain zero or more separate objects). Sequence objects are aware of their status as such and have built-in methods to take advantage of that fact. For instance, all sequences are **iterators** (they know how to loop over themselves), they know how long they are, and can be indexed."
   ]
  },
  {
   "cell_type": "markdown",
   "id": "45642ee6",
   "metadata": {},
   "source": [
    "Creating Sequences \n",
    "------------------\n",
    "\n",
    "In the code below, we will take a first-order look at several sequences, and how one might form them. Note that we can use data types such as **range** and **list** as methods to create new instances of said data types."
   ]
  },
  {
   "cell_type": "code",
   "execution_count": null,
   "id": "8c23a355",
   "metadata": {},
   "outputs": [],
   "source": [
    "the_string = \"strings are sequences with an encoding\"\n",
    "the_bytes = bytearray(the_string, encoding = 'UTF-8')\n",
    "the_range = range(10)\n",
    "the_list = list(range(10))\n",
    "the_tuple = tuple(range(10))\n",
    "print(\"String: \", the_string)\n",
    "print(\"Bytes: \", the_bytes)\n",
    "print(\"List: \", the_list)\n",
    "print(\"Tuple: \", the_tuple)"
   ]
  },
  {
   "cell_type": "markdown",
   "id": "fdad068f",
   "metadata": {},
   "source": [
    "Note that the bytearray's string representation is proceeded by a \"b\". That's just a visual indicator that the object is stored as bytes. Other annotations you might encounter include :\n",
    "u (Unicode, in Python 2.x) r (asks Python to interpret \\n \\t, and other format characters literally).\n",
    "\n",
    "As is the case with strings, it's possible to create several objects directly using the appropriate braces. This approach is called \"duck typing\" – from the interpreter's perspective, if it walks like a duck and quacks like a duck, it must be a duck. \n",
    "\n",
    "These all work:"
   ]
  },
  {
   "cell_type": "code",
   "execution_count": null,
   "id": "ea44fc46",
   "metadata": {},
   "outputs": [],
   "source": [
    "another_list = [\"what's\", 'up', 'doc?']\n",
    "print('List')\n",
    "print(another_list)\n",
    "print(type(another_list))\n",
    "print()\n",
    "\n",
    "a_dict = {'a':'eh', 'b':'bee', 'c':'see'}\n",
    "print('Dictionary')\n",
    "print(a_dict)\n",
    "print(type(a_dict))\n",
    "print()\n",
    "      \n",
    "my_tuple = (1,3,4)\n",
    "print(\"Tuple\")\n",
    "print(my_tuple)\n",
    "print(type(my_tuple))"
   ]
  },
  {
   "cell_type": "markdown",
   "id": "ac29c154",
   "metadata": {},
   "source": [
    "Naturally, any of objects can be directly created with a constructor (using the object name as a verb). \n",
    "\n",
    "This can take the guess work out of the situation. Here's an example for the **set**[29] object:"
   ]
  },
  {
   "cell_type": "code",
   "execution_count": null,
   "id": "a62988e0",
   "metadata": {},
   "outputs": [],
   "source": [
    "favorite_set = set()\n",
    "type(favorite_set)\n",
    "print(f\"An empty set:  {favorite_set}\")   \n",
    "\n",
    "favorite_set.add(1)\n",
    "print(f\"A one-element set:  {favorite_set}\")"
   ]
  },
  {
   "cell_type": "markdown",
   "id": "7b373d31",
   "metadata": {},
   "source": [
    "Python is not strongly typed (at first, anyway).  Unlike many languages, Python does not enforce variable declaration and homogenous types within a collection structure. In fact, it's very cavalier about use and reuse of variable names[30]."
   ]
  },
  {
   "cell_type": "code",
   "execution_count": null,
   "id": "3c06cada",
   "metadata": {},
   "outputs": [],
   "source": [
    "reusable = \"green\"\n",
    "reusable = 1\n",
    "reusable = [\"some\", \"list\", \"of\", 4, \"elements\"]\n",
    "print(reusable)\n",
    "print()\n",
    "\n",
    "reusable = None\n",
    "reusable is None  # (How to check for a None type.)\n",
    "reusable          # (prints as 'None'.  In REPL, does not display anything.)\n",
    "print('-' * 10)\n"
   ]
  },
  {
   "cell_type": "markdown",
   "id": "18e0ffa6",
   "metadata": {},
   "source": [
    "Creating Index Values with enumerate\n",
    "------------------------------------\n",
    "\n",
    "Although you don't need to create index values for your loop, you can get some easily by using the built-in **enumerate** method.  It produces tuples of (index, object in iterable).\n",
    "\n",
    "Here's how you might apply it:"
   ]
  },
  {
   "cell_type": "code",
   "execution_count": null,
   "id": "4885f2d2",
   "metadata": {},
   "outputs": [],
   "source": [
    "fruits = ('apple', 'banana', 'kiwi')\n",
    "for snack_and_index in enumerate(fruits):\n",
    "    print(snack_and_index)"
   ]
  },
  {
   "cell_type": "markdown",
   "id": "2b28e601",
   "metadata": {},
   "source": [
    "Here, we created a tuple of fruits. Within the **for** statement we applied **enumerate**. For each element of the tuple, **enumerate (**returned a **tuple** of (index, element\\_value) ).\n",
    "\n",
    "We can upgrade this a bit by applying some print formatting and by \"unpacking\" the **tuple** returned. \n",
    "\n",
    "Here's how might work:"
   ]
  },
  {
   "cell_type": "code",
   "execution_count": null,
   "id": "4068f620",
   "metadata": {},
   "outputs": [],
   "source": [
    "fruits = (\"apple\", \"banana\", \"kiwi\")\n",
    "start_at = 1\n",
    "for index, snack in enumerate(fruits, start_at):\n",
    "    print(\"fruit #{} is a(n) {}\".format(index, snack))"
   ]
  },
  {
   "cell_type": "markdown",
   "id": "fb3e3afa",
   "metadata": {},
   "source": [
    "The names \"snack\" and \"index\" have been successively associated with values contained within the **tuples** provided by **enumerate**, and are available within the indented suite. You can see that the names are \"recycled\" at each iteration. We provided an optional argument \"start\\_at\" to select the first value of the index produced. If you don't provide the argument, the first index value will be zero."
   ]
  },
  {
   "cell_type": "markdown",
   "id": "246975d9",
   "metadata": {},
   "source": [
    "Slices and Sequence Indexing\n",
    "----------------------------\n",
    "\n",
    "So far, we have looked at really small, manageable sequences where it's easy and cheap enough to iterate through all the elements. However, in real-life situations we're likely to encounter structures that contain millions of elements. If we have some *a priori* knowledge of where the element we're looking for lives, or if we want to apply something better than a brute-force search algorithm, we would want a more clever way to approach sequences.\n",
    "\n",
    "Fortunately, Python supports the ability to \"slice\" a sequence using index values.  Slicing and indexing prove to be very important when wrangling array-like objects such as those in NumPy and Pandas.\n",
    "\n",
    "For instance, you can go:"
   ]
  },
  {
   "cell_type": "code",
   "execution_count": null,
   "id": "1ac72be3",
   "metadata": {},
   "outputs": [],
   "source": [
    "the_list = list(range(0,10))\n",
    "print(\"Everything:\", the_list)\n",
    "print()\n",
    "print(\"A slice:\", the_list[0:6:2])"
   ]
  },
  {
   "cell_type": "markdown",
   "id": "e2536815",
   "metadata": {},
   "source": [
    "The general syntax is:\n",
    "\n",
    "\\<iterable\\>\\[ \\<start\\> : \\<stop\\> : \\<stride\\> \\]\n",
    "\n",
    "The start, stop, and stride parameters are all optional. Be default start is the first element of the sequence, stop is the last element, and stride is 1.\n",
    "\n",
    "In the simplest form, the entire sequence will be produced:"
   ]
  },
  {
   "cell_type": "code",
   "execution_count": null,
   "id": "092bc7aa",
   "metadata": {},
   "outputs": [],
   "source": [
    "the_list[:] # [::] works the same"
   ]
  },
  {
   "cell_type": "markdown",
   "id": "095286ae",
   "metadata": {},
   "source": [
    "Let's go back and look at the first slicing example. One might expect that the last element produced would be 6 – after all, isn't that what we requested with the stop parameter? Not so – the last element produced is the one <span class=\"underline\">before</span> the stop parameter … something to keep in mind to avoid surprises[31].\n",
    "\n",
    "Python also has a built-in **slice** object, which works just like the index specifications above. Note that it's applied with \\[square brackets\\], just like the hard-coded slice."
   ]
  },
  {
   "cell_type": "code",
   "execution_count": null,
   "id": "515aae95",
   "metadata": {},
   "outputs": [],
   "source": [
    "slicer = slice(0,6,2)\n",
    "\n",
    "print(\"Slice object\")\n",
    "print(type(slicer))\n",
    "print()\n",
    "print(\"A slice:\", the_list[slicer])"
   ]
  },
  {
   "cell_type": "markdown",
   "id": "0bc6f16d",
   "metadata": {},
   "source": [
    "Using the **slice** object can make your code much easier to maintain because you don't have to fiddle with hard-coded index values. It can be especially useful if you're parsing data whose format is likely to change and over which you have little control (like text scraped from a web site).    \n",
    "\n",
    "A few **slice** objects at the top of your code could make adjustments / updates a snap. This being said, if its specification is too \"distant\" from where it's being applied your code could become less transparent for human consumers.\n",
    "\n",
    "The main difference between using a **slice** object and the hard-coded version is that all the parameters (start, stop, and stride) have to be supplied.  If you don't care to supply your own value, just use the **None** object as a placeholder and you'll get the default value.\n",
    "\n",
    "Here are a few additional examples of how you might use slices:"
   ]
  },
  {
   "cell_type": "code",
   "execution_count": null,
   "id": "256ac695",
   "metadata": {},
   "outputs": [],
   "source": [
    "the_string = \"strings are sequences with an encoding\"\n",
    "the_list = list(range(0,10))\n",
    "the_slice = slice(3, 10) # positions 3...9 inclusive\n",
    "\n",
    "print(\"Slice : \", the_slice, \"\\n\")\n",
    "print(\"Slice a list: \", the_list[3:10], \"\\n\") # typical\n",
    "print(\"Alt. syntax : \", the_list.__getitem__(the_slice), \"\\n\") # more verbose\n",
    "\n",
    "print(\"The whole string: \",the_string[:]) # all\n",
    "print(\"Slice a string: \", the_string[3:10])\n",
    "print(\"Skipping: \",the_string[::2], \"\\n\") # step by 2\n",
    "\n",
    "new_list = the_list[:] # same as the_list.copy()\n",
    "print(\"A clean copy, as a new object:\", new_list)"
   ]
  },
  {
   "cell_type": "markdown",
   "id": "9717c6f5",
   "metadata": {},
   "source": [
    "Dictionaries in Python\n",
    "----------------------\n",
    "\n",
    "Python supports dictionary objects, known to some languages as \"hash tables\" or \"hash mappings.\" The basic object, **dict**, is built into the language and variants of it, such as the **OrderedDict** are available in the **collections** library[32].\n",
    "\n"
   ]
  },
  {
   "cell_type": "markdown",
   "id": "c0b010a4",
   "metadata": {},
   "source": [
    "Basics\n",
    "------\n",
    "\n",
    "A **dict** object is another form of a collection – it has some important differences from sequence objects like the **list** and string. Among these:\n",
    "\n",
    "-   Since it's a hash[33] (optimized for efficiency) the elements are\n",
    "    not in any guaranteed order. In other words, the act of adding an\n",
    "    element can change the order of the others.\n",
    "\n",
    "-   Operations like slicing, indexing, etc. are not available because\n",
    "    they're dependent on the ordering of the elements.\n",
    "\n",
    "The **dict** is essentially a one-way lookup table. Given a unique key, one can efficiently find its associated value. However, since values are not necessarily unique you can't go the other way (you can't use a value to look up a key).\n",
    "\n",
    "Here's some basic usage:"
   ]
  },
  {
   "cell_type": "code",
   "execution_count": null,
   "id": "f632f55e",
   "metadata": {},
   "outputs": [],
   "source": [
    "# Alternative syntax for creation\n",
    "the_dict = {\"key\":\"value\", \"A\":2, \"B\":3}\n",
    "same_dict = dict(key = \"value\", A = 2, B = 3)\n",
    "\n",
    "print (\"The dict:\", the_dict, '\\n')\n",
    "print(\"Are the dicts the same?\", the_dict == same_dict, '\\n')\n",
    "\n",
    "# One way to add a key:value pair \n",
    "the_dict['C'] = 3\n",
    "print(\"We added a new key:value pair: \", the_dict, '\\n')\n",
    "\n",
    "# One way to extract a value if you know the key is good.\n",
    "my_value = the_dict['C']\n",
    "print(f\"The value associated with 'C' is: {my_value} \\n\")\n",
    "\n",
    "# One way to extract a value if the key is sketchy.\n",
    "my_value = the_dict.get('D', \"some default value\")\n",
    "print(\".. and yet again:\", the_dict)\n",
    "print()\n",
    "print(\"The value I got with a bad key is: '{}'.\".format(my_value))"
   ]
  },
  {
   "cell_type": "markdown",
   "id": "625e3c0d",
   "metadata": {},
   "source": [
    "Using get\n",
    "---------\n",
    "\n",
    " While it's completely OK to call a value out by name, if that value does not exist a **KeyError** exception will occur. The **get** method allows you to provide some default value in this case (or if you don't, a valid **None** object will be returned). \n",
    " \n",
    " Here's a quick example:\n"
   ]
  },
  {
   "cell_type": "code",
   "execution_count": null,
   "id": "f55c59dd",
   "metadata": {},
   "outputs": [],
   "source": [
    "plant_dict = {'raspberry': 'rubus',\n",
    "              'elm': 'ulmus',\n",
    "              'maple': 'acer'\n",
    "              }\n",
    "\n",
    "# create a format string\n",
    "fmt_str = \"The {} is more properly called a {}.\\n\"\n",
    "\n",
    "# get with no argument\n",
    "look_for = 'raspberry'\n",
    "found = plant_dict.get(look_for)\n",
    "print(fmt_str.format(look_for, found))\n",
    "\n",
    "# get with a default value\n",
    "look_for = 'alder'\n",
    "default = 'SOMETHING. I dunno'\n",
    "found = plant_dict.get(look_for, default)\n",
    "print(fmt_str.format(look_for, found))\n",
    "\n",
    "# get with default None\n",
    "look_for = 'sumak'\n",
    "default = None\n",
    "found = plant_dict.get(look_for, default)\n",
    "if found:\n",
    "    print(fmt_str.format(look_for, found))\n",
    "else:\n",
    "    print(f\"Dude, I'm looking for {look_for}, but I give up ;-)\")"
   ]
  },
  {
   "cell_type": "markdown",
   "id": "618c0546",
   "metadata": {},
   "source": [
    "Keys are Immutable\n",
    "------------------\n",
    "\n",
    "The keys of a **dict** need to be unique and hashable. As a result, one of the requirements of a key is that be immutable[34]. To determine whether a proposed key is hashable, \"under the hood\" the interpreter looks for the **\\_\\_hash\\_\\_** \"magic method\", and uses the hash thus produced for internal bookkeeping. \n",
    "\n",
    "If there's no **\\_\\_hash\\_\\_** method, the proposed key won't qualify. As long as the key meets these requirements, it can be just about anything, though strings and integers are most commonly used."
   ]
  },
  {
   "cell_type": "markdown",
   "id": "01b498d0",
   "metadata": {},
   "source": [
    "Useful Dictionary Methods\n",
    "-------------------------\n",
    "\n",
    "Here's a little more code you can use to \"kick the tires\" on the **dict** object. Note the use of the **update** method of the **dict** object and the top-level **del**[35] method."
   ]
  },
  {
   "cell_type": "code",
   "execution_count": null,
   "id": "777ce2c2",
   "metadata": {},
   "outputs": [],
   "source": [
    "mydict = {}\n",
    "mydict['team'] = 'Cubs'\n",
    "\n",
    "# Another way to add elements us via update.  For input, just about any iterable t\n",
    "#    that's comprised of 2-element iterables will work.\n",
    "mydict.update([('town', 'Chicago'), ('rival', 'Cards')])\n",
    "print(f\"The dict is now:  {mydict}.\\n\")\n",
    "\n",
    "# we can print it out using the items method (it returns a tuple)\n",
    "for key, value in mydict.items():\n",
    "    print(\"The key is {} and value is {}.\".format(key, value))\n",
    "    \n",
    "\n",
    "# and evaluates left to right; this protects from crashes if no 'rival'\n",
    "print(\"Let's get rid of a rival \\n\")\n",
    "if \"rival\" in mydict and mydict['rival'] == 'Cards':\n",
    "    del(mydict['rival'])   #top-level method\n",
    "\n",
    "print(\"By the grace of a top-level function, the Cards are gone.\\n\")\n",
    "print(f\"The dict is now:  {mydict}\")"
   ]
  },
  {
   "cell_type": "markdown",
   "id": "0eb8669f",
   "metadata": {},
   "source": [
    "You can extract the keys and values by the cleverly-named **keys** and **values** methods. These return iterable objects containing the appropriate values.\n",
    "\n",
    "You will notice from the representations of the keys and values that they are their own special objects.  We can easily type-cast them to more usable objects using the constructor for a collection."
   ]
  },
  {
   "cell_type": "code",
   "execution_count": null,
   "id": "755ce14d",
   "metadata": {},
   "outputs": [],
   "source": [
    "the_dict = {\"key\":\"value\", \"A\":2, \"B\":3}\n",
    "\n",
    "keys = the_dict.keys()\n",
    "print(f\"Keys: {keys}\")\n",
    "\n",
    "vals = the_dict.values()\n",
    "print(f\"Values: {vals}\\n\")\n",
    "\n",
    "print(f\"Values as a list object: {list(vals)}\")"
   ]
  },
  {
   "cell_type": "markdown",
   "id": "2d12e959",
   "metadata": {},
   "source": [
    "Another way to remove elements from a **dict** is to use its **pop** and **popitem** methods. These not only remove elements, but return the element removed. \n",
    "\n",
    "Here's how you might employ these methods:"
   ]
  },
  {
   "cell_type": "code",
   "execution_count": null,
   "id": "d30ddbb1",
   "metadata": {},
   "outputs": [],
   "source": [
    "my_dict = {'team': \"Cubs\", \"town\": \"Chicago\", \"rival\": \"Cards\"}\n",
    "print(\"dict is: {}\\n\".format(my_dict))\n",
    "\n",
    "\n",
    "# Use popitem to get some (unknown) item (crashes if empty dict).\n",
    "if my_dict:\n",
    "    key, value = my_dict.popitem()\n",
    "    print(f\"We've removed: {value}.\\n\")\n",
    "    print(f\"The dict is now: {my_dict}.\\n\")\n",
    "\n",
    "# With pop we can pick a key and use a default, just in case.\n",
    "default = None\n",
    "looking_for = 'bad key'\n",
    "key_value_tuple = my_dict.pop(looking_for, default)\n",
    "if key_value_tuple:\n",
    "    print(\"{} is {}\\n.\".format(looking_for, key_value_tuple))\n",
    "else:\n",
    "    print(\"Sorry, no '{}'' here.\".format(looking_for))"
   ]
  },
  {
   "cell_type": "markdown",
   "id": "6844e257",
   "metadata": {},
   "source": [
    "Sorting a Dictionary\n",
    "--------------------\n",
    "A word about dict sequencing.   It's important to note that most 'flavors' of Python have been using an ordered version of dict objects since Version 3.6.   That is the key:value pairs are stored in the order loaded into the dict.   Earlier versions allowed the key:value pairs to shift positions in the interest of efficiency.   If you need your code to run on older versions of Python, you'll want to choose a collections.OrderedDict object instead of the normal dict object.\n",
    "\n",
    "\n",
    "Occasionally, you'll want to sort the contents of a **dict** by keys. This is a snap because they're guaranteed to be unique and have a natural \"sort order.\"  We can accomplish sorting by keys succinctly by applying the top-level **sorted** method (this is not part of the list object).\n",
    "\n",
    "You'll note that the we have chained operations together in the example below.  This is extremely common in Python and is considered a sign of elegant parsimony.   Python begins by solving the inner-most bit of a nested expression then feeds the result to the next-inner-most bit ... and so on.\n",
    "\n",
    "It can be horrible for the new user, so we'll do it one step at a time first:"
   ]
  },
  {
   "cell_type": "code",
   "execution_count": null,
   "id": "2faf7d6e",
   "metadata": {},
   "outputs": [],
   "source": [
    "# The long way:\n",
    "my_dict = {'team': \"Cubs\", \"town\": \"Chicago\", \"rival\": \"Cards\"}\n",
    "keys = my_dict.keys()                           # the dict_key object\n",
    "list_of_keys = list(keys)                       # a list version\n",
    "sorted_list_of_keys = sorted(list_of_keys)    # a sorted version of the list\n",
    "print(sorted_list_of_keys)"
   ]
  },
  {
   "cell_type": "code",
   "execution_count": null,
   "id": "b185d405",
   "metadata": {},
   "outputs": [],
   "source": [
    "# The 'Pythonic' way:\n",
    "print(sorted(list(my_dict.keys())))"
   ]
  },
  {
   "cell_type": "markdown",
   "id": "9376042c",
   "metadata": {},
   "source": [
    "Sorting by values is a little tougher, but here's how you can do it. You need to provide a short routine that returns a value if you give it a key. If you provide it to the **list** object's **sort** method[36], it will use the routine to guide its efforts. We'll get into functions more later. For now, know that the general form is:\n",
    "\n",
    "<function\\_name>():\n",
    "\n",
    "    <indented suite>\n",
    "\n",
    "It can take zero or more arguments and optionally return an object of your choice.\n",
    "\n",
    "The **sort** command by default will sort the elements \"naturally\" – alphabetically if strings and numerically otherwise. You can influence that behavior by giving it something else besides the **list** elements to sort \"naturally\". It could be anything – a random number, word count, the last letter of a word, etc. Things will be sorted by whatever is returned by the sorter routine you write.\n",
    "\n",
    "This is what a \"null sorter\" would look like (it returns exactly what we passed it):"
   ]
  },
  {
   "cell_type": "code",
   "execution_count": null,
   "id": "60bfaa34",
   "metadata": {},
   "outputs": [],
   "source": [
    "def sorter(key):\n",
    "    \"simply returns what's provided i.e., contributes nothing\"\n",
    "    return key"
   ]
  },
  {
   "cell_type": "markdown",
   "id": "359e4902",
   "metadata": {},
   "source": [
    "We can invoke a list object's sort() method to sort the elements of the list.   Behind the scenes, it uses the null sorter to get the job done.    In other words, it uses the natural sort order of the stuff in the list.\n",
    "\n",
    "You can roll your own sorter, if you want.   When you do, Python essentially feeds each element of the list into the routine you provide.  \n",
    "\n",
    "Here's how it works: whatever is returned by the routine gets 'paired up' with each element.  The returned values are things that get sorted - not the original list contents.   When the sort is completed, the returned values go away leaving the list elements in the proper order.\n",
    "\n",
    "Here's an example:"
   ]
  },
  {
   "cell_type": "code",
   "execution_count": null,
   "id": "30892ecd",
   "metadata": {},
   "outputs": [],
   "source": [
    "def sorter(key):\n",
    "    \"Creates a sort using the value associated with a dict key\"\n",
    "    return my_dict[key]\n",
    "\n",
    "my_dict = {'team': \"Cubs\", \"town\": \"Chicago\", \"rival\": \"Cards\"}\n",
    "key_list = list(my_dict.keys())\n",
    "key_list.sort(key = sorter)\n",
    "\n",
    "for key in key_list:\n",
    "    print(key, my_dict[key])\n"
   ]
  },
  {
   "cell_type": "markdown",
   "id": "17dc51ba",
   "metadata": {},
   "source": [
    "Miscellaneous Notes on dict Objects\n",
    "-----------------------------------\n",
    "\n",
    "Many Python applications, such as Pandas, build user-friendly array indices using objects built on dict-like objects.   Essentially, one can specify row and column names in human terms.  The human terms get mapped to pointers and other computer-friendly objects.   In this way dict-like objects form a cognitive bridge between the human and computer worlds.\n",
    "\n",
    "You can use dictionaries to hold elements of sparse arrays by using **tuple**s as keys. Let's say you wanted to model movements of goldfish in a tank. You could account for each cubic centimeter of water and monitor each fish passage in and out – you might use a dense 3-D array for that. Perhaps more efficiently, you could monitor the fish themselves by providing a three-**tuple** to represent the current location of each. \n",
    "\n",
    "This **dict** uses **tuples** for keys:"
   ]
  },
  {
   "cell_type": "code",
   "execution_count": null,
   "id": "ea1e6dfb",
   "metadata": {},
   "outputs": [],
   "source": [
    "array_dict = {(0, 0, 0): 12, (2, 4, 98): 23}\n",
    "array_dict[(2, 4, 98)]"
   ]
  },
  {
   "cell_type": "markdown",
   "id": "bc21afab",
   "metadata": {},
   "source": [
    "Keys can be heterogeneous, as can the values. This is a valid **dict**:"
   ]
  },
  {
   "cell_type": "code",
   "execution_count": null,
   "id": "ddea04ab",
   "metadata": {},
   "outputs": [],
   "source": [
    "hetero_dict = {'a': 1, (1,3,4): \"x\"}\n",
    "hetero_dict"
   ]
  },
  {
   "cell_type": "markdown",
   "id": "fea5ceaa",
   "metadata": {},
   "source": [
    "If a **dict** has a key named \"a\", and you provide a new element who's key is 'a', the original will be replaced.\n"
   ]
  },
  {
   "cell_type": "code",
   "execution_count": null,
   "id": "bc1715f4",
   "metadata": {},
   "outputs": [],
   "source": [
    "new_dict = dict( ( ('a', 3), ('b', 88) ) )\n",
    "print(\"Original:\", new_dict)\n",
    "\n",
    "new_dict['a'] = \"Godzilla!\"\n",
    "print(\"Updated:\",new_dict)"
   ]
  },
  {
   "cell_type": "markdown",
   "id": "35a03c35",
   "metadata": {},
   "source": [
    "Python has an object that will automatically provide a new entry with a default value if someone tries a nonexistent key.  \n",
    "The default dict takes some sort of a \"callable\" object - that's something like a function or method usually, but can be anything that can be accessed like a function.\n",
    "\n",
    "Here's an example:"
   ]
  },
  {
   "cell_type": "code",
   "execution_count": null,
   "id": "56877380",
   "metadata": {
    "scrolled": true
   },
   "outputs": [],
   "source": [
    "from collections import defaultdict\n",
    "\n",
    "# Create a defaultdict and print it\n",
    "dd = defaultdict(int)  # when int is called, it returns 0\n",
    "print(f\"original:  {dd}\\n\")\n",
    "\n",
    "# Add something to it\n",
    "futile_query = dd['aardvark'] \n",
    "\n",
    "print(f\"The query returned: {futile_query}\\n\")\n",
    "print(f\"The dict is now:  \\n{dd}\\n\")"
   ]
  },
  {
   "cell_type": "markdown",
   "id": "9af483e3",
   "metadata": {},
   "source": [
    "As you can see the default dict now has a single entry with the default value of 0.\n",
    "\n",
    "    {'aardvark': 0})"
   ]
  },
  {
   "cell_type": "code",
   "execution_count": null,
   "id": "795f64d2",
   "metadata": {},
   "outputs": [],
   "source": [
    "# Here's a low-budget word counter.  Keys are the words, values increment count for repeats.\n",
    "\n",
    "# Create a defaultdict and print it\n",
    "dd = defaultdict(int)  # when int is called, it returns 0\n",
    "print(f\"original:  {dd}\\n\")\n",
    "\n",
    "for animal in ('dog', 'cat', 'dog', 'zebra', 'dog', 'dog', 'dog', 'cat'):\n",
    "    dd[animal] += 1\n",
    "\n",
    "print(f\"Word counts:\")   \n",
    "for k, v in dd.items():\n",
    "    print(f\"{k:<15} {v:<15}\")\n"
   ]
  },
  {
   "cell_type": "code",
   "execution_count": null,
   "id": "d80c09ec",
   "metadata": {},
   "outputs": [],
   "source": [
    "from datetime import datetime\n",
    "import time\n",
    "\n",
    "# You can \"roll your own\" callable.  This provides a time stamp.\n",
    "\n",
    "\n",
    "def callable_constant_factory(value_if_missing):\n",
    "    # This lambda (anonymous function) returns what to use for a devault value\n",
    "    timestamp = f\"the time is {datetime.now().strftime('%M %H %S %f')}\"\n",
    "    return lambda: f\"{value_if_missing:<5}: {timestamp:<30}\"  # lambda: time.time()\n",
    "\n",
    "\n",
    "# Loads the callable up with the value we want (can be anything)\n",
    "dd = defaultdict(callable_constant_factory(\"hey!\"))\n",
    "\n",
    "# A simple lambda would also work\n",
    "#dd = defaultdict(lambda: \"hey!\")\n",
    "\n",
    "for animal in ('dog', 'cat', 'dog', 'zebra'):\n",
    "    print(\"key: {}, value: {}\".format(animal, dd[animal]))\n",
    "    time.sleep(.01)\n",
    "\n",
    "print(\"\\nkeys:\\n{}\".format(dd.keys()))\n",
    "print()"
   ]
  },
  {
   "cell_type": "code",
   "execution_count": null,
   "id": "85b13ef6",
   "metadata": {},
   "outputs": [],
   "source": [
    "y = lambda x: x+1 \n",
    "y(4)\n",
    "\n"
   ]
  },
  {
   "cell_type": "markdown",
   "id": "01764c8a",
   "metadata": {},
   "source": [
    "## Memory Considerations\n",
    "Adding elements one at a time can be expensive, especially as the **dict** grows. That's because the entire object needs to be copied to a new patch of memory if it grows past its allocated space. It's more efficient to use an *en masse* operation like **update**."
   ]
  },
  {
   "cell_type": "markdown",
   "id": "a2998a25",
   "metadata": {},
   "source": [
    "The set Object and List Comprehension\n",
    "-------------------------------------\n",
    "\n",
    "The **set** object is a mighty useful arrow in your quiver. A **set** is essentially a collection of unique objects. The **set** is another hash object, making retrieval of objects very efficient, even when the **set** is large.\n",
    "\n",
    "The fact that a **set** contains only unique objects makes it great for an automatic de-duplicator. If you try to add an object that already exists, the attempted addition fails silently. \n",
    "\n",
    "Here's a common idiom to de-dup a **list**:"
   ]
  },
  {
   "cell_type": "code",
   "execution_count": null,
   "id": "b93da34b",
   "metadata": {},
   "outputs": [],
   "source": [
    "set([1,1,2,2,2,3,3,4,5])"
   ]
  },
  {
   "cell_type": "markdown",
   "id": "6cd38bb8",
   "metadata": {},
   "source": [
    "Here's a slightly more complicated example, this one using a \"list\n",
    "comprehension\" to create a set of random numbers using the random\n",
    "library.    Here it is, quickly.  \n",
    "\n",
    "Yes, it's horrible the first time you see it (very Pythonic), but we'll explain."
   ]
  },
  {
   "cell_type": "code",
   "execution_count": null,
   "id": "2cbbdbb6",
   "metadata": {},
   "outputs": [],
   "source": [
    "import random\n",
    "values = 1000\n",
    "dedup = set([int(1000*random.random()) for i in range(values)])\n",
    "print(\"we found {} unique values!\".format(len(dedup)))"
   ]
  },
  {
   "cell_type": "code",
   "execution_count": null,
   "id": "3a17c51c",
   "metadata": {},
   "outputs": [],
   "source": [
    "# The long way, using the list append() method."
   ]
  },
  {
   "cell_type": "code",
   "execution_count": null,
   "id": "329e06ce",
   "metadata": {},
   "outputs": [],
   "source": [
    "random_list = []\n",
    "for i in range(values):\n",
    "    rand_num = random.random()\n",
    "    rand_int = int(rand_num * 1000)\n",
    "    random_list.append(rand_int)\n",
    "dedup = set(random_list)"
   ]
  },
  {
   "cell_type": "markdown",
   "id": "e1599b6a",
   "metadata": {},
   "source": [
    "**Sets** have built-in methods for efficiently finding unions and intersections. A union is a **set** of every unique element from both sets combined. An intersection is a **set** of the elements found in both. This code serves to illustrate how you might apply them using the \"**&**\" and \"**\\|**\" operators:"
   ]
  },
  {
   "cell_type": "code",
   "execution_count": null,
   "id": "df3e0bc7",
   "metadata": {},
   "outputs": [],
   "source": [
    "the_set = {\"monkey\", \"gorilla\", \"dog\", \"cat\"}\n",
    "print(\"Set: \", the_set)\n",
    "the_set.add(\"parrot\")\n",
    "print(\"Set: \", the_set)\n",
    "other_set = {\"gorilla\", \"elephant\", \"pig\", \"chicken\"}\n",
    "print(\"Set intersection:\", the_set & other_set)\n",
    "print(\"Set union:\", the_set | other_set)"
   ]
  },
  {
   "cell_type": "markdown",
   "id": "615dc227",
   "metadata": {},
   "source": [
    "Note that although this example uses the \"\\|\" and \"&\" operators with two **set** objects, there's no limit to the number of objects in play. If a, b, and c are all **sets**, you can go a&b&c or a\\|b\\|c."
   ]
  },
  {
   "cell_type": "markdown",
   "id": "f878676f",
   "metadata": {},
   "source": [
    "Named Tuples\n",
    "------------\n",
    "\n",
    "**The namedtuple** object is something of a hybrid between a **tuple** and a **dict**. Each **namedtuple** can be instantiated into your current namespace as a 'normal' **tuple**, but the wrinkle is that you can provide each element an alias (nickname) so you can refer to it easily. It's not part of basic Python so you need to **import** it from the collections library.\n",
    "\n",
    "Here's some code to play with which shows the basic functionality. Note that you can address these objects like dictionaries, but can also use them as **tuples**."
   ]
  },
  {
   "cell_type": "code",
   "execution_count": null,
   "id": "5093594a",
   "metadata": {},
   "outputs": [],
   "source": [
    "\"\"\"An introduction to the namedtuple object\"\"\"\n",
    "from collections import namedtuple\n",
    "\n",
    "#make a tuple with the tag 'Animal'\n",
    "Animal = namedtuple('Animal', ('species', 'name'))\n",
    "\n",
    "#specify this animal by providing the species and name\n",
    "a1 = Animal('gorilla', 'magilla')\n",
    "print(a1)\n",
    "\n",
    "#... and specify another\n",
    "a2 = Animal(species = 'gorilla', name = 'fred')\n",
    "print(a2)\n",
    "\n",
    "#we can call out the specifics using dot notation\n",
    "print(a1.name, a2.name)\n",
    "\n",
    "#... or, split the tuple containing the first animal\n",
    "myspecies, myname = a1\n",
    "print(myspecies, myname)"
   ]
  },
  {
   "cell_type": "markdown",
   "id": "a78433dc",
   "metadata": {},
   "source": [
    "Getting Fancier with the namedtuple Object\n",
    "------------------------------------------\n",
    "\n",
    "Here's a slightly more complicated example – something you might use if you were developing a chess game in Python. We won't elaborate this to completion – but it may be interesting practice. If you do the upgrade, you might look into using Unicode to represent your chess pieces[38] (Python 3 is Unicode-compliant[39]).\n",
    "\n",
    "This code develops a two-dimensional grid using a **list** of **namedtuple** objects. This is a simple way to whistle up a 2-d array-like structure using only basic Python tools.\n",
    "\n",
    "You can see that each of the **namedtuple** objects carries with several properties, nicely bundled, and transparently addressed. In this sense, the objects we're creating here are a bit like the build-in Python objects – they're already endowed with \"out of the box\" capabilities.\n"
   ]
  },
  {
   "cell_type": "code",
   "execution_count": null,
   "id": "712c0f57",
   "metadata": {},
   "outputs": [],
   "source": [
    "from collections import namedtuple\n",
    "\n",
    "Piece = namedtuple('Piece', 'type color position symbol')\n",
    "\n",
    "# a list of lists is a really useful data structure\n",
    "grid = []\n",
    "for r in range(8):\n",
    "    grid.append([None, None, None, None, None, None, None, None])\n",
    "\n",
    "grid[7] = [\n",
    "            Piece(\"Rook\", \"black\", [7, 0], \"R\"),\n",
    "            Piece(\"Knight\", \"black\", [7, 1], \"K\"),\n",
    "            Piece(\"Bishop\", \"black\", [7, 2], \"B\"),\n",
    "            Piece(\"Queen\", \"black\", [7, 3], \"Q\"),\n",
    "            Piece(\"King\", \"black\", [7, 4], \"K\"),\n",
    "            Piece(\"Bishop\", \"black\", [7, 5], \"B\"),\n",
    "            Piece(\"Knight\", \"black\", [7, 6], \"K\"),\n",
    "            Piece(\"Rook\", \"black\", [7, 7], \"R\")\n",
    "            ]\n",
    "\n",
    "grid[6] = []\n",
    "for c in range(8):\n",
    "    p = Piece(\"Pawn\", \"black\", [6, c], \"P\")\n",
    "    grid[6].append(Piece(\"Pawn\", \"black\", [6, c], \"P\"))\n",
    "    \n",
    "for p in grid[7]:\n",
    "    print(p.symbol, end=\"\")\n",
    "print()    \n",
    "for p in grid[6]:\n",
    "    print(p.symbol, end=\"\")"
   ]
  },
  {
   "cell_type": "markdown",
   "id": "d6464476",
   "metadata": {},
   "source": [
    "Copying Sequences\n",
    "-----------------\n",
    "\n",
    "In Python, it's possible to have multiple names associated with the same object. This can be really handy but the convenience comes with a cost: the only way to tell for sure is with the object's **id**. \n",
    "\n",
    "Here are a couple trivial examples that show the potential pitfalls:"
   ]
  },
  {
   "cell_type": "code",
   "execution_count": null,
   "id": "331725c2",
   "metadata": {},
   "outputs": [],
   "source": [
    "one = 1\n",
    "one_prime = 1\n",
    "print(\"one:\", id(one), \"one_prime\", id(one_prime))\n",
    "\n",
    "if id(one) == id(one_prime):\n",
    "    print( \"Same object.\")\n",
    "else:\n",
    "    print(\"Different objects.\")\n"
   ]
  },
  {
   "cell_type": "markdown",
   "id": "0a77a74a",
   "metadata": {},
   "source": [
    "You run into this with collections, too. This code will demonstrate:"
   ]
  },
  {
   "cell_type": "code",
   "execution_count": null,
   "id": "a4b60dee",
   "metadata": {},
   "outputs": [],
   "source": [
    "def test_lists(first, second):\n",
    "    test_result = first == second\n",
    "    print(\"same list, right? {}.\".format(test_result))\n",
    "\n",
    "    if test_result == False:\n",
    "        print(\"first id is {} second id is {}.\"\\\n",
    "        .format(id(first), id(second)))\n",
    "\n",
    "print('Make a list, then create a copy')\n",
    "a_list = [\"Tony\", \"Sally\", \"George\"]\n",
    "b_list = a_list\n",
    "print(a_list, b_list)\n",
    "test_lists(a_list, b_list)\n",
    "\n",
    "#update the first list, but not the second.\n",
    "print(\"\\nAdd someone to the a_list, leaving the b_list alone\")\n",
    "a_list.append(\"Sam\")\n",
    "test_lists(a_list, b_list)\n",
    "\n",
    "print(\"\\nUh, what happened here?\")"
   ]
  },
  {
   "cell_type": "markdown",
   "id": "e40302f3",
   "metadata": {},
   "source": [
    "\"What happened here\" is that we have simply assigned two names to the same object (they have the same **id**).  Then we used one of the names to access, and change, the original object.\n",
    "\n",
    "Having multiple names for the same object is not too weird when you think about it.   The president is called \"the President\", \"POTUS\", \"Commander-in-Chief\" ... then you can read political columns to get even more names :-)   \n",
    "\n",
    "The point is that there can be many synonyms - \"aliases\" or \"names\" for any object because any of them are unique keys tied to the same dict object (that's just how Python keeps track of its namespaces) \n",
    "\n",
    "To get around this, you need to make a \"deep\" (true) copy. Here are some ways to do it:"
   ]
  },
  {
   "cell_type": "code",
   "execution_count": null,
   "id": "24109ab0",
   "metadata": {},
   "outputs": [],
   "source": [
    "new = old[:] #forces the list to iterate over itself\n",
    "new = list(old) #list constructor creates new object\n",
    "new = old.copy() #uses the list object's copy method"
   ]
  },
  {
   "cell_type": "markdown",
   "id": "9619befc",
   "metadata": {},
   "source": [
    "One place this comes up in data science is working with slices of data structures.   Slices are really just aliases to part of an original object, much like a \"view\" into a database table provides access to part of that table.   When working with Numpy and Pandas, a very common way to hack into the relevant data involves creating a slice then manipulating it.  Numpy won't give you a warning, but Pandas will.  Unless you're really sure what you're doing, you will want to pay close attention and avoid the temptation to ignore or disable the warnings."
   ]
  },
  {
   "cell_type": "markdown",
   "id": "5285641f",
   "metadata": {},
   "source": [
    "## Exercise\n",
    "I just hired a new admin and it's not working out so well. I asked her to organize my Cubs player database. It turned out to be a disaster. After she quit, I found two versions of the database. Can you help? \n",
    "\n",
    "One version of the database (stored as a dict) uses the players' weights as the key. \n",
    "\n",
    "I'll spare the details, but it looks like this:"
   ]
  },
  {
   "cell_type": "code",
   "execution_count": null,
   "id": "e86b8ce6",
   "metadata": {},
   "outputs": [],
   "source": [
    "players = { 185:('Tyler', 'Chatwood'),\n",
    "            219:('Luke', 'Farrell'),\n",
    "            190:('Kyle', 'Hendricks')\n",
    "          }"
   ]
  },
  {
   "cell_type": "markdown",
   "id": "e2e82f10",
   "metadata": {},
   "source": [
    "Can you find a way, working only with code and this dictionary, to produce a nicely formatted table that's sorted by the players' last name?\n",
    "The other version was only a little better and organized by last name – sort of. There were lots of duplications caused by bad typing. \n",
    "\n",
    "Here's a bit of it:"
   ]
  },
  {
   "cell_type": "code",
   "execution_count": null,
   "id": "102863dc",
   "metadata": {},
   "outputs": [],
   "source": [
    "players = { 'Hendricks': ('Kyle', 225),\n",
    "            'HeNDricks': ('Kyle', 225),\n",
    "            'Hendrix': ('Kyle', 225) \n",
    "          }"
   ]
  },
  {
   "cell_type": "markdown",
   "id": "5c545037",
   "metadata": {},
   "source": [
    "Can you find a way to clean this version up working with the set object?\n",
    "\n",
    "It's beyond the scope of this class, but just for fun you might look at the code in py_fuzzy_lookup.py. For ways to further refine. It demonstrates a tool that will let you find and score \"fuzzy\" (inexact) matches."
   ]
  },
  {
   "cell_type": "markdown",
   "id": "d8bbf1ff",
   "metadata": {},
   "source": [
    "Functions\n",
    "=========\n",
    "\n",
    "Functions are just bits of code that encapsulate – you guessed it – functionality. We'll explore them in some depth in this chapter.\n",
    "\n",
    "You've already used several of them like **print**, **input**, and **bin**. You've used them with commands like **list.sort** – though, technically when contained within classes, they're called \"methods\". And we've just written a small function to sort **dict** objects by value.  You're already a getting to be a pro. You'll become more so by rolling a few of your own."
   ]
  },
  {
   "cell_type": "markdown",
   "id": "aa70fcab",
   "metadata": {},
   "source": [
    "Scope of Names In a Module\n",
    "--------------------------\n",
    "\n",
    "Here are a couple example functions that each take a single, positional parameter. The first is pretty straightforward, and the second introduces the **global** keyword.\n",
    "\n",
    "In Python (and all languages) there's a notion of \"scope\" – that's the part of the code where a variable is visible. Indentation levels are a good gauge of scope within a module. The objects defined in the first column (setStar function and the variables STAR, Favorites and X) are visible throughout the module and are called \"globals\"[40]. Variables tucked away within a function e.g., title\\_length in section are visible only within that function, normally. These are called \"locals\"[41].\n",
    "\n",
    "If you want to enhance the visibility of the variable and make it global to the module, you can employ the **global** keyword, as is done in SetStar for the variable STAR. Once you do that, you facilitate \"two way communication\" with that STAR object and allow the function to alter the value . If you don't do that, the function can only alter the \"local copy\" of STAR[42]."
   ]
  },
  {
   "cell_type": "code",
   "execution_count": null,
   "id": "1842a79c",
   "metadata": {},
   "outputs": [],
   "source": [
    "# Globals namespace\n",
    "STAR = \"Sirius\" # Polaris\n",
    "Favorites = [ ]\n",
    "X = 100\n",
    "\n",
    "def setStar(name): \n",
    "    \"\"\" Contains a local namespace just for this function.\"\"\"\n",
    "    #global STAR  #<---remove comment to map to global namespace\n",
    "    STAR = name\n",
    "    Favorites.append(name)\n",
    "    print(\"local STAR: \", STAR)\n",
    "    \n",
    "setStar(\"Polaris\")\n",
    "print(\"global STAR: \", STAR)#output"
   ]
  },
  {
   "cell_type": "markdown",
   "id": "0eb60a8f",
   "metadata": {},
   "source": [
    "Passing Information into a Function\n",
    "-----------------------------------\n",
    "\n",
    "You have a tremendous amount of flexibility around how, and whether, to pass information into functions. You can \"roll your own\" from some combination of fixed positional arguments (a contract between you and your function to provide a precise number or arguments); positional \"wildcard\" arguments (0 to a zillion arguments); specific key / value pairs; or \"wildcard\" key / value pairs (0 to a zillion). Here are some examples of the options available to you:\n",
    "\n",
    "The simplest of all functions can be constructed like this:\n",
    "\n"
   ]
  },
  {
   "cell_type": "code",
   "execution_count": null,
   "id": "1e6e6118",
   "metadata": {},
   "outputs": [],
   "source": [
    "def simple():\n",
    "    \"a docstring, or the keyword pass\""
   ]
  },
  {
   "cell_type": "markdown",
   "id": "b53cb4d3",
   "metadata": {},
   "source": [
    "You need the keyword **def**, some name, enclosing parentheses and a colon in the header; a nominal indented suite following. This function takes no arguments and returns **None**. Not so interesting, really, but syntactically-correct. You can upgrade in a variety of ways. If you have only named positional parameters as with this constructor:\n",
    "\n",
    "    def positional_only(input1, input2, input3):\n",
    "\n",
    "Here you promise three inputs – no more and no fewer. Sometimes, though, you really don't know how many bits of information you'll get and want to generalize. Python provides flexibility when the number of arguments is unpredictable. This constructor requires one positional argument then zero or more additional ones:\n",
    "\n",
    "     def positional_plus(input1, more_inputs): \n",
    " \n",
    "The \"\\*\" signals the interpreter to expect a tuple of unknown size, and to create a local name \"more\\_inputs\" tied to a **tuple** object (you don't use the \\* inside the function). The **tuple** will scoop all the additional arguments provided beyond the first one (that's assigned to input1). If only argument is provided the **tuple** will be empty.\n",
    "\n",
    "If you want to use a **dict** as input, you can construct the function\n",
    "like this:\n",
    "\n",
    "    def dict_only(a = None, b = None):\n",
    "\n",
    "This is a handy idiom because objects a and b are always created when the function is called. That makes them optional – neither, either, or both can be used when calling it. Another way to use a **dict** is to use a placeholder for one with a constructor that looks like this:\n",
    "\n",
    "    def dict_placeholder(**input_dict): \n",
    "\n",
    "When you do this, you create a local name \"input\\_dict\" that's tied to the key:value pairs provided when the function is called (you don't use the \\*\\* internally). Let's take a look at a couple more examples."
   ]
  },
  {
   "cell_type": "code",
   "execution_count": null,
   "id": "3bcbdfc0",
   "metadata": {},
   "outputs": [],
   "source": []
  },
  {
   "cell_type": "code",
   "execution_count": null,
   "id": "d3c4d32f",
   "metadata": {},
   "outputs": [],
   "source": [
    "def eats(*foods): # gather positional args in a tuple\n",
    "    print(\"foods: \", foods) # foods is a tuple now\n",
    "    \n",
    "    \n",
    "print(\"Tuple of positional arguments to eats():\")  \n",
    "# open-ended number of positional arguments passed in...\n",
    "eats(\"Spaghetti\", \"Oysters\", \"Chili\", \"Crackers\", \"Rice\")\n",
    "\n",
    "def example(*args, **kwargs): # keyword args dict\n",
    "    \"\"\"\n",
    "    (* ) convert positionals -- tuple\n",
    "    (**) convert keyword args -- dict\n",
    "    \"\"\"\n",
    "    print(\"\\nPositionals:\")\n",
    "    for arg in args: # loop over the tuple\n",
    "        print(arg, sep = \", \", end = \" \")\n",
    "\n",
    "    print(\"\\nKwargs\")\n",
    "    for key, value in kwargs.items(): # ...now the dict\n",
    "        print(\"Arg name:\", key, \"Value: \", value)\n",
    "    \n",
    "# positional + keyword (named) arguments\n",
    "example( 1,2,3,4, on_vacation = True, at_work = False )\n",
    "\n",
    "# same thing using \"exploders\" * and **\n",
    "example( *(1,2,3,4), **dict(on_vacation = False, at_work = True) )"
   ]
  },
  {
   "cell_type": "markdown",
   "id": "1ba0e26b",
   "metadata": {},
   "source": [
    "As you can see, you've got plenty of options here. This being said, there are a couple of constraints. The order is important – the positional arguments need to come first, then the **tuple** of arbitrary size, then the dictionary. As soon as the interpreter hits the **tuple** argument, it's game over for positional arguments. As soon as it hits the dictionary, it's game over for both positional arguments and **tuples**."
   ]
  },
  {
   "cell_type": "markdown",
   "id": "08a91a8a",
   "metadata": {},
   "source": [
    "Returning Information From a Function\n",
    "-------------------------------------\n",
    "\n",
    "A function does not have to return anything. If it does return something, you don't have to give the returned value a name or otherwise use it. "
   ]
  },
  {
   "cell_type": "markdown",
   "id": "5dbd6e71",
   "metadata": {},
   "source": [
    "Personally, I think it's a good idea to return something – even if it's just the number 1 to show \"Yup, I executed\" or a -1 to show \"Uh, there was a problem.\" But it's up to you – without instructions in this regard a function returns the **None** object.\n",
    "\n",
    "Finally, in Python you can only return one object. This isn't necessarily an issue because the object can be as complex as it needs to be to fully \"pass the baton\" to the next routine. The **dict** is my \"go to\" object for complex returns – mostly because it can be as complex as it needs to and, properly done, completely self-documenting."
   ]
  },
  {
   "cell_type": "markdown",
   "id": "80ad66a2",
   "metadata": {},
   "source": [
    "First Class Objects\n",
    "-------------------\n",
    "\n",
    "Functions are known as \"first class objects\" because they can be used just as classes and other top-level objects in Python. For instance, they can be passed as arguments to other functions without issue[44].  This is really powerful because you can separate responsibilities cleanly between separate, isolated bits of code. As a result, different teams can work on the individual functions and atomic tests can be written against the capabilities promised by each function. All this makes a \"divide and conquer\" approach to development a snap and – perhaps more importantly – can keep code easy to maintain as requirements change.\n",
    "\n",
    "Here's how you might use functions' \"first class\" status Python to take a foray into functional programming. For this example, imagine we have the \"F team\" in Florida and that it's never met the \"G team\" in Georgia.  Each has been working 24/7 on its task, has written tests, and otherwise has things dialed in. F has perfected the art of doubling a value and G has nailed adding 2 to a value.\n",
    "\n",
    "As consumers of these efforts, we can \"stand on the shoulders of giants\" and repurpose / combine the efforts into our own project. \n",
    "\n",
    "Here's an example:"
   ]
  },
  {
   "cell_type": "code",
   "execution_count": null,
   "id": "288ea827",
   "metadata": {},
   "outputs": [],
   "source": [
    "def compose(g, f):\n",
    "    \"\"\"Take two functions as inputs and return a\n",
    "    function that's their composition\"\"\"\n",
    "    \n",
    "    def newfunc(x):\n",
    "        return g(f(x))\n",
    "    \n",
    "    return newfunc\n",
    "        \n",
    "def G(n):\n",
    "    return n + 2\n",
    "    # input function\n",
    "    \n",
    "def F(n):\n",
    "    return n * 2\n",
    "\n",
    "# compare:\n",
    "H = compose(G, F) # build a 3rd function from 1 &amp; 2\n",
    "\n",
    "#print(\"G(F(x)):\", H(100)) # G(F(x))\n",
    "\n",
    "# ... now with\n",
    "#H = compose(F, G)\n",
    "#print(\"F(G(x)):\", H(100)) # F(G(x))"
   ]
  },
  {
   "cell_type": "markdown",
   "id": "1eff929d",
   "metadata": {},
   "source": [
    "## Inner Functions\n",
    "\n",
    "It's possible for a function to contain other functions called \"inner functions.\" In this case, not only is there an inner function, but that's what gets returned. The object that gets returned is \"loaded for bear\", retaining the information originally passed into **addLetters**."
   ]
  },
  {
   "cell_type": "code",
   "execution_count": null,
   "id": "079af2d1",
   "metadata": {},
   "outputs": [],
   "source": [
    "def addLetter(letters):  # -- pass in a string\n",
    "    \"\"\"\n",
    "    A function factory builds and returns function objects.\n",
    "    L is a function that will add whatever letters are passed\n",
    "    in to be the ending letters.\n",
    "    \"\"\"\n",
    "    def L(s):\n",
    "        return s + letters\n",
    "    return L\n",
    "\n",
    "\n",
    "# These are functions (versions of the inner\n",
    "#    function L() returned from addLetters()\n",
    "add_s = addLetter(\"s\")\n",
    "add_ed = addLetter(\"ed\")\n",
    "\n",
    "# Then we can execute these functions like any others\n",
    "print(add_s('Unhinged rant.'))\n",
    "print(add_ed('In an unhinged fashion rant'.))"
   ]
  },
  {
   "cell_type": "markdown",
   "id": "1ba98ef6",
   "metadata": {},
   "source": [
    "Closures\n",
    "--------\n",
    "\n",
    "A closure is an inner function with a memory. Let's say that you have on good authority that the meaning of life is 42. You want to stash that pearl of insight away and be prepared to tweak it as life gets more interesting and the universe evolves.\n",
    "\n",
    "You might want to create a Python function to which you can provide the original value. Then you might ask the main function to return another function that accepts your changes. \n",
    "\n",
    "Here's how you might do it:"
   ]
  },
  {
   "cell_type": "code",
   "execution_count": null,
   "id": "436d7a9f",
   "metadata": {},
   "outputs": [],
   "source": [
    "def outer_space(outer_input):\n",
    "    \"outer-most function\"\n",
    "    last_answer=outer_input\n",
    "    def inner_space(inner_input):\n",
    "        \"inner-most function\"\n",
    "        nonlocal last_answer\n",
    "        last_answer += inner_input\n",
    "        return last_answer\n",
    "    return inner_space\n",
    "\n",
    "MEANING_OF_LIFE=41\n",
    "original = outer_space(MEANING_OF_LIFE)\n",
    "print(\"The original meaning of life is {}\".format(original(0)))\n",
    "\n",
    "tweak=3\n",
    "new_meaning = original(tweak)\n",
    "print(\"But now we think it's a bit more: {}\".format(new_meaning))\n",
    "\n",
    "next_new_meaning = original(tweak)\n",
    "print(\"... and now: {}\".format(next_new_meaning))"
   ]
  },
  {
   "cell_type": "markdown",
   "id": "b157851e",
   "metadata": {},
   "source": [
    "As you can see, the inner function retained some \"institutional memory\", encapsulated it, and made itself available for further interaction.\n",
    "\n",
    "The **nonlocal** keyword, introduced here, acts to make a variable in an inner function available to the outer one. This is precisely the relationship that the **global** keyword in the outer function has with the containing module."
   ]
  },
  {
   "cell_type": "markdown",
   "id": "85e632eb",
   "metadata": {},
   "source": [
    " Python's Take on Map, Reduce and Filter\n",
    "---------------------------------------\n",
    "\n",
    "Python has some limited built-in capability to handle map/reduce operations. It can easily perform the same sort of analysis possible with big data analytical tools like Hadoop, but just not at the same scale. (Hadoop has its own way to manage workload and file systems – that's where its real magic lies).\n",
    "\n",
    "In a nutshell, a map operation is one that iterates through a bunch of objects and does the same thing to each one. A reduce operation sifts through the mapped objects and filters out the \"good stuff.\" Generally speaking, the **map** function is run once then sifted through multiple times by different reducers.\n",
    "\n",
    "To implement mapping in python, we can use the **map** function. Its syntax is straightforward:\n",
    "\n",
    "mapped\\_data = map (\\<processing\\_function\\>, \\<iterable\\>)\n",
    "\n",
    "To filter data, we can call upon the **filter** function. It works pretty much like map, but the processing filter passed judgment on each element of the iterable objects by evaluating it **True** or **False**.  The result is another iterable of only those that have been deemed **True**. The syntax is identical to that of **map**:\n",
    "\n",
    "filtered\\_data = filter(\\<processing\\_function\\>, \\<iterable\\>)\n",
    "\n",
    "Here's an example of how you might use **map** and **filter** to find even sums of integers provided as **tuples**. These methods are interesting because they each take two arguments: incoming data and the name of the routine to process the data. Each returns a generator-like object. This means they don't process all the data at once. Instead, they proceed one step at a time through their task, then only when requested. This sort of \"lazy execution\" makes handling of even large data sets possible because only the bits of it that are being processed need be in the memory.\n",
    "\n",
    "Python also has a **reduce** method – it works pretty much like **map**, except the operations defined in the function are applied cumulatively.  Note that it's implemented using a **lambda** expression[45] (an anonymous \"one liner\" function that can be used in place of a standard function)."
   ]
  },
  {
   "cell_type": "code",
   "execution_count": null,
   "id": "15ee89d5",
   "metadata": {},
   "outputs": [],
   "source": [
    "from functools import reduce\n",
    "\n",
    "\n",
    "def add_numbers(things_to_add):\n",
    "    \"adds two numbers\"\n",
    "    first, second = things_to_add\n",
    "    return first + second\n",
    "\n",
    "\n",
    "def find_evens(thing_to_evaluate):\n",
    "    \"returns True if even\"\n",
    "    return not thing_to_evaluate % 2  # True if 0, False otherwise\n",
    "\n",
    "\n",
    "integers = [(2, 2), (4, 4), (5, 6), (7, 8)]\n",
    "\n",
    "mapped_data = map(add_numbers, integers)\n",
    "filtered_results = filter(find_evens, mapped_data)\n",
    "print(\"The even sums are {}\".format(list(filtered_results)))\n",
    "\n",
    "cumulative_mult = reduce(lambda x, y: x*y, [1, 2, 3, 4, 5])\n",
    "print(\"reduce returned: {}\".format(cumulative_mult))"
   ]
  },
  {
   "cell_type": "markdown",
   "id": "db59ed92",
   "metadata": {},
   "source": [
    "Function Dispatch\n",
    "-----------------\n",
    "\n",
    "Until Python 3.10, Python didn't have a statement like **case** or **switch**.   One day, you'll be able to switch to 3.10 for all your data science needs, but until the main distros (Anaconda, etc.) and the underlying data science building blocks are all updated you will likely be using an earlier version of Python.\n",
    "\n",
    "For better or worse. However, there are other ways to get the same functionality.  We've already seen that a complex **if** .. **elif** .. **else** structure can accommodate this. However, this can get unwieldy and hard to maintain.\n",
    "\n",
    "An alternative, and potentially more robust, approach involves mapping functions to a dictionary, which is then used to dispatch the function.  The following example shows how you might implement such a beast and, for good measure, introduces the **random.choice** method.\n",
    "\n",
    "As you review the code, imagine how much easier it would be to maintain than strictly branching logic. Let's say your client suddenly asked you to add a new capability – **str**.**title** how could you add it while minimally touching the existing code[46]?\n"
   ]
  },
  {
   "cell_type": "code",
   "execution_count": null,
   "id": "bd77d0c5",
   "metadata": {},
   "outputs": [],
   "source": [
    "#py_function_7.py\n",
    "from random import choice\n",
    "def f_upper():\n",
    "    return str.upper\n",
    "def f_lower():\n",
    "    return str.lower\n",
    "def f_swap():\n",
    "    return str.swapcase\n",
    "\n",
    "# Use a dict object to match names (like 'up') to one of your functions\n",
    "function_mapper={'up': f_upper, 'lower': f_lower, 'swap': f_swap}\n",
    "choices = list(function_mapper.keys())\n",
    "\n",
    "my_string='Lions and Tigers and Bears, Oh MY!'\n",
    "for i in range(3):\n",
    "    mychoice=choice(choices)\n",
    "    print(function_mapper[mychoice]()(my_string))"
   ]
  },
  {
   "cell_type": "markdown",
   "id": "14f4985c",
   "metadata": {},
   "source": [
    "The **random**.**choice** method is a convenient way to make a (pseudo) random choice from a collection of options.\n",
    "\n",
    "The **print** is a bit of a mouthful, so let's break it down.\n",
    "\n",
    "Note that most of what we're doing is passing around the name of a function, like **f\\_upper** or **str.upper** without actually executing it. This allows fairly succinct code because we can chain operations together in a single line. Is the virtue of being compact outweighed by the vice of being tough to decipher?\n"
   ]
  },
  {
   "cell_type": "code",
   "execution_count": null,
   "id": "e7f0ad25",
   "metadata": {},
   "outputs": [],
   "source": [
    "mychoice = 'up'  # Just to force a choice\n",
    "\n",
    "print(f\" mychoice: {mychoice}\")\n",
    "print()\n",
    "\n",
    "\n",
    "# String version of the command then the  output.\n",
    "print(\"function_mapper['up']\")\n",
    "print(function_mapper['up'])  \n",
    "print()\n",
    "\n",
    "print(\"function_mapper['up']()\")\n",
    "print(function_mapper['up']() )  # the () is the execution operator.  f_upper returns a function.\n",
    "print()\n",
    "\n",
    "print(\"function_mapper['up']() (my_string)\")\n",
    "print(function_mapper['up']() (my_string) )  # this feeds mystring to the function\n",
    " \n"
   ]
  },
  {
   "cell_type": "markdown",
   "id": "6f0921ec",
   "metadata": {},
   "source": [
    "## Exercise\n",
    "\n",
    "Awesome job so far, folks! This has been a long session, but functions (and methods in classes) are one of the most important building blocks of any serious programming effort. Let's try out your new skills on a couple of problems.\n",
    "\n",
    "Python's built-in title casing routine has much to be desired. Check this out:"
   ]
  },
  {
   "cell_type": "code",
   "execution_count": null,
   "id": "8317ae65",
   "metadata": {},
   "outputs": [],
   "source": [
    "lst = [ \"shot in the dark\",\n",
    "        \"guido van rossum\",\n",
    "        \"monty python's life of brian\"\n",
    "      ]\n",
    "for item in lst:\n",
    "    print(item.title())"
   ]
  },
  {
   "cell_type": "markdown",
   "id": "40d3cf5f",
   "metadata": {},
   "source": [
    "In the first instance, a really short word got capitalized. The second will drive much European nobility mad because \"von\" and \"van\" are generally lower case. And the first letter after an apostrophe is almost never capitalized.\n",
    "\n",
    "Please see if you can write a function to address these issues – I'm sure you can do better than str.title! W\n",
    "\n",
    "While you're about it, see you can break the task down into small, atomic bits. That'll make it easier to test and maintain. You might use a series of functions something like:\n",
    "\n",
    "    process_list() \n",
    "        process_title() \n",
    "        process_word() \n",
    "            process_apostrophe()\n",
    "            process_royalty()\n",
    "\n",
    "Feel free to grab code from solution _python_1_chapter05_starter_code.py if you'd like. Many of the mechanics have been worked out, but it would benefit from reorganization."
   ]
  },
  {
   "cell_type": "markdown",
   "id": "7e031c72",
   "metadata": {},
   "source": [
    "Modules and Libraries\n",
    "=====================\n",
    "\n",
    "Python has several built-in object types that provide a versatile and \"off the shelf\" collection of tools for handing information you'll encounter in real-world situations. This chapter discusses and demonstrates a few of the libraries (modules) that you can **import** into your code. We'll look at just how you can access these libraries while managing how they work and play with the applications you are developing."
   ]
  },
  {
   "cell_type": "markdown",
   "id": "47d4f232",
   "metadata": {},
   "source": [
    "Importing Libraries\n",
    "-------------------\n",
    "\n",
    "As you've seen, the way to access libraries to extend Python's core capabilities is to **import** them into your program's namespace. Here are some examples:"
   ]
  },
  {
   "cell_type": "code",
   "execution_count": null,
   "id": "d8d2ea7d",
   "metadata": {},
   "outputs": [],
   "source": [
    "import time\n",
    "from decimal import Decimal, getcontext\n",
    "from fractions import Fraction as Q # rational number\n",
    "from datetime import datetime, timezone\n",
    "from collections import namedtuple"
   ]
  },
  {
   "cell_type": "markdown",
   "id": "4ecc1fbe",
   "metadata": {},
   "source": [
    " Basic Use of import\n",
    "-------------------\n",
    "\n",
    "If you examine these commands carefully, you'll note several variants.  The first example adds the module **time** into your code. We can use the **dir** keyword to capture the namespace. If used without arguments, it grabs the global namespace; with an argument, it reports on the namespace of the object presented in the argument.\n",
    "\n",
    "Here, we show the results from executing the **dir** command against a fresh Python shell in a command line interpreter interface.   The results will be the same in a Jupyter notebook, except there will be some extra Jupyter-specific entries.\n",
    "\n",
    "Initially we have a very parsimonious global namespace:\n",
    "\n",
    "    dir()\n",
    "    ['__builtins__', '__doc__', '__loader__', '__name__', '__package__']\n",
    "\n",
    "When we use the **import** keyword to bring in an extra module, the name of that module is added to our namespace:\n",
    "\n",
    "    import time\n",
    "    dir()\n",
    "    ['__builtins__', '__doc__', '__loader__', '__name__', '__package__', 'time']\n",
    "    \n",
    "When Python first opens, it has access to the global namespace and everything in the '__builtins__' module (that's automatically imported).    If we take a quick look at the contents of __builtins__, we'll see keywords at the bottom.  These include the variable types we've seen to date. At the top we'll see mostly exceptions (errors and warnings) along with a few more keywords like True, False, and None."
   ]
  },
  {
   "cell_type": "code",
   "execution_count": null,
   "id": "71770778",
   "metadata": {},
   "outputs": [],
   "source": [
    "\", \".join(dir (__builtins__))"
   ]
  },
  {
   "cell_type": "markdown",
   "id": "13527230",
   "metadata": {},
   "source": [
    "The act of importing the new module doesn't directly bring all the elements of the **time** module's namespace into your module – you only have access to **time**. The **time** module, however, has its own namespace. \n",
    "\n",
    "So what is a \"namespace\", anyway?   You can think of it as a dict object.   The names are the keys and the values represent the executable code associated with the names.    If you invoke a command like **dir**, Python accesses a dictionary, finds the associated code and executes it.    The act of importing a module is actually very light weight - all you're really doing is updating the master dictionary used by your program with pointers to other resources.\n",
    "\n",
    "You can take a look at the namespace of the **time** module by using the **dir** function with **time** as the argument."
   ]
  },
  {
   "cell_type": "code",
   "execution_count": null,
   "id": "a10a64b4",
   "metadata": {},
   "outputs": [],
   "source": [
    "\", \".join(dir (time))"
   ]
  },
  {
   "cell_type": "markdown",
   "id": "6257c775",
   "metadata": {},
   "source": [
    "Dot Notation \n",
    "------------\n",
    "\n",
    "While it's isolated from that of your own namespace, you can still access the new elements. You can do this by using \"dot notation.\"    Here, we access an attribute called 'timezone':"
   ]
  },
  {
   "cell_type": "code",
   "execution_count": null,
   "id": "6b2f6bc0",
   "metadata": {},
   "outputs": [],
   "source": [
    "time.timezone"
   ]
  },
  {
   "cell_type": "markdown",
   "id": "0a1343c0",
   "metadata": {},
   "source": [
    "Here we'll access the method called 'time' within the time namespace.   We can do that because the first \"time\" refers to an object available to our global namespace; and the second \"time\" refers to an object within the module's namespace. \n",
    "\n",
    "Because time.time is a method we see only the text representation of the object ... that is until we execute using the () operator."
   ]
  },
  {
   "cell_type": "code",
   "execution_count": null,
   "id": "c2039504",
   "metadata": {},
   "outputs": [],
   "source": [
    "time.time"
   ]
  },
  {
   "cell_type": "code",
   "execution_count": null,
   "id": "af43ac72",
   "metadata": {},
   "outputs": [],
   "source": [
    "time.time()"
   ]
  },
  {
   "cell_type": "markdown",
   "id": "b7c89b0e",
   "metadata": {},
   "source": [
    "The \"dot\" delimits namespaces, which may be configured hierarchically, and allows your code to be specific in terms of exactly which object it addresses. In the code above, you'll see that within the **time** module there is a built in function of the same name. This creates no conflict for our own module because only the name of the newly-imported module is visible.\n",
    "\n",
    "Because of this separation it is completely safe to import several different modules without being concerned about whether object names from one can \"overwrite\" those of another.\n",
    "\n",
    "It's also possible to reach into an external module and import only the bits we want into our local namespace. Observe the effects of importing the **Decimal** class and the **getcontext** function. After the **import**, we now can access to the external objects on a \"first name\" basis."
   ]
  },
  {
   "cell_type": "code",
   "execution_count": null,
   "id": "891c3aba",
   "metadata": {},
   "outputs": [],
   "source": [
    "from decimal import Decimal, getcontext\n",
    "Decimal"
   ]
  },
  {
   "cell_type": "code",
   "execution_count": null,
   "id": "10d3c2c5",
   "metadata": {},
   "outputs": [],
   "source": [
    "getcontext"
   ]
  },
  {
   "cell_type": "markdown",
   "id": "fac0a209",
   "metadata": {},
   "source": [
    " Renaming Object When Importing\n",
    "------------------------------\n",
    "\n",
    "A slight variant of this is to choose a name for the imported object that suits your purpose. Python is agnostic relative to the name you choose, within its basic rules.  \n",
    "\n",
    "Here, we import the Fraction object from the fractions library.   We import it again, giving it the name \"Q\".   Essentially, we've created two entries to our main namespace dict for the same object.   We can access it by either \"Q\" or \"Fraction\"."
   ]
  },
  {
   "cell_type": "code",
   "execution_count": null,
   "id": "a9559f1d",
   "metadata": {},
   "outputs": [],
   "source": [
    "from fractions import Fraction\n",
    "from fractions import Fraction as Q"
   ]
  },
  {
   "cell_type": "code",
   "execution_count": null,
   "id": "5bae9242",
   "metadata": {},
   "outputs": [],
   "source": [
    "same_object = id(Fraction) == id(Q)\n",
    "if same_object:\n",
    "    print(f\"Fraction and Q are aliases to the object at {id(Q)}.\")"
   ]
  },
  {
   "cell_type": "markdown",
   "id": "425ebb57",
   "metadata": {},
   "source": [
    "\n",
    "It might make sense to import an object by a specific name to avoid a namespace collision, or to follow a conventions adapted by your teammates. For instance, it's typical to use **numpy**, **pandas**, and **seaborn** by going:"
   ]
  },
  {
   "cell_type": "code",
   "execution_count": null,
   "id": "0052f54e",
   "metadata": {},
   "outputs": [],
   "source": [
    "import numpy as np\n",
    "import pandas as pd\n",
    "import seaborn as sns"
   ]
  },
  {
   "cell_type": "markdown",
   "id": "7bdfd318",
   "metadata": {},
   "source": [
    "This is done mostly for brevity. It's much easier to type \"np\" than \"numpy\" - especially if you have to do it thousands of times.\n",
    "\n",
    "Avoid renaming imported objects unless you've got a good reason to do so because it could confuse your team. For instance, you can do one or both of these:"
   ]
  },
  {
   "cell_type": "code",
   "execution_count": null,
   "id": "58d6b85d",
   "metadata": {},
   "outputs": [],
   "source": [
    "import string\n",
    "string.ascii_uppercase\n",
    "'ABCDEFGHIJKLMNOPQRSTUVWXYZ'"
   ]
  },
  {
   "cell_type": "code",
   "execution_count": null,
   "id": "ed1d1567",
   "metadata": {},
   "outputs": [],
   "source": [
    "import string as elephant\n",
    "elephant.ascii_uppercase\n",
    "'ABCDEFGHIJKLMNOPQRSTUVWXYZ'"
   ]
  },
  {
   "cell_type": "markdown",
   "id": "00ff09cd",
   "metadata": {},
   "source": [
    "… however, if you did the latter you could sow much confusion."
   ]
  },
  {
   "cell_type": "markdown",
   "id": "0b6989ae",
   "metadata": {},
   "source": [
    "Also, while it's possible to import the entire namespace of a library into your code, you typically don't want to do so. In this example we import the entire **string** module's namespace using \"star notation\":"
   ]
  },
  {
   "cell_type": "code",
   "execution_count": null,
   "id": "572f73d1",
   "metadata": {},
   "outputs": [],
   "source": [
    "import string\n",
    "from string import *\n",
    "\n",
    "# Namespace of string\n",
    "string_module_namespace = \", \".join(dir(string))\n",
    "print(f\"The namespace of the string library is: \\n\\n{string_module_namespace}\\n\")\n",
    "\n",
    "# ID of string.digits versus digits\n",
    "same_object = id(string.digits)==id(digits)\n",
    "if same_object:\n",
    "    print(\"The string.digits from the string module namespace is the same object as digits in the global one,\")\n",
    "    print(f\"known under the hood as {id(digits)}\")"
   ]
  },
  {
   "cell_type": "code",
   "execution_count": null,
   "id": "bfb64184",
   "metadata": {},
   "outputs": [],
   "source": [
    "\", \".join(dir(string))"
   ]
  },
  {
   "cell_type": "markdown",
   "id": "80d8ae00",
   "metadata": {},
   "source": [
    "While this might be manageable, what if you were already using a variable called \"digits\"?"
   ]
  },
  {
   "cell_type": "code",
   "execution_count": null,
   "id": "9f5242d4",
   "metadata": {},
   "outputs": [],
   "source": [
    "digits = ['thumb', 'pointer', 'middle', 'ring', 'pinky']\n",
    "digits"
   ]
  },
  {
   "cell_type": "code",
   "execution_count": null,
   "id": "0d480ad5",
   "metadata": {},
   "outputs": [],
   "source": [
    "from string import *\n",
    "digits"
   ]
  },
  {
   "cell_type": "markdown",
   "id": "be40f075",
   "metadata": {},
   "source": [
    "That's trouble, right?    The message is that you want to be a bit cautious.  It's certainly easier to type in a single name like 'digits', but sometimes a more verbose name is actually better.  For instance, anyone reading the code will recognize 'string.digits' for what it is - it's got provenance, after all.   Transparency matters.\n",
    "\n",
    "Sometimes it makes sense to use \"star notation\" when you're importing only one outside library and using its tools exclusively. This is often the case when you are working with GUIs because all the components you need are included in the imported module – there almost no chance of namespace collisions, even when you're part of a collaborative effort."
   ]
  },
  {
   "cell_type": "markdown",
   "id": "32b4deaa",
   "metadata": {},
   "source": [
    "File System Based Namespaces\n",
    "----------------------------\n",
    "\n",
    "Python has the ability to use the file system to create namespaces for modules and it works just like what we've seen for ordinary objects.  Building packages is beyond the scope of this course, but for now know that you can have a directory structure like:\n",
    "\n",
    "    main_application\n",
    "        __init__.py\n",
    "\n",
    "    subdir_1\n",
    "        __init__.py\n",
    "        module.py\n",
    "\n",
    "    subdir_2\n",
    "        __init__.py\n",
    "        module.py\n",
    "\n",
    "If main\\_application can be discovered by your app, then you can go:\n",
    "\n",
    "    from main_application import subdir_1, subdir_2\n",
    "\n",
    "… which gives you access to subdir\\_1.module and subdir\\_2.module. The two identically-named module names are each tucked in behind their directory name and will not present namespace conflicts in your app.\n",
    "\n",
    "On a related note, what makes main\\_application discoverable by Python?  When you import a module, Python looks at the contents of **sys.path** – an ordered list of all the directories on its search path. It's comprised of normal, default locations and whatever might be in your PYTHONPATH environment variable. \n",
    "\n",
    "The element, and the first place the interpreter looks, is in your current working directory. What this means – and this has caught many an unwary programmer – is that if you name your module the same as a system package, then when you try to import a Python module you will get your own instead. Then you will go insane trying to figure out why your imported module doesn't work as expected.\n",
    "\n",
    "As a result, you'll want to be a little careful about choosing names. If you're considering 'string.py', for instance, you might first want to attempt to **import** **string**. If the operation succeeds, 'string.py' is already taken, if your get an **ImportError** then you're safe. \n",
    "\n",
    "Bear in mind that installation of new packages or editing the PYTHONPATH can change things.\n",
    "\n",
    "As you'll see, the libraries available in Python's standard library and general ecosystem provide highly-leveraged ways to extend the already-powerful capabilities. "
   ]
  },
  {
   "cell_type": "markdown",
   "id": "1621643d",
   "metadata": {},
   "source": [
    "Time-related Objects: time, datetime, and calendar\n",
    "--------------------------------------------------\n",
    "\n",
    "Since we're on the topic of using imported libraries, let's take a look at Python's three principle libraries providing dealing with time. Each has its own strengths, weaknesses and capabilities. We'll go through some of the capabilities of each here.\n",
    "\n",
    "Before we jump in, there are some things to be aware of:\n",
    "\n",
    "-   Computers \"think\" of time in terms of the elapsed seconds since an\n",
    "    agreed-upon point in time called an \"epoch.\" For most POSIX\n",
    "    (Linux-like) systems, the epoch began on January 1, 1970. For\n",
    "    Windows, it's January 1, 1601[47]. Typically, this won't matter\n",
    "    because Python is OS-agnostic.\n",
    "\n",
    "\n",
    "-   Since different parts of the world are in different time zones, we\n",
    "    often think of what time it is in Greenwich (London), England. This\n",
    "    is known by various names such as GMT, UTC and Zulu.\n",
    "\n",
    "\n",
    "-   However, your computer (or AWS slice, or server) may \"think\" in\n",
    "    local time. Local time is a little weird. Time zones can shift\n",
    "    because of local decisions. Daylight savings time can vary\n",
    "    county-by-county, and state-by-state. \"Summer time\" in Europe and\n",
    "    elsewhere doesn't necessarily synch with U.S. daylight savings time.\n",
    "    UTC is reliable.\n",
    "\n",
    "\n",
    "-   There are two \"flavors\" of elapsed time available. One is told by\n",
    "    the clock on your wall – it's an objective measure of the time you\n",
    "    experience. The other is the elapsed time the CPU works on your\n",
    "    program. You'll want to be sure of which you're using when it's\n",
    "    material (such as when your application is running on a busy machine\n",
    "    the clock time isn't a great measure of how efficient your program\n",
    "    is."
   ]
  },
  {
   "cell_type": "markdown",
   "id": "70733ce0",
   "metadata": {},
   "source": [
    "Time Objects\n",
    "------------\n",
    "\n",
    "Here are a few lines of code that use some of the basic functionality of time. This code grabs both the clock time and CPU time and demonstrates use of the **sleep** method. You'll note that these are reported to different levels of precision and produce slightly different results. \n",
    "\n",
    "**time**.**process_time** reports how long this script has been running while **time**.**time** reports the number of seconds that have elapsed since the dawn of time."
   ]
  },
  {
   "cell_type": "code",
   "execution_count": null,
   "id": "298bb997",
   "metadata": {},
   "outputs": [],
   "source": [
    "import time\n",
    "print(time.process_time(), time.time())\n",
    "time.sleep(1) #seconds\n",
    "print(time.process_time(), time.time())"
   ]
  },
  {
   "cell_type": "markdown",
   "id": "bde86299",
   "metadata": {},
   "source": [
    " Datetime Objects\n",
    "----------------\n",
    "\n",
    "For most purposes, you'll be working with **datetime** objects provided from the library of the same name. A **datetime** object is a fairly easy-to-read tuple-like structure, and it's straightforward to extract information.  \n",
    "\n",
    "The Datatime object is everywhere in computing, but you should be aware that the implementation can vary slightly, even among Python modules.\n",
    "\n",
    "Here's an example of how you can use datetime:"
   ]
  },
  {
   "cell_type": "code",
   "execution_count": null,
   "id": "60e62d4b",
   "metadata": {},
   "outputs": [],
   "source": [
    "from datetime import datetime\n",
    "d = datetime.now()\n",
    "print(d)\n",
    "print(\"the hour is: {}.\".format(d.hour))\n",
    "print(\"the year is: {}.\".format(d.year))"
   ]
  },
  {
   "cell_type": "code",
   "execution_count": null,
   "id": "736d43cb",
   "metadata": {},
   "outputs": [],
   "source": [
    "from datetime import datetime, timezone\n",
    "now_here = datetime.now()\n",
    "print(\"Now, this timezone: \", now_here)"
   ]
  },
  {
   "cell_type": "code",
   "execution_count": null,
   "id": "2bc4de13",
   "metadata": {},
   "outputs": [],
   "source": [
    "# Datetime is timezone-aware\n",
    "now_uk = datetime.now(timezone.utc)\n",
    "print(\"Now, in England: \", now_uk)\n",
    "the_date = now_uk"
   ]
  },
  {
   "cell_type": "code",
   "execution_count": null,
   "id": "959ba0eb",
   "metadata": {},
   "outputs": [],
   "source": [
    "# Dates can be used in a \"mathy\" sense\n",
    "print(\"Days since 01-01-0001: \", the_date.toordinal())\n",
    "epoch = datetime(1970,1,1, tzinfo = timezone.utc)"
   ]
  },
  {
   "cell_type": "code",
   "execution_count": null,
   "id": "c71a3af3",
   "metadata": {},
   "outputs": [],
   "source": [
    "print(\"01/01/1970 timestamp : \", epoch.timestamp())\n",
    "print(\"Now in English timestamp: \", now_uk.timestamp())"
   ]
  },
  {
   "cell_type": "code",
   "execution_count": null,
   "id": "4c8fb031",
   "metadata": {},
   "outputs": [],
   "source": [
    "delta = now_uk - epoch\n",
    "print(\"Time delta in seconds: \", delta.total_seconds())"
   ]
  },
  {
   "cell_type": "markdown",
   "id": "4657c7a8",
   "metadata": {},
   "source": [
    "For all its charms, **datetime** produces fairly ugly output, left to its own devices. Fortunately, there's an easy way to customize is using the \"string from time\" functionality, known as **strftime**[49]. The basic syntax is:\n",
    "\n",
    "\\<datetime object\\>.strftime(\\<format string\\>)\n",
    "\n",
    "A simple example follows.   Note that we're able to combine Python formatting with strftime formatting:"
   ]
  },
  {
   "cell_type": "code",
   "execution_count": null,
   "id": "f22f1269",
   "metadata": {},
   "outputs": [],
   "source": [
    "from datetime import datetime\n",
    "\n",
    "date_format = \"%d, %b %Y\"\n",
    "now = datetime.now()\n",
    "print(f\"Hello! Today is {now.strftime(date_format)}.\")"
   ]
  },
  {
   "cell_type": "markdown",
   "id": "d0d00fa0",
   "metadata": {},
   "source": [
    "If you want, you can include other characters in the format string. In the next example, we provide punctuation (\":\" and \"-\" characters) to make something like we'd see in a log file (easy to sort chronologically)."
   ]
  },
  {
   "cell_type": "code",
   "execution_count": null,
   "id": "96ff15c2",
   "metadata": {},
   "outputs": [],
   "source": [
    "from datetime import datetime\n",
    "now = datetime.now()\n",
    "exact_format = \"%Y-%m-%d %H:%M\"\n",
    "print(f\"Or, more precisely, {now.strftime(exact_format)}.\")"
   ]
  },
  {
   "cell_type": "markdown",
   "id": "bbb1660a",
   "metadata": {},
   "source": [
    "There are many formatting strings available. You can download a \"cheat sheet\"[50] in the likely event you don't want to memorize them.   Or you can take a quick look at strftime.org."
   ]
  },
  {
   "cell_type": "markdown",
   "id": "58543676",
   "metadata": {},
   "source": [
    "Working with Calendar\n",
    "---------------------\n",
    "\n",
    "Python also has a time-related function that knows how to print nicely-formatted calendars, figure out the day of week, keep track of leap days, etc.[51].  \n",
    "\n",
    "This is sort of a \"toy module\" because serious packages have more heavy duty ways to manage calendar functions.   If you want something quick and dirty with minimal overhead, you may be able whistle up something suitable we with a couple of commands.\n",
    "\n",
    "\n",
    "Here's a brief flyover of some of its capabilities[52]."
   ]
  },
  {
   "cell_type": "code",
   "execution_count": null,
   "id": "d2dbe289",
   "metadata": {},
   "outputs": [],
   "source": [
    "import calendar\n",
    "#create a TextCalendar instance\n",
    "cal = calendar.TextCalendar()\n",
    "print(\"We just produced a {}.\\n\".format(type(cal)))\n",
    "calendar.prmonth(2025,4)  #April, 2025"
   ]
  },
  {
   "cell_type": "code",
   "execution_count": null,
   "id": "363bfa63",
   "metadata": {},
   "outputs": [],
   "source": [
    "#what day of the week was I born?\n",
    "birthday_year = 1957\n",
    "birthday_month = 5\n",
    "birthday_day = 10\n",
    "birthday_day_of_week = calendar.weekday(birthday_year, birthday_month, birthday_day)\n",
    "birthday_dict = {0:'Mon', 1:'Tue', 2:'Wed', 3:'Thur', 4:'Fri', 5:'Sat', 6:'Sun'}\n",
    "print(\"I was born on a {}.\".format(birthday_dict[birthday_day_of_week]))"
   ]
  },
  {
   "cell_type": "markdown",
   "id": "563fb8b5",
   "metadata": {},
   "source": [
    "Introduction to Python's \"Middleware\" Libraries\n",
    "-----------------------------------------------\n",
    "\n",
    "In the spirit of continuing a discussion of adding capability beyond Python's core repertoire, we might consider some of Python's built-in modules **sys** and **os**. We'll discuss their basic contributions here. I would encourage you to explore these on your own using **dir** and **help** as your investigation tools.\n",
    "\n",
    "-   The **sys** module contains information about the particular Python\n",
    "    installation you're working with and how it's installed on your\n",
    "    local OS. This is where **sys.path** (the **list** of directories\n",
    "    the interpreter uses to find imported modules).\n",
    "    \n",
    "\n",
    "-   The **os** module contains a large repertoire of \"middleware\" that\n",
    "    operates between Python and your local OS. It keeps track of things like\n",
    "    the correct path separator to use.\n",
    "\n",
    "Here are a couple examples from my systems. This is what I get from a Windows box:\n"
   ]
  },
  {
   "cell_type": "raw",
   "id": "06353cec",
   "metadata": {},
   "source": [
    "Python 3.6.0  (default, Dec 23 2016, 11:57:41) [MSC v.1900 64 bit (AMD64)] on win32\n",
    "Type \"help\", \"copyright\", \"credits\" or \"license\" for more information.\n",
    ">>> import os\n",
    ">>> os.name\n",
    "'nt'\n",
    ">>> os.path.sep\n",
    "'\\\\'\n",
    ">>> os.path.join('path', 'to', 'file')\n",
    "'path\\\\to\\\\file'"
   ]
  },
  {
   "cell_type": "markdown",
   "id": "794f755f",
   "metadata": {},
   "source": [
    "And this is the same information from one of my Linux virtuals:"
   ]
  },
  {
   "cell_type": "raw",
   "id": "82d23ddd",
   "metadata": {},
   "source": [
    "Python 3.3.0 (default, Sep 5 2016, 11:33:57)\n",
    "[GCC 4.8.4] on linux\n",
    "Type \"help\", \"copyright\", \"credits\" or \"license\" for more information.\n",
    ">>> iimport os\n",
    ">>> ios.name\n",
    "'posix'\n",
    ">>> ios.path.sep\n",
    "'/'\n",
    ">>> ios.path.join('path', 'to', 'file')\n",
    "'path/to/file'"
   ]
  },
  {
   "cell_type": "markdown",
   "id": "029ba20f",
   "metadata": {},
   "source": [
    "The tools in **os** are really important if you want to maximize the portability of your code from platform-to-platform. The last thing you want to do is put in conditional statements to do things like construct file paths[53]. Or – worse yet – having your code work only on the \"flavor\" of development platform you're using."
   ]
  },
  {
   "cell_type": "markdown",
   "id": "ff5eab94",
   "metadata": {},
   "source": [
    "## Exercise\n",
    "\n",
    "Starting with a text representation of your birthday e.g., \"May 5, 1970\" please create a routine that produces a report describing how long you've been alive (to the nearest day) and what day of the week you were born."
   ]
  },
  {
   "cell_type": "code",
   "execution_count": null,
   "id": "6d914f91",
   "metadata": {},
   "outputs": [],
   "source": []
  }
 ],
 "metadata": {
  "kernelspec": {
   "display_name": "py39",
   "language": "python",
   "name": "py39"
  },
  "language_info": {
   "codemirror_mode": {
    "name": "ipython",
    "version": 3
   },
   "file_extension": ".py",
   "mimetype": "text/x-python",
   "name": "python",
   "nbconvert_exporter": "python",
   "pygments_lexer": "ipython3",
   "version": "3.8.8"
  },
  "toc": {
   "base_numbering": "4",
   "nav_menu": {},
   "number_sections": true,
   "sideBar": true,
   "skip_h1_title": false,
   "title_cell": "Table of Contents",
   "title_sidebar": "Contents",
   "toc_cell": false,
   "toc_position": {
    "height": "calc(100% - 180px)",
    "left": "10px",
    "top": "150px",
    "width": "353.2px"
   },
   "toc_section_display": true,
   "toc_window_display": true
  },
  "varInspector": {
   "cols": {
    "lenName": 16,
    "lenType": 16,
    "lenVar": 40
   },
   "kernels_config": {
    "python": {
     "delete_cmd_postfix": "",
     "delete_cmd_prefix": "del ",
     "library": "var_list.py",
     "varRefreshCmd": "print(var_dic_list())"
    },
    "r": {
     "delete_cmd_postfix": ") ",
     "delete_cmd_prefix": "rm(",
     "library": "var_list.r",
     "varRefreshCmd": "cat(var_dic_list()) "
    }
   },
   "types_to_exclude": [
    "module",
    "function",
    "builtin_function_or_method",
    "instance",
    "_Feature"
   ],
   "window_display": false
  }
 },
 "nbformat": 4,
 "nbformat_minor": 5
}
