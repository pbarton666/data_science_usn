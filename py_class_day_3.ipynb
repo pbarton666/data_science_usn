{
 "cells": [
  {
   "cell_type": "markdown",
   "id": "daea8bb4",
   "metadata": {},
   "source": [
    "Exceptions\n",
    "==========\n",
    "\n",
    "Things sometimes don't go as planned – especially when you're dealing with user input, content captured \"from the wild\", or integrating code written by others into your own. In these situations you need a way to gracefully handle surprises without crashing your code.\n",
    "\n",
    "Sometimes things do go as expected and you want to set up \"sentinels\" to identify specific, anticipated situations and act accordingly.\n",
    "\n",
    "You'll find Python's built-in exceptions model to be useful in both of these situations. This chapter will explore how you can put it to use."
   ]
  },
  {
   "cell_type": "markdown",
   "id": "dd2e1497",
   "metadata": {},
   "source": [
    "Basic Usage\n",
    "-----------\n",
    "\n",
    "The easiest form of an exception is the **assert** statement. Its syntax is pretty easy:\n",
    "\n",
    "assert \\<some statement\\>"
   ]
  },
  {
   "cell_type": "code",
   "execution_count": null,
   "id": "b1ee8bf8",
   "metadata": {},
   "outputs": [],
   "source": [
    "assert True"
   ]
  },
  {
   "cell_type": "code",
   "execution_count": null,
   "id": "ce414669",
   "metadata": {},
   "outputs": [],
   "source": [
    "assert False"
   ]
  },
  {
   "cell_type": "markdown",
   "id": "69518a7d",
   "metadata": {},
   "source": [
    "As you can see, the interpreter generates an **AssertionError** (which is a type of exception) when statement evaluated is **False**. This sort of a blunt approach that doesn't yield much actionable information, but it is a \"quick and dirty\" way to identify a problem during execution.\n",
    "\n",
    "As this stands, finding a **False** condition basically crashes your program – something you usually don't want to happen. So how can you handle this more smoothly? You can tell the interpreter what to do in specific circumstances using a **try** / **except** block. \n",
    "\n",
    "Here's how:"
   ]
  },
  {
   "cell_type": "code",
   "execution_count": null,
   "id": "0ac96ad7",
   "metadata": {},
   "outputs": [],
   "source": [
    "try:\n",
    "    assert False\n",
    "except AssertionError:\n",
    "    print(\"Sorry, pal\")\n",
    "    print(\"I'm gonna keep running.\")"
   ]
  },
  {
   "cell_type": "markdown",
   "id": "f22432fb",
   "metadata": {},
   "source": [
    "Much better, right? The general form of a try/except block is:\n",
    "\n",
    "    try:\n",
    "        <an indented suite of statements>\n",
    "\n",
    "    except <some exception>:\n",
    "        <an indented suite of statements >\n",
    "\n",
    "    except <some exception>:\n",
    "        <an indented suite of statements >\n",
    "\n",
    "    finally:\n",
    "        <an indented suite of statements>"
   ]
  },
  {
   "cell_type": "markdown",
   "id": "22588f44",
   "metadata": {},
   "source": [
    "You can \"stack\" exceptions handled much like **elif** statements in an **if**..**then**..**else** block. Exception handling stops at the first one found. The **finally** block gets executed no matter what.\n",
    "\n",
    "Here's an example:"
   ]
  },
  {
   "cell_type": "code",
   "execution_count": null,
   "id": "7dd8bc58",
   "metadata": {},
   "outputs": [],
   "source": [
    "def bad_int():\n",
    "    int('a')\n",
    "\n",
    "def bad_not_defined():\n",
    "    int(a)\n",
    "\n",
    "def bad_div():\n",
    "    1/0\n",
    "\n",
    "def good():\n",
    "    print(\"Hi!\")\n",
    "\n",
    "for func in (bad_int, bad_not_defined, bad_div, good):\n",
    "    try:\n",
    "        func()\n",
    "    except ValueError:\n",
    "        print(\"you have no values.\")\n",
    "    except TypeError:\n",
    "        print(\"Learn how to type.\")\n",
    "    except NameError:\n",
    "        print(\"You have a horse with no name.\")\n",
    "    except ZeroDivisionError:\n",
    "        pass\n",
    "    finally:\n",
    "        print(\"I'm done.\\n\")"
   ]
  },
  {
   "cell_type": "markdown",
   "id": "e41c1ad3",
   "metadata": {},
   "source": [
    "One important point to note here is that, like an **if .. elif ..elif** stack of code only one exception handler's indented suite can be executed. The implication is that you want to catch the most general exceptions at the top of the stack and the most general ones at the bottom. More on this in a moment, but it's an important design consideration."
   ]
  },
  {
   "cell_type": "markdown",
   "id": "5038de64",
   "metadata": {},
   "source": [
    "The Exception Class\n",
    "-------------------\n",
    "\n",
    "In Python, exceptions are all derived from the same parent (called **Exception**) and specified to handle individual problems[54]. This presents the possibility to create your own if none of the built-in ones fit. \n",
    "\n",
    "Here's how you might create simple custom exception and a more elaborate one to handle the potentially-serious Wombat condition:"
   ]
  },
  {
   "cell_type": "code",
   "execution_count": null,
   "id": "da31fce3",
   "metadata": {},
   "outputs": [],
   "source": [
    "# A minimal custom exception\n",
    "class MinimalException(Exception):\n",
    "    pass\n",
    "\n",
    "class WombatException(Exception):\n",
    "    def __str__(self):\n",
    "        return(\"Wombat!\")\n",
    "\n",
    "def wombat():\n",
    "    raise WombatException\n",
    "    \n",
    "wombat()\n",
    "#result\n",
    "#__main__.WombatException: Wombat!"
   ]
  },
  {
   "cell_type": "markdown",
   "id": "9f053465",
   "metadata": {},
   "source": [
    "Here, we see what's known as a \"Traceback\".   This shows the chain of execution present at the time the problem was encountered.   The proximate (latest) cause is at the bottom.   The exception event was triggered earlier by the call to wombat().   Careful inspection of this reveals the call stack (layering of what calls what) and local context of the trigger(s)."
   ]
  },
  {
   "cell_type": "markdown",
   "id": "65b25426",
   "metadata": {},
   "source": [
    "We'll get into classes later in the course. For now, know that we took a **class** object already part of the language, inherited from, and redefined part of it.\n",
    "\n",
    "Because all exceptions are inherited from the same parent, there's a complex \"family tree\" of available ones. Here's part of it:\n",
    "\n",
    "    +-- BaseException\n",
    "    +-- Exception\n",
    "    +-- StopIteration\n",
    "    +-- StopAsyncIteration\n",
    "    +-- ArithmeticError\n",
    "        | +-- FloatingPointError\n",
    "        | +-- OverflowError\n",
    "        | +-- ZeroDivisionError\n",
    "\n",
    "You don't need an encyclopedic understanding of all this but it's important to know that the interpreter will catch exceptions closest to the \"root\" of the family tree. To put it another way, if you have a line of code like this:\n",
    "\n",
    "    except ArithmeticError:\n",
    "    \n",
    "Python will catch the **FloatingPointError**, **OverFlowError**, and **ZeroDivisionError**. \n",
    "\n",
    "If you do this:\n",
    "\n",
    "    except Exception:   \n",
    "    \n",
    "Python will catch any exception.  "
   ]
  },
  {
   "cell_type": "markdown",
   "id": "5afb10c7",
   "metadata": {},
   "source": [
    "\n",
    "Python has many built-in exception types that handle specific problems encountered during execution. Some of the more common ones include:\n",
    "\n",
    "    -   **KeyboardInterrupt** (the user hits cntl-c)\n",
    "\n",
    "    -   **TypeError** (the wrong type of object was provided)\n",
    "\n",
    "    -   **ValueError** (an invalid argument was supplied)  \n",
    "    \n",
    "The entire \"family tree\" of exceptions is in the official docs[55] and could make a valuable addition to your personal library.    "
   ]
  },
  {
   "cell_type": "markdown",
   "id": "1613c320",
   "metadata": {},
   "source": [
    "Miscellaneous\n",
    "-------------\n",
    "\n",
    "If you want to capture the message that normally comes with the exception in your own **except** clause, you can create a handle to it and print it out. You can also print out the call stack and specific lines of code that caused the problem (what you normally get when you make a mistake at the keyboard) using **traceback**.\n",
    "\n",
    "Also, you can ask the interpreter to pass handling of the exception to a handler higher up in the call stack (one of the routines that called your current routine) with the keyword **raise**. If that error was handled higher up, it will be handled there. \n",
    "\n",
    "Here, we set up a handler in the for block – a fancier one this time because we have named our error handler \"ve\" and printed it out. We also have chosen one of the methods of the **traceback** module to give detailed information about the source of the problem[56].\n",
    "\n",
    "Note that the function **another\\_bad\\_int** does not have any of the handling logic. If a problem is detected there, it \"passes the buck\" to the handler we just set up[57].\n",
    "\n",
    "Here's an example:"
   ]
  },
  {
   "cell_type": "code",
   "execution_count": null,
   "id": "28eba527",
   "metadata": {},
   "outputs": [],
   "source": [
    "import traceback\n",
    "def another_bad_int():\n",
    "    try:\n",
    "        int('b')\n",
    "    except:\n",
    "        raise\n",
    "        \n",
    "for func in (another_bad_int, ):\n",
    "    try:\n",
    "        func()\n",
    "    except ValueError as ve:\n",
    "        print(\"you have no values\\n\\n\", ve, \"\\n\")\n",
    "        #traceback.print_stack()    # <---- uncomment for really verbose output\n",
    "        raise"
   ]
  },
  {
   "cell_type": "markdown",
   "id": "6fb7aec2",
   "metadata": {},
   "source": [
    "Strategies\n",
    "----------\n",
    "\n",
    "-   You want to get a good match between the exception(s) you looking\n",
    "    for and the exceptions you're handling. Make the **except**\n",
    "    statements as narrow as possible (furthest out on the branch of the\n",
    "    \"family tree\" as possible).\n",
    "    \n",
    "\n",
    "-   Know what you're looking for and why. You can try to break it at the\n",
    "    keyboard first to figure out what could go wrong.\n",
    "    \n",
    "\n",
    "-   Keep it \"local\" – check a line or two at a time.\n",
    "\n",
    "\n",
    "Here's a worst case scenario:"
   ]
  },
  {
   "cell_type": "code",
   "execution_count": null,
   "id": "a0442b56",
   "metadata": {},
   "outputs": [],
   "source": [
    "try:\n",
    "    \"1,000 lines of code you don't understand\"\n",
    "except Exception:\n",
    "    pass"
   ]
  },
  {
   "cell_type": "markdown",
   "id": "837ecada",
   "metadata": {},
   "source": [
    "Input and Output\n",
    "================\n",
    "\n",
    "So far, we've been working with programs and data that exist only in memory. This is fine unless you want the information produced to persist between sessions. To accomplish this, you'll want to learn how to store information in files of some type. These could be text files, databases, or (if you want to store intact objects) **JSON**, **pickle**, or **shelve** files.\n",
    "\n",
    "To accomplish any of these we need to establish a pipe to move information to another system resource and the necessary system object to receive it. Let's start with simple file object and the built-in **open** directive. The syntax is:\n",
    "\n",
    "    <file handle name> = open(<file name>, <mode>)\n",
    "    \n",
    "There will always be some sort of encoding.  That's the mapping between the characters you see rendered on your screen and the bytecodes stored in the computer.   If you don't specify, the system default on whatever machine your code is running on will be chosen."
   ]
  },
  {
   "cell_type": "markdown",
   "id": "09d6253a",
   "metadata": {},
   "source": [
    "Basic File i/o\n",
    "--------------\n",
    "\n",
    "TWe can create a file called 'afile' in the write only mode. If another file of the same name already exists it will get overwritten silently, so be careful.\n",
    "\n",
    "Once the file is open, we can write something to it using the file handle's **write** method. When done we can execute the **close** method.\n",
    "\n",
    "To open a new file and establish a handle to it, we can go:"
   ]
  },
  {
   "cell_type": "code",
   "execution_count": null,
   "id": "b96999e5",
   "metadata": {},
   "outputs": [],
   "source": [
    "f = open('afile', 'w')\n",
    "print(f)\n",
    "f.write(\"Hello, afile\")"
   ]
  },
  {
   "cell_type": "markdown",
   "id": "baaf762a",
   "metadata": {},
   "source": [
    "When finished with a file, it's good practice to close it.  You can see that even when the file is closed, the file handler object still exists."
   ]
  },
  {
   "cell_type": "code",
   "execution_count": null,
   "id": "a500b5c0",
   "metadata": {},
   "outputs": [],
   "source": [
    "f.close()\n",
    "print(f)\n",
    "print(f.closed)"
   ]
  },
  {
   "cell_type": "markdown",
   "id": "27e27c3f",
   "metadata": {},
   "source": [
    "We can use the file handle object to tell us about the file. This code sample shows you some of the things you can learn."
   ]
  },
  {
   "cell_type": "code",
   "execution_count": null,
   "id": "d844d804",
   "metadata": {},
   "outputs": [],
   "source": [
    "f = open('afile', 'w')\n",
    "f.write(\"Hello afile!\")\n",
    "\n",
    "# Some attributes and methods of interest:\n",
    "print(\"What's up with {}?\\n\".format(f.name))\n",
    "print(\"readable?\", f.readable())\n",
    "print(\"writable?\", f.writable())\n",
    "print(\"encoding:\", f.encoding)\n",
    "print(\"closed?\", f.closed)\n",
    "print()\n",
    "print(\"Closing Now!\")\n",
    "f.close()\n",
    "print(\"closed?\", f.closed)"
   ]
  },
  {
   "cell_type": "markdown",
   "id": "02d82335",
   "metadata": {},
   "source": [
    "There are different modes for opening text files. Besides read \"r\" and write, \"w\" you can open it an append mode \"a.\" This allows you to open a file for writing without destroying any existing file. Instead, any new write operations add material to the end. If you include a \"+\" with any of these, you get both read and write access.\n",
    "\n",
    "The modes we've seen so far are for text files – these all involve some sort of encoding operation to convert human-readable characters to raw bytes. If the file is storing binary data, you have to let the compiler know by using a \"b directive.\" These take the form \"r+b\", \"w+b\" and \"a+b.\" \n",
    "\n",
    "For instance, you can go:\n",
    "\n",
    "    f = open ('junk2', 'w+b')"
   ]
  },
  {
   "cell_type": "markdown",
   "id": "6872e38b",
   "metadata": {},
   "source": [
    " Creating a Context\n",
    "------------------\n",
    "\n",
    "In the examples above, we closed the files when done with them. This is considered a best practice because, although Python's built in garbage collection will probably take care of things, it works on its own schedule. Some operating systems (Windows) have a limit on the number of open files you're allowed, and with large applications – like file-based database systems you could get into trouble.\n",
    "\n",
    "An easier way to handle closing files IMHO is to create a context using the **with** keyword. A context is like a temporary sandbox for a block of code to run in. When the code is done, the context is automatically terminated and all the objects are eligible for garbage collection.  \n",
    "\n",
    "Here's how you might use it:"
   ]
  },
  {
   "cell_type": "code",
   "execution_count": null,
   "id": "316a547a",
   "metadata": {},
   "outputs": [],
   "source": [
    "with open('junk2', 'w') as f:\n",
    "    f.write('hey there junk2')\n",
    "    \n",
    "print(f.closed)"
   ]
  },
  {
   "cell_type": "markdown",
   "id": "f4952bf5",
   "metadata": {},
   "source": [
    "\n",
    "File Pointers\n",
    "-------------\n",
    "\n",
    "Internally the file has a pointer – sort of like a sticky note – to tell it what line it's on. When you **open** a file in a read or write mode, the pointer starts at the top. If it's open in the append mode, the pointer starts at the bottom.\n",
    "\n",
    "You can move the file pointer around using the file handler's **seek** method, invoked with a single argument for the position you want to move it. \n",
    "\n",
    "Here's an example:"
   ]
  },
  {
   "cell_type": "code",
   "execution_count": null,
   "id": "05f64233",
   "metadata": {},
   "outputs": [],
   "source": [
    "f = open('afile', 'a+')\n",
    "f.read()"
   ]
  },
  {
   "cell_type": "code",
   "execution_count": null,
   "id": "06a0e600",
   "metadata": {},
   "outputs": [],
   "source": [
    "f.seek(0)"
   ]
  },
  {
   "cell_type": "code",
   "execution_count": null,
   "id": "33c5c89e",
   "metadata": {},
   "outputs": [],
   "source": [
    "f.read()"
   ]
  },
  {
   "cell_type": "code",
   "execution_count": null,
   "id": "1feb66a9",
   "metadata": {},
   "outputs": [],
   "source": [
    "f.seek(6)"
   ]
  },
  {
   "cell_type": "code",
   "execution_count": null,
   "id": "bbe7f9bd",
   "metadata": {},
   "outputs": [],
   "source": [
    "f.read()"
   ]
  },
  {
   "cell_type": "code",
   "execution_count": null,
   "id": "8cdf0654",
   "metadata": {},
   "outputs": [],
   "source": [
    "f.tell()"
   ]
  },
  {
   "cell_type": "code",
   "execution_count": null,
   "id": "dace3fc6",
   "metadata": {},
   "outputs": [],
   "source": [
    "f.seek(0)"
   ]
  },
  {
   "cell_type": "code",
   "execution_count": null,
   "id": "3a9a8bee",
   "metadata": {},
   "outputs": [],
   "source": [
    "f.tell()"
   ]
  },
  {
   "cell_type": "markdown",
   "id": "bc965c1f",
   "metadata": {},
   "source": [
    "You'll note that the first time we read it, nothing was reported. That's because the file pointer was already at end of the file. With seek we put the pointer to the top of the file and **read** performed as expected. The **tell** method simply reports the position of the pointer. Here we're verifying that **seek** did its job.\n",
    "\n",
    "I would point out that using **seek** against a text file is a dicey proposition – unless you're simply going to the top. \n",
    "\n",
    "The reason is that the width of a binary character is predictable but the width of a character is not. If it's only the bottom half of ASCII, the characters are one byte long, but you never know. This all depends on the encoding.  For instance, the ubiquitous UTF -8 can hold all 1MM + Unicode code points, but individual characters only consume the required \"space\" – anywhere from one to four 8-bit bytes."
   ]
  },
  {
   "cell_type": "markdown",
   "id": "88e342e9",
   "metadata": {},
   "source": [
    " Working with the File System\n",
    "----------------------------\n",
    "\n",
    "The easiest way to work with the file system is to use the **os** library[59]. Here is where you can find all sorts of tools that you might use at the command line of a shell program. We'll use the following example to take some of the methods for a spin around the block while exploring your file system and the repertoire of the library."
   ]
  },
  {
   "cell_type": "code",
   "execution_count": null,
   "id": "eeccca59",
   "metadata": {},
   "outputs": [],
   "source": [
    "import os"
   ]
  },
  {
   "cell_type": "markdown",
   "id": "bf8a5d10",
   "metadata": {},
   "source": [
    "We can find the current working directory and navigate directories using the same sort of techniques one might use at the command line."
   ]
  },
  {
   "cell_type": "code",
   "execution_count": null,
   "id": "af61b5ea",
   "metadata": {},
   "outputs": [],
   "source": [
    "# Get the name of the current directory\n",
    "original_dir = os.getcwd()\n",
    "print('We started in:')\n",
    "print(original_dir)"
   ]
  },
  {
   "cell_type": "code",
   "execution_count": null,
   "id": "f3718a3b",
   "metadata": {},
   "outputs": [],
   "source": [
    "# Go to the parent directory\n",
    "os.chdir('..')\n",
    "print(\"Now we're in:\")"
   ]
  },
  {
   "cell_type": "markdown",
   "id": "f5630692",
   "metadata": {},
   "source": [
    "The directory contents will show up as a list.  We can use list methods to locate specific files."
   ]
  },
  {
   "cell_type": "code",
   "execution_count": null,
   "id": "fa5ab334",
   "metadata": {},
   "outputs": [],
   "source": [
    "#get the original directory contents\n",
    "dir_contents = os.listdir(original_dir)\n",
    "print(\", \".join(dir_contents))\n",
    "\n",
    "look_for = 'afile'\n",
    "print()\n",
    "print(f\"Is {look_for} in {original_dir}?\\n\\n  {'Yep' if look_for in dir_contents else 'Nope.'}\")"
   ]
  },
  {
   "cell_type": "code",
   "execution_count": null,
   "id": "d0d394ba",
   "metadata": {},
   "outputs": [],
   "source": [
    "look_for in original_dir"
   ]
  },
  {
   "cell_type": "markdown",
   "id": "17b4a619",
   "metadata": {},
   "source": [
    "The file system is a zoo inhabited by many different beasts.  Everyone is familiar with files, directories, and subdirectories, of course.   But there are also sockets, symbolic links, mounts, streams, etc.  To the file system they're basically just objects.   You might care, so you can use **os.path** methods to find out.\n",
    "\n",
    "Here's how you can screen directory components:"
   ]
  },
  {
   "cell_type": "code",
   "execution_count": null,
   "id": "8d27898b",
   "metadata": {},
   "outputs": [],
   "source": [
    "print(\"Examining the contents of {}.\\n\".format(original_dir))\n",
    "\n",
    "# Get a copy of the dir_contents object that we can trash.\n",
    "sacrificial_dir_contents = dir_contents.copy()\n",
    "\n",
    "while True:\n",
    "    # pop() is handy for consuming a list.\n",
    "    try:\n",
    "        fs_object_name = sacrificial_dir_contents.pop()\n",
    "    except IndexError:   # We've exhausted the file contents\n",
    "        break\n",
    "    \n",
    "    # os.path.join() will always use the right path separator.\n",
    "    fs_object = os.path.join(original_dir, fs_object_name)\n",
    "\n",
    "    # These os.path methods can classify a file system object:\n",
    "    if os.path.isdir(fs_object):\n",
    "        label = 'dir'\n",
    "    if os.path.isfile(fs_object):\n",
    "        label = 'file'\n",
    "    if os.path.islink(fs_object):\n",
    "        label = 'link'\n",
    "    \n",
    "    print(label, fs_object_name)"
   ]
  },
  {
   "cell_type": "markdown",
   "id": "9db5940e",
   "metadata": {},
   "source": [
    "We can use **os.path** methods to query for existence of specific file system objects and create them if they don't already exist."
   ]
  },
  {
   "cell_type": "code",
   "execution_count": null,
   "id": "2b99624e",
   "metadata": {},
   "outputs": [],
   "source": [
    "#checking for a directory, creating if it's not there\n",
    "print(\"\\nIf you don't have a junk directory, let's make one.\\n\")\n",
    "look_for = 'junk'\n",
    "look_in = original_dir\n",
    "\n",
    "if not os.path.exists(os.path.join(look_in, look_for)):\n",
    "    os.mkdir(os.path.join(look_in, look_for))\n",
    "    \n",
    "#another way, using exceptions\n",
    "try:\n",
    "    os.mkdir(os.path.join(look_in, look_for))\n",
    "except:\n",
    "    pass\n",
    "\n",
    "# Success?\n",
    "if os.path.exists(os.path.join(look_in, look_for)):\n",
    "    print(f\"Yea!  {look_for} has been created in {look_in}!\")"
   ]
  },
  {
   "cell_type": "markdown",
   "id": "da31fcfa",
   "metadata": {},
   "source": [
    "Many things you can do at the command line you can accomplish within Python.    Let's take look at what attributes and methods are available.  We'll create a little utility function to screen out stuff that we probably don't want to see."
   ]
  },
  {
   "cell_type": "code",
   "execution_count": null,
   "id": "1100100c",
   "metadata": {},
   "outputs": [],
   "source": [
    "def screen_module(amodule):\n",
    "    clean = []\n",
    "    for name in dir(amodule):\n",
    "        if name[0].islower() and name[0] != '_':\n",
    "            clean.append(name)\n",
    "    clean_names = \", \".join(clean)\n",
    "    print(f\"Great stuff in {amodule}\\n\\n {clean_names}:\")\n",
    "\n",
    "screen_module(os)\n",
    "print()\n",
    "screen_module (os.path)"
   ]
  },
  {
   "cell_type": "markdown",
   "id": "1f1895f0",
   "metadata": {},
   "source": [
    "File Metadata\n",
    "-------------\n",
    "\n",
    "You can retrieve file metadata using the **os.stat** method."
   ]
  },
  {
   "cell_type": "code",
   "execution_count": null,
   "id": "9d8583cb",
   "metadata": {},
   "outputs": [],
   "source": [
    "os.chdir(original_dir)\n",
    "os.stat('afile')\n",
    "\n"
   ]
  },
  {
   "cell_type": "markdown",
   "id": "2337553b",
   "metadata": {},
   "source": [
    "The output is pretty horrible to look at, and poorly-labeled, but here's\n",
    "a list of a few of the ones you'll need most:\n",
    "\n",
    "    st_ctime - time of creation\n",
    "    st_gid - group ID of owner\n",
    "    st_mode - protection bits\n",
    "    st_mtime - time of last modification\n",
    "    st_size - total size, in bytes\n",
    "    st_uid - user ID of owner\n",
    "\n",
    "You can access an individual element using its name - they are just attributes of the returned object. For instance, if you wanted the file size you could go:"
   ]
  },
  {
   "cell_type": "code",
   "execution_count": null,
   "id": "59596a94",
   "metadata": {},
   "outputs": [],
   "source": [
    "os.stat('afile').st_size"
   ]
  },
  {
   "cell_type": "markdown",
   "id": "21969383",
   "metadata": {},
   "source": [
    "Pickle\n",
    "-------------------\n",
    "\n",
    "Python supports a native whole-object serialization protocol called **pickle.**  It can encode and decode intact objects like functions and classes into a form that can be saved to the hard drive. The **pickle** methods work in byte streams.\n",
    "\n",
    "Why would you want to work with bytes? For one thing, you can store your code very compactly. More importantly, you can stream byte code between applications or computers whereas you can't do that with Python objects.\n",
    "\n",
    "Another advantage is that serialized data is in a very predictable format. That makes life very easy on the interpreter. Let's say you have a huge data file that you read into a Python array for processing. If the file starts out life as a comma-delimited file, say, reading it is expensive because the interpreter has to figure out how large every piece is, convert it to a numeric data type, and put it into memory.\n",
    "\n",
    "If, on the other hand, the interpreter knows the geometry of the data and can \"mechanically\" ingest the pieces of it, very little processing has to happen – it just needs to be loaded into memory.\n",
    "\n",
    "In my experience a 2MB, csv-formatted file takes around 30 seconds to load on a decent laptop; a serialized version takes only about 0.5 seconds. Your mileage may vary, but you can bet on seeing some real performance differences[61].\n",
    "\n",
    "So how do we work this magic with pickle? Let's find out."
   ]
  },
  {
   "cell_type": "code",
   "execution_count": null,
   "id": "3ec0456f",
   "metadata": {},
   "outputs": [],
   "source": [
    "\"\"\"quite a pickle\"\"\"\n",
    "import pickle\n",
    "\n",
    "#make an object\n",
    "obj = [ [1, 2, 3],\n",
    "        [4, 5, 5],\n",
    "        [7, 8, 9]\n",
    "      ]\n",
    "print(\"hey, we've got an object\")\n",
    "print(obj)"
   ]
  },
  {
   "cell_type": "code",
   "execution_count": null,
   "id": "da6d05b1",
   "metadata": {},
   "outputs": [],
   "source": [
    "#open a binary file (remember, we're writing bytes)\n",
    "pickle_file = \"brine\"\n",
    "with open(pickle_file, 'wb') as f:\n",
    "    pickle.dump(obj, f)"
   ]
  },
  {
   "cell_type": "code",
   "execution_count": null,
   "id": "c748df73",
   "metadata": {},
   "outputs": [],
   "source": [
    "# Let's kill the object to prove this works\n",
    "#    We could go obj = None; keeps the name, associates with None\n",
    "#    del is a top-level method to actually remove the object\n",
    "del obj \n",
    "try:\n",
    "    obj\n",
    "except NameError:\n",
    "    print(\"\\nno object here!\")\n",
    "\n",
    "with open(pickle_file, 'rb') as f:\n",
    "    recovered_obj = pickle.load(f)\n",
    "    \n",
    "#now, take a look\n",
    "print(\"\\nPresto, chango, here's our recovered object!\")\n",
    "print(recovered_obj)"
   ]
  },
  {
   "cell_type": "markdown",
   "id": "08330617",
   "metadata": {},
   "source": [
    "You can **pickle** multiple objects, but you have to do so individually.\n",
    "Here's how you might do it:"
   ]
  },
  {
   "cell_type": "code",
   "execution_count": null,
   "id": "9cd3981b",
   "metadata": {},
   "outputs": [],
   "source": [
    "\"\"\"Quite a crowed pickle barrel\"\"\"\n",
    "import pickle\n",
    "\n",
    "# Make a few objects\n",
    "obj0 = [[1, 2, 3],\n",
    "        [4, 5, 5],\n",
    "        [7, 8, 9]\n",
    "       ]\n",
    "obj1 = \"howdy doody\"\n",
    "obj2 = set([33,43,53])\n",
    "\n",
    "# Serially store these objects\n",
    "pickle_file = \"spicy.pkl\"\n",
    "with open(pickle_file, 'wb') as f:\n",
    "    pickle.dump(obj0, f)\n",
    "    pickle.dump(obj1, f)\n",
    "    pickle.dump(obj2, f)"
   ]
  },
  {
   "cell_type": "code",
   "execution_count": null,
   "id": "51aae7eb",
   "metadata": {},
   "outputs": [],
   "source": [
    "# Destroy the objects   \n",
    "obj = None; obj1 = None; ojb2 = None # not recommended\n",
    "\n",
    "# Serially recover the objects\n",
    "with open(pickle_file, 'rb') as f:\n",
    "    recovered_obj0 = pickle.load(f)\n",
    "    recovered_obj1 = pickle.load(f)\n",
    "    recovered_obj2 = pickle.load(f)\n",
    "    \n",
    "# Now, take a look\n",
    "print(\"Our objects survived recovery!\\n\")\n",
    "print(recovered_obj)\n",
    "print(recovered_obj1)\n",
    "print(recovered_obj2)"
   ]
  },
  {
   "cell_type": "markdown",
   "id": "fb4cd3ee",
   "metadata": {},
   "source": [
    "While this works, sometimes it's more convenient to organize objects to be pickled in a **dict** object – this makes tracking them much easier.  \n",
    "\n",
    "Since we're storing, then recovering, the objects serially we need to keep track of the order.  The pickle object works on a strick \"first in, first out\" basis.\n",
    "\n",
    "Here is how you might apply this strategy. \n",
    "\n",
    "This example embeds a (potential)really big mistake. Can you spot it?"
   ]
  },
  {
   "cell_type": "code",
   "execution_count": null,
   "id": "29e4bdf3",
   "metadata": {},
   "outputs": [],
   "source": [
    "import pickle\n",
    "from datetime import datetime\n",
    "\n",
    "from datetime import datetime\n",
    "timestamp = f\"JUNK = {chr(39)}{datetime.now().strftime('%d, %b %Y')}{chr(39)}\"\n",
    "\n",
    "# Create one-line file then import an object from it\n",
    "with open('file_for_import.py', 'w') as junk:\n",
    "    junk.write(timestamp)     \n",
    "from file_for_import import JUNK\n",
    "\n",
    "pickle_file=\"dill.pkl\"\n",
    "# Make a few objects\n",
    "obj0 = [[1, 2, 3],\n",
    "        [4, 5, 5],\n",
    "        [7, 8, 9]\n",
    "       ]\n",
    "obj1 = \"howdy doody\"\n",
    "obj2 = set([33,43,53])\n",
    "\n",
    "# Make a dict to pickle:\n",
    "to_pickle={ 'obj0' : obj0,\n",
    "            'obj1': obj1,\n",
    "            'obj2': obj2,\n",
    "            'junk': JUNK\n",
    "            }\n",
    "\n",
    "# Pickle the dict then destroy it\n",
    "with open(pickle_file, 'wb') as f:\n",
    "    pickle.dump(to_pickle,f)"
   ]
  },
  {
   "cell_type": "code",
   "execution_count": null,
   "id": "cd53d4ec",
   "metadata": {},
   "outputs": [],
   "source": [
    "del to_pickle\n",
    "\n",
    "with open(pickle_file, 'rb') as f:\n",
    "    recovered = pickle.load(f)\n",
    "    \n",
    "print(\"Here is our recovered object:\")\n",
    "for k,v in recovered.items():\n",
    "    print(f\"{k}:  {v}\\n\")\n",
    "\n",
    "print(\"Now we can pick off an object by name:\\n\")\n",
    "print(recovered['junk'])"
   ]
  },
  {
   "cell_type": "code",
   "execution_count": null,
   "id": "e0cea793",
   "metadata": {},
   "outputs": [],
   "source": [
    "from datetime import datetime\n",
    "timestamp = f\"JUNK = {chr(39)}{datetime.now().strftime('%d, %b %Y')}{chr(39)}\"\n",
    "\n",
    "# Create one-line file from which we can import an object\n",
    "with open('file_for_import.py', 'w') as junk:\n",
    "    junk.write(timestamp)  \n",
    "\n",
    "    \n",
    "from file_for_import import JUNK\n",
    "JUNK"
   ]
  },
  {
   "cell_type": "markdown",
   "id": "fbed4e52",
   "metadata": {},
   "source": [
    "The \"big mistake\" here involves the inclusion of JUNK in our file system object. The issue is that it's a value imported from another routine.  Safe enough if working alone, I imagine, but what if junk.py were being maintained by another team working long and hard on perfecting the value? Today it might be 777, but what if later it were refined to become 888? \n",
    "\n",
    "Our persistent object would have stale information and we might never know it. In fact, the pickle file does not even a path back to find where 777 came from in the first place. We certainly won't get warnings or error messages. \n",
    "\n",
    "Anyway, you can do this, but be careful."
   ]
  },
  {
   "cell_type": "markdown",
   "id": "51baae00",
   "metadata": {},
   "source": [
    "## Shelve\n",
    "\n",
    "The shelve library builds on pickle and provides the keyword access to make a pickle archive \"random access\".\n",
    "\n",
    "To use it,\n",
    "one simply uses **shelve.open()** instead of the built-in version to\n",
    "create a file handle object. Then you can use the file handler just as\n",
    "you’d use a **dict**. \n",
    "\n",
    "\n",
    "Here’s an example:"
   ]
  },
  {
   "cell_type": "code",
   "execution_count": null,
   "id": "9dcc9d0b",
   "metadata": {},
   "outputs": [],
   "source": [
    "import shelve\n",
    "treasured_object={\n",
    "                    'team': 'Cubs',\n",
    "                    'place': 'Wrigley',\n",
    "                    'f_and_b': {'food': 'red hots', 'bev': 'Old Style'}\n",
    "                    }\n",
    "\n",
    "print(\"Original\")\n",
    "print(\"treasured object is {}\".format(treasured_object))\n",
    "\n",
    "# Open a shelve file and drop an object into it using dict-like syntax.\n",
    "shelve_file='persistent_shelve.shlv'\n",
    "with shelve.open(shelve_file, writeback=True) as my_shelf:\n",
    "    my_shelf['treasure']=treasured_object\n",
    "    \n",
    "# Retrieve it using the same syntax.  \n",
    "with shelve.open(shelve_file, writeback=True) as my_shelf:\n",
    "    print(\"Shelve here!\")\n",
    "    print(\"treasured object is {}\".\n",
    "    format(my_shelf['treasure']))"
   ]
  },
  {
   "cell_type": "markdown",
   "id": "a3e5013e",
   "metadata": {},
   "source": [
    "Pickle Caveats\n",
    "--------------\n",
    "\n",
    "You can't **pickle** everything. The objects have to be discrete and available globally to the module. Here's what can be pickled, strait from the docs[62]:\n",
    "\n",
    "-   **None**, **True**, and **False**\n",
    "\n",
    "\n",
    "-   integers, long integers, floating point numbers, complex numbers\n",
    "\n",
    "\n",
    "-   normal and Unicode strings\n",
    "\n",
    "\n",
    "-   **tuples**, **lists**, **sets**, and dictionaries containing only\n",
    "    picklable objects\n",
    "    \n",
    "\n",
    "-   functions defined at the top level of a module\n",
    "\n",
    "\n",
    "-   built-in functions defined at the top level of a module\n",
    "\n",
    "\n",
    "-   **class** objects that are defined at the top level of a module\n",
    "\n",
    "**pickle** is a Python-specific tool – pickled objects can't be deserialized on other platforms. \n",
    "\n",
    "Finally, since pickled objects can contain malicious code they are potentially vectors for infection. You don't want to accept persisted objects from any source you don't trust."
   ]
  },
  {
   "cell_type": "markdown",
   "id": "fd22a628",
   "metadata": {},
   "source": []
  },
  {
   "cell_type": "markdown",
   "id": "e67f57c9",
   "metadata": {},
   "source": [
    "Other Serializers\n",
    "--------------\n",
    "\n",
    "While pickle is great at serializing and storing intact Python objects and data sets it's not at all human-friendly, nor are objects usable by other languages.  Its prime advantages are that it's fast and efficient.  \n",
    "It's also built into pandas and several data analytic packages.   For instance, if you train a model using sklearn (or most other packages), you'll save the trained model as a pickled object.\n",
    "\n",
    "Is efficiency important?  Of course it is.   As a practical matter, though, you'll want to consider whether readability and transparency are more important.   For smaller datasets or Python programs you'll hardly notice performance differences.   If you're ever going to want to read your file, you want to consider whether a few hundred milliseconds of computer time is more valuable than a few hours of your own time.\n",
    "\n",
    "For human-readable serialization, you have a few choices - all of which have roughly the same API (interface) as pickle does.   These include:\n",
    "\n",
    "    import xml   # Extended markup language, built-in\n",
    "    import json  # Javascript object notation, built-in\n",
    "    yaml         # Yet another markup language, not built-in, most human-readable IMHO\n",
    "    \n",
    "If you want yaml, you'll have to install if first with a command like one of these:\n",
    "    $ pip install yaml\n",
    "    # conda install yaml\n"
   ]
  },
  {
   "cell_type": "markdown",
   "id": "8accab3b",
   "metadata": {},
   "source": [
    "## Exercise\n",
    "\n",
    "Please create three functions in the same module (file). Each will take two inputs. One file will add the numbers, another will multiply and the third will subtract them.\n",
    "\n",
    "Destroy the three functions then recreate them from the serialized files. Verify that they still work as well as the original ones.\n"
   ]
  },
  {
   "cell_type": "markdown",
   "id": "66d82884",
   "metadata": {},
   "source": [
    "Classes in Python\n",
    "=================\n",
    "\n",
    "Classes are where the rubber meets the road. It's here that all the concepts we've discussed to date coalesce in to useful, reusable programming product. The real power of class objects stems from the fact that Python (like most modern languages) is designed to be \"object oriented.\" But what does that really mean?\n",
    "\n",
    "Object-oriented languages are built on three tenants:\n",
    "\n",
    "-   Polymorphism\n",
    "\n",
    "\n",
    "-   Inheritance\n",
    "\n",
    "\n",
    "-   Encapsulation\n",
    "\n",
    "We'll now discuss each in more detail."
   ]
  },
  {
   "cell_type": "markdown",
   "id": "5305ff58",
   "metadata": {},
   "source": [
    "Polymorphism\n",
    "------------\n",
    "\n",
    "This is the notion that there can be one interface to the world which, from the user's perspective, is the same for accomplishing many things.  The question of just what gets performed and how happens \"under the hood\" with the user blissfully unaware. We've already encountered that with respect to the \"+\" operator."
   ]
  },
  {
   "cell_type": "code",
   "execution_count": null,
   "id": "be85c6bd",
   "metadata": {},
   "outputs": [],
   "source": [
    "\"abc\" + \"bcd\""
   ]
  },
  {
   "cell_type": "code",
   "execution_count": null,
   "id": "69e71a86",
   "metadata": {},
   "outputs": [],
   "source": [
    "1 + 2"
   ]
  },
  {
   "cell_type": "code",
   "execution_count": null,
   "id": "eaf621fd",
   "metadata": {},
   "outputs": [],
   "source": [
    "complex(3,4) + complex(4,4)"
   ]
  },
  {
   "cell_type": "code",
   "execution_count": null,
   "id": "83cc18f2",
   "metadata": {},
   "outputs": [],
   "source": [
    "[3,4,5] + [7,8,9]"
   ]
  },
  {
   "cell_type": "markdown",
   "id": "82728a11",
   "metadata": {},
   "source": [
    "Google is another example, writ large. A single input window unleashes unbelievable computing horsepower, access to petabytes of indexed information (and targeted ads, but oh well). And who knows what happens when you hit the \"Search\" button?"
   ]
  },
  {
   "cell_type": "code",
   "execution_count": null,
   "id": "f9f543f1",
   "metadata": {},
   "outputs": [],
   "source": [
    "Google is another example, writ large. A single input window unleashes unbelievable computing horsepower, access to petabytes of indexed information (and targeted ads, but oh well). And who knows what happens when you hit the \"Search\" button"
   ]
  },
  {
   "cell_type": "markdown",
   "id": "0c1bca56",
   "metadata": {},
   "source": [
    "Inheritance\n",
    "-----------\n",
    "\n",
    "Inheritance is the idea that you can create related objects by separating what they have in common from how they differ. That way, all the common elements can exist in one and only one place. And the differentiating element can exist more locally – again in one and only one place.\n",
    "\n",
    "We've already encountered this in examining the exception hierarchy, repeated here:\n",
    "\n",
    "    +-- BaseException\n",
    "    +-- Exception\n",
    "    +-- StopIteration\n",
    "    +-- StopAsyncIteration\n",
    "    +-- ArithmeticError\n",
    "        | +-- FloatingPointError\n",
    "        | +-- OverflowError\n",
    "        | +-- ZeroDivisionError\n"
   ]
  },
  {
   "cell_type": "markdown",
   "id": "dbbf972b",
   "metadata": {},
   "source": [
    "All **Exception** objects \"inherit\" the characteristics of the **BaseException** – that's where all the boilerplate and housekeeping lives. All the exceptions e.g., **ArithmeticError** inherit the characteristics of **Exception** and add their own special sauce.  Further down the line, the **OverflowError** inherits everything that the **ArithmeticError** has and further specializes.\n",
    "\n",
    "We've seen this already in a really simple form we created a custom class:"
   ]
  },
  {
   "cell_type": "code",
   "execution_count": null,
   "id": "74cf7148",
   "metadata": {},
   "outputs": [],
   "source": [
    "class WombatException(Exception):\n",
    "    def __str__(self):\n",
    "        return(\"Wombat!\")"
   ]
  },
  {
   "cell_type": "markdown",
   "id": "016ddf0e",
   "metadata": {},
   "source": [
    "In so doing, we inherited from Exception then overrode any existing\n",
    "**\\_\\_str\\_\\_** method – that's the one that **print** uses – to make it\n",
    "print out the message.\n",
    "\n",
    "I recognize that all this is a bit abstract so far, so let's jump into some code and see what we can do. We can start with something simple.  Here's how we can make a class, inherit from it (create a \"subclass\"), and create a specific instance."
   ]
  },
  {
   "cell_type": "code",
   "execution_count": null,
   "id": "b3c2e86c",
   "metadata": {},
   "outputs": [],
   "source": [
    "class SuperSimple:\n",
    "    a = 1\n",
    "    \n",
    "class SuperSimpleSubclassed(SuperSimple):\n",
    "    pass\n",
    "\n",
    "s = SuperSimpleSubclassed()\n",
    "\n",
    "print(\"free variable 'a' is {}\".format(s.a))"
   ]
  },
  {
   "cell_type": "markdown",
   "id": "6b86ad7a",
   "metadata": {},
   "source": [
    "As you can see the instance **SuperSimpleSubclassed**, 's', contains the object 'a' which came along for the ride from **SuperSimple**. It's a common practice to have a base class of some sort – this will contain fundamental functionality and boilerplate code that will become available to all subordinate classes. Here's a slightly more complicated example of a base class:\n"
   ]
  },
  {
   "cell_type": "code",
   "execution_count": null,
   "id": "b0deb474",
   "metadata": {},
   "outputs": [],
   "source": [
    "#A base class\n",
    "class BaseClass:\n",
    "    def __init__(self):\n",
    "        print(\"BaseClass __init__()\")\n",
    "        \n",
    "    def shout_out(self):\n",
    "        print('\\nYo! from BaseClass\\n')\n",
    "        \n",
    "    def print_something(self, thing):\n",
    "        print(\"\\n{} from BaseClass \\n\".format(thing))\n",
    "        \n",
    "base = BaseClass()\n",
    "base1 = BaseClass()\n",
    "base.shout_out()"
   ]
  },
  {
   "cell_type": "markdown",
   "id": "8c5efef6",
   "metadata": {},
   "source": [
    "Here, we've created two subclasses, **base** and **base1**. These are independent objects which have their own namespaces. The result is that each has its own copy of **shout\\_out** and **print\\_something**. Now, if we want to extend this class the process is simple. \n",
    "\n",
    "We inherit from it and add a new method **hello\\_child**. We also replace the parent class' **\\_\\_init\\_\\_** method by including a new method of the same name. In case like this, we may well want to retain access to the parent class' method. \n",
    "\n",
    "We can do so easily by invoking the **super** method. In **ChildClass** we execute it to ensure anything introduced into the namespace by the parent class is also available to the child class."
   ]
  },
  {
   "cell_type": "code",
   "execution_count": null,
   "id": "d579988d",
   "metadata": {},
   "outputs": [],
   "source": [
    "class ChildClass(BaseClass):\n",
    "    \"simple inheritance, executing parent class __init__()\"\n",
    "    def __init__(self):\n",
    "        print(\"ChildClass __init__()\")\n",
    "        super().__init__()\n",
    "\n",
    "    def hello_child(self):\n",
    "        print(\"hello from ChildClass\")\n",
    "\n",
    "# This directly calls ChildClass.__init__() and indirectly BaseClass.__init__()\n",
    "kid = ChildClass()"
   ]
  },
  {
   "cell_type": "code",
   "execution_count": null,
   "id": "baf6a553",
   "metadata": {},
   "outputs": [],
   "source": [
    "# The kid object is an instance of ChildClass\n",
    "kid.hello_child()"
   ]
  },
  {
   "cell_type": "markdown",
   "id": "083bb2a6",
   "metadata": {},
   "source": [
    "Unlike many languages Python supports multiple inheritance. This makes it easy to \"cherry pick\" objects from already-developed code, even from disparate sources. \n",
    "\n",
    "Here's an example:"
   ]
  },
  {
   "cell_type": "code",
   "execution_count": null,
   "id": "064fbe66",
   "metadata": {},
   "outputs": [],
   "source": [
    "class AnotherClass:\n",
    "    def print_something(self, thing):\n",
    "        print(\"AnotherClass is printing {}\\n\".format(thing))\n",
    "        \n",
    "class ComboClass1(BaseClass, AnotherClass):\n",
    "    def __init__(self):\n",
    "        #when methods have same name, leftmost is preferred\n",
    "        self.print_something('something')\n",
    "\n",
    "class ComboClass2(AnotherClass , BaseClass):\n",
    "    def __init__(self):\n",
    "        self.print_something('something')"
   ]
  },
  {
   "cell_type": "markdown",
   "id": "270b0b24",
   "metadata": {},
   "source": [
    "Python automatically resolves any conflict between methods of the same name which may exist in multiple inherited classes. The left-most method trumps the others, so to change the behavior all one has to do is switch the order."
   ]
  },
  {
   "cell_type": "code",
   "execution_count": null,
   "id": "19c13ae3",
   "metadata": {},
   "outputs": [],
   "source": [
    "combo = ComboClass1()"
   ]
  },
  {
   "cell_type": "code",
   "execution_count": null,
   "id": "f90b1a33",
   "metadata": {},
   "outputs": [],
   "source": [
    "combo = ComboClass2()"
   ]
  },
  {
   "cell_type": "markdown",
   "id": "84444989",
   "metadata": {},
   "source": [
    "## Operator Overloading\n",
    "\n",
    "It's possible to \"overload\" arithmetic operators by replacing built-in methods like **\\_\\_add\\_\\_** and **\\_\\_mul\\_\\_**. Just for fun, here's how you could create a new version of the **str** object to override how it handles the \"+\" sign[63]:"
   ]
  },
  {
   "cell_type": "code",
   "execution_count": null,
   "id": "a78f088e",
   "metadata": {},
   "outputs": [],
   "source": [
    "class newStr(str):\n",
    "    def __init__(self, value):\n",
    "        self.value = value\n",
    "\n",
    "    def __add__(self, other):\n",
    "        return \"{}+{}\".format(str(self.value), str(other ))\n",
    "\n",
    "s = newStr('hello')\n",
    "s"
   ]
  },
  {
   "cell_type": "code",
   "execution_count": null,
   "id": "3bb17b93",
   "metadata": {},
   "outputs": [],
   "source": [
    "news = s + 444\n",
    "news * 4"
   ]
  },
  {
   "cell_type": "markdown",
   "id": "efb4c576",
   "metadata": {},
   "source": [
    "Only the '+' operator is overridden – the new object retains all of the other behaviors associated with the built-in **str** object.\n"
   ]
  },
  {
   "cell_type": "markdown",
   "id": "1aa2d1df",
   "metadata": {},
   "source": [
    "## Class Versus Instance Variables\n",
    "\n",
    "Let's put all this together, examining some issues around variable scoping and \"ownership\" among the different objects. Here's some intact code, followed by a breakdown of the important bits of it:"
   ]
  },
  {
   "cell_type": "code",
   "execution_count": null,
   "id": "f07071a5",
   "metadata": {},
   "outputs": [],
   "source": [
    "# py_animal_class.py\n",
    "\n",
    "class Animal:\n",
    "    # Class variable (in class namespace)\n",
    "    tricks = [\"jumping\", \"playing dead\", \"rolling over\", \"walking backwards\"]\n",
    "\n",
    "    def __init__(self, name, species, age, fav_food):\n",
    "        \"Variables with 'self.' belong individually to each instance.)\"\n",
    "        self.name = name\n",
    "        self.species = species\n",
    "        self.__dict__[\"age\"] = age  # alternative to self.age = age\n",
    "        self.fav_food = fav_food\n",
    "        self.stomach = []\n",
    "\n",
    "    def __str__(self):\n",
    "        \" This is what print() uses.\"\n",
    "        fstr = \"Hi, I'm {}, a {} who loves {}!\\n\"\\\n",
    "            \"And I know how to all these things: {}!\\n\"\n",
    "        return fstr.format(self.name, self.species,\n",
    "                           self.fav_food,\n",
    "                           \" and \".join(self.tricks))\n",
    "\n",
    "    def __repr__(self):\n",
    "        \" This is what the REPL uses.\"\n",
    "        return f\"Animal(name={self.name}, species={self.species})\""
   ]
  },
  {
   "cell_type": "markdown",
   "id": "a3831bea",
   "metadata": {},
   "source": [
    "We created Animal by using the keyword **class**.\n",
    "\n",
    "    class Animal: \n",
    "\n",
    "Because \"Animal\" is not followed by any arguments it has not inherited from any other **class** –we're starting with a clean slate.\n",
    "\n",
    "Next, we have a \"top level\", global-to-**Animal** variable defined."
   ]
  },
  {
   "cell_type": "code",
   "execution_count": null,
   "id": "7cdd8b93",
   "metadata": {},
   "outputs": [],
   "source": [
    "\n",
    "tricks = [\"jumping\", \"playing dead\",\"rolling over\", \"walking backwards\"]"
   ]
  },
  {
   "cell_type": "markdown",
   "id": "a61b468e",
   "metadata": {},
   "source": [
    "\n",
    "\n",
    "This variable's scope is such that it's visible to any of the class methods (\"functions\" when standing alone) within **Animal**.\n",
    "\n",
    "Right below, we see the first instance of a method beginning with a \"dunder.\""
   ]
  },
  {
   "cell_type": "code",
   "execution_count": null,
   "id": "f767d2ad",
   "metadata": {},
   "outputs": [],
   "source": [
    "def __init__(self, name, species, age, fav_food):\n",
    "    \" The instance initializer.\""
   ]
  },
  {
   "cell_type": "markdown",
   "id": "8914bba6",
   "metadata": {},
   "source": [
    "\n",
    "\n",
    "The special name **\\_\\_init\\_\\_** signals the interpreter that this method needs to run when a new instance of the class is created.\n",
    "\n",
    "Note that the constructor (and the constructors for all the methods) have \"self\" as the first argument. That's a stand-in for \"this particular instance of **Animal** – having nothing to do with any other instance of **Animal**.\" In other words \"self\" refers a specific manifestation of the general class **Animal**[64]. You can see it in use in each of the next several statements.\n",
    "\n",
    "Variables like **self.name** and **self.species** are assigned for this particular instance based on the input arguments provided when an instance is created, as it might be with a statement like:"
   ]
  },
  {
   "cell_type": "code",
   "execution_count": null,
   "id": "96d5e62d",
   "metadata": {},
   "outputs": [],
   "source": [
    "# Make us a dawg and create an introduction with the __str__() method\n",
    "mypet = Animal(\"Fang\", \"dog\", 10, \"steak\")\n",
    "print(mypet)"
   ]
  },
  {
   "cell_type": "code",
   "execution_count": null,
   "id": "523dcb59",
   "metadata": {},
   "outputs": [],
   "source": [
    "# Create a cat with the same hobbies as the dog.\n",
    "neighbor_cat = Animal(\"Fluffy\", \"cat\", 1, \"mice\")\n",
    "print(neighbor_cat)"
   ]
  },
  {
   "cell_type": "code",
   "execution_count": null,
   "id": "870305f7",
   "metadata": {},
   "outputs": [],
   "source": [
    "# Override an attribute of the Animal instance that we call \"Fluffy\"\n",
    "print(f\"Original cat tricks and food: {neighbor_cat.tricks} / {neighbor_cat.fav_food}\")\n",
    "\n",
    "# This creates the overrides\n",
    "neighbor_cat.tricks = ['tangling yarn', 'throwing kitty litter']\n",
    "neighbor_cat.fav_food = 'rats'\n",
    "\n",
    "print(f\"Alternative cat tricks and food: {neighbor_cat.tricks} / {neighbor_cat.fav_food}\")"
   ]
  },
  {
   "cell_type": "code",
   "execution_count": null,
   "id": "bf13e880",
   "metadata": {},
   "outputs": [],
   "source": [
    "# Override an attribute of the Animal instance that we call \"Fang\"\n",
    "print(f\"Original dog tricks: {mypet.tricks} / {mypet.fav_food}\")\n",
    "\n",
    "# This creates the override\n",
    "mypet.tricks = ['gnawing mailman', 'howling @ moon']\n",
    "\n",
    "print(f\"Alternative dog tricks: {mypet.tricks} / {mypet.fav_food}\")"
   ]
  },
  {
   "cell_type": "markdown",
   "id": "0045e160",
   "metadata": {},
   "source": [
    "As you can see the two Animal instances have complete independence from one another.  Sort of.\n",
    "\n",
    "If you look carefully at the class definition, you'll see that the fav_food is defined in the __init__() method as a member of the \"self\" namespace:  \n",
    "\n",
    "    self.fav_food = fav_food\n",
    "\n",
    "So that means that my_pet.fav_food is a separate object from neighbor_cat.fav_food.\n",
    "\n",
    "It's another story altogether with tricks.  This is defined as a member of the Animal class:\n",
    "\n",
    "    class Animal:\n",
    "        tricks = [\"jumping\", \"playing dead\", \"rolling over\", \"walking backwards\"]\n",
    "        \n",
    "The result is that the default value for tricks is just what's defined in the class.  For any instance, we can do a 'hard override' on this default by specifying a different value for an instance like this:\n",
    "\n",
    "    mypet.tricks = ['gnawing mailman', 'howling @ moon']\n",
    "    \n",
    "Which forcefully imposes a different attribute va;ue on the instance.   If we fail to do so, our dog is stuck with the class-level behaviors forever.   One way to think of this is:   absent imposing a different value, the instance's value is linked to the class's value.\n",
    "\n",
    "Here's an example:\n"
   ]
  },
  {
   "cell_type": "code",
   "execution_count": null,
   "id": "b184f745",
   "metadata": {},
   "outputs": [],
   "source": [
    "# Here's another cat.\n",
    "another_cat = Animal(\"Snarly\", \"cat\", 100, \"catnip\")\n",
    "another_cat.tricks"
   ]
  },
  {
   "cell_type": "code",
   "execution_count": null,
   "id": "ff4e8026",
   "metadata": {},
   "outputs": [],
   "source": [
    "# Change the tricks at the class level.\n",
    "Animal.tricks = ['Tired of doing tricks!']"
   ]
  },
  {
   "cell_type": "code",
   "execution_count": null,
   "id": "e1bd4a73",
   "metadata": {},
   "outputs": [],
   "source": [
    "another_cat.tricks"
   ]
  },
  {
   "cell_type": "markdown",
   "id": "174bf22e",
   "metadata": {},
   "source": [
    "What happened is that the instance's bag of tricks changed - even after the instance was created!   That's because of the linkage back to the class variable.\n",
    "\n",
    "The moral of the story is that you need to be aware of scope and the effect of changes.\n",
    "\n",
    "Note that Python is very cavalier about how you can change attributes.  It's very much of a \"responsible adults can do what they want\" approach.   So, as we've seen, Python will let you:\n",
    "\n",
    "    Change class-level attributes at will\n",
    "    Update instance-level attributes at will\n",
    "    \n",
    "And, you can even add attributes not initially assigned.  Watch this:"
   ]
  },
  {
   "cell_type": "code",
   "execution_count": null,
   "id": "00d475a4",
   "metadata": {},
   "outputs": [],
   "source": [
    "another_cat.reaction = \"Yikes\"\n",
    "another_cat.eyes = \"Crossed\"\n",
    "print(f\"This cat has {another_cat.eyes} eyes.  {another_cat.reaction}!\")"
   ]
  },
  {
   "cell_type": "code",
   "execution_count": null,
   "id": "e8dec573",
   "metadata": {},
   "outputs": [],
   "source": [
    "tricks = [\"xxx\"]\n",
    "print(f\"Alternative dog tricks: {mypet.tricks} / {mypet.fav_food}\")"
   ]
  },
  {
   "cell_type": "markdown",
   "id": "6cc769ef",
   "metadata": {},
   "source": [
    "## Multiple Inheritance\n",
    "\n",
    "In Python, we can create classes that inherit from multiple parents.  Here's a simplified hierarchy involving some Dogs and Cats:"
   ]
  },
  {
   "cell_type": "code",
   "execution_count": null,
   "id": "219c8525",
   "metadata": {},
   "outputs": [],
   "source": [
    "class Mammal():\n",
    "    def __init__(self):\n",
    "        self.warmblooded = True\n",
    "    \n",
    "m = Mammal()"
   ]
  },
  {
   "cell_type": "code",
   "execution_count": null,
   "id": "2bac48dc",
   "metadata": {},
   "outputs": [],
   "source": [
    "class Dog(Mammal):\n",
    "    def __init__(self, name):\n",
    "        Mammal.__init__(self)\n",
    "        self.name = name\n",
    "        \n",
    "    def speak(self):\n",
    "        print(\"The dog {} says: WOOF!\".format(self.name))\n",
    "        \n",
    "dog = Dog(\"Fang\")\n",
    "dog.speak()"
   ]
  },
  {
   "cell_type": "code",
   "execution_count": null,
   "id": "e343e78a",
   "metadata": {},
   "outputs": [],
   "source": [
    "class Cat(Mammal):\n",
    "    def __init__(self, name):\n",
    "        self.name = name\n",
    "        self.breath = \"bad\"\n",
    "        Mammal.__init__(self)\n",
    "        \n",
    "    def speak(self):\n",
    "        print(\"The Cat {} says: Derp.\".format(self.name))\n",
    "    \n",
    "cat = Cat(\"Snarky\")\n",
    "cat.speak()"
   ]
  },
  {
   "cell_type": "markdown",
   "id": "5a678130",
   "metadata": {},
   "source": [
    "To invoke this feature, simply provide a comma separated\n",
    "recitation of them as arguments in the new class' constructor. In the\n",
    "next example, we'll make a cat/dog chimera. \n"
   ]
  },
  {
   "cell_type": "code",
   "execution_count": null,
   "id": "39cbcfde",
   "metadata": {},
   "outputs": [],
   "source": [
    "class Dat(Dog, Cat):\n",
    "    \"Dog/Cat combo - MRO favors left-most argument\"\n",
    "    \n",
    "    def __init__(self):\n",
    "        super().__init__(\"Dat\")\n",
    "        print(\"\\nDat: MRO is Dog then Cat\")\n",
    "        self.speak()\n",
    "    \n",
    "dat = Dat()"
   ]
  },
  {
   "cell_type": "code",
   "execution_count": null,
   "id": "c40a24bb",
   "metadata": {},
   "outputs": [],
   "source": []
  },
  {
   "cell_type": "markdown",
   "id": "2146c786",
   "metadata": {},
   "source": [
    "Encapsulation\n",
    "-------------\n",
    "\n",
    "Encapsulation is the notion that there is one and only one way to access an object. \n",
    "\n",
    "The idea is that objects are atomic, but they have a specific context – and you're supposed to interact with them \"by the rules.\" For example, some languages use getters and setters to interact with a class' attributes and enforce that interaction. That way there are specific points of contact that serve as gateways. As another example, methods (\"verbs\") within a class are only accessible within the context of the class.\n",
    "\n",
    "Python naturally supports encapsulation by \"hiding\" variables within the namespaces of different structures like functions, inner functions, classes, and modules. A further level of control can be exercised by employing \"getters\" and \"setters\" to control access to instance variables. Note that Python has no such requirement but sometimes it's a good idea to lock things down further.\n",
    "\n",
    "To accomplish this, Python employs a special \"decorator[65]\" called **property**. Decorators are methods that take the decorated object as an argument – essentially swallowing the decorated object, much as the print function can swallow another function using its output as an argument as in this example:\n",
    "\n",
    "    print(\"hello world\".upper())\n",
    "\n",
    "In the following example we define two methods, both named after a variable we want to manage **val**. \n",
    "\n",
    "The idea is that if **val** is requested, the method under **@property** is executed. If there's an attempt to change **val**, the method under **@val.setter** is executed.  \n",
    "\n",
    "Here, we're using the **setter** to screen out assignment of inappropriate object types – we're accepting only integer values."
   ]
  },
  {
   "cell_type": "code",
   "execution_count": null,
   "id": "4c3ad1ea",
   "metadata": {},
   "outputs": [],
   "source": [
    "class GetSet:\n",
    "    def __init__(self):\n",
    "        self._val = None\n",
    "    \n",
    "    @property\n",
    "    def val(self):\n",
    "        return self._val\n",
    "\n",
    "    @val.setter\n",
    "    def val(self, value):\n",
    "        if isinstance(value, int):\n",
    "            self._val = value\n",
    "            print(\"OK. Thanks for giving me \" + str(value))\n",
    "        else:\n",
    "            print(\"Sorry, I'm looking for an integer but you gave me \" + str(value))\n"
   ]
  },
  {
   "cell_type": "code",
   "execution_count": null,
   "id": "3ce8a6af",
   "metadata": {},
   "outputs": [],
   "source": [
    "# Make an instance of GetSet and provide a value\n",
    "gs = GetSet()\n",
    "gs.val = 3"
   ]
  },
  {
   "cell_type": "code",
   "execution_count": null,
   "id": "01260db4",
   "metadata": {},
   "outputs": [],
   "source": [
    "gs.val = \"aardvark!\""
   ]
  },
  {
   "cell_type": "markdown",
   "id": "b4ba7bf6",
   "metadata": {},
   "source": [
    "The reason this works is that we've introduced a fake variable here '_val' (this is called \"name mangling\").  You'll see that it's introduced as 'self._val' in the __init__() method.   This is the variable that carries the real payload.\n",
    "\n",
    "When we want to interact with variable exposed to the outside world 'val', our decorated class methods by the same name intercept the request.\n",
    "\n",
    "If the interaction is merely a request for the current value, we return the internal 'self._val'.\n",
    "\n",
    "If the interaction makes an attempt to change the value, we subject the request to thorough interrogation.  Only after it passes muster do we pass the new value to the internal 'self_val' variable.\n",
    "\n",
    "This provides some \"soft\" protection against outside code changing attributes.   It's not remotely like security against malicious code or an overly-confident programmer.   In fact, by convention any attribute that begins with a single- or double-underscore is named as a warning to other coders that it's intended for internal use only."
   ]
  },
  {
   "cell_type": "markdown",
   "id": "0b724934",
   "metadata": {},
   "source": [
    "Regular Expressions\n",
    "===================\n",
    "\n",
    "Regular expressions (also known as REs or regexes) offer a very low-level way to process text, very efficiently.  Regexes have been around for about as long as computing - in fact they're the \"re\" in the ubiquitous grep (short for global regular expression print).\n",
    "\n",
    "You'll run into them as a matter of course in Perl and Django URL resolvers. They can be used for search expressions in Vi/Vim, VSCode.  You can even use them in Pandas to conduct cell- or column-wise wrangling on text columns.\n",
    "\n",
    "While powerful, the offer some of the least transparent, horrifically-hard-to-read statements ever. IMHO, anyway. So we'll build up gradually and your confidence in using them should materialize quickly.\n",
    "\n",
    "Python support is contained in the **re** library, and in the normal **help** facility. \n",
    "\n",
    "A really excellent online resource can be found at https://regex101.com/#python. It provides an interactive way to build your regex, test it against a string, view matches.   Best of all it provides a breakdown of exactly what each step of your regex is doing."
   ]
  },
  {
   "cell_type": "markdown",
   "id": "c6cbe2d5",
   "metadata": {},
   "source": [
    "Begin at the beginning\n",
    "----------------------\n",
    "\n",
    "For starters, let's just look for a string inside another string. For this you need a regex string to describe what you're looking for and another string to search."
   ]
  },
  {
   "cell_type": "code",
   "execution_count": null,
   "id": "2ab96c3e",
   "metadata": {},
   "outputs": [],
   "source": [
    "import re\n",
    "\n",
    "# Our regular expresion 'regex' is the string we're looking for.\n",
    "regex = r'x'       # 'r' means don't escape any characters.\n",
    "target = r'Texas'\n",
    "\n",
    "# Use the search() method to do a simple search\n",
    "result = re.search(regex, target)\n",
    "\n",
    "if result:\n",
    "    print(\"Yay! {} found..\".format(regex))\n",
    "    print(\"The found object is: {}.\".format(result))"
   ]
  },
  {
   "cell_type": "markdown",
   "id": "a7ba3f97",
   "metadata": {},
   "source": [
    "As you can see, this returned a **SRE\\_Match** object. The fact that it returned anything means that we hit pay dirt by finding at least one match."
   ]
  },
  {
   "cell_type": "markdown",
   "id": "df695d50",
   "metadata": {},
   "source": [
    "Character Sets\n",
    "--------------\n",
    "\n",
    "If you want to look for any one of a bunch of characters, you can use what's known as a \"character set.\" It's just a string that includes surrounding square brackets. \n",
    "\n",
    "Any of these work: \n",
    "\n",
    "    r'[abc]'  r'[12345]'  r'[1-4]' \n",
    "\n",
    "Here are some examples:"
   ]
  },
  {
   "cell_type": "code",
   "execution_count": null,
   "id": "41a7f322",
   "metadata": {},
   "outputs": [],
   "source": [
    "regex =  r\"[0123456789]\" , #all digits\n",
    "\n",
    "# Here are some alternatives, some ideomatic\n",
    "\n",
    "alternatives = [ r\"[0-9]\",              #shorthand for all digits\n",
    "                 r\"[abc]\" ,             #any of a, b, or c\n",
    "                 r\"[abc] [abc] [abc]\",  #3 consecutive letters; each any of  a or b or c\n",
    "                 r\"[^0-9]\",             #NOT a digit (the ^ in first position negates\n",
    "               ]\n"
   ]
  },
  {
   "cell_type": "code",
   "execution_count": null,
   "id": "3d21d6d7",
   "metadata": {},
   "outputs": [],
   "source": [
    "import re\n",
    "\n",
    "def test_regex(regex_list, target_list):\n",
    "    \"Quick test for regex matches, takes two lists.\"\n",
    "    print(f\"{'Regex':>20}       {'Result':<50}\")\n",
    "    print()\n",
    "    \n",
    "    for r in regex_list:\n",
    "        for t in target_list:\n",
    "            result = re.search(r, t)\n",
    "            if result:\n",
    "                print(f\"{r:>20} {'.'*3} ** matched with {t:<50}\")\n",
    "            else:\n",
    "                print(f\"{r:>20} {'.'*3} failed with {t:<50}\")\n",
    "            del result\n",
    "        print()"
   ]
  },
  {
   "cell_type": "code",
   "execution_count": null,
   "id": "1b0064aa",
   "metadata": {},
   "outputs": [],
   "source": [
    "# Here are a few targets - we'll test these against all our regex expressions.\n",
    "target = (r'Texas', r'123', r\"a\", r\"abc\")\n",
    "\n",
    "# Invoke the test\n",
    "test_regex(list(regex) + alternatives, target)"
   ]
  },
  {
   "cell_type": "markdown",
   "id": "c92b3c7a",
   "metadata": {},
   "source": [
    "Special Symbols\n",
    "---------------\n",
    "\n",
    "This is pretty easy so far, right? \n",
    "\n",
    "Regular expressions use a lot of special characters which are shorthand for matching rules. You've got to escape them with the \"\\\\\" if you intend to use them literally. \n",
    "\n",
    "We'll visit them pretty soon, but for now, here they are:\n",
    "\n",
    "     [ ] ( ) { } + * ? $ ^ . "
   ]
  },
  {
   "cell_type": "markdown",
   "id": "a23377e5",
   "metadata": {},
   "source": [
    "Shortcuts\n",
    "---------\n",
    "\n",
    "Since people are looking for the same strings all the time there are some clichés / shortcuts available. The general form is a slash followed by a letter. If the letter is lower case, it's an \"affirmative\" search; if upper case, it's a \"negative\" search.   Note the symmetry between the upper- and lower-case strings.\n",
    "\n",
    "Here are a few:\n",
    "\n",
    "|                           |                                    |\n",
    "|---------------------------|------------------------------------|\n",
    "| \\\\w any digit or letter   | \\\\W anything but a digit or letter |\n",
    "| \\\\d any digit             | \\\\D anything but a digit           |\n",
    "| \\\\s any whitespace        | \\\\S anything but a whitespace      |\n",
    "| . (a dot) anything        |                                    |\n",
    "| ^ match only at beginning | \\$ match only at the end           |\n",
    "\n",
    "Additionally, there are shortcuts that keep you from repeating bits of your regex string when you're looking for multiple instances of the same thing. \n",
    "\n",
    "Here are some shorthand expressions for specific quantities:\n",
    "\n",
    "        \\*     0 or more\n",
    "\n",
    "        ?      0 or 1\n",
    "\n",
    "        +      1 or more\n",
    "\n",
    "        {x}    Exactly x\n",
    "\n",
    "        {x,y}  Between x and y, inclusive of x and y\n",
    "\n",
    "        {x, }  X or more\n",
    "\n",
    "Here are some examples:"
   ]
  },
  {
   "cell_type": "code",
   "execution_count": null,
   "id": "220112af",
   "metadata": {},
   "outputs": [],
   "source": [
    "import re\n",
    "regex = (   r\"cu\" ,     #'cu'\n",
    "            r\"0{\\d4}\",  #4 digits\n",
    "            r\"x{1,3}\" , #1,2, or 3 'x'\n",
    "            r\"0{2,}\",   #2 or more zeros\n",
    "            r\"\\W+\",     #contains at least one #non alphanumeric\n",
    "        )\n",
    "\n",
    "target = (r'Chicago Cubs', \n",
    "          r'1000000 dollars',\n",
    "          r\"xxxooo\", \n",
    "          r\"$2500K\")\n",
    "\n",
    "test_regex(regex, target)"
   ]
  },
  {
   "cell_type": "markdown",
   "id": "5cc13db2",
   "metadata": {},
   "source": [
    "Match objects and compiled regexes\n",
    "----------------------------------\n",
    "\n",
    "It's possible to compile your regex to increase performance – this is especially useful if you plan to use it thousands of times because it doesn't have to happen \"on demand\" each time.\n",
    "\n",
    "You can query the match objects to find starting and ending positions.  This is useful if you want to use indices to retrieve content around particular phrases.\n",
    "\n",
    "The following example demonstrates some of the information you can retrieve and the use of **re.compile**:"
   ]
  },
  {
   "cell_type": "code",
   "execution_count": null,
   "id": "97510319",
   "metadata": {},
   "outputs": [],
   "source": [
    "import re\n",
    "\n",
    "# Set our regex and target strings.\n",
    "regex = r\"Cubs\"\n",
    "target = r'Chicago Cubs'\n",
    "\n",
    "# This step complies the regex.\n",
    "compiled = re.compile(regex)\n",
    "\n",
    "# The complied version has the same API as the re library\n",
    "result = compiled.search(target)\n",
    "\n",
    "if result:\n",
    "    print(\"{:10} matched with {:10}.\" \\\n",
    "    .format(target, regex))\n",
    "    print(\"span\", result.span())\n",
    "    print(\"start\", result.start())\n",
    "    print(\"end\", result.end())"
   ]
  },
  {
   "cell_type": "markdown",
   "id": "8bdbbea3",
   "metadata": {},
   "source": [
    "Finally, I'd like to point out that re has a **VERBOSE** mode that allows you to stretch complicated expressions (yes, they can get really complicated) across several lines. When you do so, it's possible to provide comments to help your teammates decipher just what it's intended to do.\n",
    "\n",
    "Here's an example borrowed from *Dive into Python* [67], to illustrate its use. This regex is used to validate Roman numerals."
   ]
  },
  {
   "cell_type": "code",
   "execution_count": null,
   "id": "a6b12d64",
   "metadata": {},
   "outputs": [],
   "source": [
    "pattern = \"\"\"\n",
    "            ^ # beginning of string\n",
    "            \n",
    "            M{0,4}           # thousands - 0 to 4 M's\n",
    "            (CM|CD|D?C{0,3}) # hundreds - 900 (CM), 400 (CD),\n",
    "                             # 0-300 (0 to 3 C's), or 500-800\n",
    "                             # (D, followed by 0 to 3 C's)\n",
    "                             \n",
    "            (XC|XL|L?X{0,3}) # tens - 90 (XC), 40 (XL), 0-30\n",
    "                             # (0 to 3 X's),\n",
    "                             # or 50-80 (L, followed by 0 to 3\n",
    "                             # X's)\n",
    "                             \n",
    "            (IX|IV|V?I{0,3}) # ones - 9 (IX), 4 (IV), 0-3\n",
    "                             # (0 to 3 I's), or 5-8 (V,\n",
    "                             # followed by 0 to 3 I's)\n",
    "                             \n",
    "            $                # end of string\n",
    "            \"\"\"\n",
    "\n",
    "re.search(pattern, 'M', re.VERBOSE)"
   ]
  },
  {
   "cell_type": "markdown",
   "id": "6623d837",
   "metadata": {},
   "source": [
    "Substitution\n",
    "------------\n",
    "\n",
    "You can use regexes to do string substitutions using the **re.sub** method. Here's an example:"
   ]
  },
  {
   "cell_type": "code",
   "execution_count": null,
   "id": "71fe25f1",
   "metadata": {},
   "outputs": [],
   "source": [
    "# Set up a search expression, the new value and a target and target string.\n",
    "regex = 'cubs'\n",
    "change_to = \"CUBS\"\n",
    "target = \"\"\"If the cubs actually win again, will they still be the cubs?'\n",
    "\n",
    "# Invoke the re.sub() method\n",
    "result = re.sub(regex, change_to, target)\n",
    "if result:\n",
    "    print(result)"
   ]
  },
  {
   "cell_type": "markdown",
   "id": "ff36b10a",
   "metadata": {},
   "source": [
    "## Exercise\n",
    "\n",
    "Please write a regex that will convert credit card numbers from their original form (4-four digit numbers) to a safer form like xxxx-xxxx-xxxx-3423. Feel free to use regex101.com or any other resource."
   ]
  },
  {
   "cell_type": "markdown",
   "id": "6bd4414d",
   "metadata": {},
   "source": [
    "Testing\n",
    "============\n",
    "\n",
    "There are several ways to test Python code.  There's \"end to end testing\" that includes what's displayed in the front end.  Performance testing may apply speed tests when the goal is to meet efficiency standards.  Doctests embed logic testing right into the code.  \n",
    "\n",
    "We focus here on unit testing with the built-in unittest library.  \n",
    "\n",
    "Unit testing is, aside from learning how to work with Python’s **help**\n",
    "utility, the most important topic to take away from this course, IMHO.\n",
    "In this world of agile development, globally-distributed development\n",
    "teams, and collaborative maintenance of large open source projects, you\n",
    "really need to having clean, reliable, working code available 24/7. The\n",
    "material presented here will teach you the fundamentals of test driven\n",
    "development and Python's unit testing implementation\\[13\\]."
   ]
  },
  {
   "cell_type": "markdown",
   "id": "f920f4c8",
   "metadata": {},
   "source": [
    "Why unit testing?\n",
    "\n",
    "- Overcome presumption of shlock\n",
    "    \n",
    "    \n",
    "- Clarify specifications\n",
    "    \n",
    "    \n",
    "- Isolate distant issues quickly\n",
    "    \n",
    "    \n",
    "- Think through corner conditions\n",
    "    \n",
    "    \n",
    "- Encourages atomic, testable code\n",
    "    \n",
    "    \n",
    "- Collaboration\n",
    "\n",
    "\n",
    "- Sleep !"
   ]
  },
  {
   "cell_type": "markdown",
   "id": "095400ff",
   "metadata": {},
   "source": [
    "Test-Driven Development\n",
    "-----------------------\n",
    "\n",
    "In its purest form, test-driven development (TDD) demands that the first\n",
    "step in any project is to write the tests needs to pass before it’s\n",
    "deemed complete. In other words, the tests form a contract between the\n",
    "product owner and the programming team. The code passes all the tests or\n",
    "it doesn’t. Programmers write code to the tests and nothing more.\n",
    "\n",
    "The world is a messy place, of course. In practice all the “corner\n",
    "conditions” won’t be known ahead of time. Responsible programmers will\n",
    "try to anticipate future requirements and avoid painting themselves into\n",
    "a corner. As a practical matter, often times the process of writing\n",
    "tests and code is iterative, and sometimes shortcuts are taken.\n",
    "Notwithstanding the ideas behind TDD are sound, and there are rich tools\n",
    "to support the process."
   ]
  },
  {
   "cell_type": "markdown",
   "id": "0b77f37c",
   "metadata": {},
   "source": [
    "The Unittest Library\n",
    "--------------------\n",
    "\n",
    "Python’s standard library includes the **uniittest** module\\[14\\]. It’s\n",
    "derived from the **JUnit** suite used by the Java community. Sometimes\n",
    "you’ll hear people refer to Python’s implementation as “PyUnit” as a tip\n",
    "of the hat to its origins."
   ]
  },
  {
   "cell_type": "markdown",
   "id": "19c568d6",
   "metadata": {},
   "source": [
    "Basics\n",
    "------\n",
    "\n",
    "Let’s get started with a simple example. We import the **unittest**\n",
    "library and create an instance of **unittest**.**TestCase**. Within the\n",
    "instance, we draw upon the **assertEqual**() method of **TestCase** to\n",
    "compare two numbers.\n",
    "\n",
    "Note that we’ve included an informative message. This is optional, and\n",
    "if you don’t provide one, the system will do its best (with iffy\n",
    "results).\n",
    "\n",
    "Also note that the data used by the test is within the test method. This\n",
    "is typically a good idea because the scope is managed, and all the\n",
    "information you need is “right there”. You want to avoid using variables\n",
    "that are global to the module, or even global to the instance to avoid\n",
    "one test “stepping on” a variable used by another."
   ]
  },
  {
   "cell_type": "code",
   "execution_count": null,
   "id": "1bc311c1",
   "metadata": {
    "slideshow": {
     "slide_type": "-"
    }
   },
   "outputs": [],
   "source": [
    "import unittest\n",
    "\n",
    "\n",
    "class FirstTest(unittest.TestCase):\n",
    "    def test_me(self):\n",
    "        first = 1\n",
    "        second = 2\n",
    "        msg = \"Sorry, Charlie, but {} is not the same as {}.\"\n",
    "\n",
    "        self.assertEqual(first, second, msg=msg.format(first, second))\n",
    "\n",
    "unittest.main(argv=[''], verbosity=2, exit=False)\n",
    "\n",
    "# In a file, one would typically invoke testing with this:\n",
    "#if __name__ == '__main__':\n",
    "#    unittest.main()"
   ]
  },
  {
   "cell_type": "markdown",
   "id": "1f48d69f",
   "metadata": {},
   "source": [
    "Let's break down what we just did here:\n",
    "\n",
    "    class FirstTest(unittest.TestCase):\n",
    "\n",
    "This creates a new class that inherits from a class in the unittest library called TestCase.\n",
    "\n",
    "    def test_me(self):\n",
    "    \n",
    "Here we have a test method - we can tell because it begins with 'test'.   The test method contains one or more of the various tests available in TestCase.\n",
    "\n",
    "    self.assertEqual(first, second, msg=msg.format(first, second))\n",
    "    \n",
    "We chose assertEqual - it's the simplest possible test and a real workhorse.  You need the first two arguments.  The third is optional if you like the default.\n",
    "\n",
    "    unittest.main(argv=[''], verbosity=2, exit=False)\n",
    "    \n",
    "To actually run the unittests, you need to call the unittest.main() method somehow.  This is one way to patch it in.  There are other options designed just for notebooks including: https://github.com/JoaoFelipe/ipython-unittest\n",
    "\n",
    "---- results ----\n",
    "\n",
    "    test_me (__main__.FirstTest) ... FAIL\n",
    "\n",
    "This is the overall result.   A total fail.\n",
    "\n",
    "    Traceback (most recent call last):\n",
    "    File \"<ipython-input-27-5d27453b3dbf>\", line 10, in test_me\n",
    "       self.assertEqual(first, second, msg=msg.format(first, second))\n",
    "\n",
    "Here we have a standard traceback showing the call stack at the time Python encountered a problem.  \n",
    "\n",
    "    AssertionError: 1 != 2 : Sorry, Charlie, but 1 is not the same as 2.\n",
    "    \n",
    "The problem encounted was a standard Python exception, the AssertionError, coupled with our custom error message.  Normally, an uncaught exception will cause a crash.  But under the hood, unittest ran the test in a protected sandbox.  It captured the error, bundled it up, and reported it back as a test result.\n",
    "\n",
    "    Ran 1 test in 0.000s\n",
    "    \n",
    "These are the summary statistics.   Each test method counts as one 'test' no matter how many individual tests are included in that method.  The test method itself is the thing that succeeds or fails.\n",
    "\n"
   ]
  },
  {
   "cell_type": "markdown",
   "id": "726ff0b6",
   "metadata": {},
   "source": [
    "Now, let’s take a look at a slightly more complicated version.  It has a few upgrades."
   ]
  },
  {
   "cell_type": "code",
   "execution_count": null,
   "id": "8ed4349e",
   "metadata": {},
   "outputs": [],
   "source": [
    "import unittest\n",
    "\n",
    "\n",
    "class FirstTest(unittest.TestCase):\n",
    "    def setUp(self):\n",
    "        \"setUp() runs before every test\"\n",
    "        self.msg = \"Sorry, Charlie, but {} is not the same as {}.\"\n",
    "\n",
    "    def tearDown(self):\n",
    "        \"tearDown runs after every test\"\n",
    "\n",
    "    def test_me(self):\n",
    "        \"this test should pass\"\n",
    "        first = 1\n",
    "        second = 2\n",
    "        self.assertEqual(first, 1, msg=self.msg.format(first, second))\n",
    "\n",
    "    def test_failing(self):\n",
    "        \"this test should fail\"\n",
    "        first = 1\n",
    "        second = 2\n",
    "        self.assertEqual(second, 1, msg=self.msg.format(first, second))\n",
    "\n",
    "    def test_passing(self):\n",
    "        \"this test should pass, too\"\n",
    "        self.assertEqual(\"b\", \"b\")\n",
    "\n",
    "    def test_passing_a_failing_test(self):\n",
    "        \"this test should pass, even though it 'fails'\"\n",
    "        self.assertNotEqual(\"a\", \"b\")\n",
    "\n",
    "\n",
    "unittest.main(argv=[''], verbosity=2, exit=False)"
   ]
  },
  {
   "cell_type": "markdown",
   "id": "5104d7e2",
   "metadata": {},
   "source": [
    "This test suite adds a couple more test methods (beginning with “test”),\n",
    "along with the new methods **setUp**() and **tearDown**().\n",
    "\n",
    "This version has several enhancements:\n",
    "\n",
    "-   **setUp**() clears the deck between tests and otherwise creates what\n",
    "    the tests need to run. Here it’s trivial, but it might create a\n",
    "    database, set environment variables, or even spin up a new AWS\n",
    "    slice.\n",
    "\n",
    "\n",
    "-   **tearDown**() cleans up any mess the testing may have created – it\n",
    "    might get rid of file system artifacts generated by the tests,\n",
    "    terminate the AWS slice, delete database tables, etc. We haven’t\n",
    "    implemented it here (so, strictly speaking we could leave it out)\n",
    "    but we’ve got a placeholder.\n",
    "    \n",
    "\n",
    "-   The test methods have **docstrings** – always a good idea.\n",
    "\n",
    "\n",
    "-   The message is moved to an instance variable. That’s OK because\n",
    "    we’re not really doing anything with it and it does reduce the\n",
    "    clutter.\n",
    "\n"
   ]
  },
  {
   "cell_type": "markdown",
   "id": "ccf3dacd",
   "metadata": {},
   "source": [
    "Most of the new tests included simply to demonstrate the resulting\n",
    "output, but I’d like to draw your attention to the\n",
    "**test**\\_**passing**\\_**a**\\_**failing**\\_**test**() method.\n",
    "\n",
    "    def test_passing_a_failing_test(self):\n",
    "        \"this test should pass, even though it 'fails'\"\n",
    "        self.assertNotEqual(\"a\", \"b\")\n",
    "\n",
    "\n",
    "It introduces a new test **assertNotEqual**(). Use of a “negative”\n",
    "test like this can let you run a test that produces unexpected results\n",
    "(fails) but still “passes” without creating an explosion of failure\n",
    "output. \n",
    "\n",
    "Most of the **TestCase** tests have a negative form, and some\n",
    "developers use them in “negative test suites” to keep them cleanly\n",
    "isolated from the affirmative ones.\n",
    "\n",
    "---- results ----\n",
    "\n",
    "    Ran 4 tests in 0.003s\n",
    "    FAILED (failures=1)\n",
    "    \n",
    "We're batting .750, but failed one test.\n",
    "\n",
    "    test_failing (__main__.FirstTest)\n",
    "    this test should fail ... FAIL\n",
    "    \n",
    "    test_me (__main__.FirstTest)\n",
    "    this test should pass ... ok\n",
    "    \n",
    "The top bit of the output details exactly which test methods passed and failed.   Note that our docstrings show up along with the result.  That will make tracking down any issues much easier.    "
   ]
  },
  {
   "cell_type": "markdown",
   "id": "3a01e402",
   "metadata": {},
   "source": [
    "TestCase test methods\n",
    "---------------------\n",
    "\n",
    "You have many choices when deciding what sort of test to run. Here’s a\n",
    "list of “assert-like” tests available:\n",
    "\n",
    "|                          |                       |                     |\n",
    "|--------------------------|-----------------------|---------------------|\n",
    "| assertAlmostEqual        | assertIsNone          | assertNotIsInstance |\n",
    "| assertAlmostEquals       | assertIsNot           | assertNotRegex      |\n",
    "| assertCountEqual         | assertIsNotNone       | assertRaises        |\n",
    "| assertDictContainsSubset | assertLess            | assertRaisesRegex   |\n",
    "| assertDictEqual          | assertLessEqual       | assertRaisesRegexp  |\n",
    "| assertEqual              | assertListEqual       | assertRegex         |\n",
    "| assertEquals             | assertLogs            | assertRegexpMatches |\n",
    "| assertFalse              | assertMultiLineEqual  | assertSequenceEqual |\n",
    "| assertGreater            | assertNotAlmostEqual  | assertSetEqual      |\n",
    "| assertGreaterEqual       | assertNotAlmostEquals | assertTrue          |\n",
    "| assertIn                 | assertNotEqual        | assertTupleEqual    |\n",
    "| assertIs                 | assertNotEquals       | assertWarns         |\n",
    "| assertIsInstance         | assertNotIn           | assertWarnsRegex    |\n",
    "\n",
    "The tests that look like assert<some_object>Equal, for instance\n",
    "**assertDictEqual**(), are not really intended to be run directly\\[19\\].\n",
    "The **assertEqual**() method serves a wrapper and calls the right\n",
    "“flavor” of the test depending on what sort of objects you’re trying to\n",
    "compare.\n",
    "\n",
    "As usual, you can learn about these by invoking something like:\n"
   ]
  },
  {
   "cell_type": "code",
   "execution_count": null,
   "id": "a6250c3a",
   "metadata": {},
   "outputs": [],
   "source": [
    "help(unittest.TestCase)"
   ]
  },
  {
   "cell_type": "markdown",
   "id": "75c57fa0",
   "metadata": {},
   "source": [
    "I would call out a couple of these.\n",
    "\n",
    "**assertAlmostEqual**() and **assertNotAlmostEqual**() are used to\n",
    "compare floating point numbers where there could be garbage bits or\n",
    "imprecise results of operations\\[20\\]. Its constructor looks like this:\n",
    "\n",
    "    assertAlmostEqual(first, second, places=None, msg=None, delta=None)\n",
    "\n",
    "\n",
    "The optional keyword argument ‘places’ determines how many decimal\n",
    "places to look out to determine equality (the default is 7 places). The\n",
    "optional keyword ‘delta’ allows you to set a specific difference (amount\n",
    "of slop) you’ll allow.\n",
    "\n",
    "There’s also a method that will allow you to ensure that a particular\n",
    "exception gets raised. The syntax is a bit different from the rest.\n",
    "\n",
    "Here’s its constructor:\n",
    "\n",
    "    assertRaises(excClass, callableObj=None, \\*args, \\*\\*kwargs) \n",
    "    \n",
    "In more human terms, this means:\n",
    "\n",
    "    assertRaises(<name of the exception>, \n",
    "                 <the thing being tested>,\n",
    "                 <first postional arg>, \n",
    "                 <second positional arg>,\n",
    "                 <etc.>\n",
    "                 <first keyword arg>,\n",
    "                 <second keyword arg>\n",
    "                 <etc.>\n",
    "                 )\n",
    "                 \n",
    "So for a this simple function:\n",
    "\n",
    "    def div_me(num, denom):\n",
    "        return num/denom\n",
    "    \n",
    "... a test might look like this - the arguments to div_me are sent in separately:    \n",
    "  \n",
    "    assertRaises(ZeroDivisionError, div_me, 1, 0)\n",
    "    \n",
    "... NOT like this where the function is simply called normally:\n",
    "\n",
    "    assertRaises(ZeroDivisionError, div_me(1,0))\n",
    "\n",
    "Here’s an example:"
   ]
  },
  {
   "cell_type": "code",
   "execution_count": null,
   "id": "fc0353e8",
   "metadata": {},
   "outputs": [],
   "source": [
    "def div_me(num, denom):\n",
    "    return num/denom\n",
    "\n",
    "class RaiseTest(unittest.TestCase):\n",
    "    def test_raise(self):\n",
    "        \"demonstrates AssertRaises\"\n",
    "        self.assertRaises(ZeroDivisionError, div_me, 1, 0)\n",
    "        \n",
    "    def test_raise1(self):\n",
    "        \"demonstrates AssertRaises\"\n",
    "        self.assertRaises(ZeroDivisionError, div_me(1,0))        \n",
    "                          \n",
    "unittest.main(argv=[''], verbosity=2, exit=False)                          "
   ]
  },
  {
   "cell_type": "code",
   "execution_count": null,
   "id": "16b17bbf",
   "metadata": {},
   "outputs": [],
   "source": [
    "import unittest\n",
    "\n",
    "\n",
    "def raise_somthing(input1, input2, kwarg = 'kwarg'):\n",
    "    \"This does nothing but raise an exception.\"\n",
    "    raise ZeroDivisionError\n",
    "\n",
    "class RaiseTest(unittest.TestCase):\n",
    "    def test_raise(self):\n",
    "        \"demonstrates AssertRaises\"\n",
    "        self.assertRaises(ZeroDivisionError,\n",
    "                          raise_somthing, \"input1\", \"input2\", kwarg=\"hey!\")\n",
    "\n",
    "unittest.main(argv=[''], verbosity=2, exit=False)"
   ]
  },
  {
   "cell_type": "markdown",
   "id": "839d7c33",
   "metadata": {},
   "source": [
    "Note that if you've been running this notebook you may see results from previous in your results.  To clear them find 'Kernel' in the Jupyter toolbar.  Click on it and choose 'Restart & Clear Output'.   That's equivalent to starting a new Python shell."
   ]
  },
  {
   "cell_type": "markdown",
   "id": "d8eb8c6b",
   "metadata": {},
   "source": [
    "If You Make a Mess, Clean It Up\n",
    "-------------------------------\n",
    "\n",
    "Many times, you’ll be opening files, creating directories, etc., with\n",
    "your application. How do you manage to go through all the debugging\n",
    "without completely trashing your file system? The last thing you want is\n",
    "your file system (or your client’s!) cluttered with hundreds of scratch\n",
    "files.\n",
    "\n",
    "Fortunately, Python has some tools available to help out. The\n",
    "**tempfile** library has several methods for creating temporary\n",
    "directories, files, etc. It will set these up in a directory\n",
    "(OS-appropriate) intended for scratch files, and for which your program\n",
    "will have sufficient permissions to work with.\n",
    "\n",
    "There’s a library called **shutil** that contains methods similar to\n",
    "those in the **os** library (with some overlap) that allow you to\n",
    "execute “macro scale” commands, just as you might a shell environment,\n",
    "to operate on large chunks of your file system. \n",
    "\n",
    "Because Python is OS-agnostic, it will automatically select the right “flavor” of shell\n",
    "command to use. "
   ]
  },
  {
   "cell_type": "code",
   "execution_count": null,
   "id": "e2683bf5",
   "metadata": {},
   "outputs": [],
   "source": [
    "import shutil\n",
    "print(\", \".join([ _ for _ in dir(shutil) if not _.startswith('_') ]))"
   ]
  },
  {
   "cell_type": "markdown",
   "id": "836f6ded",
   "metadata": {},
   "source": [
    "Here is a **unittest** application that performs file system operations\n",
    "in a super-polite way:"
   ]
  },
  {
   "cell_type": "code",
   "execution_count": null,
   "id": "c9ef783f",
   "metadata": {},
   "outputs": [],
   "source": [
    "import unittest\n",
    "import tempfile\n",
    "import os\n",
    "import shutil\n",
    "\n",
    "\n",
    "class RaiseTest(unittest.TestCase):\n",
    "    def setUp(self):\n",
    "        self.original_dir = os.getcwd()\n",
    "        self.test_dir = tempfile.mkdtemp()\n",
    "        os.chdir(self.test_dir)\n",
    "\n",
    "    def test_tempfiles(self):\n",
    "        \"demonstrates creating temporary files\"\n",
    "        files_to_write = 5\n",
    "        \n",
    "        for filenum in range(files_to_write):\n",
    "            open(\"file\"+str(filenum), 'w').close()\n",
    "            \n",
    "        myfiles = os.listdir()\n",
    "        \n",
    "        # do I have the right number of files\n",
    "        self.assertEqual(len(myfiles), files_to_write)\n",
    "        \n",
    "        # check a name to be sure it's right\n",
    "        lookfor = \"file0\"\n",
    "        self.assertTrue(lookfor in myfiles)\n",
    "\n",
    "    def tearDown(self):\n",
    "        os.chdir(self.original_dir)\n",
    "        shutil.rmtree(self.test_dir)"
   ]
  },
  {
   "cell_type": "markdown",
   "id": "c166cbe7",
   "metadata": {},
   "source": [
    "Let's break down the script a bit to better understand it.\n",
    "\n",
    "    def setUp(self):\n",
    "        self.original_dir=os.getcwd()\n",
    "        self.test_dir=tempfile.mkdtemp()\n",
    "        os.chdir(self.test_dir)\n",
    "\n",
    "\n",
    "This code will “remember” the current directory in self.original.\n",
    "\n",
    "Then it creates a throwaway directory with **tempfile**.**mkdtemp**().\n",
    "\n",
    "Finally, it switches into the new directory.  This is a really good idea because we can avoid path specifications.   The default location for any sort of file system manipulation is the current directory.  We can write completely generic code to do these operations, agnostic about what particular directory it targets.\n",
    "\n",
    "    files_to_write=5\n",
    "    for filenum in range(files_to_write):\n",
    "        open(\"file\"+str(filenum), 'w').close()\n",
    "        myfiles=os.listdir()\n",
    "\n",
    "This bit simply writes a bunch of files to the current directory and grabs a listing of the directory using the **os** library method **listdir**().   Note that we opened and closed a file with a single command.\n",
    "\n",
    "    myfiles = os.listdir()\n",
    "    self.assertEqual(len(myfiles), files_to_write)\n",
    "    \n",
    "Since we're writing files into a new directory, all we have to do is count them up to make sure they were created properly.\n",
    "\n",
    "\n",
    "    lookfor=\"file0\"\n",
    "    self.assertTrue(lookfor in myfiles)\n",
    "\n",
    "This makes sure that at least one of the files was properly named.  The testing could certainly be more robust, but this is a reasonable start.\n",
    "\n",
    "    def tearDown(self):\n",
    "        os.chdir(self.original_dir)\n",
    "        shutil.rmtree(self.test_dir)"
   ]
  },
  {
   "cell_type": "markdown",
   "id": "19b494d6",
   "metadata": {},
   "source": [
    "## Be Careful With rmtree\n",
    "\n",
    "Two words about **rmtree**() are in order. BE CAREFUL.  Maybe three words.  BE REALLY CAREFUL.\n",
    "\n",
    "This command will delete whatever directory you ask it to. And all its subdirectories. And\n",
    "all the files. Silently. Forever.  \n",
    "\n",
    "That being said, it’s like a chain saw\n",
    "– while potentially dangerous it saves a lot of work. You don’t have to\n",
    "delete the files or subdirectories first, or any of that. It performs\n",
    "well when you use it safely\\[23\\]"
   ]
  },
  {
   "cell_type": "markdown",
   "id": "7291e9bb",
   "metadata": {},
   "source": [
    "Separation of Responsibilities\n",
    "------------------------------\n",
    "\n",
    "So far we’ve physically located our unit testing with the code that’s\n",
    "being tested. That’s OK, but not typical – tests usually sit in\n",
    "dedicated modules and import the bits of code being tested. This is\n",
    "usually a good idea. The main code isn’t cluttered with tests so is\n",
    "easier to read. You don’t want tests running with your production code\n",
    "because it wastes resources. It’s also not unusual to ask one team to\n",
    "write tests and another to write the code to pass them – in this case\n",
    "physical separation is actually required.\n",
    "\n",
    "Here’s a small example of two files with such a separation of\n",
    "responsibility\\[24\\]."
   ]
  },
  {
   "cell_type": "code",
   "execution_count": null,
   "id": "6dab41bb",
   "metadata": {},
   "outputs": [],
   "source": [
    "# Write a short Python program to a file.  We'll test it below.\n",
    "code = \"\"\"\\\n",
    "def add_numbers(first, second):\n",
    "    return first + second\n",
    "\"\"\"\n",
    "\n",
    "with open('py_unit_4_code.py', 'w') as fh:\n",
    "    fh.write(code)    "
   ]
  },
  {
   "cell_type": "code",
   "execution_count": null,
   "id": "2251682a",
   "metadata": {},
   "outputs": [],
   "source": [
    "import unittest\n",
    "from py_unit_4_code import add_numbers\n",
    "\n",
    "class AnotherTest(unittest.TestCase):\n",
    "    def test_addition(self):\n",
    "        \"can we add?\"\n",
    "        self.assertEqual(add_numbers(2,2), 4)\n",
    "        \n",
    "unittest.main(argv=[''], verbosity=2, exit=False)"
   ]
  },
  {
   "cell_type": "markdown",
   "id": "3f470c12",
   "metadata": {},
   "source": [
    "As you can see, there’s an arm’s length between the two.   We can have our tests completely isolated from the code being tested.    That's the common situation, anyway.   You don't want tests in your production code."
   ]
  },
  {
   "cell_type": "markdown",
   "id": "72068658",
   "metadata": {},
   "source": [
    "## Doctests\n",
    "\n",
    "As you review open source code, you sometimes come accross a bit that looks just like a Python terminal session.  It might look like:\n",
    "\n",
    "    \"\"\"\n",
    "    >>> add_numbers(1, 1)\n",
    "    2\n",
    "    \"\"\"\n",
    "    \n",
    "What in the world is this?    You're looking at a doctest string that invokes another form of testing.   The idea is that you, the code author, can imagine what a user should experience when running your code.   You essentially put that dream experience into a string and invoke the doctest routine to test what would actually happen.\n",
    "\n",
    "It's an alternative to unit tests and is a permanent part of your code module.   One attractive feature of this approach is that serves as both a test and as documentation on the use of your software - particularly useful if there are several steps involved in using it correctly.\n",
    "\n",
    "Here's an example, borrowed from https://www.digitalocean.com/community/tutorials/how-to-write-doctests-in-python.  If you get seriously interested in doctests, this is a good resource."
   ]
  },
  {
   "cell_type": "code",
   "execution_count": null,
   "id": "b5a71158",
   "metadata": {},
   "outputs": [],
   "source": [
    "import doctest\n",
    "\n",
    "def count_vowels(word):\n",
    "    \"\"\"\n",
    "    Given a single word, return the total number of vowels in that single word.\n",
    "\n",
    "    :param word: str\n",
    "    :return: int\n",
    "\n",
    "    >>> count_vowels('Cusco')\n",
    "    2\n",
    "\n",
    "    >>> count_vowels('Manila')\n",
    "    3\n",
    "\n",
    "    >>> count_vowels('Istanbul')\n",
    "    3\n",
    "    \"\"\"\n",
    "    total_vowels = 0\n",
    "    for letter in word.lower():\n",
    "        if letter in 'aeiou':\n",
    "            total_vowels += 1\n",
    "    return total_vowels\n",
    "\n",
    "doctest.testmod()"
   ]
  },
  {
   "cell_type": "markdown",
   "id": "4cf7d6d6",
   "metadata": {},
   "source": [
    "For use in this Notebook, we ran the testmod() as part of the cell's execution.   Normally, you'd put a block at the bottom of a module that would execute the tests only when running stand-alone.  Something like:\n",
    "\n",
    "    if __name__ == \"__main__\":\n",
    "        import doctest\n",
    "        doctest.testmod()\n",
    "        \n",
    "This way, when you're running it in production the test stay out of the way.   They don't actually run.  But they do show up if someone types help(name_of_module)."
   ]
  },
  {
   "cell_type": "markdown",
   "id": "d0e5726f",
   "metadata": {},
   "source": []
  },
  {
   "cell_type": "markdown",
   "id": "817b8757",
   "metadata": {},
   "source": [
    "## Exercise \n",
    "\n",
    "Please improve the performance on this bit of code:\n",
    "\n",
    "    def my_addition(first, second):\n",
    "        return first + second\n",
    "\n",
    "Add some tests to ensure that it works for float, complex, dict, list, and None types.\n",
    "\n",
    "Likely, you’ll find that it’s not too robust. So add logic to filter inappropriate values. You won’t want it to fail silently, though. If it does, how is the calling routine going to know there’s a problem?\n",
    "\n",
    "Instead, raise a custom exception. In the case of an inappropriate data type, raise a WrongDataTypeError. In the case that one of the inputs is None, raise a NoneTypeError. \n",
    "\n",
    "Be sure to write tests to ensure the correct exceptions are being raised."
   ]
  },
  {
   "cell_type": "markdown",
   "id": "91248409",
   "metadata": {},
   "source": [
    "Data Structures\n",
    "===============\n",
    "\n",
    "So far we’ve covered Python objects that handle numeric data, *e.g*.,\n",
    "**str** and **float**. We’ve also looked at collections, *e.g*., the\n",
    "**list** and **dict** objects. Now, we’ll turn to more complicated data\n",
    "structures, functionality to create them, and how to put them to work.\n",
    "\n",
    "List Comprehensions\n",
    "-------------------\n",
    "\n",
    "In Python, it’s possible to build a list “on the fly” very succinctly\n",
    "using a list comprehension. These look a lot like **lambda** functions\n",
    "in that they are (usually) one line functions.\n",
    "\n",
    "Here’s the basic syntax:\n",
    "\n",
    "    [ object **for** object **in** iterable ]\n",
    "\n",
    "The entire expression is enclosed in square brackets and it utilizes the\n",
    "keywords **for** and **in**. If we wanted a **list** of integers, we\n",
    "might go:"
   ]
  },
  {
   "cell_type": "code",
   "execution_count": null,
   "id": "b7aabcd0",
   "metadata": {},
   "outputs": [],
   "source": [
    " [ x for x in range(10) ]\n",
    "    "
   ]
  },
  {
   "cell_type": "markdown",
   "id": "c76d10df",
   "metadata": {},
   "source": [
    "We can amp this up a bit and do operations on the left side. Let’s say\n",
    "we wanted to multiply everything by 10."
   ]
  },
  {
   "cell_type": "code",
   "execution_count": null,
   "id": "626f6fc5",
   "metadata": {},
   "outputs": [],
   "source": [
    "[ x*10 for x in range(10) ]"
   ]
  },
  {
   "cell_type": "markdown",
   "id": "45e0a2ad",
   "metadata": {},
   "source": [
    "We can also include logic on the right side. Let’s say we only wanted\n",
    "even numbers."
   ]
  },
  {
   "cell_type": "code",
   "execution_count": null,
   "id": "ffa5c079",
   "metadata": {},
   "outputs": [],
   "source": [
    " [ x for x in range(10) if not x%2 ]"
   ]
  },
  {
   "cell_type": "markdown",
   "id": "095cbff9",
   "metadata": {},
   "source": [
    "These list comprehensions can even be nested as deeply as you like.\n",
    "Here’s an example:"
   ]
  },
  {
   "cell_type": "code",
   "execution_count": null,
   "id": "9d08afea",
   "metadata": {},
   "outputs": [],
   "source": [
    " [str(x)+\"!\" for x in [y for y in range(10)]]"
   ]
  },
  {
   "cell_type": "markdown",
   "id": "acf60718",
   "metadata": {},
   "source": [
    "You want to read these right to left. This bit is a **list**\n",
    "comprehension in its own right, returning an iterable:"
   ]
  },
  {
   "cell_type": "markdown",
   "id": "1236c785",
   "metadata": {},
   "source": [
    "    [y for y in range(10)]\n",
    "\n",
    "Which is the iterable looped over by this bit of it:\n",
    "    \n",
    "    [ str(x)+\"!\" for x in the list we just created]\n",
    "\n",
    "As you can appreciate, while these things are compact there’s a price to\n",
    "pay in terms of readability - especially as they get complex. If you\n",
    "feel overwhelmed by what looks like a spew of gobbledygook, don’t worry.\n",
    "Anything you can do with comprehensions, you do in a more verbose, and\n",
    "sometimes more transparent, fashion."
   ]
  },
  {
   "cell_type": "markdown",
   "id": "2bcf9921",
   "metadata": {},
   "source": [
    "Dict Comprehensions\n",
    "-------------------\n",
    "\n",
    "A close cousin to the **list** comprehension is the **dict**\n",
    "comprehension\\[25\\]. It’s set up exactly the same way except you use\n",
    "curly braces and something that looks like a key: value pair. The\n",
    "general syntax is:\n",
    "\n",
    "    { key : value for object in iterable }\n",
    "\n",
    "If we wanted to assign index numbers to characters, we could accomplish\n",
    "it with this short routine:"
   ]
  },
  {
   "cell_type": "code",
   "execution_count": null,
   "id": "77cd9607",
   "metadata": {},
   "outputs": [],
   "source": [
    "index_dict= { key: value for value, key in enumerate(\"abcde\") }\n",
    "\n",
    "print(f\"My index dictionary: {index_dict}\\n\")\n",
    "\n",
    "fstr=\"The letter {} is in position #{}\"\n",
    "for some_char in \"cda\":\n",
    "    print(fstr.format(some_char, index_dict[some_char]))"
   ]
  },
  {
   "cell_type": "markdown",
   "id": "6f29644d",
   "metadata": {},
   "source": [
    "Nested lists\n",
    "------------\n",
    "\n",
    "It’s possible to make nested **dict** and **list** objects. Nested lists\n",
    "behave a lot like arrays in that you can address them by row, column\n",
    "elements. \n",
    "\n",
    "Here we create a **list** of **list** objects:"
   ]
  },
  {
   "cell_type": "code",
   "execution_count": null,
   "id": "5595e926",
   "metadata": {},
   "outputs": [],
   "source": [
    "one=[11, 12, 13]\n",
    "two=[21, 22, 23]\n",
    "three=[31, 32, 33]\n",
    "\n",
    "# Make a list of lists\n",
    "arr=[one, two, three]\n",
    "print(f\" The array is: {arr} \\n\")\n",
    "\n",
    "# Use index integers to find content\n",
    "row=1\n",
    "col=2\n",
    "value = arr[row][col]\n",
    "print(f\"The value of the element of row {row}, col {col} is {value}\")\n",
    "\n",
    "# Loop to print rows\n",
    "for row_ix in range(0,3):\n",
    "    print(arr[row_ix])"
   ]
  },
  {
   "cell_type": "markdown",
   "id": "b25d3186",
   "metadata": {},
   "source": [
    "Nested dicts\n",
    "------------\n",
    "\n",
    "Nested **dict** structures are a really handy, intuitive, and\n",
    "transparent way to pass complicated bundles of information around your\n",
    "programs. The idea is that you can search for information based on some\n",
    "key. The associated value is another **dict** object, which can also be\n",
    "searched with a key, and whose associated value might be still another\n",
    "**dict**. And so on.\n",
    "\n",
    "This gives you the capability to index your information hierarchy. This,\n",
    "in turn, allows you to “drill down” into it using easy-to-understand\n",
    "code. This is the way setup files for many projects work. At the outer\n",
    "level you’ll have keys like ‘security’ and ‘font’. At the next level you\n",
    "might have access to ‘font-type’, ‘font-size’, etc.\n",
    "\n",
    "Here’s a quick example of how you might set up and use one:"
   ]
  },
  {
   "cell_type": "code",
   "execution_count": null,
   "id": "fe7eaf21",
   "metadata": {},
   "outputs": [],
   "source": [
    "# Whistle up some content for our nested dict\n",
    "names = ['Snarky', 'Fang', 'Sara', 'Barfy']\n",
    "toys = ['bone', 'squrrel', 'squeaker']\n",
    "weights = [23, 30, 40]\n",
    "\n",
    "# Placeholder dict and index\n",
    "mydict = {}\n",
    "index = 0\n",
    "\n",
    "# Load the dict using a name, toy, and weight for each.\n",
    "for name, toy, weight in zip(names, toys, weights):\n",
    "    mydict[\"dog_\" + str(index)] = {'name': name,\n",
    "                                   'toy': toy,\n",
    "                                   'weight': weight}\n",
    "    index += 1\n",
    "    \n",
    "# Print it nicely\n",
    "for key, value in mydict.items():\n",
    "    print(\"{} : {}\".format(key, value))\n",
    "\n",
    "# We can now index the dict using the primary key ('dog_1', etc.)\n",
    "fav_toy = mydict['dog_1']['toy']\n",
    "\n",
    "print(\"\\nThe first dog's fav toy is: {}\".format(fav_toy))"
   ]
  },
  {
   "cell_type": "markdown",
   "id": "40a05f06",
   "metadata": {},
   "source": [
    "You might imagine a nested dict would help internationalize your code.   The primary key could be the language and the values returned would be contain the mapping of your code concepts to the user's pick.\n",
    "\n",
    "Python, FYI, is fully Unicode-compliant.   You can (mostly) program it in any language."
   ]
  },
  {
   "cell_type": "code",
   "execution_count": null,
   "id": "4054fd8e",
   "metadata": {},
   "outputs": [],
   "source": [
    "# Use assign a new name to a built-in function\n",
    "刷る =  print          #\"tsuru\"\n",
    "\n",
    "# Create a standard python object (翻訳家 \"hanyakuka\" means translator)\n",
    "翻訳家 = {                       \n",
    "            \"アードバーク\" : 'aardvark',   #\"addobakku\"\n",
    "            \"にしきへび\"   : 'python',      #\"nishichi hebi\"\n",
    "            \"日本\"        : 'Japan' ,       #\"nihon\"\n",
    "        }\n",
    "\n",
    "# Create a function (looks up the word in the dict and prints it)\n",
    "def 自分を刷る(単語):                #print_me(word)                 \"watashi wo tsuru (tango)\"\n",
    "\t刷る(単語, 翻訳家 [単語])         #print(word, <translation>)     \"tsuru(tango)\"  \n"
   ]
  },
  {
   "cell_type": "markdown",
   "id": "edfbfb73",
   "metadata": {},
   "source": [
    "The main accommodations we need to make are mapping our favorite language to the objects in the various libraries we're using.   Here, we're just using one of the built-in functions and mapping it to the Japanese equivalent:\n",
    "\n",
    "    刷る =  print    \n",
    "    \n",
    "You'll not that we can't get away from using Python's keywords, so we're still stuck with expressions like:\n",
    "\n",
    "    def 自分を刷る(単語)\n",
    "    \n",
    "Now we can play with it."
   ]
  },
  {
   "cell_type": "code",
   "execution_count": null,
   "id": "eab66dc7",
   "metadata": {},
   "outputs": [],
   "source": [
    "単語 = \"アードバーク\" \t      # word = aadvark  \"tango ikoru addobakku\"\"\n",
    "自分を刷る(単語)              # pass the word to the translator\n"
   ]
  },
  {
   "cell_type": "code",
   "execution_count": null,
   "id": "cf9046c6",
   "metadata": {},
   "outputs": [],
   "source": [
    "単語 = \"にしきへび\"           # word = python   \"tango ikoru nishichi hebi\"\n",
    "自分を刷る(単語)\n",
    "\n"
   ]
  },
  {
   "cell_type": "code",
   "execution_count": null,
   "id": "2b2c4b8a",
   "metadata": {},
   "outputs": [],
   "source": [
    "刷る()                      # print a blank line\n",
    "刷る('終わりんこ! (done!)')  # print done"
   ]
  },
  {
   "cell_type": "markdown",
   "id": "dd679710",
   "metadata": {},
   "source": [
    "GUIs\n",
    "====\n",
    "\n",
    "Python has a graphical user interface (GUI) tool, **tkinter**, as part\n",
    "of most standard installations. It’s good at creating “quick and dirty”\n",
    "user interfaces without reliance on outside tools. In this chapter,\n",
    "we’ll explore how to create some basic functionality\\[29\\].\n",
    "\n",
    "If you’re using an IDE, take an appreciative moment to study its\n",
    "components (or have a look at your OS’ GUI). You’ll likely see a bunch\n",
    "of rectangular containers. Some you can type into, others display\n",
    "information, and still others do both. They may other objects visible\n",
    "within the containers. These containers are generally called **frames**.\n",
    "Likely, you also have commands you can invoke by clicking on a\n",
    "**button** and **menus** that expand and fold on demand. You can\n",
    "probably make selections about what you want your code to do."
   ]
  },
  {
   "cell_type": "markdown",
   "id": "7fadd07f",
   "metadata": {},
   "source": [
    "Basics\n",
    "------\n",
    "\n",
    "A GUI works in its own sandbox called a master frame. The master frame\n",
    "contains objects called **widgets**  things like **buttons**, **text\n",
    "boxes**, and other **frame** objects. The **widgets** provide\n",
    "functionality and a **geometry manager** places them spatially within\n",
    "the **frame**(s).\n",
    "\n",
    "This will make more sense shortly. Let’s get started with a skeletal\n",
    "framework which we’ll flesh out with an example taken from the tkinter\n",
    "docs."
   ]
  },
  {
   "cell_type": "code",
   "execution_count": null,
   "id": "16d91252",
   "metadata": {},
   "outputs": [],
   "source": [
    "%matplotlib inline\n",
    "import ipywidgets as widgets"
   ]
  },
  {
   "cell_type": "code",
   "execution_count": null,
   "id": "2974b62b",
   "metadata": {},
   "outputs": [],
   "source": [
    "from tkinter import *\n",
    "demo_mode = False\n",
    "\n",
    "class Application(Frame):\n",
    "    pass\n",
    "\n",
    "\n",
    "root = Tk()\n",
    "app = Application(master=root)\n",
    "\n",
    "if demo_mode:\n",
    "    app.mainloop()"
   ]
  },
  {
   "attachments": {
    "gui_empty.JPG": {
     "image/jpeg": "[encoded data removed]"
    }
   },
   "cell_type": "markdown",
   "id": "6f100286",
   "metadata": {},
   "source": [
    "![gui_empty.JPG](attachment:gui_empty.JPG)\n",
    "\n",
    "We are creating an instance a GUI application.   More accurately, it's an instance of a main window of a GUI application, complete with its own Tcl interpreter.\n",
    "\n",
    "    root = Tk()\n",
    "    \n",
    "The Application class is basically a clean copy of Tkinter's Frame object.  A Frame is just a container that can hold GUI stuff (known as 'widgets').    \n",
    "\n",
    "    class Application(Frame):\n",
    "\n",
    "When we create an instance of the class, we pass along the main window that we just created.\n",
    "\n",
    "    app = Application(master=root)\n",
    "    \n",
    "When we're done, we run it.   The mainloop() method handles polling (it's always asking the widgets whether they've been clicked) and event handling (what to do in response to a mouse click, keystrokes, etc).\n",
    "\n",
    "    app.mainloop()\n",
    "\n",
    "When we run the cell with the gui code, a modal interactive window is spawned.  It'll be small and maybe buried under a bunch of other app windows.   You might look at your toolbar and a find an icon that looks like a feather.   It should look like the image above.\n",
    "\n",
    "Take a moment to appreciate what we just got with the modal window for free.   It's interactive.  We can resize it.  It has a decorative icon on the top left, along with a default name \"tk\".   And all the buttons work.   Not bad.\n",
    "\n"
   ]
  },
  {
   "cell_type": "markdown",
   "id": "d780cf37",
   "metadata": {},
   "source": [
    "## Adding User Control\n",
    "\n",
    "But there are many things we can do to upgrade. Let’s check some of\n",
    "these out.  Lets make one of these:"
   ]
  },
  {
   "attachments": {
    "gui_quit_say_hi.JPG": {
     "image/jpeg": "[encoded data removed]"
    }
   },
   "cell_type": "markdown",
   "id": "32d8d133",
   "metadata": {},
   "source": [
    "![gui_quit_say_hi.JPG](attachment:gui_quit_say_hi.JPG)"
   ]
  },
  {
   "cell_type": "code",
   "execution_count": null,
   "id": "7128313c",
   "metadata": {},
   "outputs": [],
   "source": [
    "from tkinter import *\n",
    "import ipywidgets as widgets\n",
    "\n",
    "#%gui tkinter\n",
    "\n",
    "class Application(Frame):\n",
    "    \n",
    "    # An action to tie to a widget so it can respond to an event.\n",
    "    def say_hi(self):\n",
    "        print(\"Hi there!\")\n",
    "        #with self.out:\n",
    "        #    print(\"Hi there, everyone!\")\n",
    "        \n",
    "    def createWidgets(self):\n",
    "        # Create a custom Button object, tied to a tkinter Frame's quit method.\n",
    "        self.QUIT = Button(self)\n",
    "        self.QUIT[\"text\"] = \"Quit\"\n",
    "        self.QUIT[\"fg\"] = \"red\"\n",
    "        self.QUIT[\"command\"] = self.quit\n",
    "        \n",
    "        # The pack method calls a geometry manager to decide how/where to render it.\n",
    "        self.QUIT.pack({\"side\": \"left\"})\n",
    "        \n",
    "        # Create a custom Button object to invoke our 'say_hi' method when clicked.\n",
    "        self.hi_there = Button(self)\n",
    "        self.hi_there[\"text\"] = \"Hello\",\n",
    "        self.hi_there[\"command\"] = self.say_hi\n",
    "        \n",
    "        # Invoke its pack method\n",
    "        self.hi_there.pack({\"side\": \"left\"})\n",
    "               \n",
    "    def __init__(self, master=None):\n",
    "        # Invoke the parent's __init__ method (usually a good idea)\n",
    "        Frame.__init__(self, master)\n",
    "        \n",
    "        # Allow the geometry manager add the root Frame to the main window\n",
    "        self.pack()\n",
    "        \n",
    "        self.out = widgets.Output(layout={'border': '1px solid black'})\n",
    "        \n",
    "        # Populate the main frame with widgets\n",
    "        self.createWidgets()\n",
    "        \n",
    "# Boilerplate - same as before        \n",
    "root = Tk()\n",
    "app = Application(master=root)\n",
    "\n",
    "if demo_mode:\n",
    "    app.mainloop()"
   ]
  },
  {
   "cell_type": "markdown",
   "id": "0877faf7",
   "metadata": {},
   "source": [
    "\n",
    "\n",
    "We've just created this GUI.   You can see it has two new buttons.   It's still no great shakes, but it does say \"Hi There\".   We've proven it's responsive and our event handler works.\n",
    "\n",
    "\n"
   ]
  },
  {
   "cell_type": "markdown",
   "id": "7b39f22c",
   "metadata": {},
   "source": [
    "## User Choice in Command Branching\n",
    "\n",
    "Let's upgrade the inputs a bit.  How about an object that allows multiple, discrete choices.\n",
    "\n",
    "Let's try to make one of these:"
   ]
  },
  {
   "attachments": {
    "gui_check_box.JPG": {
     "image/jpeg": "[encoded data removed]"
    }
   },
   "cell_type": "markdown",
   "id": "a2912d0e",
   "metadata": {},
   "source": [
    "![gui_check_box.JPG](attachment:gui_check_box.JPG)"
   ]
  },
  {
   "cell_type": "code",
   "execution_count": null,
   "id": "7cce9971",
   "metadata": {},
   "outputs": [],
   "source": [
    "from tkinter import *\n",
    "\n",
    "\n",
    "class Application(Frame):\n",
    "    def report(self):\n",
    "        status = [self.status1.get(),  # a list of results\n",
    "                  self.status2.get(),\n",
    "                  self.status3.get()\n",
    "                  ]\n",
    "        \n",
    "        print(f\"Checkbox states: {status} \\n\")\n",
    "        \n",
    "        # Each checkbox has a value of 1 if checked, 0 otherwise\n",
    "        if not sum(status):\n",
    "            print(\"Please select a team.\")\n",
    "            return\n",
    "        \n",
    "        # Read the value of ezch textbox, then uncheck it.\n",
    "        if status[0]:\n",
    "            print(self.ck1[\"text\"], \"GO CUBS!\")\n",
    "            self.ck1.deselect()\n",
    "        if status[1]:\n",
    "            print(self.ck2[\"text\"])\n",
    "            self.ck2.deselect()\n",
    "        if status[2]:\n",
    "            print(self.ck3[\"text\"])\n",
    "            self.ck3.deselect()\n",
    "\n",
    "    def createWidgets(self):\n",
    "        \"populate master frame\"\n",
    "        \n",
    "        # Create a Label.  Go ahead and pack it since we won't fool with it again.\n",
    "        Label(text=\"Select Favorite Team\").pack()  # returns None\n",
    "        \n",
    "        # Create a Button to activate our handler.\n",
    "        self.b1 = Button(text=\"List Teams\", command=self.report)\n",
    "        self.b1.pack(side=TOP)\n",
    "        \n",
    "        \n",
    "        # IntVar objects are integer-like objects\n",
    "        \n",
    "        # This syntax creates a tuple on the right and unpacks it on the left\n",
    "        self.status1, self.status2, self.status3 =  IntVar(), IntVar(), IntVar()\n",
    "        \n",
    "        # Create some checkboxes, assign each its own status object\n",
    "        self.ck1 = Checkbutton(text=\"Cubs\", variable=self.status1)\n",
    "        self.ck2 = Checkbutton(text=\"Cards\", variable=self.status2)\n",
    "        self.ck3 = Checkbutton(text=\"Mets\", variable=self.status3)\n",
    "        \n",
    "        # Pack them in side-by-side, against the left wall.\n",
    "        self.ck1.pack(side=LEFT)\n",
    "        self.ck2.pack(side=LEFT)\n",
    "        self.ck3.pack(side=LEFT)\n",
    "\n",
    "    def __init__(self, master=None):\n",
    "        Frame.__init__(self, master)\n",
    "        self.pack()\n",
    "        self.createWidgets()\n",
    "\n",
    "root = Tk()\n",
    "app = Application(master=root)\n",
    "if demo_mode:\n",
    "    app.mainloop()"
   ]
  },
  {
   "cell_type": "markdown",
   "id": "16fc216a",
   "metadata": {},
   "source": [
    "\n",
    "\n"
   ]
  },
  {
   "cell_type": "markdown",
   "id": "494066b3",
   "metadata": {},
   "source": [
    "Radio buttons are exclusive – each collection of them\\[34\\] can only\n",
    "have one active at a time. Here’s a version of the previous example,\n",
    "refactored a bit. Here, we’ve “flattened” the app – everything is within\n",
    "‘master’ (which is an instance of **Tk**). This is not particularly good\n",
    "practice for real apps – you will typically use **frames** and\n",
    "frames-within-frames to discretize the widgets.\n",
    "\n",
    "Here, we take some shortcuts to make a more parsimonious bit of code.   This isn't particularly recommended, but you can do it.  We'll try to make one of these:"
   ]
  },
  {
   "attachments": {
    "gui_display_favs_radio_button.JPG": {
     "image/jpeg": "[encoded data removed]"
    }
   },
   "cell_type": "markdown",
   "id": "3cf61658",
   "metadata": {},
   "source": [
    "![gui_display_favs_radio_button.JPG](attachment:gui_display_favs_radio_button.JPG)"
   ]
  },
  {
   "cell_type": "code",
   "execution_count": null,
   "id": "7312f74a",
   "metadata": {},
   "outputs": [],
   "source": [
    "from tkinter import *\n",
    "\n",
    "def report():  \n",
    "    # Grab/report the status of the text box.\n",
    "    print(txt[status1.get()])\n",
    "    \n",
    "# Create an instance of the master frame\n",
    "master = Tk()\n",
    "\n",
    "# Provide an integer-like object to represent status.\n",
    "status1 = IntVar()\n",
    "\n",
    "# Create and pack a Lable object\n",
    "Label(master, text=\"What's your favorite team?\").pack()\n",
    "\n",
    "# Create and pack a Button object to trigger reporting\n",
    "b1 = Button(master, text=\"Display\", command=report)\n",
    "b1.pack(side=TOP)\n",
    "\n",
    "# Make some text to go in the Radiobuttons\n",
    "txt = [\"Cubs\", \"Cards\", \"Mets\"]\n",
    "\n",
    "# Create Radiobuttons\n",
    "radios = [Radiobutton(master, value=0),\n",
    "          Radiobutton(master, value=1),\n",
    "          Radiobutton(master, value=2)]\n",
    "\n",
    "# Use zip to tie together the text and Radiobuttons\n",
    "for radio, s in zip(radios, txt):\n",
    "    radio[\"text\"] = s\n",
    "    radio[\"variable\"] = status1\n",
    "    radio.pack(side=LEFT)\n",
    "\n",
    "if demo_mode:\n",
    "    master.mainloop()"
   ]
  },
  {
   "cell_type": "markdown",
   "id": "1be6d9b8",
   "metadata": {},
   "source": [
    "Wrangling Widgets with Frames\n",
    "-----------------------------\n",
    "\n",
    "It’s generally desirable to herd related widgets into their own\n",
    "**frame** containers to separate functionality and to ease maintenance.\n",
    "Here’s an example of how this might be accomplished; we'll try to make one of these:"
   ]
  },
  {
   "attachments": {
    "gui_frame.JPG": {
     "image/jpeg": "[encoded data removed]"
    }
   },
   "cell_type": "markdown",
   "id": "316c5b99",
   "metadata": {},
   "source": [
    "![gui_frame.JPG](attachment:gui_frame.JPG)"
   ]
  },
  {
   "cell_type": "code",
   "execution_count": null,
   "id": "f50c464e",
   "metadata": {},
   "outputs": [],
   "source": [
    "from tkinter import *\n",
    "\n",
    "# Make a root container object and wrench some properties.\n",
    "root = Tk()\n",
    "root.geometry(\"400x300\")\n",
    "root.title(\"Play with frames\")\n",
    "\n",
    "# Create a new Frame as 'child object' to root\n",
    "f1 = Frame(root, bg=\"grey\")\n",
    "\n",
    "# Populate the new Frame (f1)\n",
    "Label(f1, text=\"frame 1\", bg=\"grey\").pack(side=LEFT)\n",
    "f1.pack(expand = True, fill=BOTH)\n",
    "\n",
    "# Populate another new Frame (f2)\n",
    "f2 = Frame(root, bg=\"yellow\")\n",
    "Label(f2, text=\"frame 2\", bg=\"yellow\").pack(side=BOTTOM)\n",
    "f2.pack(expand=True, fill=BOTH)\n",
    "\n",
    "# Populate yet another new Frame (f3)\n",
    "f3 = Frame(root, bg=\"#00ffff\") #alternative specification\n",
    "Label(f3, text=\"frame 3\", bg=\"#00ffff\").pack(side=RIGHT)\n",
    "f3.pack(expand=True, fill=BOTH)\n",
    "\n",
    "# Populate a sub-Frame (f3a) as a 'chile object' of f3\n",
    "f3a = Frame(f3, bg=\"white\") #alternative specification\n",
    "Label(f3a, text=\"subframe 3a\", bg=\"white\").pack(side=RIGHT)\n",
    "f3a.pack(expand=True, fill=BOTH)\n",
    "\n",
    "if demo_mode:\n",
    "    root.mainloop()"
   ]
  },
  {
   "cell_type": "markdown",
   "id": "9f6d5c12",
   "metadata": {},
   "source": [
    "Here we explore the notion that Frames can live within other Frames.  Initially, we created a master Frame.  It's just a container and can hold any other widgets.   Into it we installed other frames (f1, f2, and f3) with commands like:\n",
    "\n",
    "    f1 = Frame(root, bg=\"grey\")\n",
    "    \n",
    "The first argument is the parent object ('root' is what we're calling the master Frame instance).\n",
    "\n",
    "So when we make sub-Frames, we simply use a different Frame as the parent.\n",
    "\n",
    "    f3a = Frame(f3, bg=\"white\")\n",
    "    \n",
    "We introduce one more characteristic for all of these - how the object behaves when the master container is resized.  When we issue a command like:\n",
    "\n",
    "    f3a.pack(expand=True, fill=BOTH)\n",
    "\n",
    "... we're asking it to expand to fill the outer container as it shrinks or expands.\n",
    "\n",
    "Now, let's try to build some menus.   We'll make one of these:"
   ]
  },
  {
   "cell_type": "markdown",
   "id": "3b572197",
   "metadata": {},
   "source": [
    "Building Menus\n",
    "--------------\n",
    "\n",
    "Did you ever wonder how they make drop down menus used to run GUI apps\n",
    "like Wing? Wonder no more — in this section we’ll learn how to build a\n",
    "simple menu from scratch.\n",
    "\n",
    "The first step is to construct a “root menu” upon which we’ll build\n",
    "child objects to control the content displayed and actions performed.\n",
    "\n",
    "We'll build a basic menu next:"
   ]
  },
  {
   "attachments": {
    "gui_menu.JPG": {
     "image/jpeg": "[encoded data removed]"
    }
   },
   "cell_type": "markdown",
   "id": "1504e82b",
   "metadata": {},
   "source": [
    "![gui_menu.JPG](attachment:gui_menu.JPG)"
   ]
  },
  {
   "cell_type": "code",
   "execution_count": null,
   "id": "93c3d85f",
   "metadata": {},
   "outputs": [],
   "source": [
    "from tkinter import *\n",
    "\n",
    "\n",
    "def placeholder():\n",
    "    print(\"placeholder event\")\n",
    "    # This idiom rolls the right-most value through a chain of variables\n",
    "    file_new = file_close = file_close_all = refactor_rename = refactor_move = placeholder\n",
    "\n",
    "# Per usual, create a master window\n",
    "root = Tk()\n",
    "\n",
    "# We need to add a root menu object to the master window\n",
    "menubar = Menu(root)\n",
    "root.config(menu=menubar)\n",
    "\n",
    "# Create another Menu object that we'll add to the root menu\n",
    "filemenu = Menu(menubar)\n",
    "\n",
    "# ... but first, we'll treat it as another container and add widgets to it\n",
    "filemenu.add_command(label=\"New\", command=file_new)\n",
    "filemenu.add_separator()\n",
    "filemenu.add_command(label=\"Close\", command=file_close)\n",
    "filemenu.add_command(label=\"Close All\", command=file_close_all)\n",
    "\n",
    "# This command actually adds the new sub-menu to the main one\n",
    "menubar.add_cascade(label=\"File\", menu=filemenu)\n",
    "\n",
    "# These commands create and populate a second sub-menu\n",
    "editmenu = Menu(menubar)\n",
    "editmenu.add_command(label=\"Rename Symbol\", command=refactor_rename)\n",
    "editmenu.add_command(label=\"Move Symbol\", command=refactor_move)\n",
    "\n",
    "# Now we'll add it to the root menu\n",
    "menubar.add_cascade(label=\"Refactor\", menu=editmenu)\n",
    "\n",
    "# Per usual, we'll set the listener loop\n",
    "if demo_mode:\n",
    "    root.mainloop()"
   ]
  },
  {
   "cell_type": "markdown",
   "id": "6326e3b5",
   "metadata": {},
   "source": [
    "To create a menu, we're piling on widgets hierarchically beginning with our master window.  We can nest items to any depth in the same fashion.\n",
    "\n",
    "        # master window\n",
    "        root = Tk()   \n",
    "\n",
    "            # top-level menu\n",
    "            menubar = Menu(root) \n",
    "            root.config(menu=menubar)\n",
    "\n",
    "                # second-level menu (for File)\n",
    "                filemenu = Menu(menubar)  # second-level menu\n",
    "                menubar.add_cascade(label=\"File\", menu=filemenu)\n",
    "                \n",
    "                    # individual menu items\n",
    "\n",
    "                # second-level menu (for Refactor)\n",
    "                editmenu = Menu(menubar)\n",
    "                menubar.add_cascade(label=\"Refactor\", menu=editmenu)\n",
    "                \n",
    "                    # individual menu items\n",
    "            \n",
    " It's a bit tedious, but getting the job done is straightforward. "
   ]
  },
  {
   "cell_type": "markdown",
   "id": "2f528bda",
   "metadata": {},
   "source": [
    "## Text Input\n",
    "\n",
    "Menus, check boxes, and radio buttons are great as far as they go, but sometimes we'll need open-ended user input.  Here's how we can add dialog that allows direct text input.\n",
    "\n",
    "We'll go ahead and make one of these:"
   ]
  },
  {
   "attachments": {
    "gui_text_edit.JPG": {
     "image/jpeg": "[encoded data removed]"
    }
   },
   "cell_type": "markdown",
   "id": "ed21f2ef",
   "metadata": {},
   "source": [
    "![gui_text_edit.JPG](attachment:gui_text_edit.JPG)"
   ]
  },
  {
   "cell_type": "markdown",
   "id": "923c244b",
   "metadata": {},
   "source": [
    "It's not pretty, but has all the essentials of a text search tool.   The bottom block has content to search.   The top block allows input of the first place to search for the text provided in the middle box.    The buttons direct the underlying code to Find and/or Delete any content matching the query.\n",
    "\n",
    "Let's give it a shot:"
   ]
  },
  {
   "cell_type": "code",
   "execution_count": null,
   "id": "ad775994",
   "metadata": {},
   "outputs": [],
   "source": [
    "from tkinter import *\n",
    "\n",
    "\n",
    "def find_text():\n",
    "    \"Search for user-supplied text.\"\n",
    "\n",
    "    line = entry_line.get()\n",
    "    look_for = entry_find.get()\n",
    "    data = text.get(line + \".0\", END)\n",
    "    if look_for in data:\n",
    "        print(\"Yay, we found {}!\".format(look_for))\n",
    "    else:\n",
    "        print(\"Sorry, no {} here.\".format(look_for))\n",
    "\n",
    "\n",
    "def delete_text():\n",
    "    \"\"\"Delete specific text from a designated line.  This involves 'vaccuming out'\n",
    "         the contents, editing it with string methods, and replacing it.\n",
    "    \"\"\"\n",
    "\n",
    "    # Capture the provided text using the get() method\n",
    "    line = entry_line.get()\n",
    "    all_text = text.get(line + \".0\", END)\n",
    "    look_for = entry_find.get()\n",
    "\n",
    "    # Do an ordinary str.replace() on the captured text\n",
    "    all_text = all_text.replace(look_for + '\\n', '')\n",
    "    # Delete the contents of the Text box\n",
    "    text.delete(line + \".0\", 'end')\n",
    "    # Insert the edited code.\n",
    "    text.insert(\"end\", all_text)\n",
    "\n",
    "\n",
    "# Root window\n",
    "root = Tk()\n",
    "\n",
    "# Create and pack a Label for the top block\n",
    "Label(root, text=\"Starting In This Line:\").pack()\n",
    "\n",
    "# Create an Entry widget to accept Starting Line\n",
    "entry_line = Entry(root)\n",
    "entry_line.pack()\n",
    "\n",
    "# Create and pack a second Entry widget for the Find Text\n",
    "Label(root, text=\"Find this text\").pack()\n",
    "entry_find = Entry(root)\n",
    "entry_find.pack()\n",
    "\n",
    "# Create the Buttons, each linked to its own action.\n",
    "b1 = Button(root, text=\"Find\", command=find_text).pack()\n",
    "b2 = Button(root, text=\"Delete\", command=delete_text).pack()\n",
    "b3 = Button(root, text=\"Quit\", command=root.destroy).pack()\n",
    "\n",
    "# Create the bottom Text box and give it some content\n",
    "text = Text(root, height=6, width=50)\n",
    "text.insert(\"end\", \"Cubs\\nCards\\nMets\")\n",
    "text.pack()\n",
    "\n",
    "# Finally, set up the listener loop.\n",
    "if demo_mode:\n",
    "    root.mainloop()"
   ]
  },
  {
   "cell_type": "markdown",
   "id": "fe847a41",
   "metadata": {},
   "source": [
    "Now we can play with it.   For instance, if we asked to start in Line 1 and searched for \"Cubs\" (or \"ubs\") the GUI will report success.    If we ask to start in Line 2, it will report failure.\n",
    "\n",
    "Working with the text within is a bit weird, but OK once you get the\n",
    "hang of it. To add text, you use the **insert**() command, providing an\n",
    "insertion point and some text. For instance, to add a few baseball teams\n",
    "you can go:\n",
    "\n",
    "    text.insert(\"end\", \"Cubs\\\\nCards\\\\nMets\") \n",
    "    \n",
    "Here, the “end” positional argument is already known to the Text widget,\n",
    "as is the alias **END**. To get information out, you need to specify\n",
    "both the beginning point and end point using this syntax:\n",
    "\n",
    "    line number.position within line\n",
    "\n",
    "This reads all the contents into the variable ‘data’.\n",
    "\n",
    "    line = entry_line.get()\n",
    "    data = text.get(line + \".0\", END)\n",
    "\n",
    "To delete content, you can use the **delete**() method of the **Text**\n",
    "widget using the same syntax as **get**().    "
   ]
  },
  {
   "cell_type": "markdown",
   "id": "88e3bdfc",
   "metadata": {},
   "source": [
    "Now that you've mastered GUIs, the next step will be to create one of these.   Don't worry - it will only take you a couple of weeks:"
   ]
  },
  {
   "attachments": {
    "gui_color.JPG": {
     "image/jpeg": "[encoded data removed]"
    }
   },
   "cell_type": "markdown",
   "id": "e3b37f7d",
   "metadata": {},
   "source": [
    "![gui_color.JPG](attachment:gui_color.JPG)"
   ]
  },
  {
   "cell_type": "markdown",
   "id": "78f45569",
   "metadata": {},
   "source": [
    "Built-in GUI Magic\n",
    "-----------------\n",
    "\n",
    "Happily, **Tkinter** has been around for a long time.   People have figured out some higher-level tools to solve common problems.  **Tkinter** has several compound widgets already built into the system.\n",
    "I’ll show you a couple here so you know about them and leave further\n",
    "exploration to you.\n",
    "\n",
    "There are several really routine interactions your GUI will have with\n",
    "the user – things like asking Yes or No, displaying a warning that he’s\n",
    "about to destroy his root directory. Many of these are already baked in.\n",
    "\n",
    "Here’s an example:\n",
    "\n",
    "\n",
    "    if askyesno('Check chocolate', 'Sure you want chocolate'):\n",
    "        print(\"OK. Chocolate it is.\")\n",
    "    else:\n",
    "        print(\"I didn't think so.\")\n",
    "\n",
    "This code grabs the **tkinter**.**messagebox**.**askyesno**() tool. The\n",
    "two arguments specify the dialogue box’s header and the second poses the\n",
    "question. The return is **True** (yes) or **False** (no). Right out of\n",
    "the box, it gives you a professional-looking dialogue box.\n",
    "\n",
    "Here's the code to make it work:"
   ]
  },
  {
   "cell_type": "code",
   "execution_count": null,
   "id": "b94f392c",
   "metadata": {},
   "outputs": [],
   "source": [
    "from tkinter import *\n",
    "from tkinter.messagebox import *\n",
    "\n",
    "   \n",
    "def double_check_chocloate():\n",
    "    if askyesno('Check chocolate', 'Sure you want chocolate'):\n",
    "        print(\"OK. Chocolate it is.\")\n",
    "    else:\n",
    "        print(\"I didn't think so.\")\n",
    "        \n",
    "def double_check_vanilla():\n",
    "    print(\"You want vanilla and I trust you.\")        \n",
    "        \n",
    "root = Tk()\n",
    "root.geometry(\"200x50\")\n",
    "\n",
    "b1 = Button(root, text=\"Chocloate\", command=double_check_chocloate)\n",
    "b1.pack(side=TOP)\n",
    "\n",
    "b2 = Button(root, text=\"Vanilla\", command=double_check_vanilla)\n",
    "b2.pack(side=TOP)\n",
    "\n",
    "if demo_mode:\n",
    "    root.mainloop()"
   ]
  },
  {
   "cell_type": "code",
   "execution_count": null,
   "id": "fb6d5102",
   "metadata": {},
   "outputs": [],
   "source": [
    "You can explore these other **tkinter**.**messagebox** options at your\n",
    "leisure:\n",
    "\n",
    "| askokcancel    | showerror   |\n",
    "|----------------|-------------|\n",
    "| askquestion    | showinfo    |\n",
    "| askretrycancel | showwarning |\n",
    "| askyesnocancel |             |\n",
    "\n",
    "Here are couple more libraries of interest:\n",
    "\n",
    "    **tkinter**.**colorchooser** – great color selection dialogs\n",
    "    \n",
    "        (rgb_color,hex_color) = askcolor()\n",
    "\n",
    "    **tkinter**.**filedialog** – file system exploration\n",
    "    \n",
    "        file_to_open = askopenfilename()"
   ]
  },
  {
   "cell_type": "code",
   "execution_count": null,
   "id": "df667dda",
   "metadata": {},
   "outputs": [],
   "source": [
    "from tkinter import *\n",
    "from tkinter.colorchooser import askcolor\n",
    "from tkinter.filedialog import askopenfilename\n",
    "\n",
    "def set_color():\n",
    "    \"Apply the askcolor module.\"\n",
    "    (rgb_color,hex_color) = askcolor()\n",
    "    if ( hex_color ):\n",
    "        print(hex_color, rgb_color)\n",
    "        btn_color.config(background=hex_color)\n",
    "        \n",
    "def read_file():\n",
    "    \"Apply the askopenfilename() method. Report contents to a Text box\"\n",
    "    file_to_open = askopenfilename()   \n",
    "    with open(file_to_open, \"r\") as f:\n",
    "        lines = f.readlines()    \n",
    "    for line in lines: \n",
    "        text.insert(END, line)\n",
    "        \n",
    "def delete_text(): \n",
    "    \"Delete the contents of a Text box\"\n",
    "    text.delete(1.0,END)\n",
    "\n",
    "#Main window\n",
    "root = Tk()\n",
    "\n",
    "#Configure a button to set its color with askcolor()\n",
    "btn_color = Button(root, text=\"Choose a Color\", command = set_color)\n",
    "btn_color.config(height=1, font=(\"Cambria\", 10, 'italic'))\n",
    "btn_color.pack(expand=YES, fill=BOTH)\n",
    "\n",
    "#Create buttons to read files and delete text\n",
    "Button(text=\"Open File\", command=read_file).pack()\n",
    "Button(text=\"Clear\", command=delete_text).pack()\n",
    "\n",
    "#Add a text button to hold file contents\n",
    "text = Text(height=10, width=70)\n",
    "text.pack()\n",
    "\n",
    "#Fire off the main listener loop.\n",
    "if demo_mode:\n",
    "    root.mainloop()"
   ]
  },
  {
   "cell_type": "code",
   "execution_count": null,
   "id": "247be493",
   "metadata": {},
   "outputs": [],
   "source": [
    "Parting Thoughts\n",
    "----------------\n",
    "\n",
    "We’ve only covered the **pack**() geometry manager here – mostly because\n",
    "it’s the easiest to use. If you really want granular control over the\n",
    "layout, you’ll want to consider using the **grid**() instead. This gives\n",
    "you control over what row and column of an imaginary grid that your\n",
    "objects should live in. You can read all about it when you get\n",
    "time\\[35\\].\n",
    "\n",
    "You may be tempted to combine the ease of use of **pack**() and the\n",
    "accuracy of **grid**(). You can do that, but don’t create a situation\n",
    "where you’ve got two different geometry managers controlling objects in\n",
    "the same container. This will produce highly unpredictable results which\n",
    "are nigh-near impossible to debug.\n",
    "\n",
    "Finally, **tkinter** is not your only choice when selecting a GUI tool,\n",
    "it’s just Python’s official set of bindings to **Tcl** (pronounced\n",
    "“tickle”, believe it or not). Others include **PyQt**, **wxPython**, and\n",
    "**PyGTK**. Wikipedia has great article that summarizes your\n",
    "choices\\[36\\].\n",
    "\n",
    "OK. Now you’re ready to get some GUI dirt under your fingernails! You’ve\n",
    "seen how to use the required widgets, so let’s put them in harness"
   ]
  },
  {
   "cell_type": "markdown",
   "id": "06e31ee7",
   "metadata": {},
   "source": [
    "## Exercise\n",
    "\n",
    "Please create a GUI that produces this interface:"
   ]
  },
  {
   "attachments": {
    "gui_assignment.png": {
     "image/png": "[encoded data removed]"
    }
   },
   "cell_type": "markdown",
   "id": "fd11c49c",
   "metadata": {},
   "source": [
    "![gui_assignment.png](attachment:gui_assignment.png)"
   ]
  },
  {
   "cell_type": "markdown",
   "id": "1f5c2ad3",
   "metadata": {},
   "source": [
    "… and the promised functionality.\n",
    " \n",
    "Hint: you’ll probably find it useful to use internal Frame objects to organize your widgets.\n",
    "    \n",
    "Extra credit: Add info dialogs to warn the user of the dire consequences of changing the case on their choices."
   ]
  },
  {
   "cell_type": "code",
   "execution_count": null,
   "id": "028f9ba5",
   "metadata": {},
   "outputs": [],
   "source": []
  }
 ],
 "metadata": {
  "kernelspec": {
   "display_name": "py39",
   "language": "python",
   "name": "py39"
  },
  "language_info": {
   "codemirror_mode": {
    "name": "ipython",
    "version": 3
   },
   "file_extension": ".py",
   "mimetype": "text/x-python",
   "name": "python",
   "nbconvert_exporter": "python",
   "pygments_lexer": "ipython3",
   "version": "3.8.8"
  },
  "toc": {
   "base_numbering": "8",
   "nav_menu": {},
   "number_sections": true,
   "sideBar": true,
   "skip_h1_title": false,
   "title_cell": "Table of Contents",
   "title_sidebar": "Contents",
   "toc_cell": false,
   "toc_position": {},
   "toc_section_display": true,
   "toc_window_display": true
  },
  "varInspector": {
   "cols": {
    "lenName": 16,
    "lenType": 16,
    "lenVar": 40
   },
   "kernels_config": {
    "python": {
     "delete_cmd_postfix": "",
     "delete_cmd_prefix": "del ",
     "library": "var_list.py",
     "varRefreshCmd": "print(var_dic_list())"
    },
    "r": {
     "delete_cmd_postfix": ") ",
     "delete_cmd_prefix": "rm(",
     "library": "var_list.r",
     "varRefreshCmd": "cat(var_dic_list()) "
    }
   },
   "types_to_exclude": [
    "module",
    "function",
    "builtin_function_or_method",
    "instance",
    "_Feature"
   ],
   "window_display": false
  }
 },
 "nbformat": 4,
 "nbformat_minor": 5
}
