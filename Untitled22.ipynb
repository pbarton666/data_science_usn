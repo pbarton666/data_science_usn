{
 "cells": [
  {
   "cell_type": "code",
   "execution_count": 2,
   "id": "31896318",
   "metadata": {},
   "outputs": [
    {
     "data": {
      "text/plain": [
       "'data\\\\py_log_english_brewery_data.csv'"
      ]
     },
     "execution_count": 2,
     "metadata": {},
     "output_type": "execute_result"
    }
   ],
   "source": [
    "import os\n",
    "import sqlite3\n",
    "import csv\n",
    "import logging\n",
    "\n",
    "# Set some locations and file names\n",
    "DB = 'beer'\n",
    "TABLE = 'brewpub'\n",
    "\n",
    "LOG_FILE = 'brewery.log'\n",
    "LEVEL = logging.DEBUG\n",
    "\n",
    "path = 'data'\n",
    "fn = 'py_log_english_brewery_data.csv'\n",
    "file_path = os.path.join(path, fn)\n",
    "file_path"
   ]
  },
  {
   "cell_type": "code",
   "execution_count": 3,
   "id": "f16232e5",
   "metadata": {},
   "outputs": [],
   "source": [
    "# Set up logging\n",
    "logging.basicConfig(filename=LOG_FILE,\n",
    "                    level=LEVEL)\n",
    "logger = logging.getLogger()"
   ]
  },
  {
   "cell_type": "code",
   "execution_count": 11,
   "id": "e8c71fae",
   "metadata": {},
   "outputs": [],
   "source": [
    "def create_database(db, table, file):\n",
    "    \"Creates a database w/ table loaded with file data\"\n",
    "\n",
    "    # connect to the database\n",
    "    logger.debug(\"connecting to database\")\n",
    "    conn = sqlite3.connect(db)\n",
    "    curs = conn.cursor()\n",
    "\n",
    "    # set up a data table\n",
    "    logger.debug(\"setting up the {} table\".format(table))\n",
    "    curs.execute(\"DROP TABLE IF EXISTS {}\".format(table))\n",
    "    cmd = \"\"\"CREATE TABLE {}\n",
    "                         (name   TEXT(50), \n",
    "                          is_ale TINYINT,\n",
    "                          county TEXT(50)\n",
    "                          )\"\"\".format(table)\n",
    "    curs.execute(cmd)\n",
    "    conn.commit()\n",
    "\n",
    "    # Interrogate the database for the column names\n",
    "    cmd = \"SELECT * FROM {}\".format(table)\n",
    "    curs.execute(cmd)\n",
    "    cols = []\n",
    "    for name in curs.description:\n",
    "        cols.append(name[0])\n",
    "    cols = tuple(cols)\n",
    "\n",
    "    # create a master set of info collected from data file\n",
    "    master = set()\n",
    "\n",
    "    # open the file and read it, dropping each row into the data table\n",
    "    logger.debug(\"opening {}\".format(file))\n",
    "    with open(file_path, 'r') as data_file:\n",
    "\n",
    "        # Use csv.reader to open the data file.  Skip the header row\n",
    "        reader = csv.reader(data_file)\n",
    "        next(reader)\n",
    "\n",
    "        # Read each row (a row is a list of strings).  Parse and clean.\n",
    "        for data in reader:\n",
    "            name, county = data\n",
    "            name = name.strip()\n",
    "            county = county.strip()\n",
    "            is_ale = 0\n",
    "            if \"ale\" in name.lower():\n",
    "                is_ale = 1\n",
    "\n",
    "            # create a tuple for input to INSERT\n",
    "            master.add((name, is_ale, county))\n",
    "\n",
    "    # At this point, the master set of info is deduped, so\n",
    "    #  add its contents to the database.  Note that we could\n",
    "    #  add everything to the database then grab unique values\n",
    "    #  via a SELECT DISTINCT directive.\n",
    "\n",
    "    for item_tuple in master:\n",
    "        cmd = f\"INSERT INTO {table} {cols} VALUES (?, ?, ?)\"\n",
    "        curs.execute(cmd, item_tuple)\n",
    "\n",
    "    # Create a log entry.\n",
    "    logger.debug(\"making commits to the {} table\".format(table))\n",
    "\n",
    "    conn.commit()\n",
    "    conn.close()\n",
    "\n",
    "\n",
    "def get_ale_houses(db, table, is_ale=1, county=0):\n",
    "    \"finds places based on whether they do ale and their location\"\n",
    "\n",
    "    logger.debug(\"Finding ale houses in {}.\".format(table))\n",
    "\n",
    "    # Establish database connectivity\n",
    "    conn = sqlite3.connect(db)\n",
    "    curs = conn.cursor()\n",
    "\n",
    "    # Pick the query depending on parameters provided\n",
    "    if not county:\n",
    "        cmd = f\"SELECT * FROM {table} WHERE is_ale={is_ale}\"\n",
    "    else:\n",
    "        cmd = f\"SELECT * FROM {table} WHERE is_ale={is_ale} AND county='{county}'\"\n",
    "\n",
    "    # Grab results\n",
    "    curs.execute(cmd)\n",
    "    results = curs.fetchall()\n",
    "\n",
    "    logger.debug(\"... found {} ale houses!\".format(len(results)))\n",
    "\n",
    "    return results"
   ]
  },
  {
   "cell_type": "code",
   "execution_count": 12,
   "id": "edeb58a4",
   "metadata": {},
   "outputs": [],
   "source": [
    "create_database(DB, TABLE, file_path)"
   ]
  },
  {
   "cell_type": "code",
   "execution_count": 13,
   "id": "cf0a907e",
   "metadata": {},
   "outputs": [
    {
     "data": {
      "text/plain": [
       "[('Bowman Ales', 1, 'Hampshire'),\n",
       " ('Prescott Ales', 1, 'Gloucestershire'),\n",
       " ('Hambleton Ales', 1, 'North Yorkshire'),\n",
       " ('Emmanuales', 1, 'South Yorkshire'),\n",
       " ('Thirst Class Ale', 1, 'Stockport'),\n",
       " ('Abbeydale Brewery', 1, 'South Yorkshire'),\n",
       " ('Daleside Brewery', 1, 'North Yorkshire'),\n",
       " ('Cumbrian Legendary Ales', 1, 'Cumbria'),\n",
       " ('Xtreme Ales', 1, 'Cambridgeshire'),\n",
       " ('Willy Good Ale', 1, 'Wiltshire'),\n",
       " ('Amber Ales', 1, 'Derbyshire'),\n",
       " ('Vale Brewery', 1, 'Buckinghamshire'),\n",
       " ('Ales of Scilly', 1, 'Cornwall'),\n",
       " ('Simpsons Fine Ales', 1, 'Herefordshire'),\n",
       " ('WeardAle Brewery', 1, 'Durham'),\n",
       " ('Bath Ales', 1, 'Avon & Somerset'),\n",
       " ('Cheddar Ales', 1, 'Somerset'),\n",
       " ('Allendale Brewery', 1, 'Northumberland'),\n",
       " ('Springhead Fine Ales', 1, 'Nottinghamshire'),\n",
       " ('Crouch Vale Brewery', 1, 'Essex'),\n",
       " ('Isca Ales', 1, 'Devon'),\n",
       " ('Yard of Ale Brewing', 1, 'Durham'),\n",
       " ('Yeovil Ales', 1, 'Somerset'),\n",
       " ('Corvedale Brewery', 1, 'Shropshire'),\n",
       " ('Ledbury Real Ales', 1, 'Herefordshire'),\n",
       " ('Peak Ales', 1, 'Derbyshire'),\n",
       " ('Tavy Ales', 1, 'Devon'),\n",
       " ('Lizard Ales', 1, 'Cornwall'),\n",
       " ('Plain Ales', 1, 'Wiltshire'),\n",
       " ('Saxon City Ales', 1, 'Herefordshire'),\n",
       " ('Mobberley FIne Ales', 1, 'Cheshire'),\n",
       " ('Oakham Ales', 1, 'Cambridgeshire'),\n",
       " ('Conset Ale Works', 1, 'Durham'),\n",
       " ('Glastonbury Ales', 1, 'Somerset'),\n",
       " ('Yorkshire Dales Brewery', 1, 'North Yorkshire'),\n",
       " ('Branscombe Vale Brewery', 1, 'Devon'),\n",
       " ('Greenfield Real Ale Brewery', 1, 'Manchester'),\n",
       " ('Gun Dog Ales', 1, 'Northants'),\n",
       " ('Ascot Ales', 1, 'Surrey'),\n",
       " ('Severn Vale Brewing', 1, 'Gloucestershire'),\n",
       " ('Stonehenge Ales', 1, 'Wiltshire'),\n",
       " ('Arbor Ales', 1, 'Avon'),\n",
       " ('Dawkins Ales', 1, 'Somerset'),\n",
       " ('Wild Weather Ales', 1, 'Hampshire'),\n",
       " ('Goody Ales', 1, 'Kent'),\n",
       " ('Sadlers Ales', 1, 'West Midlands'),\n",
       " ('Canterbury Ales (the)', 1, 'Kent'),\n",
       " ('Isla Vale Alesmiths', 1, 'Kent'),\n",
       " ('Austendyke Ales', 1, 'Lincolnshire'),\n",
       " ('Abbey Ales Brewery', 1, 'Somerset'),\n",
       " ('Angel Ales', 1, 'Worcestershire'),\n",
       " ('Slaters Ales', 1, 'Staffordshire'),\n",
       " ('Sunbeam Ales', 1, 'West Yorkshire'),\n",
       " ('Wensleydale Brewery', 1, 'North Yorkshire')]"
      ]
     },
     "execution_count": 13,
     "metadata": {},
     "output_type": "execute_result"
    }
   ],
   "source": [
    "results = get_ale_houses(DB, TABLE)\n",
    "results"
   ]
  },
  {
   "cell_type": "code",
   "execution_count": 14,
   "id": "fb1bc909",
   "metadata": {},
   "outputs": [
    {
     "data": {
      "text/plain": [
       "[('Simpsons Fine Ales', 1, 'Herefordshire'),\n",
       " ('Ledbury Real Ales', 1, 'Herefordshire'),\n",
       " ('Saxon City Ales', 1, 'Herefordshire')]"
      ]
     },
     "execution_count": 14,
     "metadata": {},
     "output_type": "execute_result"
    }
   ],
   "source": [
    "herfordshire = get_ale_houses(DB, TABLE, county='Herefordshire' )\n",
    "herfordshire"
   ]
  }
 ],
 "metadata": {
  "kernelspec": {
   "display_name": "py39",
   "language": "python",
   "name": "py39"
  },
  "language_info": {
   "codemirror_mode": {
    "name": "ipython",
    "version": 3
   },
   "file_extension": ".py",
   "mimetype": "text/x-python",
   "name": "python",
   "nbconvert_exporter": "python",
   "pygments_lexer": "ipython3",
   "version": "3.8.8"
  },
  "toc": {
   "base_numbering": 1,
   "nav_menu": {},
   "number_sections": true,
   "sideBar": true,
   "skip_h1_title": false,
   "title_cell": "Table of Contents",
   "title_sidebar": "Contents",
   "toc_cell": false,
   "toc_position": {},
   "toc_section_display": true,
   "toc_window_display": true
  },
  "varInspector": {
   "cols": {
    "lenName": 16,
    "lenType": 16,
    "lenVar": 40
   },
   "kernels_config": {
    "python": {
     "delete_cmd_postfix": "",
     "delete_cmd_prefix": "del ",
     "library": "var_list.py",
     "varRefreshCmd": "print(var_dic_list())"
    },
    "r": {
     "delete_cmd_postfix": ") ",
     "delete_cmd_prefix": "rm(",
     "library": "var_list.r",
     "varRefreshCmd": "cat(var_dic_list()) "
    }
   },
   "types_to_exclude": [
    "module",
    "function",
    "builtin_function_or_method",
    "instance",
    "_Feature"
   ],
   "window_display": false
  }
 },
 "nbformat": 4,
 "nbformat_minor": 5
}
