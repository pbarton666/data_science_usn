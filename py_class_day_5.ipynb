{
 "cells": [
  {
   "cell_type": "markdown",
   "id": "6ff429ae",
   "metadata": {},
   "source": [
    "Data Visualization\n",
    "==================\n",
    "\n",
    "A picture is worth a thousand words, right? This is especially the case\n",
    "with data projects. There's nothing like a clean graphic to give you the\n",
    "\"smell\", look, and feel of the target of your analysis.\n",
    "\n",
    "This chapter shows you how to use some more of the baked-in\n",
    "visualization features of pandas. You'll recall that pandas objects wrap\n",
    "**matplotlib**, Python's native plotting library. This provides a quick\n",
    "and dirty way see what your data looks like and to communicate your\n",
    "analytical findings. Mastery at visualization is a discipline unto\n",
    "itself, of course, and there are many tools available as your\n",
    "requirements become more complex. We'll just cover the basics here."
   ]
  },
  {
   "cell_type": "markdown",
   "id": "3a42571a",
   "metadata": {},
   "source": [
    "Matplotlib with Pandas methods\n",
    "------------------------------\n",
    "\n",
    "Pandas provide convenient wrappers for the Matplotlib functionality,\n",
    "making \"quick and dirty\" plots easy to implement, as we've already seen.\n",
    "\n",
    "Here's an example using Seaborn."
   ]
  },
  {
   "cell_type": "code",
   "execution_count": null,
   "id": "5788f26c",
   "metadata": {},
   "outputs": [],
   "source": [
    "import seaborn as sns\n",
    "\n",
    "s1 = np.fromiter( [np.sin(x/10) for x in range(3, 300)], dtype=float)\n",
    "s2 = np.fromiter( [np.sin(x/5 + 50) for x in range(3, 300)], dtype=float)\n",
    "\n",
    "sns.regplot(x=s1, y=s2, color='m')"
   ]
  },
  {
   "cell_type": "markdown",
   "id": "cef984c0",
   "metadata": {},
   "source": [
    "Here are a few fundamental plot types build into Pandas' data objects:"
   ]
  },
  {
   "cell_type": "code",
   "execution_count": null,
   "id": "9f53c8cc",
   "metadata": {},
   "outputs": [],
   "source": [
    "ser = pd.Series ( [3, 3, 2, 1, 5, 3, 8, 6])\n",
    "\n",
    "\n",
    "fig, axes = plt.subplots(nrows=1,ncols=3,figsize=(10, 4))\n",
    "\n",
    "ax = axes[0]\n",
    "ax.set_title(\"histogram\")\n",
    "ser.plot(kind='hist', ax=ax)\n",
    "\n",
    "ax = axes[1]\n",
    "ax.set_title(\"bar\")\n",
    "ser.plot(kind='bar', ax=ax)\n",
    "\n",
    "ax = axes[2]\n",
    "ax.set_title(\"line\")\n",
    "ser.plot(kind='line', ax=ax)"
   ]
  },
  {
   "cell_type": "markdown",
   "id": "20c06a56",
   "metadata": {},
   "source": [
    "Plotting works the same way with a **DataFrame** object.  Both DataFrames and Series have the same methods and syntax for creating plots (all are built on top of the matplotlib library).\n",
    "\n",
    "Here are a couple of quick example using random data:"
   ]
  },
  {
   "cell_type": "code",
   "execution_count": null,
   "id": "deef34c6",
   "metadata": {},
   "outputs": [],
   "source": [
    "df = pd.DataFrame(np.random.rand(10,3), columns=['c1', 'c2', 'c3'])\n",
    "\n",
    "fig, axes = plt.subplots(nrows=1,ncols=2,figsize=(15, 4))\n",
    "\n",
    "ax = axes[0]\n",
    "ax.set_title(\"histogram\")\n",
    "df.plot.bar(stacked=True, ax=ax)\n",
    "\n",
    "ax = axes[1]\n",
    "ax.set_title(\"bar\")\n",
    "df.plot.barh(stacked=True, ax=ax)\n"
   ]
  },
  {
   "cell_type": "markdown",
   "id": "aa3872b3",
   "metadata": {},
   "source": [
    "... again with the images combined post-production."
   ]
  },
  {
   "cell_type": "markdown",
   "id": "62402dbc",
   "metadata": {},
   "source": [
    "Several other graph types are available. These include **plot.box**() to\n",
    "visualize distributions, **plot.area**(), **plot.pie**(),\n",
    "**plot.scatter**(), and **hexbin** to visualize density via color-coded\n",
    "hexagons. You can read all about these in the official docs[33]."
   ]
  },
  {
   "cell_type": "markdown",
   "id": "5047f66d",
   "metadata": {},
   "source": [
    "Working With Basic Matplotlib Charts\n",
    "------------------------------------\n",
    "\n",
    "The **plot**() of a pandas **Series** object is a method of the\n",
    "**Series** object, technically, though it's really the\n",
    "**matplotlib.pyplot.plot**() method under the hood. To create the same\n",
    "line chart working directly with Matplotlib, we could use the following\n",
    "code:"
   ]
  },
  {
   "cell_type": "code",
   "execution_count": null,
   "id": "389a062f",
   "metadata": {},
   "outputs": [],
   "source": [
    "plt.plot([2, 8, 8, 2, 3, 6, 1])"
   ]
  },
  {
   "cell_type": "markdown",
   "id": "6e5c184b",
   "metadata": {},
   "source": [
    "The syntax is a bit different – the pandas wrapper provides a little\n",
    "extra convenience with keyword arguments like \"kind=\". However, this\n",
    "would also produce a line chart with the pandas objects. Other methods\n",
    "include **plt.bar**() and **plt.hist**()."
   ]
  },
  {
   "cell_type": "markdown",
   "id": "f3f46e12",
   "metadata": {},
   "source": [
    "Working with Compound and Customized Chart Types\n",
    "------------------------------------------------\n",
    "\n",
    "Making easy charts is ... well ... easy. To get more granular control\n",
    "you need to understand a little about the objects in play. You don't\n",
    "need to memorize this, but it's a good idea to get a 10,000 foot\n",
    "overview before plunging in[34].\n",
    "\n",
    "One way to think about Matplotlib is a bunch of nested containers – sort\n",
    "of like Russian dolls. At the top level there's a **FigureCanvas**\n",
    "that's populated with contents by the **Renderer**. The interactions are\n",
    "orchestrated by the **Artists**, which lays out the specifications for\n",
    "the shapes, lines, and text that appear on a plot object.\n",
    "\n",
    "The Artists know about the objects we want to create – things like\n",
    "**AxisImage** and **Line2D** graphics – and the appropriate container\n",
    "objects like **Figure, Subplot,** **Axes** used to hold them.\n",
    "\n",
    "Plotting objects are grouped into a container object called a\n",
    "**figure**. Generally speaking, you can work with the **figure** to set\n",
    "the window title and display the whole product. Each figure can have one\n",
    "or more independent **Subplot** objects ( \"charts\" in the vernacular).\n",
    "**Subplot** objects know about things like axes titles, chart titles,\n",
    "axis formatting, and what sort of chart (line, bar, etc.) to produce.\n",
    "Each subplot can display one or more data series, each contained in its\n",
    "own **Axes** object. That's where the data itself lives.\n",
    "\n",
    "This code demonstrates how to create a chart \"the hard way\" – by\n",
    "handling different container objects. You won't typically go about it in\n",
    "this fashion, but the script takes you on a quick tour of the structure.\n",
    "\n",
    "\n",
    "Here are some imports and a data series to plot:"
   ]
  },
  {
   "cell_type": "code",
   "execution_count": null,
   "id": "b10f6014",
   "metadata": {},
   "outputs": [],
   "source": [
    "import numpy as np\n",
    "import matplotlib.pyplot as plt\n",
    "from matplotlib import rcParams \n",
    "\n",
    "%matplotlib inline\n",
    "\n",
    "s1 = np.fromiter( [np.sin(x/10) for x in range(0, 300)], float)"
   ]
  },
  {
   "cell_type": "markdown",
   "id": "d3f934b1",
   "metadata": {},
   "source": [
    "We can start by creating a **figure** object. There can be several\n",
    "figure objects in your script, but only can be active at a time –\n",
    "references to **pyplot** objects, therefore, don't need to specify which\n",
    "**figure** is in play. To switch, just specify a different **figure**\n",
    "number. The **figure** automatically comes with a **canvas** container\n",
    "into which it will render. We can, optionally, set a reference to it.\n",
    "\n",
    "Here's our plt.figure:"
   ]
  },
  {
   "cell_type": "code",
   "execution_count": null,
   "id": "e5f0eec7",
   "metadata": {},
   "outputs": [],
   "source": [
    "# Create a master figure container (comes with a free canvas object)\n",
    "\n",
    "figure = plt.figure(1) #container object\n",
    "fignum = figure.number #figure index # - one active at a time\n",
    "canvas = figure.canvas #the canvas the figure renders into"
   ]
  },
  {
   "cell_type": "markdown",
   "id": "7cbff9c2",
   "metadata": {},
   "source": [
    "To a blank **plot** object, we can add an **axes** object. That's the\n",
    "container that will hold the data. It can be specified directly with a\n",
    "**tuple** containing size and location settings – all relative to the\n",
    "size of the **figure's** internal size and shape.\n",
    "\n",
    "Here, we create a figure.axes object:"
   ]
  },
  {
   "cell_type": "code",
   "execution_count": null,
   "id": "985931ad",
   "metadata": {},
   "outputs": [],
   "source": [
    "left, bottom, width, height = .2, .2, .6, .6\n",
    "axes = figure.add_axes( (left, bottom, width, height) )\n"
   ]
  },
  {
   "cell_type": "markdown",
   "id": "ddba5dd7",
   "metadata": {},
   "source": [
    "In order to actually plot the data, we need to add an appropriate\n",
    "object. Optionally, we can set parameters like line color, markings,\n",
    "labels, etc. There are a half dozen different ways to set these up with\n",
    "different \\*args and \\*\\*kwargs patterns."
   ]
  },
  {
   "cell_type": "code",
   "execution_count": null,
   "id": "690a514d",
   "metadata": {},
   "outputs": [],
   "source": [
    "#add data (adds an entry to axes.lines list for free)\n",
    "axes.plot(s1, 'blue', label = 'axes.plot label')"
   ]
  },
  {
   "cell_type": "markdown",
   "id": "59114e55",
   "metadata": {},
   "source": [
    "In this example, we've specified references to several of the available\n",
    "objects. We can use these to tweak the parameters. \n",
    "\n",
    "The legends, labels, etc. are configured to display as their associated property names.  You've made a graphical cheat sheet."
   ]
  },
  {
   "cell_type": "code",
   "execution_count": null,
   "id": "183369b4",
   "metadata": {},
   "outputs": [],
   "source": [
    "# Canvas\n",
    "canvas.set_window_title(\"canvas.set_window_title\")\n",
    "\n",
    "# Axes\n",
    "axes.xaxis.set_label_text('axes.xaxis.set_label_text')\n",
    "axes.set_ylabel('axes.set_ylabel')\n",
    "axes.set_title('axes.set_title')\n",
    "axes.set(label = \"axes.set(label = )\")\n",
    "axes.legend() #turns display on\n",
    "\n",
    "# line properties\n",
    "line = axes.lines[0]\n",
    "line.set_marker('.')\n",
    "line.set_markerfacecolor('green')\n",
    "line.set_markeredgecolor('green')\n",
    "line.set_label(\"line.set_label\")\n",
    "\n",
    "figure"
   ]
  },
  {
   "cell_type": "markdown",
   "id": "8f40d639",
   "metadata": {},
   "source": [
    "Since there are literally hundreds of settings on dozens of different\n",
    "possible objects, there's no sense in trying to remember them all. \n",
    "\n",
    "Here are a few ways to get and set their properties:"
   ]
  },
  {
   "cell_type": "code",
   "execution_count": null,
   "id": "4dcc55b3",
   "metadata": {},
   "outputs": [],
   "source": [
    "verbose = False\n",
    "if verbose:\n",
    "    # Valid options for the linestyle attribute of a line object\n",
    "    plt.setp(line, 'linestyle')\n",
    "\n",
    "    # Current setting for the linestyle attribute of a line object\n",
    "    current = plt.getp(line, 'linestyle')\n",
    "\n",
    "    # Change the linestyle attribute\n",
    "    plt.setp(line, linestyle=current)\n",
    "\n",
    "    # Get all of the Artist object properties \n",
    "    plt.rcParams\n",
    "    \n",
    "    # We can capture a dict of all an an object's properties\n",
    "    figure.properties()\n",
    "    \n",
    "    # Get all properties available in Matplotlib.rcParams\n",
    "    rcParams"
   ]
  },
  {
   "cell_type": "markdown",
   "id": "5b23a893",
   "metadata": {},
   "source": [
    "You can address the various properties of each of these subplot objects\n",
    "individually. \n",
    "\n",
    "We can begin by creating a bunch of subplots:"
   ]
  },
  {
   "cell_type": "code",
   "execution_count": null,
   "id": "492acf51",
   "metadata": {
    "scrolled": true
   },
   "outputs": [],
   "source": [
    "fig, ax = plt.subplots(nrows=2, ncols=2)"
   ]
  },
  {
   "cell_type": "markdown",
   "id": "bf6fb451",
   "metadata": {},
   "source": [
    "The object 'ax' is just an array of arrays.   Each inner array represents a row of plots.  So we can address the elements in terms of a 2-D slice in the form of [<row>, <column>].\n",
    "    \n",
    "We can format each element independently as its own plot object:"
   ]
  },
  {
   "cell_type": "code",
   "execution_count": null,
   "id": "f4f984db",
   "metadata": {},
   "outputs": [],
   "source": [
    "ax[0,0].plot([1, 3, 4, 5])\n",
    "ax[0,1].plot([5, 34, 23])\n",
    "ax[1,0].plot([5, 4, 3, 2])\n",
    "ax[1,1].bar([6, 3, 2, 7], [4, 6, 8, 10])\n",
    "\n",
    "ax[0,0].scatter([1, 3, 4, 5], [3, 3, 5, 6])\n",
    "ax[1,1].yaxis.set_ticks([0, 10])\n",
    "ax[1,1].xaxis.set_ticks([0, 1, 2, 3, 4, 5, 6, 7, 8, 9, 10])\n",
    "ax[1,1].set_xlabel(\"Go Cubs!\")\n",
    "\n",
    "fig"
   ]
  },
  {
   "cell_type": "markdown",
   "id": "3ffe69bf",
   "metadata": {},
   "source": [
    "These plots so far are sort of boring, I know. So let's look at some\n",
    "ways to customize them a bit more and add a modicum of coolness. \n",
    "\n",
    "Here's another example:"
   ]
  },
  {
   "cell_type": "code",
   "execution_count": null,
   "id": "0e0d84f1",
   "metadata": {},
   "outputs": [],
   "source": [
    "red = 'r'\n",
    "green = 'g'\n",
    "greenish = 'chartreuse'\n",
    "black = 'b'\n",
    "circle = 'o'\n",
    "\n",
    "# Some data to plot\n",
    "s3 = s1 * 2\n",
    "s4 = pd.Series([np.cos(x/10) for x in range(0,300)])\n",
    "\n",
    "plt.plot(s4, red + circle, s4, black,\n",
    "         s3, greenish,\n",
    "        )\n"
   ]
  },
  {
   "cell_type": "markdown",
   "id": "b7640632",
   "metadata": {},
   "source": [
    "Visualization Tools for Exploratory Data Analysis\n",
    "-------------------------------------------------\n",
    "\n",
    "When looking at a new data set, sometimes it's useful to do at least\n",
    "some first-order numerical exploration. We'll get into more complicated\n",
    "ones later, but here are a couple simple tools / techniques to get you\n",
    "going.\n",
    "\n",
    "**Seaborn** is essentially a high-level interface to Matplotlib.\n",
    "Like Matplotlib, it works and plays well with the Python scientific\n",
    "libraries like SciPy and NumPy. With Seaborne, it's easy to produce\n",
    "really pretty graphics and some statistical analysis with minimal code.\n",
    "For instance, it has ready access to built-in color theme palettes and\n",
    "the ability to render complex \"mash-ups\" of different chart objects. The\n",
    "downside is that to achieve granular control you still need to\n",
    "understand, and work directly with Matplotlib, objects.\n",
    "\n",
    "Even better, it has built-in analytical capability."
   ]
  },
  {
   "cell_type": "markdown",
   "id": "a639d1ee",
   "metadata": {},
   "source": [
    "Here's a quick example of Seaborn's power. Let's assume we have two data\n",
    "series. It's possible to conduct a linear regression analysis, plot both\n",
    "**Series**, plot a linear regression line, and a 1-sigma (one standard\n",
    "deviation) confidence boundary – all in a few lines of code."
   ]
  },
  {
   "cell_type": "code",
   "execution_count": null,
   "id": "a84dbad3",
   "metadata": {},
   "outputs": [],
   "source": [
    "s1 = pd.Series([1,2,4,5,6,7,8,7])\n",
    "s2 = pd.Series([3,4,6,5,8,9,9,9])\n",
    "\n",
    "sns.regplot(x=s1, y=s2, color = 'b', ci=95, marker = 'x')"
   ]
  },
  {
   "cell_type": "markdown",
   "id": "b9cd042c",
   "metadata": {},
   "source": [
    "Linear regression is a technique used to find the \"best fit\" line\n",
    "through a cloud of data. The idea is to minimize the distance between\n",
    "the line estimated and data it's estimated against.\n",
    "\n",
    "This isn't exactly the optimal application for regression, but the plot\n",
    "is pretty cool – the \"figure 8\" is a scatter plot of the two data\n",
    "series. The horizontal line represents the line that describes the best\n",
    "linear relationship between the dependent variable (s1) and the\n",
    "independent variable (s2). The light band shows the error band – minimal\n",
    "at 0 and widening as the values approach the extremes. Pretty good for a\n",
    "single line of code, don't you think?"
   ]
  },
  {
   "cell_type": "markdown",
   "id": "615afb33",
   "metadata": {},
   "source": [
    "If you want a quick snapshot of the relationship between two **Series**,\n",
    "you can use Seaborn's **jointplot**() method. You get the distribution\n",
    "of each variable, a \"heat map\" of the joint probabilities, and the\n",
    "Pearson's R – a measure of the correlation between the elements of two\n",
    "data series, along with its p-value. \n",
    "\n",
    "Here's an example:"
   ]
  },
  {
   "cell_type": "code",
   "execution_count": null,
   "id": "2b806345",
   "metadata": {},
   "outputs": [],
   "source": [
    "sns.jointplot(x=s1, y=s2, kind='kde', color='k')"
   ]
  },
  {
   "cell_type": "markdown",
   "id": "c626f078",
   "metadata": {},
   "source": [
    "There are also some univariate (one variable at a time) methods\n",
    "available within Seaborn. One is the **distplot**() method. It will show\n",
    "a histogram of the data then will attempt to fit a distribution to it.\n",
    "By default it will use a Kernal Density Estimation[36] (KDE) for the\n",
    "fit. This is a nonparametric method (doesn't use a formula for the base\n",
    "shape) to figure what shape the population of all possible values\n",
    "probably looks like. This may be a choice for small sample sizes as we\n",
    "have here, or data you have no idea about. \n",
    "\n",
    "Right out of the box, here's\n",
    "what you can do:"
   ]
  },
  {
   "cell_type": "code",
   "execution_count": null,
   "id": "429b6ce8",
   "metadata": {},
   "outputs": [],
   "source": [
    "sns.distplot(s1)"
   ]
  },
  {
   "cell_type": "markdown",
   "id": "853250a3",
   "metadata": {},
   "source": [
    "It's easy enough to get it to try to fit another distribution – all you\n",
    "have to do is give it the alternative distribution. If you want to\n",
    "report the characteristics of that distribution, you can take advantage\n",
    "that all of the tools we're discussing here – SciPy, NumPy, pandas, and\n",
    "Seaborn are built on the same stack of constituent elements. \n",
    "\n",
    "Here, we\n",
    "can delve into the **scipy.stats** library to get both the distribution\n",
    "to use and fit metrics."
   ]
  },
  {
   "cell_type": "code",
   "execution_count": null,
   "id": "31fc95be",
   "metadata": {},
   "outputs": [],
   "source": [
    "s1 = pd.Series([np.random.rand() for _  in range(2000)])\n",
    "mu, sigma = stats.norm.fit(s1)\n",
    "\n",
    "ax = sns.distplot(s1, kde=False, fit=stats.norm, bins=100)\n",
    "plt.title = \"Check against normal\"\n",
    "ax.legend([\"normal ($\\mu=${0:.2g}, $\\sigma=${1:.2f})\".format(mu, sigma)])"
   ]
  },
  {
   "cell_type": "markdown",
   "id": "b91ec30f",
   "metadata": {},
   "source": [
    "As you can we used the **stats.norm.fit**() method to do the heavy\n",
    "lifting. Alternatively, we might have used **stats.chi2.fit**().\n",
    "Chi-squared is another distribution – it's close to the normal\n",
    "distribution in shape and better suited to small sample sizes.\n",
    "\n",
    "The funny looking text for the legend works with Jupyter notebooks –\n",
    "they know how to translate various kinds of text format strings like\n",
    "this:\n",
    "\n",
    "     'normal ($\\\\\\\\mu=$5, $\\\\\\\\sigma=$2.35)'"
   ]
  },
  {
   "cell_type": "markdown",
   "id": "5e924942",
   "metadata": {},
   "source": [
    "... into nicely-formatted text. This particular example uses **LaTeX**,\n",
    "a general-purpose mathematical equation rendering language supported in\n",
    "Jupiter's Markdown[37] implementation.\n",
    "\n",
    "Another way to get a quick hit on your data is to use a \"box-and-whisker\n",
    "plot\" (sometimes called simply \"box plot\"). It shows the min/max values,\n",
    "median, and quartile boundaries. \n",
    "\n",
    "It's another \"one liner\" in\n",
    "implementation:"
   ]
  },
  {
   "cell_type": "code",
   "execution_count": null,
   "id": "83ffab40",
   "metadata": {},
   "outputs": [],
   "source": [
    "s1.plot.box()"
   ]
  },
  {
   "cell_type": "markdown",
   "id": "ddef25c1",
   "metadata": {},
   "source": [
    "Other Visualization Tools\n",
    "-------------------------\n",
    "\n",
    "Some of the other tools in the Python visualization ecosystem include:\n",
    "\n",
    "-   **Bokesh** - compares, more than contrasts with Seaborn.\n",
    "\n",
    "-   **Pygal** - produces high-quality, vectorized graphics.\n",
    "\n",
    "-   **Plotly** – online library that works with Python API.\n",
    "\n",
    "-   **ggplot** – simplified plotting tool based on ggplot2 (for R);\n",
    "    works and plays well with pandas.\n",
    "\n",
    "This is just a \"tip of the hat\" to these other tools, but your own\n",
    "exploration is encouraged. The remainder of this course will focus on\n",
    "Matplotlib and Seaborn."
   ]
  },
  {
   "cell_type": "markdown",
   "id": "2f974c16",
   "metadata": {},
   "source": [
    "## Exercise\n",
    "Please create a four-quadrant plot using data from \"baseball_stats.xls\" with this layout:\n",
    "\n",
    "\n",
    "- NW: a histogram of the batting average (the \"avg\" column).\n",
    "\n",
    "\n",
    "- NE: an overlay of the batting average and the associated normal distribution curve (using the batting average's mean and standard deviation). Feel free to build on the recipe in the text.\n",
    "\n",
    "\n",
    "- SW: a scatter plot comparing the ratio of walks (\"bb\" column) to at_bats (\"at_bat\" column) on one axis and hits to at_bats (the \"avg\" column).\n",
    "\n",
    "\n",
    "- SE: a scatter plot comparing the ratio of strikeouts (\"k\" column) to at_bats (\"at_bat\" column) on one axis and hits to at_bats (the \"avg\" column).\n",
    "\n",
    "\n",
    "The tick marks on both of the scatter plots should be the same on the x-axis and y-axis. That's so that observations falling on a diagonal line through the origen would indicate that there's no difference in propensity to (walk/strike out) and the propensity to get a hit. You can manage the tick marks with the set_ticks() method.\n",
    "\n",
    "\n",
    "All the subplots should have appropriate titles (hint: consider using the set_title() method)."
   ]
  },
  {
   "cell_type": "markdown",
   "id": "83e680d4",
   "metadata": {},
   "source": [
    "Datetime Objects\n",
    "================\n",
    "\n",
    "Many streams of data come to us as time series of some sort or another.\n",
    "Pandas is particularly well-adapted to wrangling these and has a lot of\n",
    "tools to take care of digesting various data types, filling in missing\n",
    "data, figuring out things like holidays, fiscal quarters, and weekends –\n",
    "all built in.\n",
    "\n",
    "Much of the magic comes from the tools to manufacture and manipulate\n",
    "**Series** indices. We will explore some of these operations in this\n",
    "chapter."
   ]
  },
  {
   "cell_type": "markdown",
   "id": "82cb0e75",
   "metadata": {},
   "source": [
    "Basic Time Series Operations\n",
    "----------------------------\n",
    "\n",
    "You'll recall that **Series** index elements can be any hashable\n",
    "object[42]. Most **datetime**-like objects fit this bill and are\n",
    "typically used to index data structures containing time series. Pandas\n",
    "has a special object, a **DatetimeIndex**, for this purpose.\n",
    "\n",
    "An easy way to create a **DatetimeIndex** is to apply the\n",
    "**date\\_range()** method. One nice thing about **date\\_range()** is that\n",
    "it can handle anything that remotely looks like a date and reliably do\n",
    "the right thing. \n",
    "\n",
    "These all produce dates from Jan 1, 2017 - Jan 5, 2017:"
   ]
  },
  {
   "cell_type": "code",
   "execution_count": null,
   "id": "3933a675",
   "metadata": {},
   "outputs": [],
   "source": [
    "import datetime\n",
    "\n",
    "index = pd.date_range(start = '1/1/2017', periods = 5, freq = 'd')\n",
    "index = pd.date_range(start = 'Jan 1 2017', periods=5, freq = 'd')\n",
    "index = pd.date_range(start = datetime.datetime(2017,1,1), \\\n",
    "periods = 5, freq = 'd')\n",
    "index = pd.date_range(start = '1 Jan 2017', end = '5 Jan 2017')\n",
    "index"
   ]
  },
  {
   "cell_type": "markdown",
   "id": "7c276a94",
   "metadata": {},
   "source": [
    "As you can see, there are many options for specifying the index. The\n",
    "optional '**freq'** keyword argument can be specified as: 'A' (annual),\n",
    "'M' (monthly), 'D' (daily), 'H' (hourly), 'M' (each minute), 'S\" (each\n",
    "second), and 'MS' (each millisecond). There are several flavors of 'A'\n",
    "available e.g., 'A-MAR' (every year on March 1).\n",
    "\n",
    "It's possible to create a **Series** object with a date index and data\n",
    "in one fell swoop. It's also possible to swap or modify the index after\n",
    "the **Series** already exists. \n",
    "\n",
    "Here's an alternative way to create a\n",
    "**Series**:"
   ]
  },
  {
   "cell_type": "code",
   "execution_count": null,
   "id": "fa39eef8",
   "metadata": {},
   "outputs": [],
   "source": [
    "data = [10, 20, 30, 40]\n",
    "index = pd.date_range(start = '1 Jan 2017', end = '4 Jan 2017')\n",
    "ser = pd.Series(data = data, index = index)\n",
    "ser"
   ]
  },
  {
   "cell_type": "markdown",
   "id": "e262d17f",
   "metadata": {},
   "source": [
    "Introspecting Time Series\n",
    "-------------------------\n",
    "\n",
    "Once we have a time series, we can treat it like any other **Series**\n",
    "object, but with a couple of twists. Here, we'll work with some\n",
    "political polling data from Real Clear Politics[43]. The first few lines\n",
    "of \"clean\\_polling\\_data.csv\" containing it look like this:"
   ]
  },
  {
   "cell_type": "markdown",
   "id": "f84066e3",
   "metadata": {},
   "source": [
    "    date,poll,size,stype,approve,disapprove,spread\n",
    "    2017-04-24 00:00:00,Rasmussen Reports,1500,LV,47,53,-6\n",
    "    2017-04-23 00:00:00,Gallup,1500,A,40,54,-14\n",
    "    2017-04-20 00:00:00,ABC News/Wash Post,1004,A,42,53,-11"
   ]
  },
  {
   "cell_type": "markdown",
   "id": "70eab3a8",
   "metadata": {},
   "source": [
    "The first line contains a comma-separated header (no spaces) which will\n",
    "be picked up and added automatically as column index values when we\n",
    "execute **read\\_csv**() to import it.\n",
    "\n",
    "This bit of code loads up the CSV file – assuming it's in the same\n",
    "directory as the script / notebook then requests metadata on the\n",
    "resulting **DataFrame** object. Note that we can specify column(s) to be\n",
    "cast into **datetime** objects upon import."
   ]
  },
  {
   "cell_type": "code",
   "execution_count": null,
   "id": "a02708db",
   "metadata": {},
   "outputs": [],
   "source": [
    "import pandas as  pd            \n",
    "import os\n",
    "\n",
    "datadir = 'data'\n",
    "fn = 'clean_polling_data.csv'\n",
    "datafile = os.path.join('.', datadir, fn)\n",
    "\n",
    "df=pd.read_csv(datafile, parse_dates=[0]) #dialect defaults to Excel\n",
    "df.info()"
   ]
  },
  {
   "cell_type": "markdown",
   "id": "6a82fc74",
   "metadata": {},
   "source": [
    "We can have a quick look at the first few rows using the **head**()\n",
    "method. We'll do this after configuring how the text will display with\n",
    "**pandas.set\\_option**(). We'll also use the 'date' column as the index\n",
    "since this is a time series."
   ]
  },
  {
   "cell_type": "code",
   "execution_count": null,
   "id": "04945dd1",
   "metadata": {},
   "outputs": [],
   "source": [
    "pd.set_option('display.max_rows', 4)  #default for head(), tail(), etc.\n",
    "pd.set_option('display.width', 500)   #keeps columns from wrapping\n",
    "df.set_index('date', inplace=True)\n",
    "df.head(3)  "
   ]
  },
  {
   "cell_type": "markdown",
   "id": "130f2c1c",
   "metadata": {},
   "source": [
    "Our data is now in a **DataFrame** object. To grab a **Series**, all we\n",
    "need to do is select a column (recall that a **DataFrame** is just a\n",
    "stack of **Series** objects). Most of the methods, like **head**() will\n",
    "still work."
   ]
  },
  {
   "cell_type": "code",
   "execution_count": null,
   "id": "3fbbb10c",
   "metadata": {},
   "outputs": [],
   "source": [
    "ser=df['poll']\n",
    "print(type(ser))\n",
    "ser.head(3)"
   ]
  },
  {
   "cell_type": "markdown",
   "id": "46673565",
   "metadata": {},
   "source": [
    "It's easy to find out all the polling organizations in our data set.\n",
    "This bit of code uses **unique**() to find one of each then sorts them\n",
    "alphabetically:"
   ]
  },
  {
   "cell_type": "code",
   "execution_count": null,
   "id": "167a2d46",
   "metadata": {},
   "outputs": [],
   "source": [
    "ser.iloc[3]\n",
    "unique=ser.unique()\n",
    "unique.sort()\n",
    "print('found {} unique items:\\n{}'.format(len(unique), unique))"
   ]
  },
  {
   "cell_type": "markdown",
   "id": "de147e5c",
   "metadata": {},
   "source": [
    "Let's go ahead and create a new **Series**, this time based on the\n",
    "polling \"spread\". That's the difference between \"approve\" and\n",
    "\"disapprove\" ratings for a certain president."
   ]
  },
  {
   "cell_type": "code",
   "execution_count": null,
   "id": "ae0471d4",
   "metadata": {},
   "outputs": [],
   "source": [
    "ser=pd.Series(df['spread'])\n",
    "ser.head(3)"
   ]
  },
  {
   "cell_type": "markdown",
   "id": "c7851682",
   "metadata": {},
   "source": [
    "If we want, we can create an **ndarray** based only on the values using\n",
    "the cleverly-named **values**() method:"
   ]
  },
  {
   "cell_type": "code",
   "execution_count": null,
   "id": "dce5c208",
   "metadata": {},
   "outputs": [],
   "source": [
    "df['spread'].values"
   ]
  },
  {
   "cell_type": "markdown",
   "id": "68762e01",
   "metadata": {},
   "source": [
    "We want to be a little careful here. Our **Series** object is not a\n",
    "free-standing object. It's hot-linked to the original **DataFrame** – a\n",
    "\"view\" instead of a deep copy. This is really important because any\n",
    "change we make to the **Series** object is also reflected in the\n",
    "original. \n",
    "\n",
    "Here, we'll change the first value of the **Series** to\n",
    "something strange – 9999 then look at the **DataFrame**:"
   ]
  },
  {
   "cell_type": "code",
   "execution_count": null,
   "id": "177adee6",
   "metadata": {},
   "outputs": [],
   "source": [
    "first_val=ser[0]      #record the original value\n",
    "ser[0]=9999\n",
    "df.head(3)"
   ]
  },
  {
   "cell_type": "markdown",
   "id": "65cc0c53",
   "metadata": {},
   "source": [
    "If we want to create an independent object, one way to go about it would\n",
    "be to make a **copy** of the original, then pick off its **values**. The\n",
    "following code does just that then \"borrows\" the index from the\n",
    "original. Now we can change the values of the **Series** without\n",
    "impacting the **DataFrame** object. No worries about the index, either –\n",
    "it's also decoupled from the original."
   ]
  },
  {
   "cell_type": "code",
   "execution_count": null,
   "id": "1d567bf4",
   "metadata": {},
   "outputs": [],
   "source": [
    "# Restore to original\n",
    "ser[0]=first_val    \n",
    "\n",
    "# Decoupled Series from copy of DataFrame\n",
    "ser_1=pd.Series(df['spread'].copy().values)    \n",
    "ser_1.index=df.index\n",
    "ser_1[0]=999\n",
    "df.head(3)"
   ]
  },
  {
   "cell_type": "markdown",
   "id": "e7ef9f3b",
   "metadata": {},
   "source": [
    "... and as you can see, the **Series** has reflected the change we just\n",
    "made:"
   ]
  },
  {
   "cell_type": "code",
   "execution_count": null,
   "id": "16549520",
   "metadata": {},
   "outputs": [],
   "source": [
    "ser_1.head(3)"
   ]
  },
  {
   "cell_type": "markdown",
   "id": "78278fc5",
   "metadata": {},
   "source": [
    "Let's have a look at the dataset's main parameters:"
   ]
  },
  {
   "cell_type": "code",
   "execution_count": null,
   "id": "049221b1",
   "metadata": {},
   "outputs": [],
   "source": [
    "ser_1.describe()"
   ]
  },
  {
   "cell_type": "markdown",
   "id": "cdad4fb4",
   "metadata": {},
   "source": [
    "Separately we can explore the index with methods like **index.max**()\n",
    "and **index.min**()"
   ]
  },
  {
   "cell_type": "code",
   "execution_count": null,
   "id": "9f356d29",
   "metadata": {},
   "outputs": [],
   "source": [
    "print(\"max index is:  {}\".format(ser_1.index.max()))\n",
    "print(\"min index is:  {}\".format(ser_1.index.min()))"
   ]
  },
  {
   "cell_type": "markdown",
   "id": "dd668431",
   "metadata": {},
   "source": [
    "It's easy to find the smallest (or largest) few elements with\n",
    "**nsmallest**() and **nlargest**() like so:"
   ]
  },
  {
   "cell_type": "code",
   "execution_count": null,
   "id": "9e854a2f",
   "metadata": {},
   "outputs": [],
   "source": [
    "ser_1.nsmallest(3) "
   ]
  },
  {
   "cell_type": "markdown",
   "id": "1c75cb6f",
   "metadata": {},
   "source": [
    "Other introspection tools available allow you to figure out how many\n",
    "unique values there are, whether there's any missing data, whether it's\n",
    "monotonic, etc. \n",
    "\n",
    "Here are a few of them:"
   ]
  },
  {
   "cell_type": "code",
   "execution_count": null,
   "id": "657f2639",
   "metadata": {},
   "outputs": [],
   "source": [
    "print(f\"number of unique values:  {ser_1.nunique()}\")\n",
    "print(f\"monotonic?  {ser_1.is_monotonic}\")\n",
    "print(f\"any NaN?  {ser_1.hasnans}\")\n",
    "print(f\"size:  {ser_1.size}\".format())\n",
    "\n",
    "# Autocorrelation\n",
    "print(f\"\\nautocorrelation coefficient: {ser_1.autocorr():.3f}\")\n",
    "\n",
    "# Random values - useful for large datasets\n",
    "print(\"\\na few random values:\\n{}\".format(ser_1.sample(n=3) ))"
   ]
  },
  {
   "cell_type": "markdown",
   "id": "76964531",
   "metadata": {},
   "source": [
    "Tools for Holidays, Business Days, Etc.\n",
    "---------------------------------------\n",
    "\n",
    "Sometimes when working with time-dependent data, we're interested in not\n",
    "just the data, but how their timing relates to the outside world. If\n",
    "we're in the candy business, we might be really interested in what day\n",
    "Easter falls on. In case you're interested, it's the first Sunday after\n",
    "the first Monday after the Spring equinox. If we do business accounting,\n",
    "we might care when fiscal quarters begin and end, or what the last\n",
    "business day of a month (accounting for holidays, of course) will be.\n",
    "\n",
    "This is far too much to want to keep in your head. Fortunately the\n",
    "Pandas **Series** objects know a lot about dates generally.\n",
    "\n",
    "There are dozens of built-in tools like permutations of \"quarters\" like\n",
    "**QuarterEnd**() and **QuarterBegin**(). Other methods keep track of the\n",
    "beginning and end of months and business months such as\n",
    "**thisBMonthEnd**(). Still others have granularity to the level of\n",
    "business hours. Depending of the version of pandas you're using, these\n",
    "are housed in the **pandas.core.datetools** (older) or in the\n",
    "**pandas.tseries**[44] (newer) libraries. \n",
    "\n",
    "We'll import these here:"
   ]
  },
  {
   "cell_type": "code",
   "execution_count": null,
   "id": "7c234abf",
   "metadata": {},
   "outputs": [],
   "source": [
    "import pandas.tseries.holiday as hol\n",
    "import pandas.tseries.offsets as off"
   ]
  },
  {
   "cell_type": "markdown",
   "id": "4df9a484",
   "metadata": {},
   "source": [
    "First, let's cover a few basics. Pandas has a built-in object called a\n",
    "**DatetimeIndex**. It's used, as you might imagine from its name, as one\n",
    "way to index a **Series** object. It's sort of a souped-up **datetime**\n",
    "object – it's time zone aware, can be used to calculate\n",
    "**timedelta**-like objects, etc. It can be coupled with a **DateOffset**\n",
    "object that allows calculations to be made based on built-in or\n",
    "customized time spans.\n",
    "\n",
    "Of course, Pandas has a **datetime** object – we've already used it as\n",
    "the index for the elections dataset. It's called simply\n",
    "**pandas.datetime** and works just like the standard version. \n",
    "\n",
    "We can use\n",
    "one to set a start point for a **DatetimeIndex** generated with the\n",
    "**date\\_range**() method:"
   ]
  },
  {
   "cell_type": "code",
   "execution_count": null,
   "id": "023bb565",
   "metadata": {},
   "outputs": [],
   "source": [
    "from datetime import datetime\n",
    "new_year=datetime(2017, 1, 1)\n",
    "print('daily:', pd.date_range(start=new_year,periods=3, freq='d'))\n",
    "print('monthly:', pd.date_range(start=new_year,periods=3, freq='M'))\n",
    "print('annually:', pd.date_range(start=new_year,periods=3, freq='A'))"
   ]
  },
  {
   "cell_type": "markdown",
   "id": "679bb336",
   "metadata": {},
   "source": [
    "Here, we've started with New Year's Day and have spun up three-element\n",
    "**DatetimeIndex** objects – separated by a day, a month, and (roughly,\n",
    "due to rounding) a year. We could alternatively provide a beginning, an\n",
    "end, and a frequency and it would work well.\n",
    "\n",
    "The next example uses **bdate\\_range**() to gin up business dates – no\n",
    "holidays or weekends. It works just like **date\\_range**() otherwise.\n",
    "\n",
    "Here, we're asking for the last day of each quarter in 2019."
   ]
  },
  {
   "cell_type": "code",
   "execution_count": null,
   "id": "2f3ce64d",
   "metadata": {},
   "outputs": [],
   "source": [
    "\n",
    "qtrs=pd.bdate_range(datetime(2019,1,1), datetime(2020,1,1), freq='BQ')\n",
    "qtrs"
   ]
  },
  {
   "cell_type": "markdown",
   "id": "4a0fa021",
   "metadata": {},
   "source": [
    "These objects are pretty clever and can be interrogated easily:"
   ]
  },
  {
   "cell_type": "code",
   "execution_count": null,
   "id": "164af168",
   "metadata": {},
   "outputs": [],
   "source": [
    "first_q=qtrs[0]\n",
    "print(\"first_quarter\", first_q)\n",
    "print(\"week\", first_q.weekofyear)\n",
    "print(\"ordinal day\", first_q.dayofyear)\n",
    "print(\"ordinal day of week\", first_q.dayofweek)\n",
    "print(\"is quarter end?\", first_q.is_quarter_end)"
   ]
  },
  {
   "cell_type": "markdown",
   "id": "c6e3fc5b",
   "metadata": {},
   "source": [
    "When we provided a \"**freq=**\" keyword argument, we've invoked\n",
    "under-the-hood methods that apply a **DateOffset** object to the\n",
    "original **datetime** object. These essentially perform time-specific\n",
    "math, sparing you the gory details of just what that entails.\n",
    "\n",
    "Here's an easy way to advance a year:"
   ]
  },
  {
   "cell_type": "code",
   "execution_count": null,
   "id": "16a8cf3e",
   "metadata": {},
   "outputs": [],
   "source": [
    "myday = datetime(2020, 1, 1)\n",
    "print(\"plus a year:  \", myday + pd.DateOffset(years=1))"
   ]
  },
  {
   "cell_type": "markdown",
   "id": "124ac3a5",
   "metadata": {},
   "source": [
    "A little easier might be to use the vast library of built in offset\n",
    "objects from the **pandas.tseries.offsets** library (imported above as\n",
    "\"off\"). That's where the baked-in logic to find business quarters, etc.\n",
    "lives. \n",
    "\n",
    "A few examples:"
   ]
  },
  {
   "cell_type": "code",
   "execution_count": null,
   "id": "5d29651b",
   "metadata": {
    "scrolled": true
   },
   "outputs": [],
   "source": [
    "print(\"advance a day:\", myday + off.BDay())\n",
    "print(\"this Q end:\", myday + off.QuarterEnd())\n",
    "print(\"last Q end:\", myday - off.QuarterEnd())\n",
    "print(\"second-last Q end:\", myday - 2 * off.QuarterEnd())"
   ]
  },
  {
   "cell_type": "markdown",
   "id": "09bf4169",
   "metadata": {},
   "source": [
    "We can roll forward a quarter at a time.   Here are the next few starting days:"
   ]
  },
  {
   "cell_type": "code",
   "execution_count": null,
   "id": "57f873e9",
   "metadata": {},
   "outputs": [],
   "source": [
    "offset = off.QuarterBegin()\n",
    "r = offset.apply(myday)\n",
    "for _ in range(4):\n",
    "    r = offset.apply(r)\n",
    "    print (r)"
   ]
  },
  {
   "cell_type": "markdown",
   "id": "f9aa2bec",
   "metadata": {},
   "source": [
    "Here, we used the **apply**() method to iteratively push to the next\n",
    "quarter. Alternative methods include **rollforward**() and\n",
    "**rollback**().\n",
    "\n",
    "There is a large stash of holidays in the **pandas.tseries.holidays**\n",
    "library. \n",
    "\n",
    "They can be used to create a **DatetimeSeries** like this:"
   ]
  },
  {
   "cell_type": "code",
   "execution_count": null,
   "id": "c8e8dbb5",
   "metadata": {
    "scrolled": true
   },
   "outputs": [],
   "source": [
    "easter=pd.date_range(start=datetime.now(),\\\n",
    "                         freq=hol.Easter(), \\\n",
    "                         periods=3)\n",
    "print(\"Happy Easter!\")\n",
    "for day in easter:\n",
    "    print (f'{day.year}-{day.month}-{day.day}')"
   ]
  },
  {
   "attachments": {
    "bunny.png": {
     "image/png": "[encoded data removed]"
    }
   },
   "cell_type": "markdown",
   "id": "65a4b536",
   "metadata": {},
   "source": [
    "![bunny.png](attachment:bunny.png)"
   ]
  },
  {
   "cell_type": "markdown",
   "id": "4e24bac9",
   "metadata": {},
   "source": [
    "The holidays library contains movable days like **USThanksgiving** and\n",
    "**USLaborDay**, \"navigational\" tools like after\\_nearest\\_**workday**(),\n",
    "a **USFederalHolidayCalendar** and tools for building your own\n",
    "customized calendars. You are welcome to explore."
   ]
  },
  {
   "cell_type": "markdown",
   "id": "68a6a5c8",
   "metadata": {},
   "source": [
    "Comparing and Combining Data From Different Series\n",
    "--------------------------------------------------\n",
    "\n",
    "Now what if we wanted to compare the results of a couple different polls\n",
    "to compare trends? As we've already seen, the polls are released on\n",
    "different schedules. To make a good comparison, we really want to align\n",
    "the different polls to a common timeline – in other words, we probably\n",
    "want to fill in the 'gaps' in our data base so all possible calendar\n",
    "days are represented and each pollster's results are represented in\n",
    "their particular 'slot'.\n",
    "\n",
    "We'll start fresh with the Presidential Approval database, which we\n",
    "imported with the **read\\_csv**() method to produce the **DataFrame**\n",
    "object \"df\". These examples use a comparison of Quinnipiac\n",
    "(KWIHN'-uh-pee-ak) and Gallup polls to show some how to wrangle\n",
    "disparate data series.\n",
    "\n",
    "Let's start by picking off only these two polls, putting each into its\n",
    "own **DataFrame** object. To isolate these from the original, we'll\n",
    "apply the **copy**() method. To ensure monotonically increasing dates\n",
    "(earliest first) we'll also do a **sort**() operation. \n",
    "\n",
    "Here are the\n",
    "first few rows of each."
   ]
  },
  {
   "cell_type": "code",
   "execution_count": null,
   "id": "03eb4de6",
   "metadata": {},
   "outputs": [],
   "source": [
    "qpoll = df.copy().query('poll==\"Quinnipiac\"')\n",
    "rpoll = df.copy().query('poll==\"Rasmussen Reports\"')\n",
    "\n",
    "# sort to ensure monotinic, earliest-to-latest dates\n",
    "qpoll.sort_index(inplace=True); rpoll.sort_index(inplace=True)\n",
    "print(qpoll[:3])\n",
    "print()\n",
    "print(rpoll[:3])  "
   ]
  },
  {
   "cell_type": "markdown",
   "id": "b785983d",
   "metadata": {},
   "source": [
    "A couple of things probably jump out. The earliest date is the\n",
    "25h of January for qpoll, but the 24th for the\n",
    "rpoll. In fact, none of the dates match up. \n",
    "\n",
    "If we wanted to print out a\n",
    "nice graph showing the results over time, it could be confusing. What we\n",
    "really want to do is provide a common time scale (or more generally a\n",
    "\"unit of analysis\") for both. You may get a **SettingsWithCopyWarning**\n",
    "which you can safely ignore.\n",
    "\n",
    "The new index will need to be \"wide\" enough to get all the polls – so\n",
    "we'll want to find the earliest date and latest date from both. For\n",
    "display purposes, we might pad both out to grab a few days on either\n",
    "side. We can probe each index for the **min**() and **max**() values of\n",
    "its **index** then use a **DateOffset** to bridge between the earliest\n",
    "and latest dates. \n",
    "\n",
    "Armed with results, we can create a **DatetimeIndex**\n",
    "object and use the **reindex**() method to create synchronized indices.\n",
    "\n",
    "Here is how we might implement this strategy:"
   ]
  },
  {
   "cell_type": "code",
   "execution_count": null,
   "id": "564fa49c",
   "metadata": {},
   "outputs": [],
   "source": [
    "#figure out the first and last dates\n",
    "start=min(qpoll.index.min(), rpoll.index.min())\n",
    "end=max(qpoll.index.max(), rpoll.index.max())\n",
    "\n",
    "# Throw in a a few days on either end (note \n",
    "#  negation in the new start offset)\n",
    "padding=3  \n",
    "newstart=start+pd.DateOffset(days=-padding)  \n",
    "newend=end+pd.DateOffset(days=padding)\n",
    "\n",
    "# ... gin up a new date_range for the index\n",
    "newix=pd.date_range(newstart, newend, freq='d')\n",
    "\n",
    "# ... apply it to both Series\n",
    "qpoll=qpoll.reindex(pd.to_datetime(newix))\n",
    "rpoll=rpoll.reindex(pd.to_datetime(newix))"
   ]
  },
  {
   "cell_type": "code",
   "execution_count": null,
   "id": "e9139851",
   "metadata": {},
   "outputs": [],
   "source": [
    "print(f\"Qpoll:\\n\\n {qpoll[2:6]}  \\n\\nRasmussen:\\n\\n {qpoll[2:6]}\")"
   ]
  },
  {
   "cell_type": "markdown",
   "id": "d3fcd1d4",
   "metadata": {},
   "source": [
    "So let's check out the damages – here we're comparing a few days' worth\n",
    "of data from each. You can see that the dates are now aligned, that all\n",
    "the intermediate days are represented, and that known data are nicely\n",
    "\"slotted in\" to the right locations."
   ]
  },
  {
   "cell_type": "markdown",
   "id": "c51bdde5",
   "metadata": {},
   "source": [
    "As you can see, as the data got 'spread out' and the gaps have been\n",
    "filled in with 'NaN'. You'll recall that **np.NaN** is an object, sort\n",
    "of like **None**, that serves as a placeholder. It doesn't factor into\n",
    "calculated values such as mean or standard deviation, so it's\n",
    "well-behaved from a computational perspective.\n",
    "\n",
    "Using a routine included in your class files (\"py\\_plotting\\_utils.py\")\n",
    "we can render the two polling sequences with the data we've processed to\n",
    "date. \n",
    "\n",
    "You are encouraged to study, pillage, ransack, plagiarize, improve\n",
    "upon anything here to make your own plotting routine."
   ]
  },
  {
   "cell_type": "code",
   "execution_count": null,
   "id": "6950d996",
   "metadata": {},
   "outputs": [],
   "source": [
    "from py_plotting_utils import formatPlotBar\n",
    "\n",
    "#... specify a column to print\n",
    "col_to_plot='spread'\n",
    "\n",
    "#... add some aesthetic elements\n",
    "q_label ='Quinnipiac'; r_label = 'Rasmussen' \n",
    "q_color='b'; r_color='r'\n",
    "bar_width=2.0; opacity=.9\n",
    "title = \"{} versus {} - {}\".format(q_label, r_label, col_to_plot)\n",
    "\n",
    "chart = formatPlotBar(start=newstart, end=newend, \n",
    "              s1=qpoll[col_to_plot], s2=rpoll[col_to_plot],\n",
    "              s1_label=q_label, s2_label=r_label, \n",
    "              s1_color=q_color, s2_color=r_color,\n",
    "              x_label='', y_label=col_to_plot, title=title,\n",
    "              bar_width=bar_width, opacity=opacity)"
   ]
  },
  {
   "cell_type": "markdown",
   "id": "1b074b5d",
   "metadata": {},
   "source": [
    "Time Shifting and Time \"Window\" Operations\n",
    "------------------------------------------\n",
    "\n",
    "Sometimes, you will want to \"phase shift\" your data – shifting each data\n",
    "point to a new index value. For instance, these polling data are indexed\n",
    "by the poll release date. But, as a practical matter, they represent\n",
    "opinions from some point in the past. A survey might be in the field for\n",
    "several days in order to get enough data points and demographic coverage\n",
    "to be statistically interesting. The polling data reported necessarily\n",
    "lags public opinion by a few days.\n",
    "\n",
    "This is pretty easy to represent in pandas by using the **shift**()\n",
    "method of the **DataFrame** object and adding a new column to the\n",
    "original. \n",
    "\n",
    "Here's how that might be accomplished:"
   ]
  },
  {
   "cell_type": "markdown",
   "id": "197d9bc1",
   "metadata": {},
   "source": [
    "Data collected from the real world is sometimes \"noisy\" – observations\n",
    "you record about some phenomenon are always different than the real\n",
    "state of the phenomenon. This is particularly the case in the social\n",
    "sciences because of the inherent inconsistencies in human thought. For\n",
    "instance, with polling data respondents might have relatively unchanging\n",
    "core beliefs, but the reported belief on any day can be conditioned on\n",
    "the latest headline, a lively discussion over a chilled ale, the latest\n",
    "tweet, or even just the respondent's current mood. In such cases, a\n",
    "moving average might be a more reasonable (and certainly more stable)\n",
    "assessment of the core beliefs.\n",
    "\n",
    "Pandas supports moving \"windows\" quite handily with the **DataFrame**\n",
    "**rolling**() method. In this example, we're applying a three-week\n",
    "moving average and stipulating that a minimum of two observations are\n",
    "required. (It will report **'NaN'** when there are not enough\n",
    "observations). \n",
    "\n",
    "Here's how you can pull it off:"
   ]
  },
  {
   "cell_type": "code",
   "execution_count": null,
   "id": "ee2ea8d2",
   "metadata": {},
   "outputs": [],
   "source": [
    "import pandas.tseries.offsets as off\n",
    "\n",
    "lag_days=5 #to get more granular, we'd need to rescale to hours\n",
    "rpoll['spread_lag']=rpoll['spread'].shift(- 3)\n",
    "title=\"Actual versus Reported Spread\"\n",
    "s2=rpoll['spread_lag']\n",
    "s2_color='p'\n",
    "formatPlotBar(start=newstart, end=newend, \n",
    "              s1=rpoll['spread'], s2=rpoll['spread_lag'],\n",
    "              s1_label=r_label, s2_label=r_label, \n",
    "              s1_color=r_color, s2_color='pink',\n",
    "              x_label='', y_label=col_to_plot, title=title,\n",
    "              bar_width=bar_width, opacity=opacity)"
   ]
  },
  {
   "cell_type": "markdown",
   "id": "c0c2efee",
   "metadata": {},
   "source": [
    "You'll note some gaps in the lightly shaded area – that's when there\n",
    "isn't enough data to do the calculation. The **pyplot** object is clever\n",
    "enough not to add the **NaN** values to the chart.\n",
    "\n"
   ]
  },
  {
   "cell_type": "markdown",
   "id": "aa28df61",
   "metadata": {},
   "source": [
    "Lastly, I'd like to show you how to create moving averages.   Snapshots of data are often driven by transient effects, and may be influenced by the latest new cycle, the weather, or the mood of a person's dog that morning.\n",
    "\n",
    "Here's how you might straighten this issue out:"
   ]
  },
  {
   "cell_type": "code",
   "execution_count": null,
   "id": "0309860d",
   "metadata": {},
   "outputs": [],
   "source": [
    "window=21\n",
    "min_periods=2\n",
    "title=\"{} day moving average\".format(window)\n",
    "rpoll['average']=rpoll['spread'].rolling(window, min_periods).mean()\n",
    "formatPlotBar(start=newstart, end=newend, \n",
    "              s1=rpoll['spread'], s2=rpoll['average'],\n",
    "              s1_label=r_label, s2_label=r_label, \n",
    "              s1_color=r_color, s2_color='pink',\n",
    "              x_label='', y_label=col_to_plot\n",
    "             )"
   ]
  },
  {
   "cell_type": "markdown",
   "id": "28145937",
   "metadata": {},
   "source": [
    "## Exercise\n",
    "\n",
    "I'm a big fan of Halloween and Easter – mostly because I love Ghirardelli dark chocolate and it's *way* cheap just after these holidays. I try not to keep the stuff around the house, but like to stock up a bit, opportunisticaly.\n",
    "Can you help me figure out the schedule? \n",
    "\n",
    "Here's how:\n",
    "\n",
    "- figure out from some arbitrary year (2020, say) the dates of the next 10 occurrences of Easter. The pandas.tseries.holiday collection might help out here.\n",
    "    \n",
    "    \n",
    "- from the same year, figure out the dates of same number of occurances of Halloween. It's on October 31 each year. You'll want to use a DateOffset object for this. Merely using date_range() setting freq=\"A\" won't quite do what you want, but you're encouraged to try.\n",
    "        \n",
    "        \n",
    "- suppose I shop for chocolate for three days around Easter. The next day after, there's a 25% discount, the second day a 50% discount, and by the third day, it's 75% off. The price goes down, but the selection narrows, so I buy 3 pieces each day.\n",
    "    \n",
    "    \n",
    "Can you make a Series object that has the shopping date as the index and money spent as the value for each day of my Easter-related shopping? You can then query the Series for the total cost for all this candy.\n",
    "\n",
    "Hint: if you want to apply a DateOffset and you have built the original series using the date_range() method, be aware that the dates will be in the form of Timestamp objects. You can use their date() method to convert them to something that can work with a DateOffset.\n",
    "\n",
    "\n",
    "Finally, for each year, figure out how many days between Halloween and Easter (it varies because Easter is a floating holiday).\n"
   ]
  },
  {
   "cell_type": "markdown",
   "id": "80ef403d",
   "metadata": {},
   "source": [
    "Pandas Database Ops\n",
    "==================="
   ]
  },
  {
   "cell_type": "markdown",
   "id": "8bae3802",
   "metadata": {},
   "source": [
    "Comparison of SQL operations and pandas methods\n",
    "-----------------------------------------------\n",
    "\n",
    "When we worked with the Real Clear Politics polling data, we were able\n",
    "to select only certain polls from the original **DataFrame** by using\n",
    "its **query**() method. You may recall that we were able to make new\n",
    "**DataFrames** for the Quinnipiac and Rasmussen polls with these\n",
    "directives:"
   ]
  },
  {
   "cell_type": "code",
   "execution_count": null,
   "id": "f099bb71",
   "metadata": {},
   "outputs": [],
   "source": [
    "qpoll = df.query('poll==\"Quinnipiac\"')\n",
    "rpoll = df.query('poll==\"Rasmussen Reports\"')"
   ]
  },
  {
   "cell_type": "markdown",
   "id": "02b4f6b0",
   "metadata": {},
   "source": [
    "These simple queries represent the basic SELECT directive. We can make\n",
    "them more complicated by expanding the \"WHERE clause\" bit of it. \n",
    "\n",
    "For\n",
    "instance, we can select rows based on multiple criteria like this:"
   ]
  },
  {
   "cell_type": "code",
   "execution_count": null,
   "id": "e468f435",
   "metadata": {},
   "outputs": [],
   "source": [
    "df.query('poll==\"Quinnipiac\" and spread < -17')"
   ]
  },
  {
   "cell_type": "markdown",
   "id": "09a46131",
   "metadata": {},
   "source": [
    "We can provide an \"ORDER BY\" clause by using **sort\\_values**() method\n",
    "on the DataFrame returned by the **query**() directive. The \"**by=**\"\n",
    "can be a single column identifier. Multiple identifiers can be provided\n",
    "as or a **list** containing several column identifiers.\n",
    "\n",
    " Here, the\n",
    "elements of the **list** are the primary and secondary sort keys."
   ]
  },
  {
   "cell_type": "code",
   "execution_count": null,
   "id": "f791f220",
   "metadata": {},
   "outputs": [],
   "source": [
    "df.query('poll==\"Gallup\" and disapprove >= 55').\\\n",
    "          sort_values(by=\"approve\")"
   ]
  },
  {
   "cell_type": "markdown",
   "id": "e6d6d5ef",
   "metadata": {},
   "source": [
    "Similarly, one can apply a \"GROUP BY\" clause by using the **groupby**()\n",
    "method. \n",
    "\n",
    "Here's an example showing the average polling results by\n",
    "organization:"
   ]
  },
  {
   "cell_type": "code",
   "execution_count": null,
   "id": "c540f883",
   "metadata": {},
   "outputs": [],
   "source": [
    "df.groupby(['poll']).mean()[:4]"
   ]
  },
  {
   "cell_type": "markdown",
   "id": "2696fb5b",
   "metadata": {},
   "source": [
    "The grouping columns can be a single value, as shown here, or a **list**\n",
    "when multiply-layered breakdowns are required. Some sort of aggregating\n",
    "operation needs to be applied when using **groupby**() to return real\n",
    "data (otherwise a **DatsFrameGroupBy** object gets returned). The\n",
    "options are numerous and include **min**(), **max**(), **abs**(),\n",
    "**prod**(), and more.\n",
    "\n",
    "You can always get the COUNT by using the **count**() method. To get the\n",
    "count in any of the bins created with **groupby**(), you can pick an\n",
    "arbitrary column from the **DataFrameGroupBy** object and run the count\n",
    "method on it. \n",
    "\n",
    "Here's how:"
   ]
  },
  {
   "cell_type": "code",
   "execution_count": null,
   "id": "06811c8b",
   "metadata": {},
   "outputs": [],
   "source": [
    "print(\"Total records:  \", df['poll'].count())\n",
    "df.groupby('poll')['poll'].count()[:4]"
   ]
  },
  {
   "cell_type": "markdown",
   "id": "e93d0ba7",
   "metadata": {},
   "source": [
    "Creating pivot tables and cross-tabulations\n",
    "-------------------------------------------\n",
    "\n",
    "Pivot tables are a handy way of handling complex data aggregation tasks\n",
    "simply. Sure, you can do deeply-nested **query**() and **groupby**()\n",
    "commands to drill down through large data sets, but it's easy to lose\n",
    "transparency when building the requisite code structures. This section\n",
    "will take you through some of the basic operations. \n",
    "\n",
    "Here, we'll use a\n",
    "database of earthquakes maintained by the U.S. Geological Service.\n",
    "\n",
    "As usual, we'll begin by importing some data. In the **read\\_csv**()\n",
    "method, we'll use the optional **parse\\_dates=** keyword argument to let\n",
    "pandas know which column(s) contain dates that we'd like it to grok as\n",
    "**datetime** objects.\n",
    "\n",
    "\n",
    "https://earthquake.usgs.gov/earthquakes/feed/v1.0/csv.php \n",
    "\n",
    "https://earthquake.usgs.gov/data/comcat/data-eventterms.php\\#nst"
   ]
  },
  {
   "cell_type": "code",
   "execution_count": 2,
   "id": "644d2b58",
   "metadata": {
    "scrolled": true
   },
   "outputs": [
    {
     "data": {
      "text/html": [
       "<div>\n",
       "<style scoped>\n",
       "    .dataframe tbody tr th:only-of-type {\n",
       "        vertical-align: middle;\n",
       "    }\n",
       "\n",
       "    .dataframe tbody tr th {\n",
       "        vertical-align: top;\n",
       "    }\n",
       "\n",
       "    .dataframe thead th {\n",
       "        text-align: right;\n",
       "    }\n",
       "</style>\n",
       "<table border=\"1\" class=\"dataframe\">\n",
       "  <thead>\n",
       "    <tr style=\"text-align: right;\">\n",
       "      <th></th>\n",
       "      <th>time</th>\n",
       "      <th>latitude</th>\n",
       "      <th>longitude</th>\n",
       "      <th>depth</th>\n",
       "      <th>mag</th>\n",
       "      <th>magType</th>\n",
       "      <th>nst</th>\n",
       "      <th>gap</th>\n",
       "      <th>dmin</th>\n",
       "      <th>rms</th>\n",
       "      <th>...</th>\n",
       "      <th>updated</th>\n",
       "      <th>place</th>\n",
       "      <th>type</th>\n",
       "      <th>horizontalError</th>\n",
       "      <th>depthError</th>\n",
       "      <th>magError</th>\n",
       "      <th>magNst</th>\n",
       "      <th>status</th>\n",
       "      <th>locationSource</th>\n",
       "      <th>magSource</th>\n",
       "    </tr>\n",
       "  </thead>\n",
       "  <tbody>\n",
       "    <tr>\n",
       "      <th>0</th>\n",
       "      <td>2017-09-19 16:56:50.540000+00:00</td>\n",
       "      <td>36.020500</td>\n",
       "      <td>-117.765667</td>\n",
       "      <td>1.520</td>\n",
       "      <td>2.45</td>\n",
       "      <td>ml</td>\n",
       "      <td>26.0</td>\n",
       "      <td>61.0</td>\n",
       "      <td>0.004712</td>\n",
       "      <td>0.18</td>\n",
       "      <td>...</td>\n",
       "      <td>2017-09-19T17:24:41.375Z</td>\n",
       "      <td>16km NE of Little Lake, CA</td>\n",
       "      <td>earthquake</td>\n",
       "      <td>0.26</td>\n",
       "      <td>0.32</td>\n",
       "      <td>0.119</td>\n",
       "      <td>25.0</td>\n",
       "      <td>automatic</td>\n",
       "      <td>ci</td>\n",
       "      <td>ci</td>\n",
       "    </tr>\n",
       "    <tr>\n",
       "      <th>1</th>\n",
       "      <td>2017-09-19 16:15:29.900000+00:00</td>\n",
       "      <td>37.510502</td>\n",
       "      <td>-118.833832</td>\n",
       "      <td>2.630</td>\n",
       "      <td>2.92</td>\n",
       "      <td>md</td>\n",
       "      <td>31.0</td>\n",
       "      <td>105.0</td>\n",
       "      <td>0.110700</td>\n",
       "      <td>0.04</td>\n",
       "      <td>...</td>\n",
       "      <td>2017-09-19T16:40:13.504Z</td>\n",
       "      <td>19km SE of Mammoth Lakes, California</td>\n",
       "      <td>earthquake</td>\n",
       "      <td>0.24</td>\n",
       "      <td>1.00</td>\n",
       "      <td>0.190</td>\n",
       "      <td>31.0</td>\n",
       "      <td>automatic</td>\n",
       "      <td>nc</td>\n",
       "      <td>nc</td>\n",
       "    </tr>\n",
       "    <tr>\n",
       "      <th>2</th>\n",
       "      <td>2017-09-19 15:35:09.030000+00:00</td>\n",
       "      <td>42.617400</td>\n",
       "      <td>-111.483500</td>\n",
       "      <td>4.520</td>\n",
       "      <td>3.10</td>\n",
       "      <td>ml</td>\n",
       "      <td>NaN</td>\n",
       "      <td>54.0</td>\n",
       "      <td>0.031000</td>\n",
       "      <td>0.19</td>\n",
       "      <td>...</td>\n",
       "      <td>2017-09-19T17:15:07.040Z</td>\n",
       "      <td>10km ESE of Soda Springs, Idaho</td>\n",
       "      <td>earthquake</td>\n",
       "      <td>2.40</td>\n",
       "      <td>4.10</td>\n",
       "      <td>0.050</td>\n",
       "      <td>52.0</td>\n",
       "      <td>reviewed</td>\n",
       "      <td>us</td>\n",
       "      <td>us</td>\n",
       "    </tr>\n",
       "    <tr>\n",
       "      <th>3</th>\n",
       "      <td>2017-09-19 15:27:13.670000+00:00</td>\n",
       "      <td>42.613500</td>\n",
       "      <td>-111.442900</td>\n",
       "      <td>8.340</td>\n",
       "      <td>3.50</td>\n",
       "      <td>ml</td>\n",
       "      <td>NaN</td>\n",
       "      <td>37.0</td>\n",
       "      <td>0.028000</td>\n",
       "      <td>0.40</td>\n",
       "      <td>...</td>\n",
       "      <td>2017-09-19T17:29:15.278Z</td>\n",
       "      <td>14km ESE of Soda Springs, Idaho</td>\n",
       "      <td>earthquake</td>\n",
       "      <td>1.50</td>\n",
       "      <td>7.30</td>\n",
       "      <td>0.044</td>\n",
       "      <td>68.0</td>\n",
       "      <td>reviewed</td>\n",
       "      <td>us</td>\n",
       "      <td>us</td>\n",
       "    </tr>\n",
       "    <tr>\n",
       "      <th>4</th>\n",
       "      <td>2017-09-19 15:26:56.200000+00:00</td>\n",
       "      <td>36.451600</td>\n",
       "      <td>-98.796500</td>\n",
       "      <td>6.125</td>\n",
       "      <td>2.50</td>\n",
       "      <td>ml</td>\n",
       "      <td>NaN</td>\n",
       "      <td>103.0</td>\n",
       "      <td>NaN</td>\n",
       "      <td>0.23</td>\n",
       "      <td>...</td>\n",
       "      <td>2017-09-19T17:26:22.040Z</td>\n",
       "      <td>34km NW of Fairview, Oklahoma</td>\n",
       "      <td>earthquake</td>\n",
       "      <td>1.10</td>\n",
       "      <td>3.90</td>\n",
       "      <td>NaN</td>\n",
       "      <td>NaN</td>\n",
       "      <td>reviewed</td>\n",
       "      <td>tul</td>\n",
       "      <td>tul</td>\n",
       "    </tr>\n",
       "  </tbody>\n",
       "</table>\n",
       "<p>5 rows × 22 columns</p>\n",
       "</div>"
      ],
      "text/plain": [
       "                              time   latitude   longitude  depth   mag  \\\n",
       "0 2017-09-19 16:56:50.540000+00:00  36.020500 -117.765667  1.520  2.45   \n",
       "1 2017-09-19 16:15:29.900000+00:00  37.510502 -118.833832  2.630  2.92   \n",
       "2 2017-09-19 15:35:09.030000+00:00  42.617400 -111.483500  4.520  3.10   \n",
       "3 2017-09-19 15:27:13.670000+00:00  42.613500 -111.442900  8.340  3.50   \n",
       "4 2017-09-19 15:26:56.200000+00:00  36.451600  -98.796500  6.125  2.50   \n",
       "\n",
       "  magType   nst    gap      dmin   rms  ...                   updated  \\\n",
       "0      ml  26.0   61.0  0.004712  0.18  ...  2017-09-19T17:24:41.375Z   \n",
       "1      md  31.0  105.0  0.110700  0.04  ...  2017-09-19T16:40:13.504Z   \n",
       "2      ml   NaN   54.0  0.031000  0.19  ...  2017-09-19T17:15:07.040Z   \n",
       "3      ml   NaN   37.0  0.028000  0.40  ...  2017-09-19T17:29:15.278Z   \n",
       "4      ml   NaN  103.0       NaN  0.23  ...  2017-09-19T17:26:22.040Z   \n",
       "\n",
       "                                  place        type horizontalError  \\\n",
       "0            16km NE of Little Lake, CA  earthquake            0.26   \n",
       "1  19km SE of Mammoth Lakes, California  earthquake            0.24   \n",
       "2       10km ESE of Soda Springs, Idaho  earthquake            2.40   \n",
       "3       14km ESE of Soda Springs, Idaho  earthquake            1.50   \n",
       "4         34km NW of Fairview, Oklahoma  earthquake            1.10   \n",
       "\n",
       "  depthError  magError  magNst     status  locationSource magSource  \n",
       "0       0.32     0.119    25.0  automatic              ci        ci  \n",
       "1       1.00     0.190    31.0  automatic              nc        nc  \n",
       "2       4.10     0.050    52.0   reviewed              us        us  \n",
       "3       7.30     0.044    68.0   reviewed              us        us  \n",
       "4       3.90       NaN     NaN   reviewed             tul       tul  \n",
       "\n",
       "[5 rows x 22 columns]"
      ]
     },
     "execution_count": 2,
     "metadata": {},
     "output_type": "execute_result"
    }
   ],
   "source": [
    "import pandas as pd\n",
    "import os\n",
    "\n",
    "datadir = 'data'\n",
    "datafile='earthquakes.csv'\n",
    "    \n",
    "filename=os.path.join('.', datadir, datafile)\n",
    "df=pd.read_csv(filename, parse_dates=[0]) \n",
    "\n",
    "df.head()"
   ]
  },
  {
   "cell_type": "markdown",
   "id": "aa4d7489",
   "metadata": {},
   "source": [
    "Content aside, the first thing you may notice is that we can't see the whole table.   If we want to see more rows or columns, we can use pd.set_option().\n",
    "\n",
    "You can look at all of Pandas' options here:  https://pandas.pydata.org/pandas-docs/stable/user_guide/options.html\n"
   ]
  },
  {
   "cell_type": "code",
   "execution_count": 3,
   "id": "aa42df32",
   "metadata": {},
   "outputs": [],
   "source": [
    "pd.set_option('display.max_columns', None)\n",
    "pd.set_option('display.max_rows', None)\n",
    "pd.set_option('precision', 3)"
   ]
  },
  {
   "cell_type": "code",
   "execution_count": 4,
   "id": "1b51060b",
   "metadata": {},
   "outputs": [
    {
     "data": {
      "text/html": [
       "<div>\n",
       "<style scoped>\n",
       "    .dataframe tbody tr th:only-of-type {\n",
       "        vertical-align: middle;\n",
       "    }\n",
       "\n",
       "    .dataframe tbody tr th {\n",
       "        vertical-align: top;\n",
       "    }\n",
       "\n",
       "    .dataframe thead th {\n",
       "        text-align: right;\n",
       "    }\n",
       "</style>\n",
       "<table border=\"1\" class=\"dataframe\">\n",
       "  <thead>\n",
       "    <tr style=\"text-align: right;\">\n",
       "      <th></th>\n",
       "      <th>time</th>\n",
       "      <th>latitude</th>\n",
       "      <th>longitude</th>\n",
       "      <th>depth</th>\n",
       "      <th>mag</th>\n",
       "      <th>magType</th>\n",
       "      <th>nst</th>\n",
       "      <th>gap</th>\n",
       "      <th>dmin</th>\n",
       "      <th>rms</th>\n",
       "      <th>net</th>\n",
       "      <th>id</th>\n",
       "      <th>updated</th>\n",
       "      <th>place</th>\n",
       "      <th>type</th>\n",
       "      <th>horizontalError</th>\n",
       "      <th>depthError</th>\n",
       "      <th>magError</th>\n",
       "      <th>magNst</th>\n",
       "      <th>status</th>\n",
       "      <th>locationSource</th>\n",
       "      <th>magSource</th>\n",
       "    </tr>\n",
       "  </thead>\n",
       "  <tbody>\n",
       "    <tr>\n",
       "      <th>0</th>\n",
       "      <td>2017-09-19 16:56:50.540000+00:00</td>\n",
       "      <td>36.020</td>\n",
       "      <td>-117.766</td>\n",
       "      <td>1.520</td>\n",
       "      <td>2.45</td>\n",
       "      <td>ml</td>\n",
       "      <td>26.0</td>\n",
       "      <td>61.0</td>\n",
       "      <td>0.005</td>\n",
       "      <td>0.18</td>\n",
       "      <td>ci</td>\n",
       "      <td>ci37766807</td>\n",
       "      <td>2017-09-19T17:24:41.375Z</td>\n",
       "      <td>16km NE of Little Lake, CA</td>\n",
       "      <td>earthquake</td>\n",
       "      <td>0.26</td>\n",
       "      <td>0.32</td>\n",
       "      <td>0.119</td>\n",
       "      <td>25.0</td>\n",
       "      <td>automatic</td>\n",
       "      <td>ci</td>\n",
       "      <td>ci</td>\n",
       "    </tr>\n",
       "    <tr>\n",
       "      <th>1</th>\n",
       "      <td>2017-09-19 16:15:29.900000+00:00</td>\n",
       "      <td>37.511</td>\n",
       "      <td>-118.834</td>\n",
       "      <td>2.630</td>\n",
       "      <td>2.92</td>\n",
       "      <td>md</td>\n",
       "      <td>31.0</td>\n",
       "      <td>105.0</td>\n",
       "      <td>0.111</td>\n",
       "      <td>0.04</td>\n",
       "      <td>nc</td>\n",
       "      <td>nc72895231</td>\n",
       "      <td>2017-09-19T16:40:13.504Z</td>\n",
       "      <td>19km SE of Mammoth Lakes, California</td>\n",
       "      <td>earthquake</td>\n",
       "      <td>0.24</td>\n",
       "      <td>1.00</td>\n",
       "      <td>0.190</td>\n",
       "      <td>31.0</td>\n",
       "      <td>automatic</td>\n",
       "      <td>nc</td>\n",
       "      <td>nc</td>\n",
       "    </tr>\n",
       "    <tr>\n",
       "      <th>2</th>\n",
       "      <td>2017-09-19 15:35:09.030000+00:00</td>\n",
       "      <td>42.617</td>\n",
       "      <td>-111.484</td>\n",
       "      <td>4.520</td>\n",
       "      <td>3.10</td>\n",
       "      <td>ml</td>\n",
       "      <td>NaN</td>\n",
       "      <td>54.0</td>\n",
       "      <td>0.031</td>\n",
       "      <td>0.19</td>\n",
       "      <td>us</td>\n",
       "      <td>us2000aqsh</td>\n",
       "      <td>2017-09-19T17:15:07.040Z</td>\n",
       "      <td>10km ESE of Soda Springs, Idaho</td>\n",
       "      <td>earthquake</td>\n",
       "      <td>2.40</td>\n",
       "      <td>4.10</td>\n",
       "      <td>0.050</td>\n",
       "      <td>52.0</td>\n",
       "      <td>reviewed</td>\n",
       "      <td>us</td>\n",
       "      <td>us</td>\n",
       "    </tr>\n",
       "    <tr>\n",
       "      <th>3</th>\n",
       "      <td>2017-09-19 15:27:13.670000+00:00</td>\n",
       "      <td>42.614</td>\n",
       "      <td>-111.443</td>\n",
       "      <td>8.340</td>\n",
       "      <td>3.50</td>\n",
       "      <td>ml</td>\n",
       "      <td>NaN</td>\n",
       "      <td>37.0</td>\n",
       "      <td>0.028</td>\n",
       "      <td>0.40</td>\n",
       "      <td>us</td>\n",
       "      <td>us2000aqs7</td>\n",
       "      <td>2017-09-19T17:29:15.278Z</td>\n",
       "      <td>14km ESE of Soda Springs, Idaho</td>\n",
       "      <td>earthquake</td>\n",
       "      <td>1.50</td>\n",
       "      <td>7.30</td>\n",
       "      <td>0.044</td>\n",
       "      <td>68.0</td>\n",
       "      <td>reviewed</td>\n",
       "      <td>us</td>\n",
       "      <td>us</td>\n",
       "    </tr>\n",
       "    <tr>\n",
       "      <th>4</th>\n",
       "      <td>2017-09-19 15:26:56.200000+00:00</td>\n",
       "      <td>36.452</td>\n",
       "      <td>-98.796</td>\n",
       "      <td>6.125</td>\n",
       "      <td>2.50</td>\n",
       "      <td>ml</td>\n",
       "      <td>NaN</td>\n",
       "      <td>103.0</td>\n",
       "      <td>NaN</td>\n",
       "      <td>0.23</td>\n",
       "      <td>us</td>\n",
       "      <td>us2000aqwu</td>\n",
       "      <td>2017-09-19T17:26:22.040Z</td>\n",
       "      <td>34km NW of Fairview, Oklahoma</td>\n",
       "      <td>earthquake</td>\n",
       "      <td>1.10</td>\n",
       "      <td>3.90</td>\n",
       "      <td>NaN</td>\n",
       "      <td>NaN</td>\n",
       "      <td>reviewed</td>\n",
       "      <td>tul</td>\n",
       "      <td>tul</td>\n",
       "    </tr>\n",
       "  </tbody>\n",
       "</table>\n",
       "</div>"
      ],
      "text/plain": [
       "                              time  latitude  longitude  depth   mag magType  \\\n",
       "0 2017-09-19 16:56:50.540000+00:00    36.020   -117.766  1.520  2.45      ml   \n",
       "1 2017-09-19 16:15:29.900000+00:00    37.511   -118.834  2.630  2.92      md   \n",
       "2 2017-09-19 15:35:09.030000+00:00    42.617   -111.484  4.520  3.10      ml   \n",
       "3 2017-09-19 15:27:13.670000+00:00    42.614   -111.443  8.340  3.50      ml   \n",
       "4 2017-09-19 15:26:56.200000+00:00    36.452    -98.796  6.125  2.50      ml   \n",
       "\n",
       "    nst    gap   dmin   rms net          id                   updated  \\\n",
       "0  26.0   61.0  0.005  0.18  ci  ci37766807  2017-09-19T17:24:41.375Z   \n",
       "1  31.0  105.0  0.111  0.04  nc  nc72895231  2017-09-19T16:40:13.504Z   \n",
       "2   NaN   54.0  0.031  0.19  us  us2000aqsh  2017-09-19T17:15:07.040Z   \n",
       "3   NaN   37.0  0.028  0.40  us  us2000aqs7  2017-09-19T17:29:15.278Z   \n",
       "4   NaN  103.0    NaN  0.23  us  us2000aqwu  2017-09-19T17:26:22.040Z   \n",
       "\n",
       "                                  place        type  horizontalError  \\\n",
       "0            16km NE of Little Lake, CA  earthquake             0.26   \n",
       "1  19km SE of Mammoth Lakes, California  earthquake             0.24   \n",
       "2       10km ESE of Soda Springs, Idaho  earthquake             2.40   \n",
       "3       14km ESE of Soda Springs, Idaho  earthquake             1.50   \n",
       "4         34km NW of Fairview, Oklahoma  earthquake             1.10   \n",
       "\n",
       "   depthError  magError  magNst     status locationSource magSource  \n",
       "0        0.32     0.119    25.0  automatic             ci        ci  \n",
       "1        1.00     0.190    31.0  automatic             nc        nc  \n",
       "2        4.10     0.050    52.0   reviewed             us        us  \n",
       "3        7.30     0.044    68.0   reviewed             us        us  \n",
       "4        3.90       NaN     NaN   reviewed            tul       tul  "
      ]
     },
     "execution_count": 4,
     "metadata": {},
     "output_type": "execute_result"
    }
   ],
   "source": [
    "df.head()"
   ]
  },
  {
   "cell_type": "code",
   "execution_count": null,
   "id": "d27122f5",
   "metadata": {},
   "outputs": [],
   "source": [
    "pd.describe_option()"
   ]
  },
  {
   "cell_type": "markdown",
   "id": "9a558616",
   "metadata": {},
   "source": [
    "### Removing Unneeded Data\n",
    "\n",
    "The file contains a ton of information – much of it we don't need here.\n",
    "We'll use some of pandas built-in methods to clean it up. We can use the\n",
    "**drop**() method of the **DataFrame** object to enumerate which columns\n",
    "we want to get rid of – note we're providing a **list** of the victims\n",
    "as the argument.\n",
    "\n",
    "The **drop()** method has many forms.  The one we'll use here looks like this:\n",
    "\n",
    "    df.drop(df.columns[[1, 2, 21]], axis=1, inplace=True)\n",
    "    \n",
    "We provide a list of columns to drop.   The 'axis=1' bit tells it to work on columns (axis 0 is rows).  Then we tell it to go ahead and work on the object in situ, without creating a new object.    "
   ]
  },
  {
   "cell_type": "code",
   "execution_count": 5,
   "id": "8c525d57",
   "metadata": {},
   "outputs": [],
   "source": [
    "df.drop(df.columns[[1,2,5,6,7,8,9,11,12,14,15,16,17,18,20,21]], \n",
    "        axis=1, \n",
    "        inplace=True)"
   ]
  },
  {
   "cell_type": "markdown",
   "id": "1584a9a2",
   "metadata": {},
   "source": [
    "### Using Accessors To Clean Data\n",
    "\n",
    "Next, we'll apply a couple of \"accessors\" – these are bridging objects\n",
    "between pandas objects and other Python methods. The **str** accessor\n",
    "provides most of the string methods and the **dt** accessor provides\n",
    "many of the **datetime** methods.\n",
    "\n",
    "If you look at the first few rows of the data, you'll see that California appears in the database as \"California\" and \"CA\".   We want consistency, so we'll change all the \"CA\" references to \"California\".\n",
    "\n",
    "    df['place']=df['place'].str.replace(\"CA\", \"California\")\n",
    "    \n",
    "The right side is like this:  <cell reference>.<object name>.<method name>(<arguments>)\n",
    "    \n",
    "Pandas supports four accessor methods right out of the box.  The 'str' accessor provides methods for operating on string objects - including the ability to apply regular expressions.  The 'cat' accessor has methods for managing categories and categorical indices.  The 'dt' accessor allows manipulation of datetime-like objects. Finally, the 'sparse' accessor has methods for accessing Pandas \"sparse\" data arrays.\n",
    "    \n",
    "It's possible to create your own accessor methods.   The relevant docs are here:    \n",
    "    \n",
    "https://pandas.pydata.org/pandas-docs/stable/development/extending.html    "
   ]
  },
  {
   "cell_type": "code",
   "execution_count": 7,
   "id": "0098b3e6",
   "metadata": {},
   "outputs": [],
   "source": [
    "# Coherse the place column into a str object\n",
    "df['place']=df['place'].astype(str)\n",
    "\n",
    "# Use the 'str' accessor to massage the place data\n",
    "df['place']=df['place'].str.split(',').str.get(1)\n",
    "df['place']=df['place'].str.strip()\n",
    "df['place']=df['place'].str.replace(\"CA\", \"California\")"
   ]
  },
  {
   "cell_type": "markdown",
   "id": "086d607c",
   "metadata": {},
   "source": [
    "Here, we'll use the 'dt' accessor to peel off the components of the datetime object in the 'time' column, something like this:\n",
    "\n",
    "    2017-09-19 16:15:29.900000+00:00 \n",
    "    \n",
    "... into more easily-wrangled year, month, and day columns.   "
   ]
  },
  {
   "cell_type": "code",
   "execution_count": 8,
   "id": "c46be2be",
   "metadata": {},
   "outputs": [],
   "source": [
    "# Use 'dt' accessor against the time data\n",
    "\n",
    "df['year']=df['time'].dt.year\n",
    "df['mon']=df['time'].dt.month\n",
    "df['day']=df['time'].dt.day"
   ]
  },
  {
   "cell_type": "markdown",
   "id": "df7a2692",
   "metadata": {},
   "source": [
    "### Modifying the Index\n",
    "\n",
    "If we don't tell Pandas any different, it will ingest our data and provide a generic, zero-based integer Index.   Here, we'll probably want to sort on dates so it will be convenient to reassign the index. "
   ]
  },
  {
   "cell_type": "code",
   "execution_count": 9,
   "id": "af307c78",
   "metadata": {},
   "outputs": [
    {
     "data": {
      "text/html": [
       "<div>\n",
       "<style scoped>\n",
       "    .dataframe tbody tr th:only-of-type {\n",
       "        vertical-align: middle;\n",
       "    }\n",
       "\n",
       "    .dataframe tbody tr th {\n",
       "        vertical-align: top;\n",
       "    }\n",
       "\n",
       "    .dataframe thead th {\n",
       "        text-align: right;\n",
       "    }\n",
       "</style>\n",
       "<table border=\"1\" class=\"dataframe\">\n",
       "  <thead>\n",
       "    <tr style=\"text-align: right;\">\n",
       "      <th></th>\n",
       "      <th>depth</th>\n",
       "      <th>mag</th>\n",
       "      <th>net</th>\n",
       "      <th>place</th>\n",
       "      <th>status</th>\n",
       "      <th>year</th>\n",
       "      <th>mon</th>\n",
       "      <th>day</th>\n",
       "    </tr>\n",
       "    <tr>\n",
       "      <th>time</th>\n",
       "      <th></th>\n",
       "      <th></th>\n",
       "      <th></th>\n",
       "      <th></th>\n",
       "      <th></th>\n",
       "      <th></th>\n",
       "      <th></th>\n",
       "      <th></th>\n",
       "    </tr>\n",
       "  </thead>\n",
       "  <tbody>\n",
       "    <tr>\n",
       "      <th>2017-09-19 16:56:50.540000+00:00</th>\n",
       "      <td>1.520</td>\n",
       "      <td>2.45</td>\n",
       "      <td>ci</td>\n",
       "      <td>California</td>\n",
       "      <td>automatic</td>\n",
       "      <td>2017</td>\n",
       "      <td>9</td>\n",
       "      <td>19</td>\n",
       "    </tr>\n",
       "    <tr>\n",
       "      <th>2017-09-19 16:15:29.900000+00:00</th>\n",
       "      <td>2.630</td>\n",
       "      <td>2.92</td>\n",
       "      <td>nc</td>\n",
       "      <td>California</td>\n",
       "      <td>automatic</td>\n",
       "      <td>2017</td>\n",
       "      <td>9</td>\n",
       "      <td>19</td>\n",
       "    </tr>\n",
       "    <tr>\n",
       "      <th>2017-09-19 15:35:09.030000+00:00</th>\n",
       "      <td>4.520</td>\n",
       "      <td>3.10</td>\n",
       "      <td>us</td>\n",
       "      <td>Idaho</td>\n",
       "      <td>reviewed</td>\n",
       "      <td>2017</td>\n",
       "      <td>9</td>\n",
       "      <td>19</td>\n",
       "    </tr>\n",
       "    <tr>\n",
       "      <th>2017-09-19 15:27:13.670000+00:00</th>\n",
       "      <td>8.340</td>\n",
       "      <td>3.50</td>\n",
       "      <td>us</td>\n",
       "      <td>Idaho</td>\n",
       "      <td>reviewed</td>\n",
       "      <td>2017</td>\n",
       "      <td>9</td>\n",
       "      <td>19</td>\n",
       "    </tr>\n",
       "    <tr>\n",
       "      <th>2017-09-19 15:26:56.200000+00:00</th>\n",
       "      <td>6.125</td>\n",
       "      <td>2.50</td>\n",
       "      <td>us</td>\n",
       "      <td>Oklahoma</td>\n",
       "      <td>reviewed</td>\n",
       "      <td>2017</td>\n",
       "      <td>9</td>\n",
       "      <td>19</td>\n",
       "    </tr>\n",
       "  </tbody>\n",
       "</table>\n",
       "</div>"
      ],
      "text/plain": [
       "                                  depth   mag net       place     status  \\\n",
       "time                                                                       \n",
       "2017-09-19 16:56:50.540000+00:00  1.520  2.45  ci  California  automatic   \n",
       "2017-09-19 16:15:29.900000+00:00  2.630  2.92  nc  California  automatic   \n",
       "2017-09-19 15:35:09.030000+00:00  4.520  3.10  us       Idaho   reviewed   \n",
       "2017-09-19 15:27:13.670000+00:00  8.340  3.50  us       Idaho   reviewed   \n",
       "2017-09-19 15:26:56.200000+00:00  6.125  2.50  us    Oklahoma   reviewed   \n",
       "\n",
       "                                  year  mon  day  \n",
       "time                                              \n",
       "2017-09-19 16:56:50.540000+00:00  2017    9   19  \n",
       "2017-09-19 16:15:29.900000+00:00  2017    9   19  \n",
       "2017-09-19 15:35:09.030000+00:00  2017    9   19  \n",
       "2017-09-19 15:27:13.670000+00:00  2017    9   19  \n",
       "2017-09-19 15:26:56.200000+00:00  2017    9   19  "
      ]
     },
     "execution_count": 9,
     "metadata": {},
     "output_type": "execute_result"
    }
   ],
   "source": [
    "df.set_index('time', inplace=True)\n",
    "\n",
    "df.head()"
   ]
  },
  {
   "cell_type": "markdown",
   "id": "dfc524fd",
   "metadata": {},
   "source": [
    "### Make a Pivot Table\n",
    "\n",
    "Creating a pivot table is pretty easy. All that's required is a\n",
    "**DataFrame** and one or more indices to define the groupings. \n",
    "\n",
    "Here,\n",
    "we're providing three index names in the form of a **list** object."
   ]
  },
  {
   "cell_type": "code",
   "execution_count": 13,
   "id": "4a2a8bf8",
   "metadata": {},
   "outputs": [
    {
     "data": {
      "text/html": [
       "<div>\n",
       "<style scoped>\n",
       "    .dataframe tbody tr th:only-of-type {\n",
       "        vertical-align: middle;\n",
       "    }\n",
       "\n",
       "    .dataframe tbody tr th {\n",
       "        vertical-align: top;\n",
       "    }\n",
       "\n",
       "    .dataframe thead th {\n",
       "        text-align: right;\n",
       "    }\n",
       "</style>\n",
       "<table border=\"1\" class=\"dataframe\">\n",
       "  <thead>\n",
       "    <tr style=\"text-align: right;\">\n",
       "      <th></th>\n",
       "      <th></th>\n",
       "      <th></th>\n",
       "      <th>day</th>\n",
       "      <th>depth</th>\n",
       "      <th>mag</th>\n",
       "    </tr>\n",
       "    <tr>\n",
       "      <th>place</th>\n",
       "      <th>year</th>\n",
       "      <th>mon</th>\n",
       "      <th></th>\n",
       "      <th></th>\n",
       "      <th></th>\n",
       "    </tr>\n",
       "  </thead>\n",
       "  <tbody>\n",
       "    <tr>\n",
       "      <th rowspan=\"2\" valign=\"top\">Afghanistan</th>\n",
       "      <th rowspan=\"2\" valign=\"top\">2017</th>\n",
       "      <th>8</th>\n",
       "      <td>28.000</td>\n",
       "      <td>166.585</td>\n",
       "      <td>4.600</td>\n",
       "    </tr>\n",
       "    <tr>\n",
       "      <th>9</th>\n",
       "      <td>4.000</td>\n",
       "      <td>210.800</td>\n",
       "      <td>4.400</td>\n",
       "    </tr>\n",
       "    <tr>\n",
       "      <th rowspan=\"2\" valign=\"top\">Alaska</th>\n",
       "      <th rowspan=\"2\" valign=\"top\">2017</th>\n",
       "      <th>8</th>\n",
       "      <td>26.246</td>\n",
       "      <td>48.301</td>\n",
       "      <td>3.018</td>\n",
       "    </tr>\n",
       "    <tr>\n",
       "      <th>9</th>\n",
       "      <td>9.679</td>\n",
       "      <td>52.424</td>\n",
       "      <td>3.045</td>\n",
       "    </tr>\n",
       "    <tr>\n",
       "      <th>Albania</th>\n",
       "      <th>2017</th>\n",
       "      <th>9</th>\n",
       "      <td>18.000</td>\n",
       "      <td>16.320</td>\n",
       "      <td>4.300</td>\n",
       "    </tr>\n",
       "  </tbody>\n",
       "</table>\n",
       "</div>"
      ],
      "text/plain": [
       "                         day    depth    mag\n",
       "place       year mon                        \n",
       "Afghanistan 2017 8    28.000  166.585  4.600\n",
       "                 9     4.000  210.800  4.400\n",
       "Alaska      2017 8    26.246   48.301  3.018\n",
       "                 9     9.679   52.424  3.045\n",
       "Albania     2017 9    18.000   16.320  4.300"
      ]
     },
     "execution_count": 13,
     "metadata": {},
     "output_type": "execute_result"
    }
   ],
   "source": [
    "pt_indices = ['place', 'year', 'mon']\n",
    "\n",
    "pt=pd.pivot_table(df, index=pt_indices)\n",
    "pt.head()"
   ]
  },
  {
   "cell_type": "markdown",
   "id": "cc98c5ad",
   "metadata": {},
   "source": [
    "The order of the indices determines the order of the groupings applied.\n"
   ]
  },
  {
   "cell_type": "code",
   "execution_count": 14,
   "id": "0946a0ae",
   "metadata": {
    "scrolled": true
   },
   "outputs": [
    {
     "data": {
      "text/html": [
       "<div>\n",
       "<style scoped>\n",
       "    .dataframe tbody tr th:only-of-type {\n",
       "        vertical-align: middle;\n",
       "    }\n",
       "\n",
       "    .dataframe tbody tr th {\n",
       "        vertical-align: top;\n",
       "    }\n",
       "\n",
       "    .dataframe thead th {\n",
       "        text-align: right;\n",
       "    }\n",
       "</style>\n",
       "<table border=\"1\" class=\"dataframe\">\n",
       "  <thead>\n",
       "    <tr style=\"text-align: right;\">\n",
       "      <th></th>\n",
       "      <th></th>\n",
       "      <th></th>\n",
       "      <th>day</th>\n",
       "      <th>depth</th>\n",
       "      <th>mag</th>\n",
       "    </tr>\n",
       "    <tr>\n",
       "      <th>mon</th>\n",
       "      <th>place</th>\n",
       "      <th>year</th>\n",
       "      <th></th>\n",
       "      <th></th>\n",
       "      <th></th>\n",
       "    </tr>\n",
       "  </thead>\n",
       "  <tbody>\n",
       "    <tr>\n",
       "      <th rowspan=\"5\" valign=\"top\">8</th>\n",
       "      <th>Afghanistan</th>\n",
       "      <th>2017</th>\n",
       "      <td>28.000</td>\n",
       "      <td>166.585</td>\n",
       "      <td>4.600</td>\n",
       "    </tr>\n",
       "    <tr>\n",
       "      <th>Alaska</th>\n",
       "      <th>2017</th>\n",
       "      <td>26.246</td>\n",
       "      <td>48.301</td>\n",
       "      <td>3.018</td>\n",
       "    </tr>\n",
       "    <tr>\n",
       "      <th>American Samoa</th>\n",
       "      <th>2017</th>\n",
       "      <td>21.000</td>\n",
       "      <td>10.000</td>\n",
       "      <td>5.300</td>\n",
       "    </tr>\n",
       "    <tr>\n",
       "      <th>Argentina</th>\n",
       "      <th>2017</th>\n",
       "      <td>22.000</td>\n",
       "      <td>215.903</td>\n",
       "      <td>4.300</td>\n",
       "    </tr>\n",
       "    <tr>\n",
       "      <th>Bonaire</th>\n",
       "      <th>2017</th>\n",
       "      <td>21.000</td>\n",
       "      <td>39.000</td>\n",
       "      <td>2.570</td>\n",
       "    </tr>\n",
       "  </tbody>\n",
       "</table>\n",
       "</div>"
      ],
      "text/plain": [
       "                            day    depth    mag\n",
       "mon place          year                        \n",
       "8   Afghanistan    2017  28.000  166.585  4.600\n",
       "    Alaska         2017  26.246   48.301  3.018\n",
       "    American Samoa 2017  21.000   10.000  5.300\n",
       "    Argentina      2017  22.000  215.903  4.300\n",
       "    Bonaire        2017  21.000   39.000  2.570"
      ]
     },
     "execution_count": 14,
     "metadata": {},
     "output_type": "execute_result"
    }
   ],
   "source": [
    "#  To rearrange the groupings, simply reorder the indices\n",
    "pt_indices = ['place', 'year', 'mon']\n",
    "pt = pd.pivot_table(df, index=['mon', 'place', 'year'])\n",
    "pt.head()"
   ]
  },
  {
   "cell_type": "markdown",
   "id": "78823a7a",
   "metadata": {},
   "source": [
    "You've got granular control over what information gets displayed and to what level of aggregation. Let's say you want to \"roll up\" the data and figure out how many earthquakes happened, and their average magnitude, by place name. \n",
    "\n",
    "You could do something like:"
   ]
  },
  {
   "cell_type": "code",
   "execution_count": null,
   "id": "03fdce32",
   "metadata": {},
   "outputs": [],
   "source": [
    "pt=pd.pivot_table(df, \n",
    "                  index=['place'],\n",
    "                  values=['mag'], \n",
    "                  aggfunc=[np.mean, len]\n",
    "                 )"
   ]
  },
  {
   "cell_type": "markdown",
   "id": "10048420",
   "metadata": {},
   "source": [
    "The pivot tables themselves are DataFrame objects.  The pivot table methods essentially add new indices, but they are just DataFrames so you can use the **query()** command on them. \n",
    "\n",
    "This example produces a list of all the magnitude 4 and above quakes in Oregon and California:\n"
   ]
  },
  {
   "cell_type": "code",
   "execution_count": 15,
   "id": "eacff65f",
   "metadata": {
    "scrolled": true
   },
   "outputs": [
    {
     "data": {
      "text/html": [
       "<div>\n",
       "<style scoped>\n",
       "    .dataframe tbody tr th:only-of-type {\n",
       "        vertical-align: middle;\n",
       "    }\n",
       "\n",
       "    .dataframe tbody tr th {\n",
       "        vertical-align: top;\n",
       "    }\n",
       "\n",
       "    .dataframe thead th {\n",
       "        text-align: right;\n",
       "    }\n",
       "</style>\n",
       "<table border=\"1\" class=\"dataframe\">\n",
       "  <thead>\n",
       "    <tr style=\"text-align: right;\">\n",
       "      <th></th>\n",
       "      <th></th>\n",
       "      <th></th>\n",
       "      <th></th>\n",
       "      <th></th>\n",
       "      <th>mag</th>\n",
       "    </tr>\n",
       "    <tr>\n",
       "      <th>place</th>\n",
       "      <th>year</th>\n",
       "      <th>mon</th>\n",
       "      <th>day</th>\n",
       "      <th>depth</th>\n",
       "      <th></th>\n",
       "    </tr>\n",
       "  </thead>\n",
       "  <tbody>\n",
       "    <tr>\n",
       "      <th>California</th>\n",
       "      <th>2017</th>\n",
       "      <th>8</th>\n",
       "      <th>22</th>\n",
       "      <th>6.14</th>\n",
       "      <td>4.07</td>\n",
       "    </tr>\n",
       "    <tr>\n",
       "      <th rowspan=\"2\" valign=\"top\">Oregon</th>\n",
       "      <th rowspan=\"2\" valign=\"top\">2017</th>\n",
       "      <th>8</th>\n",
       "      <th>27</th>\n",
       "      <th>10.00</th>\n",
       "      <td>4.30</td>\n",
       "    </tr>\n",
       "    <tr>\n",
       "      <th>9</th>\n",
       "      <th>5</th>\n",
       "      <th>10.00</th>\n",
       "      <td>4.30</td>\n",
       "    </tr>\n",
       "  </tbody>\n",
       "</table>\n",
       "</div>"
      ],
      "text/plain": [
       "                                mag\n",
       "place      year mon day depth      \n",
       "California 2017 8   22  6.14   4.07\n",
       "Oregon     2017 8   27  10.00  4.30\n",
       "                9   5   10.00  4.30"
      ]
     },
     "execution_count": 15,
     "metadata": {},
     "output_type": "execute_result"
    }
   ],
   "source": [
    "pt=pd.pivot_table(df, index=['place', 'year', 'mon', 'day', 'depth'])\n",
    "pt.query(\"place == ['Oregon', 'California'] and mag > 4\")"
   ]
  },
  {
   "cell_type": "markdown",
   "id": "1f538eae",
   "metadata": {},
   "source": [
    "### Crosstabs \n",
    "\n",
    "Crosstabs are a snap with pandas. \n",
    "\n",
    "To illustrate, let's begin by creating some classifications (\"bins\") for the magnitude and depth of the earthquakes. One way to do that is to use pandas' **cut()** method. To accomplish this, we want to:\n",
    "\n",
    "    - create categorical bins (of any size)\n",
    "    \n",
    "    - create labels (one per bin)\n",
    "    \n",
    "    - apply cut()\n"
   ]
  },
  {
   "cell_type": "code",
   "execution_count": 16,
   "id": "e5cba2fc",
   "metadata": {
    "scrolled": true
   },
   "outputs": [
    {
     "data": {
      "text/html": [
       "<div>\n",
       "<style scoped>\n",
       "    .dataframe tbody tr th:only-of-type {\n",
       "        vertical-align: middle;\n",
       "    }\n",
       "\n",
       "    .dataframe tbody tr th {\n",
       "        vertical-align: top;\n",
       "    }\n",
       "\n",
       "    .dataframe thead th {\n",
       "        text-align: right;\n",
       "    }\n",
       "</style>\n",
       "<table border=\"1\" class=\"dataframe\">\n",
       "  <thead>\n",
       "    <tr style=\"text-align: right;\">\n",
       "      <th></th>\n",
       "      <th>depth</th>\n",
       "      <th>mag</th>\n",
       "      <th>net</th>\n",
       "      <th>place</th>\n",
       "      <th>status</th>\n",
       "      <th>year</th>\n",
       "      <th>mon</th>\n",
       "      <th>day</th>\n",
       "      <th>strength</th>\n",
       "    </tr>\n",
       "    <tr>\n",
       "      <th>time</th>\n",
       "      <th></th>\n",
       "      <th></th>\n",
       "      <th></th>\n",
       "      <th></th>\n",
       "      <th></th>\n",
       "      <th></th>\n",
       "      <th></th>\n",
       "      <th></th>\n",
       "      <th></th>\n",
       "    </tr>\n",
       "  </thead>\n",
       "  <tbody>\n",
       "    <tr>\n",
       "      <th>2017-09-19 16:56:50.540000+00:00</th>\n",
       "      <td>1.520</td>\n",
       "      <td>2.45</td>\n",
       "      <td>ci</td>\n",
       "      <td>California</td>\n",
       "      <td>automatic</td>\n",
       "      <td>2017</td>\n",
       "      <td>9</td>\n",
       "      <td>19</td>\n",
       "      <td>weak</td>\n",
       "    </tr>\n",
       "    <tr>\n",
       "      <th>2017-09-19 16:15:29.900000+00:00</th>\n",
       "      <td>2.630</td>\n",
       "      <td>2.92</td>\n",
       "      <td>nc</td>\n",
       "      <td>California</td>\n",
       "      <td>automatic</td>\n",
       "      <td>2017</td>\n",
       "      <td>9</td>\n",
       "      <td>19</td>\n",
       "      <td>weak</td>\n",
       "    </tr>\n",
       "    <tr>\n",
       "      <th>2017-09-19 15:35:09.030000+00:00</th>\n",
       "      <td>4.520</td>\n",
       "      <td>3.10</td>\n",
       "      <td>us</td>\n",
       "      <td>Idaho</td>\n",
       "      <td>reviewed</td>\n",
       "      <td>2017</td>\n",
       "      <td>9</td>\n",
       "      <td>19</td>\n",
       "      <td>weak</td>\n",
       "    </tr>\n",
       "    <tr>\n",
       "      <th>2017-09-19 15:27:13.670000+00:00</th>\n",
       "      <td>8.340</td>\n",
       "      <td>3.50</td>\n",
       "      <td>us</td>\n",
       "      <td>Idaho</td>\n",
       "      <td>reviewed</td>\n",
       "      <td>2017</td>\n",
       "      <td>9</td>\n",
       "      <td>19</td>\n",
       "      <td>weak</td>\n",
       "    </tr>\n",
       "    <tr>\n",
       "      <th>2017-09-19 15:26:56.200000+00:00</th>\n",
       "      <td>6.125</td>\n",
       "      <td>2.50</td>\n",
       "      <td>us</td>\n",
       "      <td>Oklahoma</td>\n",
       "      <td>reviewed</td>\n",
       "      <td>2017</td>\n",
       "      <td>9</td>\n",
       "      <td>19</td>\n",
       "      <td>weak</td>\n",
       "    </tr>\n",
       "  </tbody>\n",
       "</table>\n",
       "</div>"
      ],
      "text/plain": [
       "                                  depth   mag net       place     status  \\\n",
       "time                                                                       \n",
       "2017-09-19 16:56:50.540000+00:00  1.520  2.45  ci  California  automatic   \n",
       "2017-09-19 16:15:29.900000+00:00  2.630  2.92  nc  California  automatic   \n",
       "2017-09-19 15:35:09.030000+00:00  4.520  3.10  us       Idaho   reviewed   \n",
       "2017-09-19 15:27:13.670000+00:00  8.340  3.50  us       Idaho   reviewed   \n",
       "2017-09-19 15:26:56.200000+00:00  6.125  2.50  us    Oklahoma   reviewed   \n",
       "\n",
       "                                  year  mon  day strength  \n",
       "time                                                       \n",
       "2017-09-19 16:56:50.540000+00:00  2017    9   19     weak  \n",
       "2017-09-19 16:15:29.900000+00:00  2017    9   19     weak  \n",
       "2017-09-19 15:35:09.030000+00:00  2017    9   19     weak  \n",
       "2017-09-19 15:27:13.670000+00:00  2017    9   19     weak  \n",
       "2017-09-19 15:26:56.200000+00:00  2017    9   19     weak  "
      ]
     },
     "execution_count": 16,
     "metadata": {},
     "output_type": "execute_result"
    }
   ],
   "source": [
    "cut_offs = [0, 4, 6, 8, 10]\n",
    "names = ['weak', 'moderate', 'strong', 'intense']\n",
    "\n",
    "df['strength'] = pd.cut(df['mag'], cut_offs, labels=names)\n",
    "df.head()"
   ]
  },
  {
   "cell_type": "markdown",
   "id": "cf6f6435",
   "metadata": {},
   "source": [
    "If the classification logic needs to be more complicated, it's possible to build a classifier routine and process a column of data through it – much like you can build a function to do a customized **sort()** on a list object. \n",
    "\n",
    "To use it, call pandas' **apply()** method with the appropriate parameters like so:\n"
   ]
  },
  {
   "cell_type": "code",
   "execution_count": 17,
   "id": "b368f4bb",
   "metadata": {},
   "outputs": [
    {
     "data": {
      "text/html": [
       "<div>\n",
       "<style scoped>\n",
       "    .dataframe tbody tr th:only-of-type {\n",
       "        vertical-align: middle;\n",
       "    }\n",
       "\n",
       "    .dataframe tbody tr th {\n",
       "        vertical-align: top;\n",
       "    }\n",
       "\n",
       "    .dataframe thead th {\n",
       "        text-align: right;\n",
       "    }\n",
       "</style>\n",
       "<table border=\"1\" class=\"dataframe\">\n",
       "  <thead>\n",
       "    <tr style=\"text-align: right;\">\n",
       "      <th></th>\n",
       "      <th>depth</th>\n",
       "      <th>mag</th>\n",
       "      <th>net</th>\n",
       "      <th>place</th>\n",
       "      <th>status</th>\n",
       "      <th>year</th>\n",
       "      <th>mon</th>\n",
       "      <th>day</th>\n",
       "      <th>strength</th>\n",
       "      <th>deep_cat</th>\n",
       "    </tr>\n",
       "    <tr>\n",
       "      <th>time</th>\n",
       "      <th></th>\n",
       "      <th></th>\n",
       "      <th></th>\n",
       "      <th></th>\n",
       "      <th></th>\n",
       "      <th></th>\n",
       "      <th></th>\n",
       "      <th></th>\n",
       "      <th></th>\n",
       "      <th></th>\n",
       "    </tr>\n",
       "  </thead>\n",
       "  <tbody>\n",
       "    <tr>\n",
       "      <th>2017-09-19 16:56:50.540000+00:00</th>\n",
       "      <td>1.520</td>\n",
       "      <td>2.45</td>\n",
       "      <td>ci</td>\n",
       "      <td>California</td>\n",
       "      <td>automatic</td>\n",
       "      <td>2017</td>\n",
       "      <td>9</td>\n",
       "      <td>19</td>\n",
       "      <td>weak</td>\n",
       "      <td>surface</td>\n",
       "    </tr>\n",
       "    <tr>\n",
       "      <th>2017-09-19 16:15:29.900000+00:00</th>\n",
       "      <td>2.630</td>\n",
       "      <td>2.92</td>\n",
       "      <td>nc</td>\n",
       "      <td>California</td>\n",
       "      <td>automatic</td>\n",
       "      <td>2017</td>\n",
       "      <td>9</td>\n",
       "      <td>19</td>\n",
       "      <td>weak</td>\n",
       "      <td>surface</td>\n",
       "    </tr>\n",
       "    <tr>\n",
       "      <th>2017-09-19 15:35:09.030000+00:00</th>\n",
       "      <td>4.520</td>\n",
       "      <td>3.10</td>\n",
       "      <td>us</td>\n",
       "      <td>Idaho</td>\n",
       "      <td>reviewed</td>\n",
       "      <td>2017</td>\n",
       "      <td>9</td>\n",
       "      <td>19</td>\n",
       "      <td>weak</td>\n",
       "      <td>surface</td>\n",
       "    </tr>\n",
       "    <tr>\n",
       "      <th>2017-09-19 15:27:13.670000+00:00</th>\n",
       "      <td>8.340</td>\n",
       "      <td>3.50</td>\n",
       "      <td>us</td>\n",
       "      <td>Idaho</td>\n",
       "      <td>reviewed</td>\n",
       "      <td>2017</td>\n",
       "      <td>9</td>\n",
       "      <td>19</td>\n",
       "      <td>weak</td>\n",
       "      <td>surface</td>\n",
       "    </tr>\n",
       "    <tr>\n",
       "      <th>2017-09-19 15:26:56.200000+00:00</th>\n",
       "      <td>6.125</td>\n",
       "      <td>2.50</td>\n",
       "      <td>us</td>\n",
       "      <td>Oklahoma</td>\n",
       "      <td>reviewed</td>\n",
       "      <td>2017</td>\n",
       "      <td>9</td>\n",
       "      <td>19</td>\n",
       "      <td>weak</td>\n",
       "      <td>surface</td>\n",
       "    </tr>\n",
       "  </tbody>\n",
       "</table>\n",
       "</div>"
      ],
      "text/plain": [
       "                                  depth   mag net       place     status  \\\n",
       "time                                                                       \n",
       "2017-09-19 16:56:50.540000+00:00  1.520  2.45  ci  California  automatic   \n",
       "2017-09-19 16:15:29.900000+00:00  2.630  2.92  nc  California  automatic   \n",
       "2017-09-19 15:35:09.030000+00:00  4.520  3.10  us       Idaho   reviewed   \n",
       "2017-09-19 15:27:13.670000+00:00  8.340  3.50  us       Idaho   reviewed   \n",
       "2017-09-19 15:26:56.200000+00:00  6.125  2.50  us    Oklahoma   reviewed   \n",
       "\n",
       "                                  year  mon  day strength deep_cat  \n",
       "time                                                                \n",
       "2017-09-19 16:56:50.540000+00:00  2017    9   19     weak  surface  \n",
       "2017-09-19 16:15:29.900000+00:00  2017    9   19     weak  surface  \n",
       "2017-09-19 15:35:09.030000+00:00  2017    9   19     weak  surface  \n",
       "2017-09-19 15:27:13.670000+00:00  2017    9   19     weak  surface  \n",
       "2017-09-19 15:26:56.200000+00:00  2017    9   19     weak  surface  "
      ]
     },
     "execution_count": 17,
     "metadata": {},
     "output_type": "execute_result"
    }
   ],
   "source": [
    "def classify(data_row):\n",
    "    \"Classify earthquakes depths\"\n",
    "    \n",
    "    # Target the 'depth' column\n",
    "    depth=data_row['depth']\n",
    "    \n",
    "    # Manually define categorical labels\n",
    "    if depth < 10:     \n",
    "        return 'surface'\n",
    "    elif depth < 100:  \n",
    "        return 'shallow'\n",
    "    elif depth < 1000: \n",
    "        return 'kinda deep'\n",
    "    else:              \n",
    "        return 'really deep'\n",
    "\n",
    "# Use **apply()** to create a new column using row-wise modifications\n",
    "df['deep_cat']=df.apply(classify, axis=1)\n",
    "\n",
    "df.head()"
   ]
  },
  {
   "cell_type": "markdown",
   "id": "494ffa8d",
   "metadata": {},
   "source": [
    "Now we can have a look at our newly-classified data as a cross-tab. "
   ]
  },
  {
   "cell_type": "code",
   "execution_count": 19,
   "id": "69435247",
   "metadata": {},
   "outputs": [
    {
     "data": {
      "text/html": [
       "<div>\n",
       "<style scoped>\n",
       "    .dataframe tbody tr th:only-of-type {\n",
       "        vertical-align: middle;\n",
       "    }\n",
       "\n",
       "    .dataframe tbody tr th {\n",
       "        vertical-align: top;\n",
       "    }\n",
       "\n",
       "    .dataframe thead th {\n",
       "        text-align: right;\n",
       "    }\n",
       "</style>\n",
       "<table border=\"1\" class=\"dataframe\">\n",
       "  <thead>\n",
       "    <tr style=\"text-align: right;\">\n",
       "      <th>deep_cat</th>\n",
       "      <th>kinda deep</th>\n",
       "      <th>shallow</th>\n",
       "      <th>surface</th>\n",
       "      <th>All</th>\n",
       "    </tr>\n",
       "    <tr>\n",
       "      <th>strength</th>\n",
       "      <th></th>\n",
       "      <th></th>\n",
       "      <th></th>\n",
       "      <th></th>\n",
       "    </tr>\n",
       "  </thead>\n",
       "  <tbody>\n",
       "    <tr>\n",
       "      <th>weak</th>\n",
       "      <td>59</td>\n",
       "      <td>421</td>\n",
       "      <td>540</td>\n",
       "      <td>1020</td>\n",
       "    </tr>\n",
       "    <tr>\n",
       "      <th>moderate</th>\n",
       "      <td>127</td>\n",
       "      <td>487</td>\n",
       "      <td>42</td>\n",
       "      <td>656</td>\n",
       "    </tr>\n",
       "    <tr>\n",
       "      <th>strong</th>\n",
       "      <td>1</td>\n",
       "      <td>1</td>\n",
       "      <td>2</td>\n",
       "      <td>4</td>\n",
       "    </tr>\n",
       "    <tr>\n",
       "      <th>intense</th>\n",
       "      <td>0</td>\n",
       "      <td>1</td>\n",
       "      <td>0</td>\n",
       "      <td>1</td>\n",
       "    </tr>\n",
       "    <tr>\n",
       "      <th>All</th>\n",
       "      <td>187</td>\n",
       "      <td>910</td>\n",
       "      <td>584</td>\n",
       "      <td>1681</td>\n",
       "    </tr>\n",
       "  </tbody>\n",
       "</table>\n",
       "</div>"
      ],
      "text/plain": [
       "deep_cat  kinda deep  shallow  surface   All\n",
       "strength                                    \n",
       "weak              59      421      540  1020\n",
       "moderate         127      487       42   656\n",
       "strong             1        1        2     4\n",
       "intense            0        1        0     1\n",
       "All              187      910      584  1681"
      ]
     },
     "execution_count": 19,
     "metadata": {},
     "output_type": "execute_result"
    }
   ],
   "source": [
    "# First arg is rows.  The margins paramater toggles the row/column totals.\n",
    "pd.crosstab(df.strength, columns= df.deep_cat, margins=True )"
   ]
  },
  {
   "cell_type": "markdown",
   "id": "889e335a",
   "metadata": {},
   "source": [
    "If you want to get a little fancier, you can do nested breakdowns by\n",
    "providing a **list** instead of a single value for one or both of the\n",
    "rows and columns. \n",
    "\n",
    "This example breaks things down by months:"
   ]
  },
  {
   "cell_type": "code",
   "execution_count": 20,
   "id": "7bde14d9",
   "metadata": {
    "scrolled": true
   },
   "outputs": [
    {
     "data": {
      "text/html": [
       "<div>\n",
       "<style scoped>\n",
       "    .dataframe tbody tr th:only-of-type {\n",
       "        vertical-align: middle;\n",
       "    }\n",
       "\n",
       "    .dataframe tbody tr th {\n",
       "        vertical-align: top;\n",
       "    }\n",
       "\n",
       "    .dataframe thead th {\n",
       "        text-align: right;\n",
       "    }\n",
       "</style>\n",
       "<table border=\"1\" class=\"dataframe\">\n",
       "  <thead>\n",
       "    <tr style=\"text-align: right;\">\n",
       "      <th></th>\n",
       "      <th>deep_cat</th>\n",
       "      <th>kinda deep</th>\n",
       "      <th>shallow</th>\n",
       "      <th>surface</th>\n",
       "      <th>All</th>\n",
       "    </tr>\n",
       "    <tr>\n",
       "      <th>mon</th>\n",
       "      <th>strength</th>\n",
       "      <th></th>\n",
       "      <th></th>\n",
       "      <th></th>\n",
       "      <th></th>\n",
       "    </tr>\n",
       "  </thead>\n",
       "  <tbody>\n",
       "    <tr>\n",
       "      <th rowspan=\"3\" valign=\"top\">8</th>\n",
       "      <th>weak</th>\n",
       "      <td>19</td>\n",
       "      <td>186</td>\n",
       "      <td>91</td>\n",
       "      <td>296</td>\n",
       "    </tr>\n",
       "    <tr>\n",
       "      <th>moderate</th>\n",
       "      <td>61</td>\n",
       "      <td>139</td>\n",
       "      <td>9</td>\n",
       "      <td>209</td>\n",
       "    </tr>\n",
       "    <tr>\n",
       "      <th>strong</th>\n",
       "      <td>0</td>\n",
       "      <td>1</td>\n",
       "      <td>1</td>\n",
       "      <td>2</td>\n",
       "    </tr>\n",
       "    <tr>\n",
       "      <th rowspan=\"4\" valign=\"top\">9</th>\n",
       "      <th>weak</th>\n",
       "      <td>40</td>\n",
       "      <td>235</td>\n",
       "      <td>449</td>\n",
       "      <td>724</td>\n",
       "    </tr>\n",
       "    <tr>\n",
       "      <th>moderate</th>\n",
       "      <td>66</td>\n",
       "      <td>348</td>\n",
       "      <td>33</td>\n",
       "      <td>447</td>\n",
       "    </tr>\n",
       "    <tr>\n",
       "      <th>strong</th>\n",
       "      <td>1</td>\n",
       "      <td>0</td>\n",
       "      <td>1</td>\n",
       "      <td>2</td>\n",
       "    </tr>\n",
       "    <tr>\n",
       "      <th>intense</th>\n",
       "      <td>0</td>\n",
       "      <td>1</td>\n",
       "      <td>0</td>\n",
       "      <td>1</td>\n",
       "    </tr>\n",
       "    <tr>\n",
       "      <th>All</th>\n",
       "      <th></th>\n",
       "      <td>187</td>\n",
       "      <td>910</td>\n",
       "      <td>584</td>\n",
       "      <td>1681</td>\n",
       "    </tr>\n",
       "  </tbody>\n",
       "</table>\n",
       "</div>"
      ],
      "text/plain": [
       "deep_cat      kinda deep  shallow  surface   All\n",
       "mon strength                                    \n",
       "8   weak              19      186       91   296\n",
       "    moderate          61      139        9   209\n",
       "    strong             0        1        1     2\n",
       "9   weak              40      235      449   724\n",
       "    moderate          66      348       33   447\n",
       "    strong             1        0        1     2\n",
       "    intense            0        1        0     1\n",
       "All                  187      910      584  1681"
      ]
     },
     "execution_count": 20,
     "metadata": {},
     "output_type": "execute_result"
    }
   ],
   "source": [
    "pd.crosstab([df.mon, df.strength], columns= df.deep_cat, margins=True )"
   ]
  },
  {
   "cell_type": "markdown",
   "id": "2ebff5f8",
   "metadata": {},
   "source": [
    "You can nest these by providing lists to both the row and column specifications."
   ]
  },
  {
   "cell_type": "code",
   "execution_count": 21,
   "id": "8fa025d5",
   "metadata": {},
   "outputs": [
    {
     "data": {
      "text/html": [
       "<div>\n",
       "<style scoped>\n",
       "    .dataframe tbody tr th:only-of-type {\n",
       "        vertical-align: middle;\n",
       "    }\n",
       "\n",
       "    .dataframe tbody tr th {\n",
       "        vertical-align: top;\n",
       "    }\n",
       "\n",
       "    .dataframe thead tr th {\n",
       "        text-align: left;\n",
       "    }\n",
       "\n",
       "    .dataframe thead tr:last-of-type th {\n",
       "        text-align: right;\n",
       "    }\n",
       "</style>\n",
       "<table border=\"1\" class=\"dataframe\">\n",
       "  <thead>\n",
       "    <tr>\n",
       "      <th></th>\n",
       "      <th>deep_cat</th>\n",
       "      <th>kinda deep</th>\n",
       "      <th>shallow</th>\n",
       "      <th>surface</th>\n",
       "      <th>All</th>\n",
       "    </tr>\n",
       "    <tr>\n",
       "      <th></th>\n",
       "      <th>year</th>\n",
       "      <th>2017</th>\n",
       "      <th>2017</th>\n",
       "      <th>2017</th>\n",
       "      <th></th>\n",
       "    </tr>\n",
       "    <tr>\n",
       "      <th>mon</th>\n",
       "      <th>strength</th>\n",
       "      <th></th>\n",
       "      <th></th>\n",
       "      <th></th>\n",
       "      <th></th>\n",
       "    </tr>\n",
       "  </thead>\n",
       "  <tbody>\n",
       "    <tr>\n",
       "      <th rowspan=\"3\" valign=\"top\">8</th>\n",
       "      <th>weak</th>\n",
       "      <td>19</td>\n",
       "      <td>186</td>\n",
       "      <td>91</td>\n",
       "      <td>296</td>\n",
       "    </tr>\n",
       "    <tr>\n",
       "      <th>moderate</th>\n",
       "      <td>61</td>\n",
       "      <td>139</td>\n",
       "      <td>9</td>\n",
       "      <td>209</td>\n",
       "    </tr>\n",
       "    <tr>\n",
       "      <th>strong</th>\n",
       "      <td>0</td>\n",
       "      <td>1</td>\n",
       "      <td>1</td>\n",
       "      <td>2</td>\n",
       "    </tr>\n",
       "    <tr>\n",
       "      <th rowspan=\"4\" valign=\"top\">9</th>\n",
       "      <th>weak</th>\n",
       "      <td>40</td>\n",
       "      <td>235</td>\n",
       "      <td>449</td>\n",
       "      <td>724</td>\n",
       "    </tr>\n",
       "    <tr>\n",
       "      <th>moderate</th>\n",
       "      <td>66</td>\n",
       "      <td>348</td>\n",
       "      <td>33</td>\n",
       "      <td>447</td>\n",
       "    </tr>\n",
       "    <tr>\n",
       "      <th>strong</th>\n",
       "      <td>1</td>\n",
       "      <td>0</td>\n",
       "      <td>1</td>\n",
       "      <td>2</td>\n",
       "    </tr>\n",
       "    <tr>\n",
       "      <th>intense</th>\n",
       "      <td>0</td>\n",
       "      <td>1</td>\n",
       "      <td>0</td>\n",
       "      <td>1</td>\n",
       "    </tr>\n",
       "    <tr>\n",
       "      <th>All</th>\n",
       "      <th></th>\n",
       "      <td>187</td>\n",
       "      <td>910</td>\n",
       "      <td>584</td>\n",
       "      <td>1681</td>\n",
       "    </tr>\n",
       "  </tbody>\n",
       "</table>\n",
       "</div>"
      ],
      "text/plain": [
       "deep_cat     kinda deep shallow surface   All\n",
       "year               2017    2017    2017      \n",
       "mon strength                                 \n",
       "8   weak             19     186      91   296\n",
       "    moderate         61     139       9   209\n",
       "    strong            0       1       1     2\n",
       "9   weak             40     235     449   724\n",
       "    moderate         66     348      33   447\n",
       "    strong            1       0       1     2\n",
       "    intense           0       1       0     1\n",
       "All                 187     910     584  1681"
      ]
     },
     "execution_count": 21,
     "metadata": {},
     "output_type": "execute_result"
    }
   ],
   "source": [
    "pd.crosstab([df.mon, df.strength], columns= [df.deep_cat, df.year], margins=True )"
   ]
  },
  {
   "cell_type": "markdown",
   "id": "6935492f",
   "metadata": {},
   "source": [
    "Aggregating Data Across Different Tables\n",
    "----------------------------------------\n",
    "\n",
    "It's common to have data scattered across different container objects –\n",
    "sometimes by design (keeping data atomic), and sometimes simply due to\n",
    "the fact that they are gathered from different sources at different\n",
    "times. In either case, you'll likely have the need to pull it together\n",
    "to support your analysis. There are a few ways to do that with\n",
    "**DataFrame** objects. \n",
    "\n",
    "Let's create some simple data:"
   ]
  },
  {
   "cell_type": "code",
   "execution_count": 34,
   "id": "2abfb2fd",
   "metadata": {
    "scrolled": true
   },
   "outputs": [
    {
     "name": "stdout",
     "output_type": "stream",
     "text": [
      "ff\n"
     ]
    },
    {
     "data": {
      "text/html": [
       "<div>\n",
       "<style scoped>\n",
       "    .dataframe tbody tr th:only-of-type {\n",
       "        vertical-align: middle;\n",
       "    }\n",
       "\n",
       "    .dataframe tbody tr th {\n",
       "        vertical-align: top;\n",
       "    }\n",
       "\n",
       "    .dataframe thead th {\n",
       "        text-align: right;\n",
       "    }\n",
       "</style>\n",
       "<table border=\"1\" class=\"dataframe\">\n",
       "  <thead>\n",
       "    <tr style=\"text-align: right;\">\n",
       "      <th></th>\n",
       "      <th>c1</th>\n",
       "      <th>c2</th>\n",
       "      <th>c3</th>\n",
       "    </tr>\n",
       "  </thead>\n",
       "  <tbody>\n",
       "    <tr>\n",
       "      <th>1</th>\n",
       "      <td>11</td>\n",
       "      <td>12</td>\n",
       "      <td>13</td>\n",
       "    </tr>\n",
       "    <tr>\n",
       "      <th>2</th>\n",
       "      <td>21</td>\n",
       "      <td>22</td>\n",
       "      <td>23</td>\n",
       "    </tr>\n",
       "  </tbody>\n",
       "</table>\n",
       "</div>"
      ],
      "text/plain": [
       "   c1  c2  c3\n",
       "1  11  12  13\n",
       "2  21  22  23"
      ]
     },
     "execution_count": 34,
     "metadata": {},
     "output_type": "execute_result"
    }
   ],
   "source": [
    "col_index=['c1', 'c2', 'c3']\n",
    "row_index=[1,2]\n",
    "ff=pd.DataFrame([[11,12,13],[21,22,23]], \n",
    "                columns=col_index,\n",
    "                index=row_index)\n",
    "ff"
   ]
  },
  {
   "cell_type": "code",
   "execution_count": 39,
   "id": "adb3653f",
   "metadata": {},
   "outputs": [
    {
     "data": {
      "text/html": [
       "<div>\n",
       "<style scoped>\n",
       "    .dataframe tbody tr th:only-of-type {\n",
       "        vertical-align: middle;\n",
       "    }\n",
       "\n",
       "    .dataframe tbody tr th {\n",
       "        vertical-align: top;\n",
       "    }\n",
       "\n",
       "    .dataframe thead th {\n",
       "        text-align: right;\n",
       "    }\n",
       "</style>\n",
       "<table border=\"1\" class=\"dataframe\">\n",
       "  <thead>\n",
       "    <tr style=\"text-align: right;\">\n",
       "      <th></th>\n",
       "      <th>c2</th>\n",
       "      <th>c3</th>\n",
       "      <th>c4</th>\n",
       "    </tr>\n",
       "  </thead>\n",
       "  <tbody>\n",
       "    <tr>\n",
       "      <th>2</th>\n",
       "      <td>911</td>\n",
       "      <td>912</td>\n",
       "      <td>913</td>\n",
       "    </tr>\n",
       "    <tr>\n",
       "      <th>3</th>\n",
       "      <td>921</td>\n",
       "      <td>922</td>\n",
       "      <td>923</td>\n",
       "    </tr>\n",
       "  </tbody>\n",
       "</table>\n",
       "</div>"
      ],
      "text/plain": [
       "    c2   c3   c4\n",
       "2  911  912  913\n",
       "3  921  922  923"
      ]
     },
     "execution_count": 39,
     "metadata": {},
     "output_type": "execute_result"
    }
   ],
   "source": [
    "col_index=['c2', 'c3', 'c4']\n",
    "row_index=[2,3]\n",
    "gf=pd.DataFrame([[911,912,913],[921,922,923]], \n",
    "                columns=col_index,\n",
    "                index=row_index)\n",
    "gf"
   ]
  },
  {
   "cell_type": "markdown",
   "id": "bba79e09",
   "metadata": {},
   "source": [
    "If we study these briefly, we may notice that:\n",
    "\n",
    "    - The two tables both have columns c2 and c3, and each has a unique column\n",
    "    \n",
    "    - The two tables both have row 2, and each has a unique row.\n",
    "    \n",
    "This will be material when we \"shuffle the deck\".\n",
    "\n",
    "We'll begin by putting them together horizontally and vertically using **concat()**.  Specification of the axis parameter determines which."
   ]
  },
  {
   "cell_type": "code",
   "execution_count": 40,
   "id": "e85bff8b",
   "metadata": {},
   "outputs": [
    {
     "data": {
      "text/html": [
       "<div>\n",
       "<style scoped>\n",
       "    .dataframe tbody tr th:only-of-type {\n",
       "        vertical-align: middle;\n",
       "    }\n",
       "\n",
       "    .dataframe tbody tr th {\n",
       "        vertical-align: top;\n",
       "    }\n",
       "\n",
       "    .dataframe thead th {\n",
       "        text-align: right;\n",
       "    }\n",
       "</style>\n",
       "<table border=\"1\" class=\"dataframe\">\n",
       "  <thead>\n",
       "    <tr style=\"text-align: right;\">\n",
       "      <th></th>\n",
       "      <th>c1</th>\n",
       "      <th>c2</th>\n",
       "      <th>c3</th>\n",
       "      <th>c2</th>\n",
       "      <th>c3</th>\n",
       "      <th>c4</th>\n",
       "    </tr>\n",
       "  </thead>\n",
       "  <tbody>\n",
       "    <tr>\n",
       "      <th>1</th>\n",
       "      <td>11.0</td>\n",
       "      <td>12.0</td>\n",
       "      <td>13.0</td>\n",
       "      <td>NaN</td>\n",
       "      <td>NaN</td>\n",
       "      <td>NaN</td>\n",
       "    </tr>\n",
       "    <tr>\n",
       "      <th>2</th>\n",
       "      <td>21.0</td>\n",
       "      <td>22.0</td>\n",
       "      <td>23.0</td>\n",
       "      <td>911.0</td>\n",
       "      <td>912.0</td>\n",
       "      <td>913.0</td>\n",
       "    </tr>\n",
       "    <tr>\n",
       "      <th>3</th>\n",
       "      <td>NaN</td>\n",
       "      <td>NaN</td>\n",
       "      <td>NaN</td>\n",
       "      <td>921.0</td>\n",
       "      <td>922.0</td>\n",
       "      <td>923.0</td>\n",
       "    </tr>\n",
       "  </tbody>\n",
       "</table>\n",
       "</div>"
      ],
      "text/plain": [
       "     c1    c2    c3     c2     c3     c4\n",
       "1  11.0  12.0  13.0    NaN    NaN    NaN\n",
       "2  21.0  22.0  23.0  911.0  912.0  913.0\n",
       "3   NaN   NaN   NaN  921.0  922.0  923.0"
      ]
     },
     "execution_count": 40,
     "metadata": {},
     "output_type": "execute_result"
    }
   ],
   "source": [
    "horizontal = pd.concat([ff, gf], axis=1)\n",
    "horizontal"
   ]
  },
  {
   "cell_type": "code",
   "execution_count": 41,
   "id": "dffb537c",
   "metadata": {},
   "outputs": [
    {
     "data": {
      "text/html": [
       "<div>\n",
       "<style scoped>\n",
       "    .dataframe tbody tr th:only-of-type {\n",
       "        vertical-align: middle;\n",
       "    }\n",
       "\n",
       "    .dataframe tbody tr th {\n",
       "        vertical-align: top;\n",
       "    }\n",
       "\n",
       "    .dataframe thead th {\n",
       "        text-align: right;\n",
       "    }\n",
       "</style>\n",
       "<table border=\"1\" class=\"dataframe\">\n",
       "  <thead>\n",
       "    <tr style=\"text-align: right;\">\n",
       "      <th></th>\n",
       "      <th>c1</th>\n",
       "      <th>c2</th>\n",
       "      <th>c3</th>\n",
       "      <th>c4</th>\n",
       "    </tr>\n",
       "  </thead>\n",
       "  <tbody>\n",
       "    <tr>\n",
       "      <th>1</th>\n",
       "      <td>11.0</td>\n",
       "      <td>12</td>\n",
       "      <td>13</td>\n",
       "      <td>NaN</td>\n",
       "    </tr>\n",
       "    <tr>\n",
       "      <th>2</th>\n",
       "      <td>21.0</td>\n",
       "      <td>22</td>\n",
       "      <td>23</td>\n",
       "      <td>NaN</td>\n",
       "    </tr>\n",
       "    <tr>\n",
       "      <th>2</th>\n",
       "      <td>NaN</td>\n",
       "      <td>911</td>\n",
       "      <td>912</td>\n",
       "      <td>913.0</td>\n",
       "    </tr>\n",
       "    <tr>\n",
       "      <th>3</th>\n",
       "      <td>NaN</td>\n",
       "      <td>921</td>\n",
       "      <td>922</td>\n",
       "      <td>923.0</td>\n",
       "    </tr>\n",
       "  </tbody>\n",
       "</table>\n",
       "</div>"
      ],
      "text/plain": [
       "     c1   c2   c3     c4\n",
       "1  11.0   12   13    NaN\n",
       "2  21.0   22   23    NaN\n",
       "2   NaN  911  912  913.0\n",
       "3   NaN  921  922  923.0"
      ]
     },
     "execution_count": 41,
     "metadata": {},
     "output_type": "execute_result"
    }
   ],
   "source": [
    "vertical = pd.concat([ff, gf], axis=0)\n",
    "vertical"
   ]
  },
  {
   "cell_type": "markdown",
   "id": "203f8421",
   "metadata": {},
   "source": [
    "You'll note a couple of things. \n",
    "\n",
    "    - **concat**() operation just crams them together, duplicating rows/columns\n",
    "        \n",
    "    - mis-matched cells got a NaN\n",
    "    \n",
    "This result is problematic because you can get ambiguous results when you select data:"
   ]
  },
  {
   "cell_type": "code",
   "execution_count": 37,
   "id": "068a667e",
   "metadata": {},
   "outputs": [
    {
     "data": {
      "text/html": [
       "<div>\n",
       "<style scoped>\n",
       "    .dataframe tbody tr th:only-of-type {\n",
       "        vertical-align: middle;\n",
       "    }\n",
       "\n",
       "    .dataframe tbody tr th {\n",
       "        vertical-align: top;\n",
       "    }\n",
       "\n",
       "    .dataframe thead th {\n",
       "        text-align: right;\n",
       "    }\n",
       "</style>\n",
       "<table border=\"1\" class=\"dataframe\">\n",
       "  <thead>\n",
       "    <tr style=\"text-align: right;\">\n",
       "      <th></th>\n",
       "      <th>c2</th>\n",
       "      <th>c2</th>\n",
       "    </tr>\n",
       "  </thead>\n",
       "  <tbody>\n",
       "    <tr>\n",
       "      <th>1</th>\n",
       "      <td>12.0</td>\n",
       "      <td>NaN</td>\n",
       "    </tr>\n",
       "    <tr>\n",
       "      <th>2</th>\n",
       "      <td>22.0</td>\n",
       "      <td>11.0</td>\n",
       "    </tr>\n",
       "    <tr>\n",
       "      <th>3</th>\n",
       "      <td>NaN</td>\n",
       "      <td>21.0</td>\n",
       "    </tr>\n",
       "  </tbody>\n",
       "</table>\n",
       "</div>"
      ],
      "text/plain": [
       "     c2    c2\n",
       "1  12.0   NaN\n",
       "2  22.0  11.0\n",
       "3   NaN  21.0"
      ]
     },
     "execution_count": 37,
     "metadata": {},
     "output_type": "execute_result"
    }
   ],
   "source": [
    "horizontal['c2']"
   ]
  },
  {
   "cell_type": "markdown",
   "id": "12d2a4d9",
   "metadata": {},
   "source": [
    "Merge works well if you're combining \"like\" data.   As you can see, it may require cleanup.\n",
    "\n",
    "A more \"intelligent\" way to combine two data objects may be to use database-like joins using the **merge**() method. \n",
    "\n",
    "Joins come in different flavors. \n",
    "\n",
    "    - inner join - reports only the common rows that the two\n",
    "      \n",
    "    - outer join - reports a superset of all the rows filling in **np.NaNs** \n",
    "    \n",
    "        - left outer join - reports all 'left' and only matching 'right' data\n",
    "        \n",
    "        - right outer join - reports all 'right' and only matching 'left' data"
   ]
  },
  {
   "cell_type": "markdown",
   "id": "bdfd83a2",
   "metadata": {},
   "source": [
    "Let's play around with some made-up polling data for illustrative\n",
    "purposes. Here are some approval/disapproval ratings:"
   ]
  },
  {
   "cell_type": "code",
   "execution_count": 49,
   "id": "637fc099",
   "metadata": {
    "scrolled": true
   },
   "outputs": [
    {
     "data": {
      "text/html": [
       "<div>\n",
       "<style scoped>\n",
       "    .dataframe tbody tr th:only-of-type {\n",
       "        vertical-align: middle;\n",
       "    }\n",
       "\n",
       "    .dataframe tbody tr th {\n",
       "        vertical-align: top;\n",
       "    }\n",
       "\n",
       "    .dataframe thead th {\n",
       "        text-align: right;\n",
       "    }\n",
       "</style>\n",
       "<table border=\"1\" class=\"dataframe\">\n",
       "  <thead>\n",
       "    <tr style=\"text-align: right;\">\n",
       "      <th></th>\n",
       "      <th>poll</th>\n",
       "      <th>approve</th>\n",
       "      <th>disapprove</th>\n",
       "    </tr>\n",
       "  </thead>\n",
       "  <tbody>\n",
       "    <tr>\n",
       "      <th>0</th>\n",
       "      <td>ABC News/Wash Post</td>\n",
       "      <td>30</td>\n",
       "      <td>60</td>\n",
       "    </tr>\n",
       "    <tr>\n",
       "      <th>1</th>\n",
       "      <td>CBS News</td>\n",
       "      <td>35</td>\n",
       "      <td>45</td>\n",
       "    </tr>\n",
       "    <tr>\n",
       "      <th>2</th>\n",
       "      <td>Breitbart</td>\n",
       "      <td>90</td>\n",
       "      <td>5</td>\n",
       "    </tr>\n",
       "    <tr>\n",
       "      <th>3</th>\n",
       "      <td>InfoWars</td>\n",
       "      <td>200</td>\n",
       "      <td>0</td>\n",
       "    </tr>\n",
       "  </tbody>\n",
       "</table>\n",
       "</div>"
      ],
      "text/plain": [
       "                 poll  approve  disapprove\n",
       "0  ABC News/Wash Post       30          60\n",
       "1            CBS News       35          45\n",
       "2           Breitbart       90           5\n",
       "3            InfoWars      200           0"
      ]
     },
     "execution_count": 49,
     "metadata": {},
     "output_type": "execute_result"
    }
   ],
   "source": [
    "poll_cols = ['poll', 'approve', 'disapprove']\n",
    "poll_data = [['ABC News/Wash Post', 30, 60],\n",
    "             ['CBS News',           35, 45],\n",
    "             ['Breitbart',          90,  5],\n",
    "             ['InfoWars',          200,  0]]\n",
    "poll_df = pd.DataFrame(poll_data, columns=poll_cols)\n",
    "poll_df"
   ]
  },
  {
   "cell_type": "markdown",
   "id": "5ca43e64",
   "metadata": {},
   "source": [
    "And here are some made-up qualitative evaluations on the polls and polling\n",
    "organizations themselves:"
   ]
  },
  {
   "cell_type": "code",
   "execution_count": 50,
   "id": "bd74ba45",
   "metadata": {},
   "outputs": [
    {
     "data": {
      "text/html": [
       "<div>\n",
       "<style scoped>\n",
       "    .dataframe tbody tr th:only-of-type {\n",
       "        vertical-align: middle;\n",
       "    }\n",
       "\n",
       "    .dataframe tbody tr th {\n",
       "        vertical-align: top;\n",
       "    }\n",
       "\n",
       "    .dataframe thead th {\n",
       "        text-align: right;\n",
       "    }\n",
       "</style>\n",
       "<table border=\"1\" class=\"dataframe\">\n",
       "  <thead>\n",
       "    <tr style=\"text-align: right;\">\n",
       "      <th></th>\n",
       "      <th>org</th>\n",
       "      <th>eval</th>\n",
       "    </tr>\n",
       "  </thead>\n",
       "  <tbody>\n",
       "    <tr>\n",
       "      <th>0</th>\n",
       "      <td>ABC News/Wash Post</td>\n",
       "      <td>SAD</td>\n",
       "    </tr>\n",
       "    <tr>\n",
       "      <th>1</th>\n",
       "      <td>CBS News</td>\n",
       "      <td>FAILED!!</td>\n",
       "    </tr>\n",
       "    <tr>\n",
       "      <th>2</th>\n",
       "      <td>Breitbart</td>\n",
       "      <td>Enlightened</td>\n",
       "    </tr>\n",
       "    <tr>\n",
       "      <th>3</th>\n",
       "      <td>CNBC</td>\n",
       "      <td>Fake News!</td>\n",
       "    </tr>\n",
       "  </tbody>\n",
       "</table>\n",
       "</div>"
      ],
      "text/plain": [
       "                  org         eval\n",
       "0  ABC News/Wash Post          SAD\n",
       "1            CBS News     FAILED!!\n",
       "2           Breitbart  Enlightened\n",
       "3                CNBC   Fake News!"
      ]
     },
     "execution_count": 50,
     "metadata": {},
     "output_type": "execute_result"
    }
   ],
   "source": [
    "eval_cols = [\"org\", \"eval\"]\n",
    "eval_data = [['ABC News/Wash Post', 'SAD'],\n",
    "             ['CBS News',           \"FAILED!!\"],\n",
    "             ['Breitbart',          'Enlightened'],\n",
    "             ['CNBC',               'Fake News!']]\n",
    "eval_df = pd.DataFrame(eval_data, columns=eval_cols)\n",
    "eval_df"
   ]
  },
  {
   "cell_type": "markdown",
   "id": "3916a9b1",
   "metadata": {},
   "source": [
    "### Inner Join\n",
    "\n",
    "To create an inner join (the one that reports only the rows that match\n",
    "up) we just tell it what **DataFrames** to use and which columns to use\n",
    "as \"matchers\":"
   ]
  },
  {
   "cell_type": "code",
   "execution_count": 52,
   "id": "2ac84a8f",
   "metadata": {},
   "outputs": [
    {
     "data": {
      "text/html": [
       "<div>\n",
       "<style scoped>\n",
       "    .dataframe tbody tr th:only-of-type {\n",
       "        vertical-align: middle;\n",
       "    }\n",
       "\n",
       "    .dataframe tbody tr th {\n",
       "        vertical-align: top;\n",
       "    }\n",
       "\n",
       "    .dataframe thead th {\n",
       "        text-align: right;\n",
       "    }\n",
       "</style>\n",
       "<table border=\"1\" class=\"dataframe\">\n",
       "  <thead>\n",
       "    <tr style=\"text-align: right;\">\n",
       "      <th></th>\n",
       "      <th>poll</th>\n",
       "      <th>approve</th>\n",
       "      <th>disapprove</th>\n",
       "      <th>org</th>\n",
       "      <th>eval</th>\n",
       "    </tr>\n",
       "  </thead>\n",
       "  <tbody>\n",
       "    <tr>\n",
       "      <th>0</th>\n",
       "      <td>ABC News/Wash Post</td>\n",
       "      <td>30</td>\n",
       "      <td>60</td>\n",
       "      <td>ABC News/Wash Post</td>\n",
       "      <td>SAD</td>\n",
       "    </tr>\n",
       "    <tr>\n",
       "      <th>1</th>\n",
       "      <td>CBS News</td>\n",
       "      <td>35</td>\n",
       "      <td>45</td>\n",
       "      <td>CBS News</td>\n",
       "      <td>FAILED!!</td>\n",
       "    </tr>\n",
       "    <tr>\n",
       "      <th>2</th>\n",
       "      <td>Breitbart</td>\n",
       "      <td>90</td>\n",
       "      <td>5</td>\n",
       "      <td>Breitbart</td>\n",
       "      <td>Enlightened</td>\n",
       "    </tr>\n",
       "  </tbody>\n",
       "</table>\n",
       "</div>"
      ],
      "text/plain": [
       "                 poll  approve  disapprove                 org         eval\n",
       "0  ABC News/Wash Post       30          60  ABC News/Wash Post          SAD\n",
       "1            CBS News       35          45            CBS News     FAILED!!\n",
       "2           Breitbart       90           5           Breitbart  Enlightened"
      ]
     },
     "execution_count": 52,
     "metadata": {},
     "output_type": "execute_result"
    }
   ],
   "source": [
    "inner = pd.merge(left=poll_df, \n",
    "                 right=eval_df, \n",
    "                 left_on='poll', \n",
    "                 right_on='org')\n",
    "inner"
   ]
  },
  {
   "cell_type": "markdown",
   "id": "fa3fdfd8",
   "metadata": {},
   "source": [
    "You can see that the \"CNBC\" row dropped out. The new object has\n",
    "all the columns from both input **DataFrames**. Thus, we've created an\n",
    "object that is a superset of everything we know that's common to both\n",
    "data objects."
   ]
  },
  {
   "cell_type": "markdown",
   "id": "c11a231e",
   "metadata": {},
   "source": [
    "### Left Outer Join\n",
    "\n",
    "Now let's try the one where we snag everything from the left object and\n",
    "fill in what we can from the right-hand one (the \"left outer\" join). \n",
    "\n",
    "The only substantive difference is that we included a \"**how = 'left'**\" keyword argument:"
   ]
  },
  {
   "cell_type": "code",
   "execution_count": 53,
   "id": "c65789f7",
   "metadata": {},
   "outputs": [
    {
     "data": {
      "text/html": [
       "<div>\n",
       "<style scoped>\n",
       "    .dataframe tbody tr th:only-of-type {\n",
       "        vertical-align: middle;\n",
       "    }\n",
       "\n",
       "    .dataframe tbody tr th {\n",
       "        vertical-align: top;\n",
       "    }\n",
       "\n",
       "    .dataframe thead th {\n",
       "        text-align: right;\n",
       "    }\n",
       "</style>\n",
       "<table border=\"1\" class=\"dataframe\">\n",
       "  <thead>\n",
       "    <tr style=\"text-align: right;\">\n",
       "      <th></th>\n",
       "      <th>poll</th>\n",
       "      <th>approve</th>\n",
       "      <th>disapprove</th>\n",
       "      <th>org</th>\n",
       "      <th>eval</th>\n",
       "    </tr>\n",
       "  </thead>\n",
       "  <tbody>\n",
       "    <tr>\n",
       "      <th>0</th>\n",
       "      <td>ABC News/Wash Post</td>\n",
       "      <td>30</td>\n",
       "      <td>60</td>\n",
       "      <td>ABC News/Wash Post</td>\n",
       "      <td>SAD</td>\n",
       "    </tr>\n",
       "    <tr>\n",
       "      <th>1</th>\n",
       "      <td>CBS News</td>\n",
       "      <td>35</td>\n",
       "      <td>45</td>\n",
       "      <td>CBS News</td>\n",
       "      <td>FAILED!!</td>\n",
       "    </tr>\n",
       "    <tr>\n",
       "      <th>2</th>\n",
       "      <td>Breitbart</td>\n",
       "      <td>90</td>\n",
       "      <td>5</td>\n",
       "      <td>Breitbart</td>\n",
       "      <td>Enlightened</td>\n",
       "    </tr>\n",
       "    <tr>\n",
       "      <th>3</th>\n",
       "      <td>InfoWars</td>\n",
       "      <td>200</td>\n",
       "      <td>0</td>\n",
       "      <td>NaN</td>\n",
       "      <td>NaN</td>\n",
       "    </tr>\n",
       "  </tbody>\n",
       "</table>\n",
       "</div>"
      ],
      "text/plain": [
       "                 poll  approve  disapprove                 org         eval\n",
       "0  ABC News/Wash Post       30          60  ABC News/Wash Post          SAD\n",
       "1            CBS News       35          45            CBS News     FAILED!!\n",
       "2           Breitbart       90           5           Breitbart  Enlightened\n",
       "3            InfoWars      200           0                 NaN          NaN"
      ]
     },
     "execution_count": 53,
     "metadata": {},
     "output_type": "execute_result"
    }
   ],
   "source": [
    "left_outer=pd.merge(left=poll_df, \n",
    "                    right=eval_df, \n",
    "                    left_on='poll', \n",
    "                    right_on='org', \n",
    "                    how='left')\n",
    "left_outer"
   ]
  },
  {
   "cell_type": "markdown",
   "id": "c861d31f",
   "metadata": {},
   "source": [
    "You can see that it politely filled in \"NaN\" (the **np.NaN** object) on\n",
    "the right when it got confused. The other flavors of join work the same\n",
    "way – you just have to include the correct \"**how =** \" directive."
   ]
  },
  {
   "cell_type": "markdown",
   "id": "dc47471b",
   "metadata": {},
   "source": [
    "### Right Outer Join\n",
    "\n",
    "\n",
    "Here's the right outer join:"
   ]
  },
  {
   "cell_type": "code",
   "execution_count": 56,
   "id": "9f481804",
   "metadata": {},
   "outputs": [
    {
     "data": {
      "text/html": [
       "<div>\n",
       "<style scoped>\n",
       "    .dataframe tbody tr th:only-of-type {\n",
       "        vertical-align: middle;\n",
       "    }\n",
       "\n",
       "    .dataframe tbody tr th {\n",
       "        vertical-align: top;\n",
       "    }\n",
       "\n",
       "    .dataframe thead th {\n",
       "        text-align: right;\n",
       "    }\n",
       "</style>\n",
       "<table border=\"1\" class=\"dataframe\">\n",
       "  <thead>\n",
       "    <tr style=\"text-align: right;\">\n",
       "      <th></th>\n",
       "      <th>poll</th>\n",
       "      <th>approve</th>\n",
       "      <th>disapprove</th>\n",
       "      <th>org</th>\n",
       "      <th>eval</th>\n",
       "    </tr>\n",
       "  </thead>\n",
       "  <tbody>\n",
       "    <tr>\n",
       "      <th>0</th>\n",
       "      <td>ABC News/Wash Post</td>\n",
       "      <td>30.0</td>\n",
       "      <td>60.0</td>\n",
       "      <td>ABC News/Wash Post</td>\n",
       "      <td>SAD</td>\n",
       "    </tr>\n",
       "    <tr>\n",
       "      <th>1</th>\n",
       "      <td>CBS News</td>\n",
       "      <td>35.0</td>\n",
       "      <td>45.0</td>\n",
       "      <td>CBS News</td>\n",
       "      <td>FAILED!!</td>\n",
       "    </tr>\n",
       "    <tr>\n",
       "      <th>2</th>\n",
       "      <td>Breitbart</td>\n",
       "      <td>90.0</td>\n",
       "      <td>5.0</td>\n",
       "      <td>Breitbart</td>\n",
       "      <td>Enlightened</td>\n",
       "    </tr>\n",
       "    <tr>\n",
       "      <th>3</th>\n",
       "      <td>NaN</td>\n",
       "      <td>NaN</td>\n",
       "      <td>NaN</td>\n",
       "      <td>CNBC</td>\n",
       "      <td>Fake News!</td>\n",
       "    </tr>\n",
       "  </tbody>\n",
       "</table>\n",
       "</div>"
      ],
      "text/plain": [
       "                 poll  approve  disapprove                 org         eval\n",
       "0  ABC News/Wash Post     30.0        60.0  ABC News/Wash Post          SAD\n",
       "1            CBS News     35.0        45.0            CBS News     FAILED!!\n",
       "2           Breitbart     90.0         5.0           Breitbart  Enlightened\n",
       "3                 NaN      NaN         NaN                CNBC   Fake News!"
      ]
     },
     "execution_count": 56,
     "metadata": {},
     "output_type": "execute_result"
    }
   ],
   "source": [
    "right_outer=pd.merge(left=poll_df, right=eval_df, left_on='poll', \n",
    "                     right_on='org', how='right')\n",
    "right_outer"
   ]
  },
  {
   "cell_type": "markdown",
   "id": "8b58749a",
   "metadata": {},
   "source": [
    "Here, all the information from the right table is included, and whatever\n",
    "it could find in the left table. "
   ]
  },
  {
   "cell_type": "markdown",
   "id": "2873f2c1",
   "metadata": {},
   "source": [
    "### Full Outer Join\n",
    "\n",
    "The outer join is the pretty much the\n",
    "same as a horizontal **merge**() from above – it's a \"kitchen sink\"\n",
    "operation that throws everything from both input objects into the same\n",
    "new **DataFrame**."
   ]
  },
  {
   "cell_type": "code",
   "execution_count": 57,
   "id": "8fa7d19d",
   "metadata": {},
   "outputs": [
    {
     "data": {
      "text/html": [
       "<div>\n",
       "<style scoped>\n",
       "    .dataframe tbody tr th:only-of-type {\n",
       "        vertical-align: middle;\n",
       "    }\n",
       "\n",
       "    .dataframe tbody tr th {\n",
       "        vertical-align: top;\n",
       "    }\n",
       "\n",
       "    .dataframe thead th {\n",
       "        text-align: right;\n",
       "    }\n",
       "</style>\n",
       "<table border=\"1\" class=\"dataframe\">\n",
       "  <thead>\n",
       "    <tr style=\"text-align: right;\">\n",
       "      <th></th>\n",
       "      <th>poll</th>\n",
       "      <th>approve</th>\n",
       "      <th>disapprove</th>\n",
       "      <th>org</th>\n",
       "      <th>eval</th>\n",
       "    </tr>\n",
       "  </thead>\n",
       "  <tbody>\n",
       "    <tr>\n",
       "      <th>0</th>\n",
       "      <td>ABC News/Wash Post</td>\n",
       "      <td>30.0</td>\n",
       "      <td>60.0</td>\n",
       "      <td>ABC News/Wash Post</td>\n",
       "      <td>SAD</td>\n",
       "    </tr>\n",
       "    <tr>\n",
       "      <th>1</th>\n",
       "      <td>CBS News</td>\n",
       "      <td>35.0</td>\n",
       "      <td>45.0</td>\n",
       "      <td>CBS News</td>\n",
       "      <td>FAILED!!</td>\n",
       "    </tr>\n",
       "    <tr>\n",
       "      <th>2</th>\n",
       "      <td>Breitbart</td>\n",
       "      <td>90.0</td>\n",
       "      <td>5.0</td>\n",
       "      <td>Breitbart</td>\n",
       "      <td>Enlightened</td>\n",
       "    </tr>\n",
       "    <tr>\n",
       "      <th>3</th>\n",
       "      <td>InfoWars</td>\n",
       "      <td>200.0</td>\n",
       "      <td>0.0</td>\n",
       "      <td>NaN</td>\n",
       "      <td>NaN</td>\n",
       "    </tr>\n",
       "    <tr>\n",
       "      <th>4</th>\n",
       "      <td>NaN</td>\n",
       "      <td>NaN</td>\n",
       "      <td>NaN</td>\n",
       "      <td>CNBC</td>\n",
       "      <td>Fake News!</td>\n",
       "    </tr>\n",
       "  </tbody>\n",
       "</table>\n",
       "</div>"
      ],
      "text/plain": [
       "                 poll  approve  disapprove                 org         eval\n",
       "0  ABC News/Wash Post     30.0        60.0  ABC News/Wash Post          SAD\n",
       "1            CBS News     35.0        45.0            CBS News     FAILED!!\n",
       "2           Breitbart     90.0         5.0           Breitbart  Enlightened\n",
       "3            InfoWars    200.0         0.0                 NaN          NaN\n",
       "4                 NaN      NaN         NaN                CNBC   Fake News!"
      ]
     },
     "execution_count": 57,
     "metadata": {},
     "output_type": "execute_result"
    }
   ],
   "source": [
    "full_outer=pd.merge(left=poll_df, right=eval_df, left_on='poll', \n",
    "                    right_on='org', how='outer')\n",
    "full_outer"
   ]
  },
  {
   "cell_type": "markdown",
   "id": "21dd582f",
   "metadata": {},
   "source": [
    "Creating complex queries with intermediate data frame objects\n",
    "-------------------------------------------------------------\n",
    "\n",
    "Like SQL statements, pandas’ equivalent operations can be sequentially\n",
    "applied to intermediate operations, but the syntax is much more\n",
    "transparent IMHO. Instead of having to come with a bunch transient\n",
    "objects with disambiguating scratch names, you can perform serial\n",
    "operations on a morphing object. \n",
    "\n",
    "You're spared syntax like:\n",
    "\n",
    "     SELECT a.name FROM (SELECT name FROM agentinformation)"
   ]
  },
  {
   "cell_type": "markdown",
   "id": "2a6fc7ac",
   "metadata": {},
   "source": [
    "You've already seen operations where we've fed the results of one\n",
    "**DataFrame** operation into another **DataFrame** method (that's one of\n",
    "the advantages of using the same fully-functional object type at each\n",
    "step).\n",
    "\n",
    "As a final illustration of pandas' powers, have a look at this small bit\n",
    "of code. \n",
    "\n",
    "It uses the original polling data \"df\" and:\n",
    "\n",
    "    - performs a right join on the evaluation **DataFrame** (the one with \"Fake News!\", etc.);\n",
    "    \n",
    "    - queries the results of the join for approval rates above 40;\n",
    "    \n",
    "    - aggregates the results by the polling organization;\n",
    "    \n",
    "    - calculates the mean approval rating by organization; \n",
    "    \n",
    "    - does two-stage sort with the spread as the primary key and the size secondary key."
   ]
  },
  {
   "cell_type": "code",
   "execution_count": 59,
   "id": "60d2fdd8",
   "metadata": {},
   "outputs": [
    {
     "data": {
      "text/html": [
       "<div>\n",
       "<style scoped>\n",
       "    .dataframe tbody tr th:only-of-type {\n",
       "        vertical-align: middle;\n",
       "    }\n",
       "\n",
       "    .dataframe tbody tr th {\n",
       "        vertical-align: top;\n",
       "    }\n",
       "\n",
       "    .dataframe thead th {\n",
       "        text-align: right;\n",
       "    }\n",
       "</style>\n",
       "<table border=\"1\" class=\"dataframe\">\n",
       "  <thead>\n",
       "    <tr style=\"text-align: right;\">\n",
       "      <th></th>\n",
       "      <th>size</th>\n",
       "      <th>approve</th>\n",
       "      <th>disapprove</th>\n",
       "      <th>spread</th>\n",
       "    </tr>\n",
       "    <tr>\n",
       "      <th>poll</th>\n",
       "      <th></th>\n",
       "      <th></th>\n",
       "      <th></th>\n",
       "      <th></th>\n",
       "    </tr>\n",
       "  </thead>\n",
       "  <tbody>\n",
       "    <tr>\n",
       "      <th>ABC News/Wash Post</th>\n",
       "      <td>1004.0</td>\n",
       "      <td>42.0</td>\n",
       "      <td>53.0</td>\n",
       "      <td>-11.0</td>\n",
       "    </tr>\n",
       "    <tr>\n",
       "      <th>CBS News</th>\n",
       "      <td>1006.0</td>\n",
       "      <td>43.0</td>\n",
       "      <td>49.0</td>\n",
       "      <td>-6.0</td>\n",
       "    </tr>\n",
       "  </tbody>\n",
       "</table>\n",
       "</div>"
      ],
      "text/plain": [
       "                      size  approve  disapprove  spread\n",
       "poll                                                   \n",
       "ABC News/Wash Post  1004.0     42.0        53.0   -11.0\n",
       "CBS News            1006.0     43.0        49.0    -6.0"
      ]
     },
     "execution_count": 59,
     "metadata": {},
     "output_type": "execute_result"
    }
   ],
   "source": [
    "pd.merge(left=df, right=eval_df, \n",
    "         left_on='poll', \n",
    "         right_on='org', \n",
    "         how='right').\\\n",
    "                       query(\"approve>40\").\\\n",
    "                       groupby(\"poll\").mean().\\\n",
    "                       sort_values(by=[\"spread\", \"size\"])"
   ]
  },
  {
   "cell_type": "markdown",
   "id": "255290ac",
   "metadata": {},
   "source": [
    "Not bad, eh? All in what could be a single line of code. And most\n",
    "importantly (IMHO) in a really transparent, easy-to-explain fashion.\n",
    "\n",
    "That's it for the basics of how to wrangle pandas objects. "
   ]
  },
  {
   "cell_type": "markdown",
   "id": "8f369b1a",
   "metadata": {},
   "source": [
    "## Exercise\n",
    "\n",
    "Let's do a little more exploration of the earthquake data – you can build on py_pandas_pivot_tables.ipynb, if you would like. You might go ahead and drop columns 1 (latitude), 2 (longitude), 10 (name of reporting network, and 19 (type of report).\n",
    "\n",
    "Some people believe that recent seismic activity in the historically-mellow region around Oklahoma City is likely caused by the popularity of hydrostatic fracturing1 (\"fracking\").\n",
    "Earthquakes in California, on the other hand, are generally caused by plate tectonics (large chunks of the Earth's crust slipping past each other)2.\n",
    "\n",
    "\n",
    "Given the different causality, one might expect these quakes would have different characteristics. But do they?\n",
    "Another interesting question might be is there any temporal relationshop – maybe due to a common cause like gravitational / tidal influences of the moon – or a quake in one place causing a quake in the other place?\n",
    "\n",
    "\n",
    "Please have a look at the magnitude (\"mag\") and depth (\"depth\") of quakes in these two regions and see what you can find out.\n",
    "\n",
    "\n",
    "Here's how you might go about it:\n",
    "\n",
    "    - create separate objects to represent Oklahoma and California quakes\n",
    "    - use describe() and see if anything jumps out as different\n",
    "    - create some plots to visualize differences in earthquake depths and magnitudes\n",
    "    - create and plot time series to \"eyeball\" the temporal relationship (if any). You'll need to reindex both. A couple tricks:\n",
    "    \n",
    "Since there are NaN values, plotting a line won't work unless you tell it to plot a marker. It's an extra argument to plt.plot() – something like:\n",
    "\n",
    "    plt.plot(x_plot, ok_plot ,'o-')\n",
    "\n",
    "If you're doing a bar chart with time on the x-axis, you have to give it numeric values for the datetime objects in the DataFrame index. You can use matplotlib.dates.date2num() to do the conversion, like this:\n",
    "\n",
    "    import matplotlib.dates as dates\n",
    "    x_as_datetime = ser.index\n",
    "    x_as_floats = dates.date2num(x_as_datetime)\n",
    "    x_plot = x_as_floats\n",
    "    \n",
    "…assuming you're plotting ser and using x_plot for the x-axis values, something like:\n",
    "\n",
    "    plt.bar(x_plot, serok_plot, color = 'b', width = .01)\n",
    "    \n",
    "\n",
    "Feel free to copy, past, modify, steal, pilliage, plageurize, and otherwise make use of the materials we've covered so far. No need to reinvent too many wheels.\n",
    "\n",
    "You can use the file \"starter_kit_dsci_chapter_06_database_ops.ipynb\" if you want – it contains logic to import and clean up the data, most of which we've already covered. \n",
    "\n",
    "The only exception is near the bottom:\n",
    "\n",
    "    #round to nearest minute and de-dup\n",
    "    df['time'] = df['time'].dt.round('min')\n",
    "    df = df.drop_duplicates('time')\n",
    "    #make time the index\n",
    "    df.set_index('time', inplace = True)\n",
    "\n",
    "This \"rounds\" the time stamps to the nearest minute, making the data much more tractable.\n",
    "\n",
    "Rounding shouldn't affect the analysis since the fastest seismic waves travel through the crust is about 13 km/sec3 (780 km/min) and the distance between Oklahoma City and LA is about 2930 km.\n",
    "\n",
    "However, this produces potential duplicates, though, which screw up the reindexing – we need to get rid of them with the drop_duplicates() method.\n",
    "\n",
    "cf: https://www.forbes.com/sites/jamesconca/2016/09/07/the-connection-between-earthquakes-and-fracking/#13e0e3ff6d68\n",
    "\n",
    "http://news.nationalgeographic.com/news/2014/03/140310-earthquakes-usgs-california-faults-science/\n",
    "https://en.wikipedia.org/wiki/Seismic_wave   "
   ]
  },
  {
   "cell_type": "markdown",
   "id": "67ecd563",
   "metadata": {},
   "source": [
    "Pandas + Machine Learning Tools\n",
    "===============================\n",
    "\n",
    "This purpose of this chapter is to introduce you to the scikit-learn\n",
    "library's linear discriminant analysis (LDA) modeling tool. The library\n",
    "also includes a quadratic version which can find more granular\n",
    "solutions, and which operates the same way."
   ]
  },
  {
   "cell_type": "markdown",
   "id": "3c707ab6",
   "metadata": {},
   "source": [
    "What is LDA?\n",
    "------------\n",
    "\n",
    "LDA is a form of Bayesian classification. It attempts to determine which\n",
    "general class each newly-encountered case belongs in based on prior\n",
    "knowledge about other members of the class and the observed\n",
    "characteristics of the new case.\n",
    "\n",
    "The LDA method works to create linear combinations of the features in as\n",
    "many dimensions as specified. In this sense it's a data reduction\n",
    "method. The linear combinations are optimized to create as much\n",
    "among-classes separation as possible while minimizing the within-class\n",
    "variance.\n",
    "\n",
    "From a slightly more technical perspective,  it models the membership in each class:\n",
    "\n",
    "P(X|y=k)\n",
    "\n",
    "...as a multivariate Gaussian distribution. X is the IV vector, y is the DV, k is the class. Using Bayes' transformation, we can use priors:\n",
    "\n",
    "[ P(X|y=k) * P(y=k) ] / [ SUM_over_i { P(X|y=i) * P(y=i)  } ]\n",
    "\n",
    "\n",
    "https://en.wikipedia.org/wiki/Linear_discriminant_analysis\n",
    "http://scikit-learn.org/stable/modules/lda_qda.html"
   ]
  },
  {
   "cell_type": "markdown",
   "id": "bcf4357e",
   "metadata": {},
   "source": [
    "Getting to Know the Data\n",
    "------------------------\n",
    "\n",
    "For this section we'll use Ronald Fisher's classic iris database of 150\n",
    "observations of sepal and petal length / width in three types of irises.\n",
    "\n",
    "Fisher is widely considered to be the father of modern statistics –\n",
    "inventing, among many other things, LDA. \n",
    "\n",
    "The first couple lines of\n",
    "'iris.data.csv', found in your class files folder look like this:\n",
    "\n",
    "    slength,swidth, plength, pwidth, iclass\n",
    "    5.1,3.5,1.4,0.2,Iris-setosa"
   ]
  },
  {
   "cell_type": "markdown",
   "id": "ce9d54a9",
   "metadata": {},
   "source": [
    "We can use the pandas **read\\_csv**() method to acquire the data. For\n",
    "convenience, we'll assign the dependent variables and independent\n",
    "variable object names."
   ]
  },
  {
   "cell_type": "code",
   "execution_count": null,
   "id": "562f7aec",
   "metadata": {},
   "outputs": [],
   "source": [
    "# Some boilerplate imports\n",
    "import numpy as np             \n",
    "import pandas as  pd    \n",
    "import os\n",
    "import scipy\n",
    "import matplotlib.pyplot as plt #data visualization\n",
    "import seaborn as sns\n",
    "import matplotlib.dates as dates #date munging\n",
    "import csv\n",
    "import datetime\n",
    "import math\n",
    "%matplotlib inline"
   ]
  },
  {
   "cell_type": "code",
   "execution_count": 60,
   "id": "5c68d3bc",
   "metadata": {},
   "outputs": [
    {
     "data": {
      "text/html": [
       "<div>\n",
       "<style scoped>\n",
       "    .dataframe tbody tr th:only-of-type {\n",
       "        vertical-align: middle;\n",
       "    }\n",
       "\n",
       "    .dataframe tbody tr th {\n",
       "        vertical-align: top;\n",
       "    }\n",
       "\n",
       "    .dataframe thead th {\n",
       "        text-align: right;\n",
       "    }\n",
       "</style>\n",
       "<table border=\"1\" class=\"dataframe\">\n",
       "  <thead>\n",
       "    <tr style=\"text-align: right;\">\n",
       "      <th></th>\n",
       "      <th>slength</th>\n",
       "      <th>swidth</th>\n",
       "      <th>plength</th>\n",
       "      <th>pwidth</th>\n",
       "      <th>iclass</th>\n",
       "    </tr>\n",
       "  </thead>\n",
       "  <tbody>\n",
       "    <tr>\n",
       "      <th>0</th>\n",
       "      <td>5.1</td>\n",
       "      <td>3.5</td>\n",
       "      <td>1.4</td>\n",
       "      <td>0.2</td>\n",
       "      <td>Iris-setosa</td>\n",
       "    </tr>\n",
       "    <tr>\n",
       "      <th>1</th>\n",
       "      <td>4.9</td>\n",
       "      <td>3.0</td>\n",
       "      <td>1.4</td>\n",
       "      <td>0.2</td>\n",
       "      <td>Iris-setosa</td>\n",
       "    </tr>\n",
       "    <tr>\n",
       "      <th>2</th>\n",
       "      <td>4.7</td>\n",
       "      <td>3.2</td>\n",
       "      <td>1.3</td>\n",
       "      <td>0.2</td>\n",
       "      <td>Iris-setosa</td>\n",
       "    </tr>\n",
       "    <tr>\n",
       "      <th>3</th>\n",
       "      <td>4.6</td>\n",
       "      <td>3.1</td>\n",
       "      <td>1.5</td>\n",
       "      <td>0.2</td>\n",
       "      <td>Iris-setosa</td>\n",
       "    </tr>\n",
       "    <tr>\n",
       "      <th>4</th>\n",
       "      <td>5.0</td>\n",
       "      <td>3.6</td>\n",
       "      <td>1.4</td>\n",
       "      <td>0.2</td>\n",
       "      <td>Iris-setosa</td>\n",
       "    </tr>\n",
       "  </tbody>\n",
       "</table>\n",
       "</div>"
      ],
      "text/plain": [
       "  slength  swidth  plength  pwidth       iclass\n",
       "0     5.1     3.5      1.4     0.2  Iris-setosa\n",
       "1     4.9     3.0      1.4     0.2  Iris-setosa\n",
       "2     4.7     3.2      1.3     0.2  Iris-setosa\n",
       "3     4.6     3.1      1.5     0.2  Iris-setosa\n",
       "4     5.0     3.6      1.4     0.2  Iris-setosa"
      ]
     },
     "execution_count": 60,
     "metadata": {},
     "output_type": "execute_result"
    }
   ],
   "source": [
    "path = 'data'\n",
    "datafile = 'iris.data.csv'\n",
    "\n",
    "filename = os.path.join(path, datafile)\n",
    "df = pd.read_csv(filename, parse_dates=[0])\n",
    "\n",
    "# Set some names for the dependent and independent variables\n",
    "iv_names = ['slength', 'swidth', 'plength', 'pwidth']\n",
    "dv_name = 'iclass'\n",
    "\n",
    "df.head()"
   ]
  },
  {
   "cell_type": "markdown",
   "id": "37ac346c",
   "metadata": {},
   "source": [
    "\n",
    "A new data set can be regarded as an exciting adventure – traveling to a\n",
    "new country, going on a first date, learning a new language. To make the\n",
    "most of the experience, you want to roll in the data – you want to\n",
    "regard it as a golden retriever regards a pile of fully-mature, dead\n",
    "fish. \n",
    "\n",
    "Not just a body-wash but a breath mint, too!\n",
    "\n",
    "This section will show you a few ways you can proceed with the\n",
    "adventure. \n"
   ]
  },
  {
   "cell_type": "code",
   "execution_count": 61,
   "id": "7cd94b5c",
   "metadata": {
    "scrolled": true
   },
   "outputs": [
    {
     "data": {
      "text/html": [
       "<div>\n",
       "<style scoped>\n",
       "    .dataframe tbody tr th:only-of-type {\n",
       "        vertical-align: middle;\n",
       "    }\n",
       "\n",
       "    .dataframe tbody tr th {\n",
       "        vertical-align: top;\n",
       "    }\n",
       "\n",
       "    .dataframe thead th {\n",
       "        text-align: right;\n",
       "    }\n",
       "</style>\n",
       "<table border=\"1\" class=\"dataframe\">\n",
       "  <thead>\n",
       "    <tr style=\"text-align: right;\">\n",
       "      <th></th>\n",
       "      <th>swidth</th>\n",
       "      <th>plength</th>\n",
       "      <th>pwidth</th>\n",
       "    </tr>\n",
       "  </thead>\n",
       "  <tbody>\n",
       "    <tr>\n",
       "      <th>count</th>\n",
       "      <td>150.000</td>\n",
       "      <td>150.000</td>\n",
       "      <td>150.000</td>\n",
       "    </tr>\n",
       "    <tr>\n",
       "      <th>mean</th>\n",
       "      <td>3.054</td>\n",
       "      <td>3.759</td>\n",
       "      <td>1.199</td>\n",
       "    </tr>\n",
       "    <tr>\n",
       "      <th>std</th>\n",
       "      <td>0.434</td>\n",
       "      <td>1.764</td>\n",
       "      <td>0.763</td>\n",
       "    </tr>\n",
       "    <tr>\n",
       "      <th>min</th>\n",
       "      <td>2.000</td>\n",
       "      <td>1.000</td>\n",
       "      <td>0.100</td>\n",
       "    </tr>\n",
       "    <tr>\n",
       "      <th>25%</th>\n",
       "      <td>2.800</td>\n",
       "      <td>1.600</td>\n",
       "      <td>0.300</td>\n",
       "    </tr>\n",
       "    <tr>\n",
       "      <th>50%</th>\n",
       "      <td>3.000</td>\n",
       "      <td>4.350</td>\n",
       "      <td>1.300</td>\n",
       "    </tr>\n",
       "    <tr>\n",
       "      <th>75%</th>\n",
       "      <td>3.300</td>\n",
       "      <td>5.100</td>\n",
       "      <td>1.800</td>\n",
       "    </tr>\n",
       "    <tr>\n",
       "      <th>max</th>\n",
       "      <td>4.400</td>\n",
       "      <td>6.900</td>\n",
       "      <td>2.500</td>\n",
       "    </tr>\n",
       "  </tbody>\n",
       "</table>\n",
       "</div>"
      ],
      "text/plain": [
       "        swidth  plength   pwidth\n",
       "count  150.000  150.000  150.000\n",
       "mean     3.054    3.759    1.199\n",
       "std      0.434    1.764    0.763\n",
       "min      2.000    1.000    0.100\n",
       "25%      2.800    1.600    0.300\n",
       "50%      3.000    4.350    1.300\n",
       "75%      3.300    5.100    1.800\n",
       "max      4.400    6.900    2.500"
      ]
     },
     "execution_count": 61,
     "metadata": {},
     "output_type": "execute_result"
    }
   ],
   "source": [
    "df.describe()"
   ]
  },
  {
   "cell_type": "markdown",
   "id": "35617a71",
   "metadata": {},
   "source": [
    "Since we're doing a classification exercise, it makes sense to analyze the data by category.   Pandas has a method which makes that easy:"
   ]
  },
  {
   "cell_type": "code",
   "execution_count": 63,
   "id": "a4551056",
   "metadata": {},
   "outputs": [
    {
     "data": {
      "text/html": [
       "<div>\n",
       "<style scoped>\n",
       "    .dataframe tbody tr th:only-of-type {\n",
       "        vertical-align: middle;\n",
       "    }\n",
       "\n",
       "    .dataframe tbody tr th {\n",
       "        vertical-align: top;\n",
       "    }\n",
       "\n",
       "    .dataframe thead th {\n",
       "        text-align: right;\n",
       "    }\n",
       "</style>\n",
       "<table border=\"1\" class=\"dataframe\">\n",
       "  <thead>\n",
       "    <tr style=\"text-align: right;\">\n",
       "      <th></th>\n",
       "      <th>counts</th>\n",
       "      <th>freqs</th>\n",
       "    </tr>\n",
       "    <tr>\n",
       "      <th>categories</th>\n",
       "      <th></th>\n",
       "      <th></th>\n",
       "    </tr>\n",
       "  </thead>\n",
       "  <tbody>\n",
       "    <tr>\n",
       "      <th>Iris-setosa</th>\n",
       "      <td>50</td>\n",
       "      <td>0.333</td>\n",
       "    </tr>\n",
       "    <tr>\n",
       "      <th>Iris-versicolor</th>\n",
       "      <td>50</td>\n",
       "      <td>0.333</td>\n",
       "    </tr>\n",
       "    <tr>\n",
       "      <th>Iris-virginica</th>\n",
       "      <td>50</td>\n",
       "      <td>0.333</td>\n",
       "    </tr>\n",
       "  </tbody>\n",
       "</table>\n",
       "</div>"
      ],
      "text/plain": [
       "                 counts  freqs\n",
       "categories                    \n",
       "Iris-setosa          50  0.333\n",
       "Iris-versicolor      50  0.333\n",
       "Iris-virginica       50  0.333"
      ]
     },
     "execution_count": 63,
     "metadata": {},
     "output_type": "execute_result"
    }
   ],
   "source": [
    "auto_cats = pd.Categorical(df['iclass'])\n",
    "auto_cats.describe()"
   ]
  },
  {
   "cell_type": "markdown",
   "id": "452731d8",
   "metadata": {},
   "source": [
    "We can also have a look at pair-wise plots of attributes. \n",
    "\n",
    "This example looks at the relationship between sepal lengths and widths for the\n",
    "different iris classes. "
   ]
  },
  {
   "cell_type": "code",
   "execution_count": 66,
   "id": "dde1ab40",
   "metadata": {},
   "outputs": [
    {
     "data": {
      "text/plain": [
       "Text(0.5, 1.0, 'scatter')"
      ]
     },
     "execution_count": 66,
     "metadata": {},
     "output_type": "execute_result"
    },
    {
     "data": {
      "image/png": "[encoded data removed]",
      "text/plain": [
       "<Figure size 432x288 with 1 Axes>"
      ]
     },
     "metadata": {
      "needs_background": "light"
     },
     "output_type": "display_data"
    }
   ],
   "source": [
    "ax = df[df.iclass == 'Iris-versicolor'].\\\n",
    "            plot.scatter(x = 'slength', \n",
    "                         y = 'swidth',\n",
    "                         color = 'yellow', \n",
    "                         label = 'versicolor')\n",
    "\n",
    "df[df.iclass == 'Iris-setosa'].\\\n",
    "            plot.scatter(x = 'slength', \n",
    "                         y = 'swidth',\n",
    "                         color = 'red', \n",
    "                         label = 'setosa',\n",
    "                         ax = ax)\n",
    "\n",
    "df[df.iclass =='Iris-virginica'].\\\n",
    "            plot.scatter(x = 'slength', \n",
    "                         y = 'swidth',\n",
    "                         color = 'blue', \n",
    "                         label = 'virginica',\n",
    "                         ax = ax)\n",
    "\n",
    "ax.set_title(\"scatter\")\n"
   ]
  },
  {
   "cell_type": "markdown",
   "id": "047bd702",
   "metadata": {},
   "source": [
    "If you find scatter plots like this useful (I certainly do), there's\n",
    "also a wrapper method in the pandas tools.plotting library,\n",
    "**scatter\\_matrix**(). It systematically does pair-wise combinations of\n",
    "everything you can think of and displays all the scatter plots in one\n",
    "object. It's a simple 'one-liner'. By default the diagonals are\n",
    "histograms, but there are other options available:"
   ]
  },
  {
   "cell_type": "code",
   "execution_count": 69,
   "id": "04ac4060",
   "metadata": {},
   "outputs": [
    {
     "data": {
      "text/plain": [
       "array([[<AxesSubplot:xlabel='swidth', ylabel='swidth'>,\n",
       "        <AxesSubplot:xlabel='plength', ylabel='swidth'>,\n",
       "        <AxesSubplot:xlabel='pwidth', ylabel='swidth'>],\n",
       "       [<AxesSubplot:xlabel='swidth', ylabel='plength'>,\n",
       "        <AxesSubplot:xlabel='plength', ylabel='plength'>,\n",
       "        <AxesSubplot:xlabel='pwidth', ylabel='plength'>],\n",
       "       [<AxesSubplot:xlabel='swidth', ylabel='pwidth'>,\n",
       "        <AxesSubplot:xlabel='plength', ylabel='pwidth'>,\n",
       "        <AxesSubplot:xlabel='pwidth', ylabel='pwidth'>]], dtype=object)"
      ]
     },
     "execution_count": 69,
     "metadata": {},
     "output_type": "execute_result"
    },
    {
     "data": {
      "image/png": "[encoded data removed]",
      "text/plain": [
       "<Figure size 432x288 with 9 Axes>"
      ]
     },
     "metadata": {
      "needs_background": "light"
     },
     "output_type": "display_data"
    }
   ],
   "source": [
    "pd.plotting.scatter_matrix(df)"
   ]
  },
  {
   "cell_type": "markdown",
   "id": "fee81678",
   "metadata": {},
   "source": [
    "This gets the same information using Seaborn, another visualization\n",
    "library, tapping its **pairplot**() method. The default diagonal\n",
    "elements are line graphs of the distributions of the different iris\n",
    "types."
   ]
  },
  {
   "cell_type": "code",
   "execution_count": 71,
   "id": "7ee7f140",
   "metadata": {},
   "outputs": [
    {
     "data": {
      "text/plain": [
       "<seaborn.axisgrid.PairGrid at 0x203dde68bb0>"
      ]
     },
     "execution_count": 71,
     "metadata": {},
     "output_type": "execute_result"
    },
    {
     "data": {
      "image/png": "[encoded data removed]",
      "text/plain": [
       "<Figure size 645.225x540 with 12 Axes>"
      ]
     },
     "metadata": {},
     "output_type": "display_data"
    }
   ],
   "source": [
    "import seaborn as sns\n",
    "\n",
    "sns.set()\n",
    "sns.pairplot(df[['slength', 'swidth', 'plength', 'pwidth', 'iclass']],\n",
    "hue = \"iclass\",\n",
    "diag_kind = \"kde\")"
   ]
  },
  {
   "cell_type": "markdown",
   "id": "dbeb8d9e",
   "metadata": {},
   "source": [
    "\n",
    "This just scratches the surface of what you can do quickly and easily to\n",
    "get your arms around a new data set. Exploration is encouraged!"
   ]
  },
  {
   "cell_type": "markdown",
   "id": "46378409",
   "metadata": {},
   "source": [
    "Exploring Data Integrity\n",
    "------------------------\n",
    "\n",
    "The next thing we'll want to do is check to see if the assumptions\n",
    "around the data for this method are met. Theoretically, the data should\n",
    "be distributed multivariate normal and each class should have the same\n",
    "variance.\n",
    "\n",
    "We'll do a partial check here and test if each class is univariate\n",
    "normal. We'll accomplish this by applying \"D'Agostino's K-squared test\".\n",
    "This sizes up the shape of the distribution based on adding up the\n",
    "square of the z-score of a test for skewness and the square of the\n",
    "z-score of a test for kurtosis. In other words, if the distribution is\n",
    "leaned too far 'left or right', or if the tails are too thick or thin,\n",
    "this metric gets dinged. Because the both skew and kurtosis metrics are\n",
    "squared, the penalty grows quickly as either gets out-of-spec.\n",
    "\n",
    "This test is implemented as part of the scipy.stats library as a method\n",
    "called **normaltest**(). This method produces a **tuple** of (statistic,\n",
    "p) – we'll evaluate the p-value to determine whether the test passed. As\n",
    "a rule of thumb, we're looking for p  .05 (a 95% likelihood that the\n",
    "distribution is normal, in this case).\n",
    "\n",
    "The logic simply loops over each of the independent variables,\n",
    "calculates the figure of merit, evaluates the p-value against the target\n",
    "and reports the results:"
   ]
  },
  {
   "cell_type": "code",
   "execution_count": 92,
   "id": "d791760a",
   "metadata": {},
   "outputs": [
    {
     "name": "stdout",
     "output_type": "stream",
     "text": [
      "scipy.stats.to_numeric() test for normalicy at 0.05 failed for slength.  p-value = 0.057.\n",
      "scipy.stats.to_numeric() test for normalicy at 0.05 failed for swidth.  p-value = 0.167.\n",
      "scipy.stats.to_numeric() test for normalicy at 0.05 passed for plength.  p-value = 0.000.\n",
      "scipy.stats.to_numeric() test for normalicy at 0.05 passed for pwidth.  p-value = 0.000.\n"
     ]
    }
   ],
   "source": [
    "import scipy\n",
    "import math\n",
    "from matplotlib import pyplot as plt\n",
    "\n",
    "p_target = .05\n",
    "\n",
    "for iv in iv_names:\n",
    "    test = 'scipy.stats.to_numeric() test for normalicy'\n",
    "    data = pd.to_numeric(df[iv])\n",
    "    data = data\n",
    "    statistic, p = scipy.stats.normaltest(data)\n",
    "    if p > p_target:\n",
    "        result = \"failed\"\n",
    "    else: \n",
    "        result = \"passed\"\n",
    "\n",
    "    print(f\"{test} at {p_target} {result} for {iv}.  p-value = {p:.3f}.\")"
   ]
  },
  {
   "cell_type": "markdown",
   "id": "07954961",
   "metadata": {},
   "source": [
    "As you can see, we're batting .500 on our 'features' (another name for\n",
    "independent variables). But our data set is pretty large (n=150) so it\n",
    "might not be horrible.\n",
    "\n",
    "Let's get a visual. We can do so easily by tapping into another\n",
    "component of the scipy.stats library, **probplot**(). This method is\n",
    "clever enough to produce a visual comparison between the actual and\n",
    "ideal cumulative density functions for each of our features. This code\n",
    "invokes **probplot**() for each and displays them in a single chart\n",
    "object. As you'll see, most of the code is bookkeeping for placing the\n",
    "individual graphs – it's otherwise pretty straightforward."
   ]
  },
  {
   "cell_type": "code",
   "execution_count": 99,
   "id": "f54c79a2",
   "metadata": {},
   "outputs": [
    {
     "data": {
      "image/png": "[encoded data removed]",
      "text/plain": [
       "<Figure size 720x720 with 4 Axes>"
      ]
     },
     "metadata": {},
     "output_type": "display_data"
    }
   ],
   "source": [
    "cols = 2\n",
    "rows = math.ceil(len(iv_names)/cols)\n",
    "\n",
    "# create a plot object\n",
    "figure = plt.figure()\n",
    "figure.set_size_inches(10,10)\n",
    "# loop over our data vectors and create Q-Q charts for each\n",
    "row = 1\n",
    "col = 1\n",
    "subplot = 1\n",
    "for iv in iv_names:\n",
    "    data = pd.to_numeric(df[iv])\n",
    "    plt.subplot(rows, cols, subplot)  # create the subplot\n",
    "    scipy.stats.probplot(data, plot=plt)  # stuff it w/ data\n",
    "    plt.title(iv)  # give it a nice title\n",
    "    # reset indices\n",
    "    col += 1\n",
    "    if cols:\n",
    "        col = 1\n",
    "        row += 1\n",
    "        subplot += 1"
   ]
  },
  {
   "cell_type": "markdown",
   "id": "823854f5",
   "metadata": {},
   "source": [
    "As we already know, 'slength' and 'swidth' (the sepal dimensions) and nicely behaved – the petals not so much.  But we do have a better sense of the extent of the issue."
   ]
  },
  {
   "cell_type": "markdown",
   "id": "1c364a62",
   "metadata": {},
   "source": [
    "But for now, we'll let it ride because they're not \\*that\\* aberrant and\n",
    "– who knows? We might get credible results anyway. We'll just keep the\n",
    "normalcy stats in mind in case it's material later.\n",
    "\n",
    "The next step will be to work on our data set a bit. We're generally in\n",
    "really good shape – the only thing needed is to change the class labels\n",
    "like 'Iris-setosa' to category numbers like 1..3. As you've probably\n",
    "guessed, pandas has that covered, too.\n",
    "\n",
    "This code applies the pandas pd.Categorical.**from**\\_**array**() method\n",
    "to the 'iclass' column, creating a new **Series** object in the process.\n",
    "Then it adds the new **Series** to the original **DataFrame** using the\n",
    "same syntax one would use to add an element to a **dict**."
   ]
  },
  {
   "cell_type": "code",
   "execution_count": 105,
   "id": "913c73cd",
   "metadata": {},
   "outputs": [],
   "source": [
    "iclass_ix = pd.Categorical(df[dv_name]).codes\n",
    "df['iclass_ix'] = iclass_ix"
   ]
  },
  {
   "cell_type": "code",
   "execution_count": null,
   "id": "6f064e83",
   "metadata": {},
   "outputs": [],
   "source": []
  },
  {
   "cell_type": "markdown",
   "id": "cb56b1da",
   "metadata": {},
   "source": [
    "Applying the LDA Model\n",
    "----------------------\n",
    "\n",
    "Having checked out our data, we now need to run the analysis routine. We\n",
    "import the correct modeling component into our namespace and create an\n",
    "instance of it, then run it in two steps in the code below."
   ]
  },
  {
   "cell_type": "code",
   "execution_count": 107,
   "id": "2728dad9",
   "metadata": {},
   "outputs": [],
   "source": [
    "from sklearn.discriminant_analysis import LinearDiscriminantAnalysis as LDA\n",
    "\n",
    "# Create an instance of the LDA object\n",
    "lda = LDA(n_components = 2)\n",
    "\n",
    "# Tell it what to work on\n",
    "raw_data = df[iv_names].values\n",
    "\n",
    "# Set the analysis in motion\n",
    "lda_result = lda.fit(raw_data, iclass_ix)\n",
    "\n",
    "# Get a human-readable result (projection to X, Y)\n",
    "lda_result = lda_result.transform(raw_data)"
   ]
  },
  {
   "cell_type": "markdown",
   "id": "81e94fbf",
   "metadata": {},
   "source": [
    "This approach can be a little weird if you're used to SAS or SPSS\n",
    "syntax. We don't just execute a PROC. Instead we need a new instance of\n",
    "an object (actually a complex class). Then we have to execute the right\n",
    "methods. And remember to pass along the correct arguments. What could\n",
    "possibly go wrong ;-)\n",
    "\n",
    "Also, you'll note that everything happens to and within that object. So\n",
    "if we want to get results, we'll have to talk to the object again:"
   ]
  },
  {
   "cell_type": "code",
   "execution_count": 110,
   "id": "284772b7",
   "metadata": {},
   "outputs": [
    {
     "data": {
      "text/plain": [
       "0.98"
      ]
     },
     "execution_count": 110,
     "metadata": {},
     "output_type": "execute_result"
    }
   ],
   "source": [
    "mean_success_rate = lda.score(raw_data, iclass_ix)\n",
    "mean_success_rate"
   ]
  },
  {
   "cell_type": "markdown",
   "id": "63aa703d",
   "metadata": {},
   "source": [
    "Here, we've asked it to tell us its 'hit rate' on correct classification\n",
    "with the **score**() method. We're batting .980 – not too bad.\n",
    "\n",
    "We've also asked it for vectors of (x, y) projections for the reduced\n",
    "data so we can plot it. Here's some code that will accomplish the\n",
    "visualization job:"
   ]
  },
  {
   "cell_type": "code",
   "execution_count": 122,
   "id": "4942aee2",
   "metadata": {},
   "outputs": [
    {
     "data": {
      "image/png": "[encoded data removed]",
      "text/plain": [
       "<Figure size 576x576 with 1 Axes>"
      ]
     },
     "metadata": {},
     "output_type": "display_data"
    }
   ],
   "source": [
    "# Add the results to our DataFrame\n",
    "df['dim1'] = lda_result[:, 0]\n",
    "df['dim2'] = lda_result[:, 1]\n",
    "\n",
    "# Query for the separate iris classes\n",
    "setosa = df.query(\"iclass=='Iris-setosa'\")\n",
    "versicolor = df.query(\"iclass=='Iris-versicolor'\")\n",
    "virginica = df.query(\"iclass=='Iris-virginica'\")\n",
    "\n",
    "# Get a plot object\n",
    "figure = plt.figure()\n",
    "figure.set_size_inches(8,8)\n",
    "\n",
    "\n",
    "# These are color pallattes known to seaborn (lots of other options)\n",
    "color1 = \"Greens\"; color2 = \"Purples\"; color3 = \"Blues\"\n",
    "\n",
    "ax = sns.kdeplot(setosa.dim1, y=setosa.dim2, cmap = color1,\n",
    "                 shade = True, thresh=.05)\n",
    "\n",
    "ax = sns.kdeplot(versicolor.dim1, y=versicolor.dim2, cmap = color2,\n",
    "                shade = True, thresh=.05)\n",
    "\n",
    "ax = sns.kdeplot(virginica.dim1, y=virginica.dim2, cmap = color3,\n",
    "                 shade = True, thresh=.05)\n",
    "\n",
    "# Create some labels; this picks off the darkest color of each palatte\n",
    "color1 = sns.color_palette(color1)[-1]\n",
    "color2 = sns.color_palette(color2)[-1]\n",
    "color3 = sns.color_palette(color3)[-1]\n",
    "\n",
    "# This places text (x, y, text, color, font size)\n",
    "ax.text(5, 4, \"Iris setosa\", color = color1, size = 20)\n",
    "ax.text(0, 0, \"Iris versicolor\", color = color2, size = 20)\n",
    "ax.text(-10, 4, \"Iris virginica\", color = color3, size = 20)\n",
    "\n",
    "# Second arg is a dict that can contain lots of font specs\n",
    "ax.set_title('Linear Discriminant Analysis', {'fontsize':20})\n",
    "iv_names = ['slength', 'swidth', 'plength', 'pwidth']\n",
    "dv_name = 'iclass'"
   ]
  },
  {
   "cell_type": "markdown",
   "id": "be82f66f",
   "metadata": {},
   "source": [
    "So it looks like we nailed the classification problem. But, really,\n",
    "we're cheating.\n",
    "\n",
    "Yep. We've created an \"accurate\" model that works well for this data\n",
    "set, but have no expectation it will work on any other. Very likely,\n",
    "we've created a model that's so well- tuned for our 150 irises that it\n",
    "won't do well on a different set of newly-encountered flowers. And\n",
    "that's not the end-game we're after, is it?\n",
    "\n",
    "We really want to split our data set, train the model on part of the\n",
    "data, then test it out on the remainder. You can split your data using\n",
    "any technique you want (take every other row, say). The Scikit-Learn\n",
    "library has a built-in method in its cross\\_validation library,\n",
    "**train\\_test\\_split**(), to make this easy. Just give it a fraction as\n",
    "an argument, and that will be the fraction of cases placed in the test\n",
    "set; give it an integer, and that many cases will be in the test set:"
   ]
  },
  {
   "cell_type": "code",
   "execution_count": 124,
   "id": "6eb8f2c9",
   "metadata": {},
   "outputs": [],
   "source": [
    "from sklearn.model_selection import train_test_split\n",
    "\n",
    "# We could do this manually, but it's built-in. \".5\" makes a 50/50 split\n",
    "train, test = train_test_split(df, test_size = .5)"
   ]
  },
  {
   "cell_type": "markdown",
   "id": "a3c9488a",
   "metadata": {},
   "source": [
    "Next, we'll create the two objects to hold our chunks of data. Here,\n",
    "we've also created two separate indices – not necessary, but it may keep\n",
    "the code a bit more transparent:"
   ]
  },
  {
   "cell_type": "code",
   "execution_count": 126,
   "id": "909a77dd",
   "metadata": {},
   "outputs": [],
   "source": [
    "# Parse out the training data a bit\n",
    "train_data = train[['slength', 'swidth', 'plength', 'pwidth']].values\n",
    "train_class_ix = train['iclass_ix']\n",
    "\n",
    "# Parse out the test data\n",
    "test_data = test[['slength', 'swidth', 'plength', 'pwidth']].values\n",
    "test_class_ix = test['iclass_ix']\n",
    "\n",
    "# Use fit() to produce component vectors\n",
    "train_result = lda.fit(train_data, train_class_ix)\n",
    "tlda_result = train_result.transform(train_data)"
   ]
  },
  {
   "cell_type": "code",
   "execution_count": 127,
   "id": "567f752d",
   "metadata": {},
   "outputs": [
    {
     "name": "stdout",
     "output_type": "stream",
     "text": [
      "Training success rate: 0.96\n",
      "Test success rate ('naive' data): 0.99\n"
     ]
    }
   ],
   "source": [
    "# So, how did we do? This time using test data against trained model\n",
    "train_success_rate = train_result.score(train_data, train_class_ix)\n",
    "print(f\"Training success rate: {train_success_rate:.2f}\")\n",
    "\n",
    "test_success_rate = train_result.score(test_data, test_class_ix)\n",
    "print(f\"Test success rate ('naive' data): {test_success_rate:.2f}\")"
   ]
  },
  {
   "cell_type": "markdown",
   "id": "dc5a74f6",
   "metadata": {},
   "source": [
    "OK. So we've got a really well-behaved model based on the test data\n",
    "alone. The \"money shot\", however, is to use the trained model (called\n",
    "'train\\_result') against the date we've withheld (called 'test\\_data')."
   ]
  },
  {
   "cell_type": "markdown",
   "id": "f0c8283d",
   "metadata": {},
   "source": [
    "Still pretty respectable. There's a strong case for declaring success\n",
    "here ... that is if we're really just classifying irises, and not\n",
    "controlling a nuclear reactor or running an air traffic control system."
   ]
  },
  {
   "cell_type": "markdown",
   "id": "e11faa9e",
   "metadata": {},
   "source": [
    "Quick Recap of the Analysis\n",
    "---------------------------\n",
    "\n",
    "To recap, here are the steps we took to analyze Fisher's iris data. Yes,\n",
    "there are several steps involved but most of them involve an analytical\n",
    "and contemplative assessment of the data and gut-checking the\n",
    "reasonableness of the input and output. Powerful tools to accomplish\n",
    "this lay at your feet. Here's what we did:\n",
    "\n",
    "> \\- imported the data using the **pd.read\\_csv**() method;\n",
    ">\n",
    "> \\- ran descriptive statistics using the **df.describe**() method;\n",
    ">\n",
    "> \\- plotted the data with tools like **matplotlib.pyplot**(),\n",
    "> **pd.tools.plotting.scatter\\_matrix**() and **searborn.pairplot**()\n",
    ">\n",
    "> \\- created a categorical variable for the dependent variable (iris\n",
    "> type) using p**d.Categorical**() method;\n",
    ">\n",
    "> \\- tested distributional assumptions around the independent variables\n",
    "> using tools like **scipy.stats.normaltest**() and\n",
    "> **scipy.stats.probplot**();\n",
    ">\n",
    "> \\- generated data sets, one for training and the other for testing\n",
    "> with the **train\\_test\\_split**() tool from the\n",
    "> **sklearn.cross\\_validation** library;\n",
    ">\n",
    "> \\- created a LDA model against the training data set using the\n",
    "> **LinearDiscriminantAnalysis**(), tool from the\n",
    "> sklearn.discriminant\\_analysis library, along with its **fit**() and\n",
    "> **transform**() methods;\n",
    ">\n",
    "> \\- reviewed the training results using the **score**() method;\n",
    ">\n",
    "> \\- ran the trained model against the \"naïve\" testing data.\n",
    ">\n",
    "> \\- reviewed the model performance against the testing data."
   ]
  },
  {
   "cell_type": "markdown",
   "id": "30179309",
   "metadata": {},
   "source": [
    "Monte Carlo Simulation\n",
    "======================"
   ]
  },
  {
   "attachments": {
    "monte_carlo.jpg": {
     "image/jpeg": "[encoded data removed]"
    }
   },
   "cell_type": "markdown",
   "id": "99652213",
   "metadata": {},
   "source": [
    "![monte_carlo.jpg](attachment:monte_carlo.jpg)"
   ]
  },
  {
   "cell_type": "markdown",
   "id": "2a0a75c9",
   "metadata": {},
   "source": [
    "## Basics\n",
    "\n",
    "Monte Carlo simulation is a general term for introducing the notion of uncertainty into statistical estimations.\n",
    "\n",
    "The fundamentals were developed by nuclear researchers at Los Alamos National Laboratory to simulate the yield from nuclear weapons.\n",
    "\n",
    "Michael McKay created a method called **Latin Hypercube Sampling** that allows for systematic sampling for the values of several variables, each from their own distributions, to characterize an uncertain input space.\n",
    "\n",
    "For now, we'll do a simple model of uncertainty."
   ]
  },
  {
   "cell_type": "code",
   "execution_count": null,
   "id": "378c04d9",
   "metadata": {},
   "outputs": [],
   "source": [
    "import numpy as np\n",
    "import pandas as pd"
   ]
  },
  {
   "cell_type": "markdown",
   "id": "524f3f96",
   "metadata": {},
   "source": [
    "## A Casino Application\n",
    "\n",
    "Let's say we really want to visit a casino to have some fun gambling.   We want to figure out what game to play when we arrive and set out to analyze the chance of winning each.\n",
    "\n",
    "We'll start with roulette.  After some research, we find that the casino's wheels have these characteristics.   We can use a random number between 1 and numbers_on the wheel to determine the outcome of any roll.  For example:\n",
    "\n",
    "    numbers_on_wheel = 100\n",
    "    losing_numbers = 2                                 # The '0' and '00' results\n",
    "    red_numbers = 50                                   \n",
    "    black_numbers = numbers_on_wheel - losing_numbers - red_numbers\n",
    "    \n",
    "We'll bet on red.    \n",
    "    \n",
    "In this example, 1 and 2 would lose.   A roll or 3-53 would be red (win).  54-100 would be black (lose).\n",
    "\n",
    "For starters, let's say there are is no '0' or '00' on the wheel.   So we have:"
   ]
  },
  {
   "cell_type": "code",
   "execution_count": null,
   "id": "1b8c34a4",
   "metadata": {},
   "outputs": [],
   "source": [
    "numbers_on_wheel = 100\n",
    "losing_numbers = 0                                 \n",
    "red_numbers = 50                                    \n",
    "black_numbers = numbers_on_wheel - losing_numbers - red_numbers"
   ]
  },
  {
   "cell_type": "markdown",
   "id": "77e96542",
   "metadata": {},
   "source": [
    "OK.  We've implemented the parameters of the game.  Now we need code to operationalize it.\n",
    "\n",
    "Note that this function is very atomic.  "
   ]
  },
  {
   "cell_type": "code",
   "execution_count": null,
   "id": "b2c73636",
   "metadata": {},
   "outputs": [],
   "source": [
    "def roulette_roll(verbose=True):\n",
    "    \n",
    "    # Use the random() library to generate an outcome\n",
    "    roll = np.random.randint(1, numbers_on_wheel)\n",
    "    \n",
    "    # Interpret the outcome per the rules for this casino's roulette wheel\n",
    "    if roll > losing_numbers and roll < red_numbers + losing_numbers + 1:\n",
    "        \n",
    "        # The 'verbose' bit lets us silence the code when in production.\n",
    "        if verbose:  \n",
    "            print(f\"The roll was {roll:>3}.  We Win!\")\n",
    "            \n",
    "        # By default functions return None (which evaluates to False if asked)    \n",
    "        return True\n",
    "    \n",
    "    else:\n",
    "        if verbose:\n",
    "            print(f\"The roll was {roll:>3}.  We lose :-(\" )\n",
    "    "
   ]
  },
  {
   "cell_type": "markdown",
   "id": "58f3d75e",
   "metadata": {},
   "source": [
    "OK. We have our game set up so we can play.   \n",
    "\n",
    "Let's try our luck:"
   ]
  },
  {
   "cell_type": "code",
   "execution_count": null,
   "id": "a17a1021",
   "metadata": {},
   "outputs": [],
   "source": [
    "for _ in range(5):\n",
    "    roulette_roll()"
   ]
  },
  {
   "cell_type": "markdown",
   "id": "fccb55d9",
   "metadata": {},
   "source": [
    "Let's now put the roulette wheel into the casino.   \n",
    "\n",
    "The casino will have a dealer who spins the wheel and handles the bets.\n",
    "\n",
    "Each turn, we'll make the same bet.   If we win, that amount gets added to our bank.  Otherwise our bank decreases by the amount bet."
   ]
  },
  {
   "cell_type": "code",
   "execution_count": null,
   "id": "9dc62993",
   "metadata": {},
   "outputs": [],
   "source": [
    "# This is the first laywer of wrapping.  We have a named parameter for each element of the system we\n",
    "#   may want to tweak - including the elements of the wrapped function (just 'verbose' here).\n",
    "\n",
    "def gaming_session(bank=100, bet=1, games_per_session=3, verbose=False):\n",
    "    games_so_far = 0\n",
    "    wins = 0\n",
    "    initial_bank = bank\n",
    "    \n",
    "    # Play a games and account for results\n",
    "    while games_so_far < games_per_session:\n",
    "        if roulette_roll(verbose): \n",
    "            bank += bet\n",
    "            wins += 1\n",
    "        else:\n",
    "            bank -= bet\n",
    "        if verbose:\n",
    "            print(f\"Bank: {bank}\")\n",
    "            \n",
    "        games_so_far += 1\n",
    "    \n",
    "    if verbose:\n",
    "        print(f\"We played {games_per_session} won {wins} ({wins/games_per_session*100:.2f}%)  \") \n",
    "    \n",
    "    # Return average win (or loss)\n",
    "    return (initial_bank - bank ) / games_per_session\n",
    "            "
   ]
  },
  {
   "cell_type": "code",
   "execution_count": null,
   "id": "8b7ff071",
   "metadata": {},
   "outputs": [],
   "source": [
    "gaming_session(100, 1, 3)"
   ]
  },
  {
   "cell_type": "markdown",
   "id": "5fb45278",
   "metadata": {},
   "source": [
    "Now we can wrap an individual gaming session for one player into a casino full of players."
   ]
  },
  {
   "cell_type": "code",
   "execution_count": null,
   "id": "e454328f",
   "metadata": {},
   "outputs": [],
   "source": [
    "# This is the second layer of wrapping.   Note how this sets verbose for gaming_session(), \n",
    "#    which passes it through to roulette_roll().\n",
    "\n",
    "verbose = False\n",
    "\n",
    "def multi_player(players=10, bank=100, bet=1, games_per_session=3, verbose=verbose):\n",
    "    \" Simulates the play of a bunch of gamblers on the same game.\"\n",
    "    players_so_far = 0\n",
    "    results = []\n",
    "    while players_so_far < players:\n",
    "        results.append(gaming_session(bank, bet, games_per_session, verbose=verbose))\n",
    "        players_so_far += 1\n",
    "        \n",
    "    return results"
   ]
  },
  {
   "cell_type": "markdown",
   "id": "68544599",
   "metadata": {},
   "source": [
    "Finally, we'll set up some code to call the multi_player() routine and capture the results."
   ]
  },
  {
   "cell_type": "code",
   "execution_count": null,
   "id": "a3463e52",
   "metadata": {},
   "outputs": [],
   "source": [
    "#  This is the outer layer of wrapping.   We set the parameters that will feed into multi_player() ..\n",
    "#     .. which sends to gaming_session() .. which sends them to roulette_roll().\n",
    "\n",
    "# Parameters for this run\n",
    "players = 200\n",
    "bank = 100\n",
    "games_per_session = 30\n",
    "bet = 1\n",
    "verbose = False\n",
    "\n",
    "# Capture the aggregated results\n",
    "results = multi_player(players=players, bank=bank, bet=bet,\n",
    "                       games_per_session=games_per_session, verbose=verbose)\n",
    "\n",
    "if verbose:\n",
    "    print(f\"Winning percent for each player:\\n\\n{results}\")"
   ]
  },
  {
   "cell_type": "markdown",
   "id": "551a877a",
   "metadata": {},
   "source": [
    "Let's have a look at the results.\n",
    "\n",
    "This shows the average winnings.  For a $1 bet, this is also the 'percent profit' for each player.\n"
   ]
  },
  {
   "cell_type": "code",
   "execution_count": null,
   "id": "84231849",
   "metadata": {
    "scrolled": true
   },
   "outputs": [],
   "source": [
    "import matplotlib.pyplot as plt\n",
    " \n",
    "avg_list = np.array(results)\n",
    "plt.figure(figsize=(10,10))\n",
    "plt.plot(avg_list)\n",
    "plt.axhline(np.array(avg_list).mean(), color='k', linestyle='dashed', linewidth=1)\n"
   ]
  },
  {
   "cell_type": "markdown",
   "id": "6bfe3039",
   "metadata": {},
   "source": [
    "## Sampling an Unknown Distribution\n",
    "\n",
    "Another way we can use Monte Carlo simulation is to learn about an unknown distribution.  \n",
    "\n",
    "This is an important topic when we try to find a Maximum Likelihood Estimation (MLE) solution.   That's when we think we know the general distribution for a data set (normal, maybe) and we try to find the best values of the mean and standard deviation.   \n",
    "\n",
    "\"Best\" means that we minimize the errors between the distribution implied by our estimated values and the actual, observed distribution.\n",
    "\n",
    "If our distributions are parametric (that means they can be described by an equation), the process is pretty straightforward - we can do things like find minimum and maximum values by setting the first derivative to zero then solving for the parameters.  Or we can solve for the value at any point under the distribution.\n",
    "\n",
    "If our distributions are nonparametric, or if we have a high-dimension data space, the analytical solutions may be intractable or too expensive.  In these cases, we need to sample the space to discover its characteristics.\n",
    "\n",
    "In this example we will:\n",
    "\n",
    "    Generate a funky, but parametric distribution...\n",
    "\n",
    "    ... but pretend we don't know what it looks like.\n",
    "\n",
    "    Use sampling to discover its characteristics.\n",
    "\n",
    "    Check how well the sampling did (we're cheating, after all)!"
   ]
  },
  {
   "cell_type": "markdown",
   "id": "8405e862",
   "metadata": {},
   "source": [
    "## Generate a Distribution"
   ]
  },
  {
   "cell_type": "code",
   "execution_count": null,
   "id": "fcd38bb0",
   "metadata": {},
   "outputs": [],
   "source": [
    "# Import matplotlib's plotting tool, the Gaussian (normal) distribution from scipy,\n",
    "#   and scipy's stats package.\n",
    "\n",
    "import matplotlib.pyplot as plt\n",
    "from scipy.stats import norm, stats\n",
    "\n",
    "\n",
    "#  Use np.linspace to create even increments  np.linspace(<high>, <low>, <intervals>)\n",
    "#     np.newaxis is an alias for None.  This creates a 2d array with shape (1000, 1).\n",
    "X_plot = np.linspace(10, 100, 1000)[:, np.newaxis]\n",
    "\n",
    "# Create our funky distribution.   This is really two normal distributions, scaled and\n",
    "#    smooshed together.\n",
    "true_dens = (0.3 * norm(35, 5).pdf(X_plot[:, 0])  + \\\n",
    "             0.7 * norm(60, 5).pdf(X_plot[:, 0])) * \\\n",
    "            200\n",
    "\n",
    "#  Let's have a look ..\n",
    "fig, ax = plt.subplots()\n",
    "\n",
    "# This is what we'll plot  ax_fill(<x-values>, <y-values>, <some aesthetics>)\n",
    "ax.fill(X_plot[:, 0], true_dens, fc='blue', alpha=0.2,label='actual distribution')\n",
    "\n",
    "# Add a couple more aesthetics.\n",
    "ax.legend(loc='upper left')\n",
    "ax.set_xlim(10, 90)\n",
    "\n",
    "# Show the plot, then reset it for the next use.\n",
    "plt.show()\n",
    "plt.close()"
   ]
  },
  {
   "cell_type": "markdown",
   "id": "ecf3a376",
   "metadata": {},
   "source": [
    "OK.   This is our \"unknown\" distribution.   This may be the response surface of a high-dimension parameter space we're trying to resolve to generate a prior for a Bayesian simulation.  It doesn't really matter, but we can't solve it with numerical methods."
   ]
  },
  {
   "cell_type": "markdown",
   "id": "34dd1e44",
   "metadata": {},
   "source": [
    "## Making Observations\n",
    "\n",
    "But we can observe it.   This function essentially replicates the equation(s) that generated our solution space.  This will be the \"world\" that we'll explore.\n",
    "\n",
    "If we pass it x it will return some f(x):"
   ]
  },
  {
   "cell_type": "code",
   "execution_count": null,
   "id": "f6a413ef",
   "metadata": {},
   "outputs": [],
   "source": [
    "def generate_obs(x):\n",
    "    \"Return a single point from the distributino\"\n",
    "    return (0.3 * norm(35, 5).pdf(x)  + \\\n",
    "            0.7 * norm(60, 5).pdf(x)) * \\\n",
    "                200"
   ]
  },
  {
   "cell_type": "markdown",
   "id": "72e70260",
   "metadata": {},
   "source": [
    "We can test it out with a few numbers to make sure it's reasonable:"
   ]
  },
  {
   "cell_type": "code",
   "execution_count": null,
   "id": "92e5e916",
   "metadata": {},
   "outputs": [],
   "source": [
    "# This should be about the peak.\n",
    "generate_obs(60)"
   ]
  },
  {
   "cell_type": "code",
   "execution_count": null,
   "id": "781fe930",
   "metadata": {},
   "outputs": [],
   "source": [
    "# This should be a low value.\n",
    "generate_obs(50.12)\n"
   ]
  },
  {
   "cell_type": "markdown",
   "id": "2aeaa7c0",
   "metadata": {},
   "source": [
    "Let's have a look at some summary data for our distribution.    If our sampling is any good, we should be able reproduce these stats (more or less) from our observations."
   ]
  },
  {
   "cell_type": "code",
   "execution_count": null,
   "id": "2fbd5a63",
   "metadata": {},
   "outputs": [],
   "source": [
    "original_stats = stats.describe(true_dens)\n",
    "original_stats"
   ]
  },
  {
   "cell_type": "markdown",
   "id": "f4e669f3",
   "metadata": {},
   "source": [
    "## Explore the Dataspace\n",
    "\n",
    "Create a routine that wraps up our generate_obs() function.  It randomly creates some x-values and sorts them (that way our plot will be interpertable)."
   ]
  },
  {
   "cell_type": "code",
   "execution_count": null,
   "id": "488c1c17",
   "metadata": {},
   "outputs": [],
   "source": [
    "import random\n",
    "random.seed(1)"
   ]
  },
  {
   "cell_type": "code",
   "execution_count": null,
   "id": "27e4843f",
   "metadata": {},
   "outputs": [],
   "source": [
    "import random\n",
    "def query_data(lower=20, upper=80, n_obs=100, verbose=False, seed=1):\n",
    "    \" Generate a list of results of the generate_obs() function from random inputs\"\n",
    "    \n",
    "    random.seed(1)\n",
    "    \n",
    "    # Use random.uniform() to create random values and create a list\n",
    "    observations = []\n",
    "    x = [random.uniform(lower, upper) for _ in range(n_obs)]\n",
    "    \n",
    "    # Sort the list.  That will make our plot actually readable.\n",
    "    #   NB:  x.sort() returns None so we can't add sort() to our definition of x\n",
    "    x.sort()\n",
    "    \n",
    "    # Runs through our random inputs and remenbers the results\n",
    "    for xval in x:                \n",
    "        obs = generate_obs(xval)\n",
    "        observations.append(obs) \n",
    "        if verbose:  \n",
    "            print(f\"f({xval:2.3f}) = {obs:2.3f}\")\n",
    "            \n",
    "    return x, observations      "
   ]
  },
  {
   "cell_type": "markdown",
   "id": "879551bd",
   "metadata": {},
   "source": [
    "We'll sample the data using the query_data() routine here, then plot it in the next cell."
   ]
  },
  {
   "cell_type": "code",
   "execution_count": null,
   "id": "d2b8b14c",
   "metadata": {},
   "outputs": [],
   "source": [
    "# Query the distribution.  You probably want to leave the bounds close to 20 and 80, but play with the n_obs.\n",
    "n_obs = 100    \n",
    "lower = 20\n",
    "upper = 75\n",
    "\n",
    "x, obs = query_data (lower=lower, upper=upper, n_obs=n_obs, verbose=False)   "
   ]
  },
  {
   "cell_type": "code",
   "execution_count": null,
   "id": "b471f0c0",
   "metadata": {},
   "outputs": [],
   "source": [
    "obs_array = np.array(obs)\n",
    "\n",
    "# Create instances of matplotlib.plt objects\n",
    "fig, ax = plt.subplots()\n",
    "\n",
    "# Create the x-values and y-values to plot.  The y-values will be a Numpy array.\n",
    "X_plot = np.linspace(lower, upper, n_obs)[:, np.newaxis]\n",
    "y_plot = np.array(obs)\n",
    "\n",
    "# Specify the plot object.\n",
    "ax.fill(X_plot[:, 0], y_plot, fc='blue', alpha=0.2, label='observed')\n",
    "ax.legend(loc='upper left')\n",
    "ax.set_xlim(10, 90)\n",
    "\n",
    "# Et, voila!\n",
    "plt.show()\n"
   ]
  },
  {
   "cell_type": "markdown",
   "id": "c701ed87",
   "metadata": {},
   "source": [
    "Depending on your n_obs, you'll see the original distribution (more or less).  The lower the N, the more jagged it'll look.   It passes the \"eyeball test\".   \n",
    "\n",
    "What about the stats?"
   ]
  },
  {
   "cell_type": "code",
   "execution_count": null,
   "id": "37205b3c",
   "metadata": {},
   "outputs": [],
   "source": [
    "estimated_stats = stats.describe(obs) \n",
    "estimated_stats"
   ]
  },
  {
   "cell_type": "code",
   "execution_count": null,
   "id": "643fc717",
   "metadata": {
    "scrolled": true
   },
   "outputs": [],
   "source": [
    "# A tuple of tuples that we can unpack.  This format is pretty easy to read/maintain IMHO.\n",
    "\n",
    "comps = ( ('mean',  original_stats.mean, estimated_stats.mean), \n",
    "          ('var ',  original_stats.variance, estimated_stats.variance),\n",
    "          ('max ',  original_stats.minmax[1], estimated_stats.minmax[1]),       \n",
    "        )\n",
    "\n",
    "print(\"Results:\\n\")\n",
    "for stat, orig, est in comps:\n",
    "    print(f\"stat: {stat} orig: {orig:2.3f}  est: {est:2.3f}, delta: {orig-est:2.3f}\")"
   ]
  },
  {
   "cell_type": "markdown",
   "id": "4150782c",
   "metadata": {},
   "source": [
    "## Refining the Exploration\n",
    "\n",
    "Our estimates seem a bit off, don't they?   The reason has a lot to do with our sampling design.   We may be sampling with too wide a range of x-values, essentially querying for \"empty\" parts of the range of y-values.  It could be many things, but that's OK.  The mean isn't the best test for a distribution without a centeral tendancy.\n",
    "\n",
    "Besides, we're seldom interested in the whole distribution.  In a complex data space, it would take a really long time to sample everything, anyway.   Usually sampling is 'adaptive'.  That means that the next sample depends on what we have learned about past samples.   We're typically interested in finding 'gradients'.  You can think of these as slopes.  If we're looking for a local maximum, we can do a 'hill climbing' exercise to take the steepest path to the top.\n",
    "\n",
    "Here's how we might do it:"
   ]
  },
  {
   "cell_type": "code",
   "execution_count": null,
   "id": "ec98d688",
   "metadata": {},
   "outputs": [],
   "source": [
    "n_obs = 10    \n",
    "lower = 20\n",
    "upper = 75\n",
    "\n",
    "# Query the data\n",
    "x, obs = query_data (lower=lower, upper=upper, n_obs=n_obs, verbose=False) \n",
    "obs_array = np.array(obs)\n",
    "\n",
    "# Create instances of matplotlib.plt objects\n",
    "fig, ax = plt.subplots()\n",
    "\n",
    "# Create the x-values and y-values to plot.  The y-values will be a Numpy array.\n",
    "#  The \" [:.newaxis]\" bit is an ideom that \n",
    "X_plot = np.linspace(lower, upper, n_obs)[:, np.newaxis]\n",
    "y_plot = np.array(obs)\n",
    "\n",
    "# Specify the plot object.\n",
    "ax.fill(X_plot[:, 0], y_plot, fc='blue', alpha=0.2, label='observed')\n",
    "ax.legend(loc='upper left')\n",
    "ax.set_xlim(10, 90)\n",
    "\n",
    "# Et, voila!\n",
    "plt.show()"
   ]
  },
  {
   "cell_type": "markdown",
   "id": "2b270c93",
   "metadata": {},
   "source": [
    "It's easy to 'eyeball' the result.  The max value will be somewhere between x = 55 and x = 70.\n",
    "\n",
    "Let's print the actual values.   First we'll combine x and f(x) into a single array:"
   ]
  },
  {
   "cell_type": "code",
   "execution_count": null,
   "id": "2d3c6a0c",
   "metadata": {},
   "outputs": [],
   "source": [
    "# Create an ndarray with columns (x, f(x)).  This simply combines the columns.\n",
    "#   Note: there's also a method np.hstack() that combines rows.\n",
    "\n",
    "xy = np.stack((np.array(x), obs_array), axis=1)\n",
    "\n",
    "xy"
   ]
  },
  {
   "cell_type": "markdown",
   "id": "3d7aea5b",
   "metadata": {},
   "source": [
    "We can scan these values to figure out the row we need.  \n",
    "\n",
    "For simplicity we'll define a function to simply return the values."
   ]
  },
  {
   "cell_type": "code",
   "execution_count": null,
   "id": "f962c819",
   "metadata": {},
   "outputs": [],
   "source": [
    "def get_max_xy(xy_arr):\n",
    "    \" Input is two-col ndarray.  Cols: [x, f(x)].  Returns x and f(x) at max f(x) value.\"\n",
    "    \n",
    "    max_row = xy_arr[np.where(xy[:,1] == np.max(xy_arr[:,1]))][0]\n",
    "    x_max, y_max = max_row[0], max_row[1]\n",
    "\n",
    "    return x_max, y_max"
   ]
  },
  {
   "cell_type": "code",
   "execution_count": null,
   "id": "0eb939bc",
   "metadata": {},
   "outputs": [],
   "source": [
    "print(get_max_xy(xy))"
   ]
  },
  {
   "cell_type": "markdown",
   "id": "7fff5c15",
   "metadata": {},
   "source": [
    "Yes, that's a horrible equation!   Numpy can be that way.  Pandas is a bit more kind.\n",
    "\n",
    "But, let's break it down, anyway, so you'll get a sense of how all this gobbledy-gook works."
   ]
  },
  {
   "cell_type": "code",
   "execution_count": null,
   "id": "dbc1d696",
   "metadata": {},
   "outputs": [],
   "source": [
    "# Isolate the f(x) column with a slice\n",
    "f_x_col = xy[:,1]\n",
    "\n",
    "print(f\"First few rows of f(x) column:\\n {f_x_col[:3]}\\n\" )\n",
    "\n",
    "# Find the max value of f(x)\n",
    "max_f_x = np.max(f_x_col)\n",
    "\n",
    "print(f\"The max value is {max_f_x}\\n\")\n",
    "\n",
    "# Figure out what row the max value occurs in\n",
    "max_row_num  = np.where(f_x_col == max_f_x)\n",
    "\n",
    "print(f\"... which is in row {max_row_num[0]}\\n\")\n",
    "\n",
    "# Grab the row that contains the maximum f(x) value (strip the first element with '[0][0]' bit)\n",
    "max_row = xy[max_row_num, :][0][0]\n",
    "\n",
    "print(f\"The row with the x, f(x) values where f(x) is maxed out:\\n{max_row}\\n\")\n",
    "\n",
    "# Capture the x and y values\n",
    "x_max, y_max = max_row[0], max_row[1]\n",
    "\n",
    "print(f\"x: {x_max}   y: {y_max}\")\n"
   ]
  },
  {
   "cell_type": "markdown",
   "id": "b5e84152",
   "metadata": {},
   "source": [
    "## Recap\n",
    "\n",
    "We have created a bunch of stuff so far:\n",
    "\n",
    "    A parametrically-created bimodal distribution (which we'll pretend is not).\n",
    "\n",
    "    A means of sampling the distribution\n",
    "\n",
    "    A means of analyzing the sample results\n",
    "\n",
    "Next, we'll implement a crude gradient search and see if we can't find the maximum value."
   ]
  },
  {
   "cell_type": "markdown",
   "id": "b4e2f078",
   "metadata": {},
   "source": [
    "## Gradient Search\n",
    "\n",
    "A gradient search will explore the data space based on the slope.  The 'slope' can be high-dimension and a bit hard to see or understand.   For now, accept that the concept that we can work with in 2-D space is completely extensible.\n",
    "\n",
    "We'll build a very simple gradient search tool to demonstrate how and where Monte Carlo techniques play.\n",
    "\n",
    "We'll begin with a reasonable guess based on our first sample:"
   ]
  },
  {
   "cell_type": "code",
   "execution_count": null,
   "id": "3573c55d",
   "metadata": {},
   "outputs": [],
   "source": [
    "guess0 = x_max\n",
    "result0 = y_max"
   ]
  },
  {
   "cell_type": "markdown",
   "id": "04bd84a9",
   "metadata": {},
   "source": [
    "Now, we'll try values of x on either side of the current guess.  The idea is to find the direction of the most improvement.   If we're in a 'saddle', both directions might be higher.   \n",
    "\n",
    "How far do we move x?  In practice, that might be variable.   Big steps can cover a lot of ground quickly, but likely will not find the true maximum.   Small steps can take forever and the analysis may get tricked into thinking a local maximum is the global one.  We'll just go ahead and pick an arbitrary one.\n",
    "\n",
    "    step = 1\n",
    "\n",
    "Another factor is how far in the distance to look in either direction.  Some sort of averaging likely makes sense because the 'molehill' right next door is probably not representative.  We might create a 'frame of reference' to define how many values either way we'll sample.  We'll pick another arbitrary value:\n",
    "\n",
    "    frame = 3"
   ]
  },
  {
   "cell_type": "code",
   "execution_count": null,
   "id": "dd9b791e",
   "metadata": {},
   "outputs": [],
   "source": [
    "step = 1\n",
    "frame = 3\n",
    "guess = x_max"
   ]
  },
  {
   "cell_type": "markdown",
   "id": "a1fdad0e",
   "metadata": {},
   "source": [
    "Let's build a couple of tools to handle these"
   ]
  },
  {
   "cell_type": "code",
   "execution_count": null,
   "id": "7b51eaf0",
   "metadata": {},
   "outputs": [],
   "source": [
    "from statistics import mean\n",
    "\n",
    "def next_x_vals(guess, frame=3, step=1, direction='up'):\n",
    "    \"\"\"Create and return a vector such that each element is 'step' different\n",
    "         from the last, starting at guess +/- step, depending on the \n",
    "         'direction'.  The length of the vector is 'frame'.  \"\"\"\n",
    "    \n",
    "    return_list = []\n",
    "    for ix in range(frame ):\n",
    "        if direction == 'up':\n",
    "            return_list.append(guess + ix * step)\n",
    "        else:\n",
    "            return_list.append(guess - ix * step)\n",
    "            \n",
    "    return return_list\n",
    "            \n",
    "    \n",
    "def next_y_vals(next_x_vals, func):\n",
    "    \"\"\" Given a vector of next_x_vals and a function, create and return a vector of f(x).\"\"\"\n",
    "    \n",
    "    return_vector = []\n",
    "    \n",
    "    for x in next_x_vals:\n",
    "        return_vector.append(func(x))        \n",
    "    return return_vector\n",
    "\n",
    "\n",
    "def gradient_search_max(guess, func, lower_bound, upper_bound, step, frame, direction=None):\n",
    "    \"\"\"Conduct a gradient search to find max value of a solution space.\"\"\"  \n",
    "    \n",
    "    DEBUG = False\n",
    "    \n",
    "    # Remember the oringinal guess\n",
    "    original_guess = guess\n",
    "    original_result = func(original_guess)\n",
    "    if DEBUG: print(f\"current: x {original_guess:.2f}   y {original_result:.2f}\")\n",
    "    \n",
    "    # Find x values for a few steps higher and lower than current guess.\n",
    "    x_going_up = next_x_vals(guess, frame, step, 'up')\n",
    "    x_going_down = next_x_vals(guess, frame, step, 'down')\n",
    "    if DEBUG: print(x_going_up, x_going_down)\n",
    "    \n",
    "    \n",
    "    # Find corresponding mean y values\n",
    "    y_going_up = mean(next_y_vals(x_going_up, func))\n",
    "    y_going_down = mean(next_y_vals(x_going_down, func))\n",
    "    if DEBUG: print(f\"y_going_down: {y_going_down:.2f}  y_going_up: {y_going_up:.2f} \")\n",
    "    \n",
    "    \n",
    "    # Figure out if we're going up or down\n",
    "    if direction is None:\n",
    "        if y_going_up >= original_result and y_going_up >= y_going_down:\n",
    "            direction = 'up'\n",
    "        if y_going_down > original_result and y_going_up < y_going_down:\n",
    "            direction = 'down' \n",
    "        print(f\"We're searching {direction}.\")\n",
    "    \n",
    "    # Adjust the guess as needed\n",
    "    if direction == 'up' and y_going_up >= original_result:\n",
    "        guess = original_guess + step\n",
    "    elif direction == 'down'  and y_going_down >= original_result:\n",
    "        guess = original_guess - step\n",
    "            \n",
    "    # We'll keep going if the guess changed and it's within bounds. Otherwise we're done.\n",
    "    if guess != original_guess and guess >= lower_bound and guess <= upper_bound:\n",
    "        print(f\"Current answer:  x: {guess:.2f}  y: {func(guess):.2f}\")\n",
    "        gradient_search_max(guess, func, lower_bound, upper_bound, step, frame, direction=direction)\n",
    "        \n",
    "    else:\n",
    "        print(f\"Final answer:  x: {guess:.2f}  y: {func(guess):.2f}\")\n",
    "        return guess\n",
    "\n",
    "    \n",
    "func = generate_obs\n",
    "lower_bound_gradient = 0\n",
    "upper_bound_gradient = 100\n",
    "step = .1\n",
    "frame = 3\n",
    "\n",
    "gradient_search_max(guess, func, lower_bound_gradient, upper_bound_gradient, step, frame)\n",
    "    \n"
   ]
  },
  {
   "cell_type": "markdown",
   "id": "2e83e826",
   "metadata": {},
   "source": [
    "## Exercise\n",
    "\n",
    "In this solution, we used a 'step' to sample the region of the distribution around our current guess.  So if our guess is 100, our frame is 3, and our step is 1 we would sample at [100, 101, 102] if we were going up.   We would sample at [100, 99, 98] if we were going down.\n",
    "\n",
    "Using Monte Carlo we would randomize that sample within the region between 100 and 102 going up; and between 100 and 98 going down.  Can you write an alternative to next_x_vals() that would use random sampling instead of a fixed step size to accomplish the same goal?\n",
    "\n"
   ]
  },
  {
   "cell_type": "code",
   "execution_count": null,
   "id": "b1205aaa",
   "metadata": {},
   "outputs": [],
   "source": [
    "print(f\"original max value: {stats.describe(true_dens).minmax[1]:.2f}\")"
   ]
  },
  {
   "cell_type": "markdown",
   "id": "97873e46",
   "metadata": {},
   "source": [
    "# Python Machine Learning Ecosystem\n",
    "\n",
    "\n"
   ]
  },
  {
   "cell_type": "markdown",
   "id": "c29169f5",
   "metadata": {
    "ExecuteTime": {
     "end_time": "2021-07-01T21:33:34.484707Z",
     "start_time": "2021-07-01T21:33:34.479616Z"
    }
   },
   "source": [
    "## TensorFlow"
   ]
  },
  {
   "attachments": {
    "tensorflow1.JPG": {
     "image/jpeg": "[encoded data removed]"
    }
   },
   "cell_type": "markdown",
   "id": "1da004fb",
   "metadata": {},
   "source": [
    "![tensorflow1.JPG](attachment:tensorflow1.JPG)\n",
    "\n",
    "\n"
   ]
  },
  {
   "cell_type": "markdown",
   "id": "ff1dcb31",
   "metadata": {},
   "source": [
    "\n",
    "TensorFlow is an open source library developed at Google to support machine learning.  Its focus is on deep neural networks.  It was developed by Geoffrey Hinton, Jeff Dean (and many others!) starting in 2009 with an initial focus on speech recognition.  It's integrated with Kubernetes via the Kubeflow application.   Version 2.0 was released in 2019, along with TensorFlow Graphics (deep learning in graphics).  It's main applications now are around image capturing.\n",
    "\n",
    "Google developed its 'Tensor processing unit' (TPU) - a chip designed precisely for TensorFlow.  These power Google Compute and when stacked into clusters of 64 TPUs can deliver 11.5 petaflops.   They are now available to the world on the Google Cloud Platform.\n",
    "\n",
    "It's got a Python API (3.7+).   It also has bindings to C++, Go, Julia, and a host of others.\n",
    "\n",
    "It's built on numpy and uses numpy.ndarray objects as base building blocks.  It has a numpy-friendly API, so you can work with tensors pretty much the same way you'd work with numpy arrays.  These links will get you started.\n",
    "\n",
    "To install:  \n",
    "$ conda install -c anaconda tensorflow \n",
    "\n",
    "https://www.tensorflow.org/guide/tf_numpy\n",
    "\n",
    "https://www.tensorflow.org\n",
    "\n",
    "**Keras** is an API that allows easy creation of training tasks across multiple GPUs, TPUs, or machines.  It handles a stack of single inputs and single outputs of tensors, sequentially processed.   It can be used for feature extraction with complex models.  It works well with Google Colab, a hosted Jupyter Notebook site.\n",
    "\n",
    "https://www.tensorflow.org/guide/keras/sequential_model\n",
    "\n",
    "Here's a bit of TensorFlow code from the official docs:\n"
   ]
  },
  {
   "cell_type": "raw",
   "id": "5bbee4a0",
   "metadata": {
    "ExecuteTime": {
     "end_time": "2021-07-01T22:59:38.284027Z",
     "start_time": "2021-07-01T22:59:38.254587Z"
    }
   },
   "source": [
    "import tensorflow as tf\n",
    "mnist = tf.keras.datasets.mnist\n",
    "\n",
    "(x_train, y_train),(x_test, y_test) = mnist.load_data()\n",
    "x_train, x_test = x_train / 255.0, x_test / 255.0\n",
    "\n",
    "model = tf.keras.models.Sequential([\n",
    "  tf.keras.layers.Flatten(input_shape=(28, 28)),\n",
    "  tf.keras.layers.Dense(128, activation='relu'),\n",
    "  tf.keras.layers.Dropout(0.2),\n",
    "  tf.keras.layers.Dense(10, activation='softmax')\n",
    "])\n",
    "\n",
    "model.compile(optimizer='adam',\n",
    "              loss='sparse_categorical_crossentropy',\n",
    "              metrics=['accuracy'])\n",
    "\n",
    "model.fit(x_train, y_train, epochs=5)\n",
    "model.evaluate(x_test, y_test)\n"
   ]
  },
  {
   "cell_type": "markdown",
   "id": "347bdf8c",
   "metadata": {},
   "source": [
    "## PyTorch"
   ]
  },
  {
   "attachments": {
    "pytorch.JPG": {
     "image/jpeg": "[encoded data removed]"
    }
   },
   "cell_type": "markdown",
   "id": "2d205f36",
   "metadata": {},
   "source": [
    "![pytorch.JPG](attachment:pytorch.JPG)"
   ]
  },
  {
   "cell_type": "markdown",
   "id": "c58963ef",
   "metadata": {},
   "source": [
    "\n",
    "\n",
    "PyTorch is a Python (3.6-3.8) implemention of **Torch**.  Torch is a scientific computing framework and machine learning library. Torch itself uses a Lua wrapper over a C implementation of tensor arrays.   It has packages for loss functions (accuracy) and neural networks.  PyTorch is a Facebook project that took over development of Torch in 2020.\n",
    "\n",
    "PyTorch supports automatic differentiation (calculation of high-dimension gradients) and a variety of optimization methods useful for building neural nets.   It is built on top of numpy and the pytorch.Tensor object is fundamentally a numpy.ndarray.   \n",
    "\n",
    "PyTorch is CUDA-compatible (CUDA is an Nvidia platform/library for GPU-enabled parallel computing).\n",
    "\n",
    "Several other applications wrap and extend PyTorch including **Tesla Autopilot**, Uber's **Pyro** application, and **PyTorch Lightning**.\n",
    "\n",
    "It's supported on AWS, Google Cloud Platform, and Microsoft Azure.\n",
    "\n",
    "To install:   \n",
    "$ conda install pytorch torchvision torchaudio cudatoolkit=10.2 -c pytorch \n",
    "\n",
    "You can learn more here:\n",
    "\n",
    "https://pytorch.org/    \n",
    "\n",
    "https://github.com/PyTorchLightning/pytorch-lightning\n",
    "\n",
    "https://developer.nvidia.com/about-cuda"
   ]
  },
  {
   "cell_type": "markdown",
   "id": "b2576452",
   "metadata": {},
   "source": [
    "## Numba"
   ]
  },
  {
   "attachments": {
    "numba.JPG": {
     "image/jpeg": "[encoded data removed]"
    }
   },
   "cell_type": "markdown",
   "id": "2e6bedee",
   "metadata": {},
   "source": [
    "![numba.JPG](attachment:numba.JPG)"
   ]
  },
  {
   "cell_type": "markdown",
   "id": "bef9ab47",
   "metadata": {},
   "source": [
    "\n",
    "\n",
    "Numba is a 'just in time' compiler that optimizes, compiles, and parallelizes arbitrary Python (3.6-3.9) functions - essentially turning your code into machine language using the LLVM compiler infrastructure.  It's CUDA-compatible, so can attain silicon-level optimization whether you're using CPUs or GPUs.   It's built on numpy and mostly designed to optimize the performance of numpy.ndarray objects.\n",
    "\n",
    "It saves the step of converting Python into C/C++ code - this happens at execution time, making the performance enhancements completely portable.   It's implemented using simple decorator functions like.\n",
    "\n",
    "Here are some examples from the official docs:"
   ]
  },
  {
   "cell_type": "code",
   "execution_count": null,
   "id": "8b426362",
   "metadata": {
    "ExecuteTime": {
     "end_time": "2021-07-01T22:59:38.286025Z",
     "start_time": "2021-07-01T22:59:38.273Z"
    }
   },
   "outputs": [],
   "source": [
    "\"\"\" Parallelizes operations \"\"\"\n",
    "from numba import jit\n",
    "@jit(nopython=True, parallel=True)\n",
    "def simulator(out):\n",
    "    # iterate loop in parallel\n",
    "    for i in prange(out.shape[0]):\n",
    "        out[i] = run_sim()"
   ]
  },
  {
   "cell_type": "code",
   "execution_count": null,
   "id": "04e894b1",
   "metadata": {
    "ExecuteTime": {
     "end_time": "2021-07-01T22:59:38.288025Z",
     "start_time": "2021-07-01T22:59:38.278Z"
    }
   },
   "outputs": [],
   "source": [
    "\"\"\" Compile an arbitrary function \"\"\"\n",
    "from numba import jit\n",
    "import random\n",
    "\n",
    "SAMPLES = 1e5\n",
    "\n",
    "@jit(nopython=True)\n",
    "def monte_carlo_pi(nsamples):\n",
    "    acc = 0\n",
    "    for i in range(nsamples):\n",
    "        x = random.random()\n",
    "        y = random.random()\n",
    "        if (x ** 2 + y ** 2) < 1.0:\n",
    "            acc += 1\n",
    "    return 4.0 * acc / nsamples\n",
    "\n",
    "%timeit -n1000 monte_carlo_pi(SAMPLES)"
   ]
  },
  {
   "cell_type": "markdown",
   "id": "db8f1e34",
   "metadata": {},
   "source": [
    "To install:  \n",
    "$ conda install numba\n",
    "\n",
    "These links will lead you to the docs and more examples.\n",
    "\n",
    "http://numba.pydata.org/\n",
    "https://llvm.org/"
   ]
  },
  {
   "cell_type": "markdown",
   "id": "d9025bdc",
   "metadata": {},
   "source": [
    "## PyMC3  "
   ]
  },
  {
   "attachments": {
    "pymc3.JPG": {
     "image/jpeg": "[encoded data removed]"
    }
   },
   "cell_type": "markdown",
   "id": "0f685624",
   "metadata": {},
   "source": [
    "![pymc3.JPG](attachment:pymc3.JPG)"
   ]
  },
  {
   "cell_type": "markdown",
   "id": "858284da",
   "metadata": {},
   "source": [
    "\n",
    "\n",
    "PyMC3 is used for Bayesian linear regression (and Bayesian inference, generally).   PyMC3 also contains a factor analysis module.  It specializes in simulation-based optimization of complex, high-dimension data spaces and can even handle data spaces that are defined parametrically at run-time.  PyMC3 also contains a factor analysis module\n",
    "\n",
    "With PyMC3, you can implement a Marcov chain Monte Carlo with sampling algorithms NUTS (No-U-Turn sampler) and HCM (Hamiltonian Monte Carlo) that's self-tuning; that means you don't need prior knowledge of the distribution.\n",
    "\n",
    "NUTS (No U-Turn Sampling) is a way to characterize an unknown distribution by drawing correlated samples that will converge in distribution to the unknown distribution.   It's written up by Matthew Hoffman (*J. Machine Learning Research, 2014*).   It eliminates the need to do a random walk of the distribution by calculating gradients and using them for the next target region to explore.\n",
    "\n",
    "It's a tweak to Hamiltonian Monte Carlo approach that replaces random walk with simulation of Hamiltonian dynamics.  That's the bit that requires calculation of the gradient.   Gradient calculation requires that the user pick the step size ($\\epsilon$) and the number of steps (L) - and getting these right can be really tough. \n",
    "\n",
    "Hamiltonian dynamics uses an auxialiary momentum variable $r_d$ for each model variable $\\theta_d$.  It's based on partical dynamics where theta is a partical's position in D-dimensional space.   The momentum variable is the momentum in the dth dimension.  It factors in the position-dependent negative potential energy and the kinetic energy of the particle.\n",
    "\n",
    "**Theano** is used under the hood for gradient calculation - it uses differentiation and can complile probabilistic problems to C on the fly.   Theano allows expressions to be defined as tensors, which are tightly integrated with numpy.ndarray objects.\n",
    "\n",
    "To install:\n",
    "\n",
    "$ conda install -c conda-forge pymc3\n",
    "\n",
    "http://docs.pymc.io\n",
    "\n",
    "http://docs.pymc.io/pymc-examples/examples/pymc3_howto/api_quickstart.html\n",
    "\n",
    "Here is an example from the docs:"
   ]
  },
  {
   "cell_type": "raw",
   "id": "9c80471a",
   "metadata": {
    "ExecuteTime": {
     "end_time": "2021-07-01T21:41:32.994217Z",
     "start_time": "2021-07-01T21:41:32.972359Z"
    }
   },
   "source": [
    "\"\"\" Pseudo code \"\"\"\n",
    "import pymc3 as pm\n",
    "\n",
    "X, y = pm.linear_training_data()\n",
    "with pm.Model() as linear_model:\n",
    "    weights = pm.Normal(\"weights\", mu=0, sigma=1)\n",
    "    noise = pm.Gamma(\"noise\", alpha=2, beta=1)\n",
    "    y_observed = pm.Normal(\n",
    "        \"y_observed\",\n",
    "        mu=X @ weights,\n",
    "        sigma=noise,\n",
    "        observed=y,\n",
    "    )\n",
    "\n",
    "    prior = pm.sample_prior_predictive()\n",
    "    posterior = pm.sample()\n",
    "    posterior_pred = pm.sample_posterior_predictive(posterior)"
   ]
  },
  {
   "cell_type": "markdown",
   "id": "a7cf9801",
   "metadata": {},
   "source": [
    "## Bokeh"
   ]
  },
  {
   "attachments": {
    "bokeh.JPG": {
     "image/jpeg": "[encoded data removed]"
    }
   },
   "cell_type": "markdown",
   "id": "d2049ee4",
   "metadata": {},
   "source": [
    "![bokeh.JPG](attachment:bokeh.JPG)"
   ]
  },
  {
   "cell_type": "markdown",
   "id": "407881f3",
   "metadata": {},
   "source": [
    "\n",
    "\n",
    "Bokeh is an all-purpose, interactive visualization library that wraps **matplotlib** and integrates tools like **Datashader** and **Holoviews**.   It's particularly useful for visual exploration of complex (or even streaming) data sets.   It's also useful for creating dashboards as \"visual APIs\" into your analytical work for presentation or collaboration purposes.\n",
    "\n",
    "To install:\n",
    "\n",
    "$ conda install -c anaconda bokeh \n",
    "\n",
    "https://bokeh.org/\n",
    "https://docs.bokeh.org/en/latest/docs/user_guide.html\n",
    "https://github.com/bokeh/bokeh\n",
    "\n",
    "Here's an example from Bokeh's on-line tutorial:"
   ]
  },
  {
   "cell_type": "code",
   "execution_count": null,
   "id": "7c429abd",
   "metadata": {
    "ExecuteTime": {
     "end_time": "2021-07-01T22:59:38.333027Z",
     "start_time": "2021-07-01T22:59:38.322048Z"
    }
   },
   "outputs": [],
   "source": [
    "# Standard imports \n",
    "\n",
    "from bokeh.io import output_notebook, show\n",
    "output_notebook()"
   ]
  },
  {
   "cell_type": "code",
   "execution_count": null,
   "id": "434466f3",
   "metadata": {
    "ExecuteTime": {
     "end_time": "2021-07-01T22:59:39.022428Z",
     "start_time": "2021-07-01T22:59:38.335028Z"
    }
   },
   "outputs": [],
   "source": [
    "from bokeh.models import ColumnDataSource, HoverTool\n",
    "from bokeh.plotting import figure\n",
    "from bokeh.sampledata.autompg import autompg_clean as df\n",
    "from bokeh.transform import factor_cmap\n",
    "\n",
    "df.cyl = df.cyl.astype(str)\n",
    "df.yr = df.yr.astype(str)\n",
    "\n",
    "group = df.groupby(by=['cyl', 'mfr'])\n",
    "source = ColumnDataSource(group)\n",
    "\n",
    "p = figure(plot_width=800, plot_height=300, title=\"Mean MPG by # Cylinders and Manufacturer\",\n",
    "           x_range=group, toolbar_location=None, tools=\"\")\n",
    "\n",
    "p.xgrid.grid_line_color = None\n",
    "p.xaxis.axis_label = \"Manufacturer grouped by # Cylinders\"\n",
    "p.xaxis.major_label_orientation = 1.2\n",
    "\n",
    "index_cmap = factor_cmap('cyl_mfr', palette=['#2b83ba', '#abdda4', '#ffffbf', '#fdae61', '#d7191c'], \n",
    "                         factors=sorted(df.cyl.unique()), end=1)\n",
    "\n",
    "p.vbar(x='cyl_mfr', top='mpg_mean', width=1, source=source,\n",
    "       line_color=\"white\", fill_color=index_cmap, \n",
    "       hover_line_color=\"darkgrey\", hover_fill_color=index_cmap)\n",
    "\n",
    "p.add_tools(HoverTool(tooltips=[(\"MPG\", \"@mpg_mean\"), (\"Cyl, Mfr\", \"@cyl_mfr\")]))\n",
    "\n",
    "# Reset the plotting object\n",
    "from bokeh.plotting import reset_output, output_notebook\n",
    "try:\n",
    "    reset_output()\n",
    "    output_notebook()\n",
    "    show(p)\n",
    "except:\n",
    "    output_notebook()\n",
    "    show(p)"
   ]
  },
  {
   "cell_type": "code",
   "execution_count": null,
   "id": "2d1acab8",
   "metadata": {
    "ExecuteTime": {
     "end_time": "2021-07-01T22:59:39.147938Z",
     "start_time": "2021-07-01T22:59:39.022428Z"
    }
   },
   "outputs": [],
   "source": [
    "%matplotlib inline\n",
    "from bokeh.plotting import figure, output_file, save, show\n",
    "\n",
    "# prepare some data\n",
    "x = [1, 2, 3, 4, 5]\n",
    "y = [4, 5, 5, 7, 2]\n",
    "\n",
    "# set output to static HTML file\n",
    "output_file(filename=\"custom_filename.html\", title=\"Static HTML file\")\n",
    "\n",
    "# create a new plot with a specific size\n",
    "p = figure(sizing_mode=\"stretch_width\", max_width=500, plot_height=250)\n",
    "\n",
    "# add a circle renderer\n",
    "circle = p.circle(x, y, fill_color=\"red\", size=15)\n",
    "\n",
    "# save the results to a file\n",
    "save(p)\n",
    "\n",
    "try:\n",
    "    reset_output()\n",
    "    output_notebook()\n",
    "    show(p)\n",
    "except:\n",
    "    output_notebook()\n",
    "    show(p)"
   ]
  },
  {
   "cell_type": "code",
   "execution_count": null,
   "id": "60929853",
   "metadata": {
    "ExecuteTime": {
     "end_time": "2021-07-01T22:59:39.156897Z",
     "start_time": "2021-07-01T22:59:39.147938Z"
    }
   },
   "outputs": [],
   "source": [
    "# Create and deploy interactive data applications\n",
    "\n",
    "from IPython.display import IFrame\n",
    "IFrame('https://demo.bokeh.org/sliders', width=900, height=500)"
   ]
  },
  {
   "cell_type": "code",
   "execution_count": null,
   "id": "438a003a",
   "metadata": {},
   "outputs": [],
   "source": []
  }
 ],
 "metadata": {
  "kernelspec": {
   "display_name": "py39",
   "language": "python",
   "name": "py39"
  },
  "language_info": {
   "codemirror_mode": {
    "name": "ipython",
    "version": 3
   },
   "file_extension": ".py",
   "mimetype": "text/x-python",
   "name": "python",
   "nbconvert_exporter": "python",
   "pygments_lexer": "ipython3",
   "version": "3.8.8"
  },
  "toc": {
   "base_numbering": "21",
   "nav_menu": {},
   "number_sections": true,
   "sideBar": true,
   "skip_h1_title": false,
   "title_cell": "Table of Contents",
   "title_sidebar": "Contents",
   "toc_cell": false,
   "toc_position": {},
   "toc_section_display": true,
   "toc_window_display": true
  },
  "varInspector": {
   "cols": {
    "lenName": 16,
    "lenType": 16,
    "lenVar": 40
   },
   "kernels_config": {
    "python": {
     "delete_cmd_postfix": "",
     "delete_cmd_prefix": "del ",
     "library": "var_list.py",
     "varRefreshCmd": "print(var_dic_list())"
    },
    "r": {
     "delete_cmd_postfix": ") ",
     "delete_cmd_prefix": "rm(",
     "library": "var_list.r",
     "varRefreshCmd": "cat(var_dic_list()) "
    }
   },
   "types_to_exclude": [
    "module",
    "function",
    "builtin_function_or_method",
    "instance",
    "_Feature"
   ],
   "window_display": false
  }
 },
 "nbformat": 4,
 "nbformat_minor": 5
}
