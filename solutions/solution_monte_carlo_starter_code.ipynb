{
 "cells": [
  {
   "cell_type": "markdown",
   "id": "a944fd42",
   "metadata": {
    "toc": true
   },
   "source": [
    "<h1>Table of Contents<span class=\"tocSkip\"></span></h1>\n",
    "<div class=\"toc\"><ul class=\"toc-item\"><li><span><a href=\"#New-Hill-climbing-Data\" data-toc-modified-id=\"New-Hill-climbing-Data-1\"><span class=\"toc-item-num\">1&nbsp;&nbsp;</span>New Hill-climbing Data</a></span></li></ul></div>"
   ]
  },
  {
   "cell_type": "code",
   "execution_count": 9,
   "id": "a86824ca",
   "metadata": {},
   "outputs": [],
   "source": [
    "import random\n",
    "import matplotlib.pyplot as plt\n",
    "from scipy.stats import norm, stats\n",
    "import numpy as np\n",
    "from statistics import mean"
   ]
  },
  {
   "cell_type": "code",
   "execution_count": 10,
   "id": "699d3711",
   "metadata": {},
   "outputs": [],
   "source": [
    "# Same as original\n",
    "def generate_obs(x):\n",
    "    \"Return a single point from the distributino\"\n",
    "    return (0.3 * norm(35, 5).pdf(x)  + \\\n",
    "            0.7 * norm(60, 5).pdf(x)) * \\\n",
    "                200\n",
    "\n",
    "# Same as original\n",
    "def query_data(lower=20, upper=80, n_obs=100, verbose=False, seed=1):\n",
    "    \" Generate a list of results of the generate_obs() function from random inputs\"\n",
    "    \n",
    "    random.seed(seed)\n",
    "    \n",
    "    # Use random.uniform() to create random values and create a list\n",
    "    observations = []\n",
    "    x = [random.uniform(lower, upper) for _ in range(n_obs)]\n",
    "    \n",
    "    # Sort the list.  That will make our plot actually readable.\n",
    "    #   NB:  x.sort() returns None so we can't add sort() to our definition of x\n",
    "    x.sort()\n",
    "    \n",
    "    # Runs through our random inputs and remenbers the results\n",
    "    for xval in x:                \n",
    "        obs = generate_obs(xval)\n",
    "        observations.append(obs) \n",
    "        if verbose:  \n",
    "            print(f\"f({xval:2.3f}) = {obs:2.3f}\")\n",
    "            \n",
    "    return x, observations  \n",
    "\n",
    "# Same as original\n",
    "def get_max_xy(xy_arr):\n",
    "    \" Input is two-col ndarray.  Cols: [x, f(x)].  Returns x and f(x) at max f(x) value.\"\n",
    "    \n",
    "    max_row = xy_arr[np.where(xy[:,1] == np.max(xy_arr[:,1]))][0]\n",
    "    x_max, y_max = max_row[0], max_row[1]\n",
    "\n",
    "    return x_max, y_max\n",
    "\n",
    "# Same as original\n",
    "def next_x_vals(guess, frame=3, step=1, direction='up', samples=None):\n",
    "    \"\"\"Create and return a vector such that each element is 'step' different\n",
    "         from the last, starting at guess +/- step, depending on the \n",
    "         'direction'.  The length of the vector is 'frame'.  \"\"\"\n",
    "    \n",
    "    return_list = []\n",
    "    for ix in range(frame ):\n",
    "        if direction == 'up':\n",
    "            return_list.append(guess + ix * step)\n",
    "        else:\n",
    "            return_list.append(guess - ix * step)\n",
    "            \n",
    "    return return_list\n",
    "            \n",
    " # Same as original   \n",
    "def next_y_vals(next_x_vals, func):\n",
    "    \"\"\" Given a vector of next_x_vals and a function, create and return a vector of f(x).\"\"\"\n",
    "    \n",
    "    return_vector = []\n",
    "    \n",
    "    for x in next_x_vals:\n",
    "        return_vector.append(func(x))        \n",
    "    return return_vector\n",
    "\n",
    "def ORIGINAL_gradient_search_max(guess, func, lower_bound, upper_bound, step, frame, direction=None):\n",
    "    \"\"\"Conduct a gradient search to find max value of a solution space.\"\"\"  \n",
    "    \n",
    "    DEBUG = False\n",
    "    \n",
    "    # Remember the oringinal guess\n",
    "    original_guess = guess\n",
    "    original_result = func(original_guess)\n",
    "    if DEBUG: print(f\"current: x {original_guess:.2f}   y {original_result:.2f}\")\n",
    "    \n",
    "    # Find x values for a few steps higher and lower than current guess.\n",
    "    x_going_up = next_x_vals(guess, frame, step, 'up')\n",
    "    x_going_down = next_x_vals(guess, frame, step, 'down')\n",
    "    if DEBUG: print(x_going_up, x_going_down)\n",
    "    \n",
    "    \n",
    "    # Find corresponding mean y values\n",
    "    y_going_up = mean(next_y_vals(x_going_up, func))\n",
    "    y_going_down = mean(next_y_vals(x_going_down, func))\n",
    "    if DEBUG: print(f\"y_going_down: {y_going_down:.2f}  y_going_up: {y_going_up:.2f} \")\n",
    "    \n",
    "    \n",
    "    # Figure out if we're going up or down\n",
    "    if direction is None:\n",
    "        if y_going_up >= original_result and y_going_up >= y_going_down:\n",
    "            direction = 'up'\n",
    "        if y_going_down > original_result and y_going_up < y_going_down:\n",
    "            direction = 'down' \n",
    "        print(f\"We're searching {direction}.\")\n",
    "    \n",
    "    # Adjust the guess as needed\n",
    "    if direction == 'up' and y_going_up >= original_result:\n",
    "        guess = original_guess + step\n",
    "    elif direction == 'down'  and y_going_down >= original_result:\n",
    "        guess = original_guess - step\n",
    "            \n",
    "    # We'll keep going if the guess changed and it's within bounds. Otherwise we're done.\n",
    "    if guess != original_guess and guess >= lower_bound and guess <= upper_bound:\n",
    "        print(f\"Current answer:  x: {guess:.2f}  y: {func(guess):.2f}\")\n",
    "        gradient_search_max(guess, func, lower_bound, upper_bound, step, frame, direction=direction)\n",
    "        \n",
    "    else:\n",
    "        print(f\"Final answer:  x: {guess:.2f}  y: {func(guess):.2f}\")\n",
    "        return guess"
   ]
  },
  {
   "cell_type": "code",
   "execution_count": 11,
   "id": "7d385aae",
   "metadata": {},
   "outputs": [],
   "source": [
    "# Create our actual PDF (probability density function)\n",
    "X_plot = np.linspace(10, 100, 1000)[:, np.newaxis]\n",
    "\n",
    "true_dens = (0.3 * norm(35, 5).pdf(X_plot[:, 0])  + \\\n",
    "             0.7 * norm(60, 5).pdf(X_plot[:, 0])) * \\\n",
    "            200"
   ]
  },
  {
   "cell_type": "code",
   "execution_count": 12,
   "id": "3573c55d",
   "metadata": {},
   "outputs": [],
   "source": [
    "# Set our search range\n",
    "n_obs = 10    \n",
    "lower = 20\n",
    "upper = 75\n",
    "\n",
    "# Query the data\n",
    "x, obs = query_data (lower=lower, upper=upper, n_obs=n_obs, verbose=False) \n",
    "obs_array = np.array(obs)\n",
    "\n",
    "# Get an array of the x,y values\n",
    "xy = np.stack((np.array(x), obs_array), axis=1)\n",
    "\n",
    "# Figure out the values of x and y where y is at its max\n",
    "x_max, y_max = get_max_xy(xy)\n",
    "\n",
    "# Set some initial values\n",
    "guess0 = x_max\n",
    "result0 = y_max\n",
    "step = 1\n",
    "frame = 3\n",
    "guess = x_max"
   ]
  },
  {
   "cell_type": "code",
   "execution_count": 15,
   "id": "04133022",
   "metadata": {},
   "outputs": [
    {
     "name": "stdout",
     "output_type": "stream",
     "text": [
      "We're searching down.\n",
      "Current answer:  x: 61.01  y: 10.95\n",
      "Current answer:  x: 60.01  y: 11.17\n",
      "Final answer:  x: 60.01  y: 11.17\n"
     ]
    }
   ],
   "source": [
    "ORIGINAL_gradient_search_max(guess, func, lower_bound_gradient, upper_bound_gradient, step, frame)"
   ]
  },
  {
   "cell_type": "code",
   "execution_count": 16,
   "id": "b1205aaa",
   "metadata": {},
   "outputs": [
    {
     "name": "stdout",
     "output_type": "stream",
     "text": [
      "true max value: 11.17\n"
     ]
    }
   ],
   "source": [
    "# The actual max of the true PDF:\n",
    "print(f\"true max value: {stats.describe(true_dens).minmax[1]:.2f}\")"
   ]
  },
  {
   "cell_type": "code",
   "execution_count": null,
   "id": "672539a0",
   "metadata": {},
   "outputs": [],
   "source": []
  }
 ],
 "metadata": {
  "kernelspec": {
   "display_name": "py39",
   "language": "python",
   "name": "py39"
  },
  "language_info": {
   "codemirror_mode": {
    "name": "ipython",
    "version": 3
   },
   "file_extension": ".py",
   "mimetype": "text/x-python",
   "name": "python",
   "nbconvert_exporter": "python",
   "pygments_lexer": "ipython3",
   "version": "3.8.8"
  },
  "toc": {
   "base_numbering": 1,
   "nav_menu": {},
   "number_sections": true,
   "sideBar": true,
   "skip_h1_title": false,
   "title_cell": "Table of Contents",
   "title_sidebar": "Contents",
   "toc_cell": true,
   "toc_position": {},
   "toc_section_display": true,
   "toc_window_display": true
  }
 },
 "nbformat": 4,
 "nbformat_minor": 5
}
