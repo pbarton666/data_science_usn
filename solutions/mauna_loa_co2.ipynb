{
 "cells": [
  {
   "cell_type": "code",
   "execution_count": 6,
   "id": "a3f9bb3b",
   "metadata": {},
   "outputs": [],
   "source": [
    "import pandas as pd\n",
    "from numpy import nan\n",
    "import matplotlib.pyplot as plt"
   ]
  },
  {
   "cell_type": "code",
   "execution_count": 11,
   "id": "77e5ca8a",
   "metadata": {},
   "outputs": [],
   "source": [
    "ppm = [317, 317, 319, 319, 320, 321, -99, 322, 323, 324, 325, 326,\n",
    "       328, 327, 329, 331, 332, 333, 334, 336, 337, 338, 340, 342,\n",
    "       343, 345, -99, 348, 349, 351, 353, 355, 356, 358, 359, 359,\n",
    "       361, 363, 364, 366, 368, 370, 371, 373, 375, 377, 380, 382,\n",
    "       384, 386, 387, 389, 392, 393, 396, 398, 401, 403, 407, 409]"
   ]
  },
  {
   "cell_type": "code",
   "execution_count": 12,
   "id": "6271e3f9",
   "metadata": {},
   "outputs": [
    {
     "name": "stdout",
     "output_type": "stream",
     "text": [
      "[1958, 1959, 1960, 1961, 1962, 1963, 1964, 1965, 1966, 1967, 1968, 1969, 1970, 1971, 1972, 1973, 1974, 1975, 1976, 1977, 1978, 1979, 1980, 1981, 1982, 1983, 1984, 1985, 1986, 1987, 1988, 1989, 1990, 1991, 1992, 1993, 1994, 1995, 1996, 1997, 1998, 1999, 2000, 2001, 2002, 2003, 2004, 2005, 2006, 2007, 2008, 2009, 2010, 2011, 2012, 2013, 2014, 2015, 2016, 2017]\n"
     ]
    }
   ],
   "source": [
    "# make an index with list comprehension\n",
    "index = [year for year in range(1958, 2018)]\n",
    "print(index)"
   ]
  },
  {
   "cell_type": "code",
   "execution_count": 14,
   "id": "f34a850e",
   "metadata": {
    "collapsed": true
   },
   "outputs": [
    {
     "name": "stdout",
     "output_type": "stream",
     "text": [
      "1958    317\n",
      "1959    317\n",
      "1960    319\n",
      "1961    319\n",
      "1962    320\n",
      "1963    321\n",
      "1964    -99\n",
      "1965    322\n",
      "1966    323\n",
      "1967    324\n",
      "1968    325\n",
      "1969    326\n",
      "1970    328\n",
      "1971    327\n",
      "1972    329\n",
      "1973    331\n",
      "1974    332\n",
      "1975    333\n",
      "1976    334\n",
      "1977    336\n",
      "1978    337\n",
      "1979    338\n",
      "1980    340\n",
      "1981    342\n",
      "1982    343\n",
      "1983    345\n",
      "1984    -99\n",
      "1985    348\n",
      "1986    349\n",
      "1987    351\n",
      "1988    353\n",
      "1989    355\n",
      "1990    356\n",
      "1991    358\n",
      "1992    359\n",
      "1993    359\n",
      "1994    361\n",
      "1995    363\n",
      "1996    364\n",
      "1997    366\n",
      "1998    368\n",
      "1999    370\n",
      "2000    371\n",
      "2001    373\n",
      "2002    375\n",
      "2003    377\n",
      "2004    380\n",
      "2005    382\n",
      "2006    384\n",
      "2007    386\n",
      "2008    387\n",
      "2009    389\n",
      "2010    392\n",
      "2011    393\n",
      "2012    396\n",
      "2013    398\n",
      "2014    401\n",
      "2015    403\n",
      "2016    407\n",
      "2017    409\n",
      "dtype: int64\n"
     ]
    }
   ],
   "source": [
    "# convert to a Series\n",
    "ser = pd.Series(data=ppm, index=index)\n",
    "print(ser)"
   ]
  },
  {
   "cell_type": "code",
   "execution_count": 19,
   "id": "cd206cd8",
   "metadata": {},
   "outputs": [],
   "source": [
    "# get rid of the bad data\n",
    "ser.replace(-99, nan, inplace=True)"
   ]
  },
  {
   "cell_type": "code",
   "execution_count": 20,
   "id": "fba6016e",
   "metadata": {},
   "outputs": [],
   "source": [
    "# use slice operations to pick off the first/last 10 values, then get the average\n",
    "first_10_mean = ser[:10].mean()\n",
    "last_10_mean = ser[-10:].mean()"
   ]
  },
  {
   "cell_type": "code",
   "execution_count": 21,
   "id": "3cb204de",
   "metadata": {},
   "outputs": [
    {
     "name": "stdout",
     "output_type": "stream",
     "text": [
      "Average CO2 1958 to 1968: 320\n",
      "Average CO2 2008 to 2017: 398\n"
     ]
    }
   ],
   "source": [
    "# print stats\n",
    "stg = \"Average CO2 {} to {}: {}\"\n",
    "print(stg.format(index[0], index[10], round(first_10_mean)))\n",
    "print(stg.format(index[-10], index[-1], round(last_10_mean)))"
   ]
  },
  {
   "cell_type": "code",
   "execution_count": 22,
   "id": "60946e5f",
   "metadata": {},
   "outputs": [
    {
     "data": {
      "image/png": "[encoded data removed]",
      "text/plain": [
       "<Figure size 432x288 with 1 Axes>"
      ]
     },
     "metadata": {
      "needs_background": "light"
     },
     "output_type": "display_data"
    }
   ],
   "source": [
    "# make a bar chart\n",
    "plt.bar(index, ser.values)\n",
    "plt.show()"
   ]
  }
 ],
 "metadata": {
  "kernelspec": {
   "display_name": "py39",
   "language": "python",
   "name": "py39"
  },
  "language_info": {
   "codemirror_mode": {
    "name": "ipython",
    "version": 3
   },
   "file_extension": ".py",
   "mimetype": "text/x-python",
   "name": "python",
   "nbconvert_exporter": "python",
   "pygments_lexer": "ipython3",
   "version": "3.8.8"
  },
  "toc": {
   "base_numbering": 1,
   "nav_menu": {},
   "number_sections": true,
   "sideBar": true,
   "skip_h1_title": false,
   "title_cell": "Table of Contents",
   "title_sidebar": "Contents",
   "toc_cell": false,
   "toc_position": {
    "height": "calc(100% - 180px)",
    "left": "10px",
    "top": "150px",
    "width": "353.2px"
   },
   "toc_section_display": true,
   "toc_window_display": true
  },
  "varInspector": {
   "cols": {
    "lenName": 16,
    "lenType": 16,
    "lenVar": 40
   },
   "kernels_config": {
    "python": {
     "delete_cmd_postfix": "",
     "delete_cmd_prefix": "del ",
     "library": "var_list.py",
     "varRefreshCmd": "print(var_dic_list())"
    },
    "r": {
     "delete_cmd_postfix": ") ",
     "delete_cmd_prefix": "rm(",
     "library": "var_list.r",
     "varRefreshCmd": "cat(var_dic_list()) "
    }
   },
   "types_to_exclude": [
    "module",
    "function",
    "builtin_function_or_method",
    "instance",
    "_Feature"
   ],
   "window_display": false
  }
 },
 "nbformat": 4,
 "nbformat_minor": 5
}
