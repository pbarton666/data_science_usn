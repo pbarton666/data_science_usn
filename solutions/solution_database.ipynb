{
 "cells": [
  {
   "cell_type": "code",
   "execution_count": 37,
   "id": "a598f3be",
   "metadata": {},
   "outputs": [
    {
     "data": {
      "text/plain": [
       "'data\\\\py_baseball_data.csv'"
      ]
     },
     "execution_count": 37,
     "metadata": {},
     "output_type": "execute_result"
    }
   ],
   "source": [
    "import os\n",
    "import sqlite3\n",
    "import csv\n",
    "\n",
    "DB = 'db'\n",
    "TABLE = 'baseball'\n",
    "\n",
    "path = 'data'\n",
    "fn = 'py_baseball_data.csv'\n",
    "file_path = os.path.join( path, fn)\n",
    "file_path"
   ]
  },
  {
   "cell_type": "code",
   "execution_count": 38,
   "id": "080017d1",
   "metadata": {},
   "outputs": [],
   "source": [
    "def create_database(file_path, db, table):\n",
    "    \"\"\"\n",
    "    Creates a database w/ table loaded with file data.\n",
    "    \n",
    "    :param str filepath:  Fully-specified path/to/file\n",
    "    :param str db:  Name of database to be created\n",
    "    :param str table: Name of the database table to be created\n",
    "    :return: None   \n",
    "    \"\"\"\n",
    "    \n",
    "    # connect to the database\n",
    "    conn = sqlite3.connect(db)\n",
    "    curs = conn.cursor()\n",
    "\n",
    "    # Set up a data table\n",
    "    cmd = \"DROP TABLE IF EXISTS {}\".format(table)\n",
    "    curs.execute(cmd)\n",
    "\n",
    "    cmd = \"\"\"CREATE TABLE {}\n",
    "                         (year   INT, \n",
    "                          month  INT, \n",
    "                          day    INT, \n",
    "                          last   TEXT(20), \n",
    "                          first  TEXT(20), \n",
    "                          team   TEXT(30), \n",
    "                          league TEXT(2)\n",
    "                          )\"\"\".format(table)\n",
    "    curs.execute(cmd)\n",
    "    conn.commit()\n",
    "\n",
    "    # Capture the column names\n",
    "    cmd = f\"SELECT * FROM {table}\"\n",
    "    curs.execute(cmd)\n",
    "\n",
    "    cols = []\n",
    "    for name in curs.description:\n",
    "        cols.append(name[0])\n",
    "    cols = tuple(cols)\n",
    "\n",
    "    # open the file and read it, dropping each row into the data table\n",
    "    with open(file_path, 'r') as data_file:\n",
    "        \n",
    "        # Open the file with the reader and skip the header row\n",
    "        reader = csv.reader(data_file)\n",
    "        next(reader)  \n",
    "        \n",
    "        # Iterate through the data, inserting it into the db.\n",
    "        for data in reader:\n",
    "            # create tuples for our data and column values\n",
    "            cmd = f\"INSERT INTO {table} {cols} VALUES (?, ?, ?, ?, ?, ?, ?) \"\n",
    "            curs.execute(cmd, tuple(data))\n",
    "            \n",
    "    conn.commit()\n",
    "    conn.close()"
   ]
  },
  {
   "cell_type": "code",
   "execution_count": 39,
   "id": "fe929c59",
   "metadata": {},
   "outputs": [],
   "source": [
    "def get_nh_results_nl_after_june(db, table):\n",
    "    \n",
    "    \"\"\"\n",
    "    Queries a database.\n",
    "    \n",
    "    :param str db:  Name of database to be queried\n",
    "    :param str table: Name of the database table to be queried\n",
    "    :return list results:  Tuples of results\n",
    "    \n",
    "    \"\"\"    \n",
    "    \"dig out the ho-hitters after June by NL teams\"\n",
    "    conn = sqlite3.connect(db)\n",
    "    curs = conn.cursor()\n",
    "    cmd = \"SELECT * FROM {} WHERE league='NL' AND month>6\".format(table)\n",
    "    curs.execute(cmd)\n",
    "\n",
    "    results = curs.fetchall()\n",
    "    return results"
   ]
  },
  {
   "cell_type": "code",
   "execution_count": 40,
   "id": "b77d4d91",
   "metadata": {},
   "outputs": [
    {
     "name": "stdout",
     "output_type": "stream",
     "text": [
      "[(2014, 9, 28, 'Zimmermann', ' Jordan', 'Washington', 'NL'), (2015, 7, 25, 'Hamels', 'Cole', 'Philadelphia', 'NL'), (2015, 8, 30, 'Arrieta', ' Jake', 'Chicago', 'NL'), (2015, 10, 3, 'Scherzer', ' Max', 'Washington', 'NL')]\n"
     ]
    }
   ],
   "source": [
    "# Execute our creation and query routines\n",
    "\n",
    "create_database(file_path, DB, TABLE)\n",
    "results = get_nh_results_nl_after_june(DB, TABLE)\n",
    "\n",
    "print(results)"
   ]
  }
 ],
 "metadata": {
  "kernelspec": {
   "display_name": "py39",
   "language": "python",
   "name": "py39"
  },
  "language_info": {
   "codemirror_mode": {
    "name": "ipython",
    "version": 3
   },
   "file_extension": ".py",
   "mimetype": "text/x-python",
   "name": "python",
   "nbconvert_exporter": "python",
   "pygments_lexer": "ipython3",
   "version": "3.8.8"
  },
  "toc": {
   "base_numbering": 1,
   "nav_menu": {},
   "number_sections": true,
   "sideBar": true,
   "skip_h1_title": false,
   "title_cell": "Table of Contents",
   "title_sidebar": "Contents",
   "toc_cell": false,
   "toc_position": {},
   "toc_section_display": true,
   "toc_window_display": true
  },
  "varInspector": {
   "cols": {
    "lenName": 16,
    "lenType": 16,
    "lenVar": 40
   },
   "kernels_config": {
    "python": {
     "delete_cmd_postfix": "",
     "delete_cmd_prefix": "del ",
     "library": "var_list.py",
     "varRefreshCmd": "print(var_dic_list())"
    },
    "r": {
     "delete_cmd_postfix": ") ",
     "delete_cmd_prefix": "rm(",
     "library": "var_list.r",
     "varRefreshCmd": "cat(var_dic_list()) "
    }
   },
   "types_to_exclude": [
    "module",
    "function",
    "builtin_function_or_method",
    "instance",
    "_Feature"
   ],
   "window_display": false
  }
 },
 "nbformat": 4,
 "nbformat_minor": 5
}
