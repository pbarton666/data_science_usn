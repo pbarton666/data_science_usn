{
 "cells": [
  {
   "cell_type": "code",
   "execution_count": 1,
   "id": "7eab395d",
   "metadata": {},
   "outputs": [
    {
     "name": "stdout",
     "output_type": "stream",
     "text": [
      "fires snuffed: 16\n",
      "\n"
     ]
    }
   ],
   "source": [
    "# how many fires?\n",
    "buckets_per_fire = 3\n",
    "buckets_available = 50\n",
    "\n",
    "# use modulo operator to scrap remainder, then convert to an int type\n",
    "whole_fires = buckets_available - buckets_available % buckets_per_fire\n",
    "fires_snuffed = int(whole_fires / buckets_per_fire)\n",
    "print(\"fires snuffed: {}\\n\".format(fires_snuffed))"
   ]
  },
  {
   "cell_type": "code",
   "execution_count": 2,
   "id": "35764fb8",
   "metadata": {},
   "outputs": [
    {
     "name": "stdout",
     "output_type": "stream",
     "text": [
      "calculating 'hi' + 'hi' =  hihi\n",
      "calculating 3.0 + 3.0 =  6.0\n",
      "calculating (1+2j) + (2+3j) =  (3+5j)\n",
      "\n"
     ]
    }
   ],
   "source": [
    "# which operators work, and what's the result?\n",
    "\n",
    "# \"+\" operator\n",
    "print(\"calculating 'hi' + 'hi' = \", \"hi\" + \"hi\")\n",
    "print(\"calculating 3.0 + 3.0 = \", 3.0+3.0)\n",
    "print(\"calculating (1+2j) + (2+3j) = \", (1+2j) + (2+3j))\n",
    "print()"
   ]
  },
  {
   "cell_type": "code",
   "execution_count": 3,
   "id": "0faea320",
   "metadata": {},
   "outputs": [
    {
     "name": "stdout",
     "output_type": "stream",
     "text": [
      "calculating 3.0 - 3.0 =  0.0\n",
      "calculating (1-2j) - (2-3j) =  (-1+1j)\n",
      "\n"
     ]
    }
   ],
   "source": [
    "print(\"calculating 3.0 - 3.0 = \", 3.0-3.0)\n",
    "print(\"calculating (1-2j) - (2-3j) = \", (1-2j) - (2-3j))\n",
    "print()"
   ]
  },
  {
   "cell_type": "code",
   "execution_count": 4,
   "id": "98475ee6",
   "metadata": {},
   "outputs": [
    {
     "name": "stdout",
     "output_type": "stream",
     "text": [
      "calculating 3.0 / 3.0 =  1.0\n",
      "calculating (1/2j) / (2/3j) =  (0.75-0j)\n",
      "\n",
      "calculating 3.0 - 3.0 =  0.0\n",
      "calculating (1-2j) - (2-3j) =  (-1+1j)\n",
      "\n",
      "calculating 'hi' * 2 =  hihi\n",
      "calculating 3.0 * 3.0 =  9.0\n",
      "calculating (1*2j) * (2*3j) =  (-12+0j)\n",
      "Hi, what's your name?...pat\n",
      "And what's your sign?...aires\n",
      "What do you like to drink?...ipa\n",
      "So your name is pat, you are a aires, and you like to drink ipa. Right?  yep\n",
      "You said yep.  Awesome!\n"
     ]
    }
   ],
   "source": [
    "\n",
    "\n",
    "\n",
    "\n",
    "\n",
    "print(\"calculating 3.0 / 3.0 = \", 3.0/3.0)\n",
    "print(\"calculating (1/2j) / (2/3j) = \", (1/2j) / (2/3j))\n",
    "print()\n",
    "\n",
    "print(\"calculating 3.0 - 3.0 = \", 3.0-3.0)\n",
    "print(\"calculating (1-2j) - (2-3j) = \", (1-2j) - (2-3j))\n",
    "print()\n",
    "print(\"calculating 'hi' * 2 = \", \"hi\" * 2)\n",
    "print(\"calculating 3.0 * 3.0 = \", 3.0*3.0)\n",
    "print(\"calculating (1*2j) * (2*3j) = \", (1*2j) * (2*3j))\n",
    "\n",
    "\n",
    "# Dialog\n",
    "name = input(\"Hi, what's your name?...\")\n",
    "sign = input(\"And what's your sign?...\")\n",
    "fav_bev = input(\"What do you like to drink?...\")\n",
    "\n",
    "# Note the use of \\ below.  This allows line continuation.\n",
    "summary =    \"So your name is \" + name + \", \" \\\n",
    "            \"you are a \" + sign + \", \" \\\n",
    "            \"and you like to drink \" + fav_bev + \". \" \\\n",
    "            \"Right?  \"\n",
    "answer = input(summary)\n",
    "print(\"You said \" + answer + \".  Awesome!\")"
   ]
  },
  {
   "cell_type": "code",
   "execution_count": null,
   "id": "d475f626",
   "metadata": {},
   "outputs": [],
   "source": []
  }
 ],
 "metadata": {
  "kernelspec": {
   "display_name": "py39",
   "language": "python",
   "name": "py39"
  },
  "language_info": {
   "codemirror_mode": {
    "name": "ipython",
    "version": 3
   },
   "file_extension": ".py",
   "mimetype": "text/x-python",
   "name": "python",
   "nbconvert_exporter": "python",
   "pygments_lexer": "ipython3",
   "version": "3.8.8"
  },
  "toc": {
   "base_numbering": 1,
   "nav_menu": {},
   "number_sections": true,
   "sideBar": true,
   "skip_h1_title": false,
   "title_cell": "Table of Contents",
   "title_sidebar": "Contents",
   "toc_cell": false,
   "toc_position": {},
   "toc_section_display": true,
   "toc_window_display": true
  },
  "varInspector": {
   "cols": {
    "lenName": 16,
    "lenType": 16,
    "lenVar": 40
   },
   "kernels_config": {
    "python": {
     "delete_cmd_postfix": "",
     "delete_cmd_prefix": "del ",
     "library": "var_list.py",
     "varRefreshCmd": "print(var_dic_list())"
    },
    "r": {
     "delete_cmd_postfix": ") ",
     "delete_cmd_prefix": "rm(",
     "library": "var_list.r",
     "varRefreshCmd": "cat(var_dic_list()) "
    }
   },
   "types_to_exclude": [
    "module",
    "function",
    "builtin_function_or_method",
    "instance",
    "_Feature"
   ],
   "window_display": false
  }
 },
 "nbformat": 4,
 "nbformat_minor": 5
}
