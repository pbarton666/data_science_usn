{
 "cells": [
  {
   "cell_type": "code",
   "execution_count": 3,
   "id": "d78302ea",
   "metadata": {},
   "outputs": [],
   "source": [
    "def fixer_upper(lst):\n",
    "    \"fix Python's funky string casing functionality\"\n",
    "    new_titles = []\n",
    "    for title in lst:\n",
    "        fixed = \"\"  # an empty string to hold the fixed title\n",
    "        for word in title.split():\n",
    "            # knock it to lower case for eash of handling\n",
    "            word = word.lower()\n",
    "            # if it's a long word, cap the first character if it's not \"noble\"\n",
    "            if len(word) > 3:\n",
    "                if not word.startswith('von') and not word.startswith('van'):\n",
    "                    word = word[0].upper()+word[1:]\n",
    "            # if there's an apostrophe, cap the next letter if it's not an \"s\"\n",
    "            position = word.find(\"'\")\n",
    "            if position >= 0:  # apostrophe found\n",
    "                if word[position+1] != 's':\n",
    "                    # up to and including ' + next letter + rest of word\n",
    "                    word = word[:position+1] + \\\n",
    "                        word[position+1].upper() + word[position+2:]\n",
    "\n",
    "            fixed += word + \" \"\n",
    "        # trim trailing space\n",
    "        fixed = fixed.strip()\n",
    "\n",
    "        new_titles.append(fixed)\n",
    "    return new_titles"
   ]
  },
  {
   "cell_type": "code",
   "execution_count": 2,
   "id": "a0039694",
   "metadata": {},
   "outputs": [
    {
     "data": {
      "text/plain": [
       "['shot in the dark',\n",
       " 'guido van rossum',\n",
       " \"monty python's life of brian\",\n",
       " \"pat's thing\",\n",
       " \"von RYAN's express\",\n",
       " 'Life of Brian',\n",
       " \"trials of o'malley\"]"
      ]
     },
     "execution_count": 2,
     "metadata": {},
     "output_type": "execute_result"
    }
   ],
   "source": [
    "# provide some titles to test out - note the extend() method\n",
    "lst = [\"shot in the dark\", \"guido van rossum\", \"monty python's life of brian\"]\n",
    "lst.extend([\"pat's thing\", \"von RYAN's express\",\n",
    "           \"Life of Brian\", \"trials of o'malley\"])\n",
    "lst"
   ]
  },
  {
   "cell_type": "code",
   "execution_count": 4,
   "id": "8c544130",
   "metadata": {},
   "outputs": [
    {
     "name": "stdout",
     "output_type": "stream",
     "text": [
      "old                             new                           \n",
      "====================            ====================          \n",
      "shot in the dark                Shot in the Dark              \n",
      "guido van rossum                Guido van Rossum              \n",
      "monty python's life of brian    Monty Python's Life of Brian  \n",
      "pat's thing                     Pat's Thing                   \n",
      "von RYAN's express              von Ryan's Express            \n",
      "Life of Brian                   Life of Brian                 \n",
      "trials of o'malley              Trials of O'Malley            \n"
     ]
    }
   ],
   "source": [
    "# provide some fancy formatting for a clean list of titles\n",
    "fmt = \"{:<30}  {:<30}\"\n",
    "print(fmt.format(\"old\", \"new\"))\n",
    "print(fmt.format(\"=\"*20, \"=\"*20))\n",
    "\n",
    "# have a look at the 'before' and 'after' - note the zip() function\n",
    "new_titles = fixer_upper(lst)\n",
    "for old, new in zip(lst, new_titles):\n",
    "    print(fmt.format(old, new))"
   ]
  },
  {
   "cell_type": "code",
   "execution_count": null,
   "id": "18f271e0",
   "metadata": {},
   "outputs": [],
   "source": []
  }
 ],
 "metadata": {
  "kernelspec": {
   "display_name": "py39",
   "language": "python",
   "name": "py39"
  },
  "language_info": {
   "codemirror_mode": {
    "name": "ipython",
    "version": 3
   },
   "file_extension": ".py",
   "mimetype": "text/x-python",
   "name": "python",
   "nbconvert_exporter": "python",
   "pygments_lexer": "ipython3",
   "version": "3.8.8"
  },
  "toc": {
   "base_numbering": 1,
   "nav_menu": {},
   "number_sections": true,
   "sideBar": true,
   "skip_h1_title": false,
   "title_cell": "Table of Contents",
   "title_sidebar": "Contents",
   "toc_cell": false,
   "toc_position": {},
   "toc_section_display": true,
   "toc_window_display": true
  },
  "varInspector": {
   "cols": {
    "lenName": 16,
    "lenType": 16,
    "lenVar": 40
   },
   "kernels_config": {
    "python": {
     "delete_cmd_postfix": "",
     "delete_cmd_prefix": "del ",
     "library": "var_list.py",
     "varRefreshCmd": "print(var_dic_list())"
    },
    "r": {
     "delete_cmd_postfix": ") ",
     "delete_cmd_prefix": "rm(",
     "library": "var_list.r",
     "varRefreshCmd": "cat(var_dic_list()) "
    }
   },
   "types_to_exclude": [
    "module",
    "function",
    "builtin_function_or_method",
    "instance",
    "_Feature"
   ],
   "window_display": false
  }
 },
 "nbformat": 4,
 "nbformat_minor": 5
}
