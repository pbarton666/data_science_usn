{
 "cells": [
  {
   "cell_type": "code",
   "execution_count": 5,
   "id": "fe36dd4d",
   "metadata": {},
   "outputs": [],
   "source": [
    "def sorter(key):\n",
    "    \"simply returns the value\"\n",
    "    return players[key][1]"
   ]
  },
  {
   "cell_type": "code",
   "execution_count": 6,
   "id": "5d5a9622",
   "metadata": {},
   "outputs": [
    {
     "data": {
      "text/plain": [
       "{185: ('Tyler', 'Chatwood'),\n",
       " 219: ('Luke', 'Farrell'),\n",
       " 190: ('Kyle', 'Hendricks')}"
      ]
     },
     "execution_count": 6,
     "metadata": {},
     "output_type": "execute_result"
    }
   ],
   "source": [
    "# A dict of our players\n",
    "\n",
    "players = {185: ('Tyler', 'Chatwood'),\n",
    "           219: ('Luke', 'Farrell'),\n",
    "           190: ('Kyle', 'Hendricks')}\n",
    "players"
   ]
  },
  {
   "cell_type": "code",
   "execution_count": 7,
   "id": "b5e56fac",
   "metadata": {},
   "outputs": [],
   "source": [
    "# Grab the keys and do a value-based sort\n",
    "key_list = list(players.keys())\n",
    "key_list.sort(key=sorter)"
   ]
  },
  {
   "cell_type": "code",
   "execution_count": 8,
   "id": "a9cae893",
   "metadata": {},
   "outputs": [
    {
     "name": "stdout",
     "output_type": "stream",
     "text": [
      "last            first           weight    \n",
      "--------        --------        --------  \n",
      "Chatwood        Tyler           185       \n",
      "Farrell         Luke            219       \n",
      "Hendricks       Kyle            190       \n"
     ]
    }
   ],
   "source": [
    "# Print it nicely\n",
    "fmt = \"{last:<15} {first:<15} {weight:<10}\"\n",
    "print(fmt.format(last=\"last\", first=\"first\", weight=\"weight\"))\n",
    "dashes = \"-\"*8\n",
    "print(fmt.format(first=dashes, last=dashes, weight=dashes))\n",
    "\n",
    "for key in key_list:\n",
    "    first, last = players[key]\n",
    "    print(fmt.format(first=first, last=last, weight=key))"
   ]
  },
  {
   "cell_type": "code",
   "execution_count": 9,
   "id": "0d3e7aa0",
   "metadata": {},
   "outputs": [
    {
     "data": {
      "text/plain": [
       "{'Hendricks': ('Kyle', 225),\n",
       " 'HeNDricks': ('Kyle', 225),\n",
       " 'Hendrix': ('Kyle', 225)}"
      ]
     },
     "execution_count": 9,
     "metadata": {},
     "output_type": "execute_result"
    }
   ],
   "source": [
    "# Scrambled Kyle\n",
    "players = {'Hendricks': ('Kyle', 225),\n",
    "           'HeNDricks': ('Kyle', 225),\n",
    "           'Hendrix': ('Kyle', 225)}\n",
    "players"
   ]
  },
  {
   "cell_type": "code",
   "execution_count": 11,
   "id": "7fc63996",
   "metadata": {},
   "outputs": [
    {
     "name": "stdout",
     "output_type": "stream",
     "text": [
      "last            first           weight    \n",
      "--------        --------        --------  \n",
      "hendricks       Kyle            225       \n",
      "hendrix         Kyle            225       \n"
     ]
    }
   ],
   "source": [
    "clean_keys = set()\n",
    "clean_dict = dict()\n",
    "\n",
    "# dedup by taking advantage that sets only allow unique values\n",
    "for key, value in players.items():\n",
    "    element_ct = len(clean_keys)  # \"before\"\n",
    "    first, weight = players[key]\n",
    "    clean_keys.add(key.lower())\n",
    "    if len(clean_keys) > element_ct:  # compare \"before\" length to \"after\"\n",
    "        # if the set grew, add (k,v) pair to new dict\n",
    "        clean_dict[key.lower()] = (first, weight)\n",
    "\n",
    "# print it out to see what we've got\n",
    "print(fmt.format(last=\"last\", first=\"first\", weight=\"weight\"))\n",
    "print(fmt.format(first=dashes, last=dashes, weight=dashes))\n",
    "\n",
    "for key in clean_dict.keys():\n",
    "    first, weight = clean_dict[key]\n",
    "    print(fmt.format(first=first, last=key, weight=weight))"
   ]
  },
  {
   "cell_type": "code",
   "execution_count": null,
   "id": "dcc34e98",
   "metadata": {},
   "outputs": [],
   "source": []
  }
 ],
 "metadata": {
  "kernelspec": {
   "display_name": "py39",
   "language": "python",
   "name": "py39"
  },
  "language_info": {
   "codemirror_mode": {
    "name": "ipython",
    "version": 3
   },
   "file_extension": ".py",
   "mimetype": "text/x-python",
   "name": "python",
   "nbconvert_exporter": "python",
   "pygments_lexer": "ipython3",
   "version": "3.8.8"
  },
  "toc": {
   "base_numbering": 1,
   "nav_menu": {},
   "number_sections": true,
   "sideBar": true,
   "skip_h1_title": false,
   "title_cell": "Table of Contents",
   "title_sidebar": "Contents",
   "toc_cell": false,
   "toc_position": {},
   "toc_section_display": true,
   "toc_window_display": true
  },
  "varInspector": {
   "cols": {
    "lenName": 16,
    "lenType": 16,
    "lenVar": 40
   },
   "kernels_config": {
    "python": {
     "delete_cmd_postfix": "",
     "delete_cmd_prefix": "del ",
     "library": "var_list.py",
     "varRefreshCmd": "print(var_dic_list())"
    },
    "r": {
     "delete_cmd_postfix": ") ",
     "delete_cmd_prefix": "rm(",
     "library": "var_list.r",
     "varRefreshCmd": "cat(var_dic_list()) "
    }
   },
   "types_to_exclude": [
    "module",
    "function",
    "builtin_function_or_method",
    "instance",
    "_Feature"
   ],
   "window_display": false
  }
 },
 "nbformat": 4,
 "nbformat_minor": 5
}
