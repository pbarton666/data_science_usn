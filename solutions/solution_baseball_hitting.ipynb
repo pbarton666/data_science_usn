{
 "cells": [
  {
   "cell_type": "markdown",
   "metadata": {},
   "source": [
    "### Import and load data"
   ]
  },
  {
   "cell_type": "code",
   "execution_count": 4,
   "metadata": {},
   "outputs": [
    {
     "data": {
      "text/html": [
       "<div>\n",
       "<style scoped>\n",
       "    .dataframe tbody tr th:only-of-type {\n",
       "        vertical-align: middle;\n",
       "    }\n",
       "\n",
       "    .dataframe tbody tr th {\n",
       "        vertical-align: top;\n",
       "    }\n",
       "\n",
       "    .dataframe thead th {\n",
       "        text-align: right;\n",
       "    }\n",
       "</style>\n",
       "<table border=\"1\" class=\"dataframe\">\n",
       "  <thead>\n",
       "    <tr style=\"text-align: right;\">\n",
       "      <th></th>\n",
       "      <th>name</th>\n",
       "      <th>team</th>\n",
       "      <th>pos</th>\n",
       "      <th>games</th>\n",
       "      <th>at_bat</th>\n",
       "      <th>pitches</th>\n",
       "      <th>bunts</th>\n",
       "      <th>gnd_dp</th>\n",
       "      <th>intl_walk</th>\n",
       "      <th>bb</th>\n",
       "      <th>k</th>\n",
       "      <th>bb_pct</th>\n",
       "      <th>bb_per_K</th>\n",
       "    </tr>\n",
       "  </thead>\n",
       "  <tbody>\n",
       "    <tr>\n",
       "      <th>0</th>\n",
       "      <td>Inciarte, Ender</td>\n",
       "      <td>ATL</td>\n",
       "      <td>OF</td>\n",
       "      <td>148</td>\n",
       "      <td>634</td>\n",
       "      <td>3.54</td>\n",
       "      <td>42</td>\n",
       "      <td>8</td>\n",
       "      <td>3</td>\n",
       "      <td>45</td>\n",
       "      <td>92</td>\n",
       "      <td>6.6</td>\n",
       "      <td>0.49</td>\n",
       "    </tr>\n",
       "    <tr>\n",
       "      <th>1</th>\n",
       "      <td>Lindor, Francisco</td>\n",
       "      <td>CLE</td>\n",
       "      <td>SS</td>\n",
       "      <td>151</td>\n",
       "      <td>620</td>\n",
       "      <td>3.78</td>\n",
       "      <td>14</td>\n",
       "      <td>11</td>\n",
       "      <td>6</td>\n",
       "      <td>56</td>\n",
       "      <td>90</td>\n",
       "      <td>8.3</td>\n",
       "      <td>0.62</td>\n",
       "    </tr>\n",
       "    <tr>\n",
       "      <th>2</th>\n",
       "      <td>Blackmon, Charlie</td>\n",
       "      <td>COL</td>\n",
       "      <td>OF</td>\n",
       "      <td>151</td>\n",
       "      <td>615</td>\n",
       "      <td>3.96</td>\n",
       "      <td>9</td>\n",
       "      <td>4</td>\n",
       "      <td>8</td>\n",
       "      <td>60</td>\n",
       "      <td>131</td>\n",
       "      <td>8.9</td>\n",
       "      <td>0.46</td>\n",
       "    </tr>\n",
       "  </tbody>\n",
       "</table>\n",
       "</div>"
      ],
      "text/plain": [
       "                name team pos  games  at_bat  pitches  bunts  gnd_dp  \\\n",
       "0    Inciarte, Ender  ATL  OF    148     634     3.54     42       8   \n",
       "1  Lindor, Francisco  CLE  SS    151     620     3.78     14      11   \n",
       "2  Blackmon, Charlie  COL  OF    151     615     3.96      9       4   \n",
       "\n",
       "   intl_walk  bb    k  bb_pct  bb_per_K  \n",
       "0          3  45   92     6.6      0.49  \n",
       "1          6  56   90     8.3      0.62  \n",
       "2          8  60  131     8.9      0.46  "
      ]
     },
     "execution_count": 4,
     "metadata": {},
     "output_type": "execute_result"
    }
   ],
   "source": [
    "import pandas as pd\n",
    "from numpy import nan\n",
    "import numpy as np\n",
    "import matplotlib.pyplot as plt\n",
    "import os\n",
    "from scipy import stats\n",
    "%matplotlib inline\n",
    "\n",
    "path = 'data'\n",
    "\n",
    "fn = os.path.join('..', path, \"baseball_stats.xls\")\n",
    "df = pd.read_excel(fn, usecols=\"A:M\")\n",
    "df\n",
    "df.head(3)"
   ]
  },
  {
   "cell_type": "code",
   "execution_count": 2,
   "metadata": {},
   "outputs": [
    {
     "data": {
      "text/html": [
       "<div>\n",
       "<style scoped>\n",
       "    .dataframe tbody tr th:only-of-type {\n",
       "        vertical-align: middle;\n",
       "    }\n",
       "\n",
       "    .dataframe tbody tr th {\n",
       "        vertical-align: top;\n",
       "    }\n",
       "\n",
       "    .dataframe thead th {\n",
       "        text-align: right;\n",
       "    }\n",
       "</style>\n",
       "<table border=\"1\" class=\"dataframe\">\n",
       "  <thead>\n",
       "    <tr style=\"text-align: right;\">\n",
       "      <th></th>\n",
       "      <th>name</th>\n",
       "      <th>team</th>\n",
       "      <th>pos</th>\n",
       "      <th>games</th>\n",
       "      <th>at_bat</th>\n",
       "      <th>pitches</th>\n",
       "      <th>bunts</th>\n",
       "      <th>gnd_dp</th>\n",
       "      <th>intl_walk</th>\n",
       "      <th>bb</th>\n",
       "      <th>k</th>\n",
       "      <th>bb_pct</th>\n",
       "      <th>bb_per_K</th>\n",
       "    </tr>\n",
       "  </thead>\n",
       "  <tbody>\n",
       "    <tr>\n",
       "      <th>0</th>\n",
       "      <td>Inciarte, Ender</td>\n",
       "      <td>ATL</td>\n",
       "      <td>OF</td>\n",
       "      <td>148</td>\n",
       "      <td>634</td>\n",
       "      <td>3.54</td>\n",
       "      <td>42</td>\n",
       "      <td>8</td>\n",
       "      <td>3</td>\n",
       "      <td>45</td>\n",
       "      <td>92</td>\n",
       "      <td>6.6</td>\n",
       "      <td>0.49</td>\n",
       "    </tr>\n",
       "    <tr>\n",
       "      <th>1</th>\n",
       "      <td>Lindor, Francisco</td>\n",
       "      <td>CLE</td>\n",
       "      <td>SS</td>\n",
       "      <td>151</td>\n",
       "      <td>620</td>\n",
       "      <td>3.78</td>\n",
       "      <td>14</td>\n",
       "      <td>11</td>\n",
       "      <td>6</td>\n",
       "      <td>56</td>\n",
       "      <td>90</td>\n",
       "      <td>8.3</td>\n",
       "      <td>0.62</td>\n",
       "    </tr>\n",
       "    <tr>\n",
       "      <th>2</th>\n",
       "      <td>Blackmon, Charlie</td>\n",
       "      <td>COL</td>\n",
       "      <td>OF</td>\n",
       "      <td>151</td>\n",
       "      <td>615</td>\n",
       "      <td>3.96</td>\n",
       "      <td>9</td>\n",
       "      <td>4</td>\n",
       "      <td>8</td>\n",
       "      <td>60</td>\n",
       "      <td>131</td>\n",
       "      <td>8.9</td>\n",
       "      <td>0.46</td>\n",
       "    </tr>\n",
       "    <tr>\n",
       "      <th>3</th>\n",
       "      <td>Gordon, Dee</td>\n",
       "      <td>MIA</td>\n",
       "      <td>2B</td>\n",
       "      <td>149</td>\n",
       "      <td>613</td>\n",
       "      <td>3.46</td>\n",
       "      <td>72</td>\n",
       "      <td>7</td>\n",
       "      <td>0</td>\n",
       "      <td>25</td>\n",
       "      <td>87</td>\n",
       "      <td>3.9</td>\n",
       "      <td>0.29</td>\n",
       "    </tr>\n",
       "    <tr>\n",
       "      <th>4</th>\n",
       "      <td>Betts, Mookie</td>\n",
       "      <td>BOS</td>\n",
       "      <td>OF</td>\n",
       "      <td>148</td>\n",
       "      <td>612</td>\n",
       "      <td>3.94</td>\n",
       "      <td>1</td>\n",
       "      <td>9</td>\n",
       "      <td>8</td>\n",
       "      <td>74</td>\n",
       "      <td>77</td>\n",
       "      <td>10.8</td>\n",
       "      <td>0.96</td>\n",
       "    </tr>\n",
       "    <tr>\n",
       "      <th>...</th>\n",
       "      <td>...</td>\n",
       "      <td>...</td>\n",
       "      <td>...</td>\n",
       "      <td>...</td>\n",
       "      <td>...</td>\n",
       "      <td>...</td>\n",
       "      <td>...</td>\n",
       "      <td>...</td>\n",
       "      <td>...</td>\n",
       "      <td>...</td>\n",
       "      <td>...</td>\n",
       "      <td>...</td>\n",
       "      <td>...</td>\n",
       "    </tr>\n",
       "    <tr>\n",
       "      <th>629</th>\n",
       "      <td>Nunez, Renato</td>\n",
       "      <td>OAK</td>\n",
       "      <td>3B</td>\n",
       "      <td>4</td>\n",
       "      <td>5</td>\n",
       "      <td>5.17</td>\n",
       "      <td>0</td>\n",
       "      <td>0</td>\n",
       "      <td>0</td>\n",
       "      <td>1</td>\n",
       "      <td>3</td>\n",
       "      <td>16.7</td>\n",
       "      <td>0.33</td>\n",
       "    </tr>\n",
       "    <tr>\n",
       "      <th>630</th>\n",
       "      <td>Andujar, Miguel</td>\n",
       "      <td>NYY</td>\n",
       "      <td>3B</td>\n",
       "      <td>3</td>\n",
       "      <td>5</td>\n",
       "      <td>4.67</td>\n",
       "      <td>0</td>\n",
       "      <td>0</td>\n",
       "      <td>0</td>\n",
       "      <td>1</td>\n",
       "      <td>0</td>\n",
       "      <td>16.7</td>\n",
       "      <td>0.00</td>\n",
       "    </tr>\n",
       "    <tr>\n",
       "      <th>631</th>\n",
       "      <td>Freeman, Mike</td>\n",
       "      <td>LAD</td>\n",
       "      <td>2B</td>\n",
       "      <td>4</td>\n",
       "      <td>5</td>\n",
       "      <td>3.80</td>\n",
       "      <td>0</td>\n",
       "      <td>0</td>\n",
       "      <td>0</td>\n",
       "      <td>0</td>\n",
       "      <td>2</td>\n",
       "      <td>0.0</td>\n",
       "      <td>0.00</td>\n",
       "    </tr>\n",
       "    <tr>\n",
       "      <th>632</th>\n",
       "      <td>Dickson, O'Koyea</td>\n",
       "      <td>LAD</td>\n",
       "      <td>1B</td>\n",
       "      <td>5</td>\n",
       "      <td>5</td>\n",
       "      <td>3.71</td>\n",
       "      <td>0</td>\n",
       "      <td>0</td>\n",
       "      <td>1</td>\n",
       "      <td>2</td>\n",
       "      <td>2</td>\n",
       "      <td>28.6</td>\n",
       "      <td>1.00</td>\n",
       "    </tr>\n",
       "    <tr>\n",
       "      <th>633</th>\n",
       "      <td>Reinheimer, Jack</td>\n",
       "      <td>ARI</td>\n",
       "      <td>SS</td>\n",
       "      <td>2</td>\n",
       "      <td>5</td>\n",
       "      <td>3.60</td>\n",
       "      <td>0</td>\n",
       "      <td>0</td>\n",
       "      <td>0</td>\n",
       "      <td>0</td>\n",
       "      <td>3</td>\n",
       "      <td>0.0</td>\n",
       "      <td>0.00</td>\n",
       "    </tr>\n",
       "  </tbody>\n",
       "</table>\n",
       "<p>634 rows × 13 columns</p>\n",
       "</div>"
      ],
      "text/plain": [
       "                  name team pos  games  at_bat  pitches  bunts  gnd_dp  \\\n",
       "0      Inciarte, Ender  ATL  OF    148     634     3.54     42       8   \n",
       "1    Lindor, Francisco  CLE  SS    151     620     3.78     14      11   \n",
       "2    Blackmon, Charlie  COL  OF    151     615     3.96      9       4   \n",
       "3          Gordon, Dee  MIA  2B    149     613     3.46     72       7   \n",
       "4        Betts, Mookie  BOS  OF    148     612     3.94      1       9   \n",
       "..                 ...  ...  ..    ...     ...      ...    ...     ...   \n",
       "629      Nunez, Renato  OAK  3B      4       5     5.17      0       0   \n",
       "630    Andujar, Miguel  NYY  3B      3       5     4.67      0       0   \n",
       "631      Freeman, Mike  LAD  2B      4       5     3.80      0       0   \n",
       "632   Dickson, O'Koyea  LAD  1B      5       5     3.71      0       0   \n",
       "633   Reinheimer, Jack  ARI  SS      2       5     3.60      0       0   \n",
       "\n",
       "     intl_walk  bb    k  bb_pct  bb_per_K  \n",
       "0            3  45   92     6.6      0.49  \n",
       "1            6  56   90     8.3      0.62  \n",
       "2            8  60  131     8.9      0.46  \n",
       "3            0  25   87     3.9      0.29  \n",
       "4            8  74   77    10.8      0.96  \n",
       "..         ...  ..  ...     ...       ...  \n",
       "629          0   1    3    16.7      0.33  \n",
       "630          0   1    0    16.7      0.00  \n",
       "631          0   0    2     0.0      0.00  \n",
       "632          1   2    2    28.6      1.00  \n",
       "633          0   0    3     0.0      0.00  \n",
       "\n",
       "[634 rows x 13 columns]"
      ]
     },
     "execution_count": 2,
     "metadata": {},
     "output_type": "execute_result"
    }
   ],
   "source": [
    "df"
   ]
  },
  {
   "cell_type": "markdown",
   "metadata": {},
   "source": [
    "### Have a look at the raw data and a couple stats"
   ]
  },
  {
   "cell_type": "code",
   "execution_count": 6,
   "metadata": {},
   "outputs": [
    {
     "name": "stdout",
     "output_type": "stream",
     "text": [
      "mean 8.29\n",
      "std 4.29\n",
      "original NormaltestResult(statistic=27.322761595776385, pvalue=1.1666422605455809e-06)\n"
     ]
    },
    {
     "data": {
      "text/plain": [
       "<AxesSubplot:>"
      ]
     },
     "execution_count": 6,
     "metadata": {},
     "output_type": "execute_result"
    },
    {
     "data": {
      "image/png": "[encoded data removed]",
      "text/plain": [
       "<Figure size 432x288 with 1 Axes>"
      ]
     },
     "metadata": {
      "needs_background": "light"
     },
     "output_type": "display_data"
    }
   ],
   "source": [
    "ser = df['bb_pct']\n",
    "\n",
    "print(\"mean\", round(ser.mean(), 2))\n",
    "print(\"std\",  round(ser.std(), 2))\n",
    "print('original', stats.normaltest(ser))\n",
    "\n",
    "ser.hist(bins=100)"
   ]
  },
  {
   "cell_type": "markdown",
   "metadata": {},
   "source": [
    "###  prune outliers"
   ]
  },
  {
   "cell_type": "code",
   "execution_count": 8,
   "metadata": {},
   "outputs": [
    {
     "name": "stdout",
     "output_type": "stream",
     "text": [
      "mean 8.68\n",
      "std 3.56\n"
     ]
    },
    {
     "data": {
      "image/png": "[encoded data removed]",
      "text/plain": [
       "<Figure size 432x288 with 1 Axes>"
      ]
     },
     "metadata": {
      "needs_background": "light"
     },
     "output_type": "display_data"
    }
   ],
   "source": [
    "fixed_ser = ser[(ser > 0) & (ser < 20)]\n",
    "fixed_ser.hist(bins=100)\n",
    "\n",
    "print(\"mean\", round(fixed_ser.mean(), 2))\n",
    "print(\"std\",  round(fixed_ser.std(), 2))"
   ]
  },
  {
   "cell_type": "code",
   "execution_count": 9,
   "metadata": {},
   "outputs": [
    {
     "name": "stdout",
     "output_type": "stream",
     "text": [
      "fixed NormaltestResult(statistic=16.739730736631476, pvalue=0.0002317467520934554)\n"
     ]
    }
   ],
   "source": [
    "print('fixed', stats.normaltest(fixed_ser))"
   ]
  },
  {
   "cell_type": "code",
   "execution_count": 11,
   "metadata": {},
   "outputs": [
    {
     "data": {
      "text/plain": [
       "<AxesSubplot:>"
      ]
     },
     "execution_count": 11,
     "metadata": {},
     "output_type": "execute_result"
    },
    {
     "data": {
      "image/png": "[encoded data removed]",
      "text/plain": [
       "<Figure size 432x288 with 1 Axes>"
      ]
     },
     "metadata": {
      "needs_background": "light"
     },
     "output_type": "display_data"
    }
   ],
   "source": [
    "# standardize the data\n",
    "mean = fixed_ser.mean()\n",
    "stdev = fixed_ser.std()\n",
    "norm = (fixed_ser-mean)/stdev\n",
    "norm.hist(bins=100)"
   ]
  },
  {
   "cell_type": "code",
   "execution_count": 12,
   "metadata": {},
   "outputs": [
    {
     "data": {
      "text/plain": [
       "<AxesSubplot:>"
      ]
     },
     "execution_count": 12,
     "metadata": {},
     "output_type": "execute_result"
    },
    {
     "data": {
      "image/png": "[encoded data removed]",
      "text/plain": [
       "<Figure size 432x288 with 1 Axes>"
      ]
     },
     "metadata": {
      "needs_background": "light"
     },
     "output_type": "display_data"
    }
   ],
   "source": [
    "# make a 3-sigma mask\n",
    "bmask = norm[(abs(norm) < 1)]\n",
    "new_norm = norm[bmask.index]\n",
    "new_norm.hist(bins=100)"
   ]
  },
  {
   "cell_type": "code",
   "execution_count": 13,
   "metadata": {},
   "outputs": [
    {
     "name": "stdout",
     "output_type": "stream",
     "text": [
      "mean 8.43\n",
      "std 1.99\n",
      "original NormaltestResult(statistic=237.73331806614715, pvalue=2.381583976404695e-52)\n"
     ]
    },
    {
     "data": {
      "text/plain": [
       "<AxesSubplot:>"
      ]
     },
     "execution_count": 13,
     "metadata": {},
     "output_type": "execute_result"
    },
    {
     "data": {
      "image/png": "[encoded data removed]",
      "text/plain": [
       "<Figure size 432x288 with 1 Axes>"
      ]
     },
     "metadata": {
      "needs_background": "light"
     },
     "output_type": "display_data"
    }
   ],
   "source": [
    "pruned_ser = ser[new_norm.index]\n",
    "\n",
    "print(\"mean\", round(pruned_ser.mean(), 2))\n",
    "print(\"std\",  round(pruned_ser.std(), 2))\n",
    "print('original', stats.normaltest(pruned_ser))\n",
    "pruned_ser.hist(bins=100)"
   ]
  },
  {
   "cell_type": "code",
   "execution_count": 16,
   "metadata": {},
   "outputs": [
    {
     "data": {
      "text/plain": [
       "<AxesSubplot:>"
      ]
     },
     "execution_count": 16,
     "metadata": {},
     "output_type": "execute_result"
    },
    {
     "data": {
      "image/png": "[encoded data removed]",
      "text/plain": [
       "<Figure size 432x288 with 1 Axes>"
      ]
     },
     "metadata": {
      "needs_background": "light"
     },
     "output_type": "display_data"
    }
   ],
   "source": [
    "# how does n affect normalicy stats?  \n",
    "results = []\n",
    "\n",
    "# Run the normalicy test with samples of different sizes\n",
    "for n in [x for x in range(20, 100, 1)]:\n",
    "    _, p = stats.normaltest(pruned_ser.sample(n))\n",
    "    results.append(p)\n",
    "    \n",
    "# Have a look    \n",
    "s = pd.Series(ls)\n",
    "s.plot.line()"
   ]
  }
 ],
 "metadata": {
  "kernelspec": {
   "display_name": "Python 3 (ipykernel)",
   "language": "python",
   "name": "python3"
  },
  "language_info": {
   "codemirror_mode": {
    "name": "ipython",
    "version": 3
   },
   "file_extension": ".py",
   "mimetype": "text/x-python",
   "name": "python",
   "nbconvert_exporter": "python",
   "pygments_lexer": "ipython3",
   "version": "3.9.5"
  },
  "toc": {
   "base_numbering": 1,
   "nav_menu": {},
   "number_sections": true,
   "sideBar": true,
   "skip_h1_title": false,
   "title_cell": "Table of Contents",
   "title_sidebar": "Contents",
   "toc_cell": false,
   "toc_position": {},
   "toc_section_display": true,
   "toc_window_display": true
  },
  "varInspector": {
   "cols": {
    "lenName": 16,
    "lenType": 16,
    "lenVar": 40
   },
   "kernels_config": {
    "python": {
     "delete_cmd_postfix": "",
     "delete_cmd_prefix": "del ",
     "library": "var_list.py",
     "varRefreshCmd": "print(var_dic_list())"
    },
    "r": {
     "delete_cmd_postfix": ") ",
     "delete_cmd_prefix": "rm(",
     "library": "var_list.r",
     "varRefreshCmd": "cat(var_dic_list()) "
    }
   },
   "types_to_exclude": [
    "module",
    "function",
    "builtin_function_or_method",
    "instance",
    "_Feature"
   ],
   "window_display": false
  }
 },
 "nbformat": 4,
 "nbformat_minor": 2
}
