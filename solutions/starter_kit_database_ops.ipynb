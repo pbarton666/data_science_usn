{
 "cells": [
  {
   "cell_type": "code",
   "execution_count": 1,
   "metadata": {},
   "outputs": [
    {
     "data": {
      "text/html": [
       "<div>\n",
       "<style scoped>\n",
       "    .dataframe tbody tr th:only-of-type {\n",
       "        vertical-align: middle;\n",
       "    }\n",
       "\n",
       "    .dataframe tbody tr th {\n",
       "        vertical-align: top;\n",
       "    }\n",
       "\n",
       "    .dataframe thead th {\n",
       "        text-align: right;\n",
       "    }\n",
       "</style>\n",
       "<table border=\"1\" class=\"dataframe\">\n",
       "  <thead>\n",
       "    <tr style=\"text-align: right;\">\n",
       "      <th></th>\n",
       "      <th>depth</th>\n",
       "      <th>mag</th>\n",
       "      <th>net</th>\n",
       "      <th>place</th>\n",
       "      <th>status</th>\n",
       "      <th>year</th>\n",
       "      <th>mon</th>\n",
       "      <th>day</th>\n",
       "    </tr>\n",
       "    <tr>\n",
       "      <th>time</th>\n",
       "      <th></th>\n",
       "      <th></th>\n",
       "      <th></th>\n",
       "      <th></th>\n",
       "      <th></th>\n",
       "      <th></th>\n",
       "      <th></th>\n",
       "      <th></th>\n",
       "    </tr>\n",
       "  </thead>\n",
       "  <tbody>\n",
       "    <tr>\n",
       "      <th>2017-09-19 16:57:00+00:00</th>\n",
       "      <td>1.52</td>\n",
       "      <td>2.45</td>\n",
       "      <td>ci</td>\n",
       "      <td>California</td>\n",
       "      <td>automatic</td>\n",
       "      <td>2017</td>\n",
       "      <td>9</td>\n",
       "      <td>19</td>\n",
       "    </tr>\n",
       "    <tr>\n",
       "      <th>2017-09-19 16:15:00+00:00</th>\n",
       "      <td>2.63</td>\n",
       "      <td>2.92</td>\n",
       "      <td>nc</td>\n",
       "      <td>California</td>\n",
       "      <td>automatic</td>\n",
       "      <td>2017</td>\n",
       "      <td>9</td>\n",
       "      <td>19</td>\n",
       "    </tr>\n",
       "    <tr>\n",
       "      <th>2017-09-19 15:35:00+00:00</th>\n",
       "      <td>4.52</td>\n",
       "      <td>3.10</td>\n",
       "      <td>us</td>\n",
       "      <td>Idaho</td>\n",
       "      <td>reviewed</td>\n",
       "      <td>2017</td>\n",
       "      <td>9</td>\n",
       "      <td>19</td>\n",
       "    </tr>\n",
       "  </tbody>\n",
       "</table>\n",
       "</div>"
      ],
      "text/plain": [
       "                           depth   mag net       place     status  year  mon  \\\n",
       "time                                                                           \n",
       "2017-09-19 16:57:00+00:00   1.52  2.45  ci  California  automatic  2017    9   \n",
       "2017-09-19 16:15:00+00:00   2.63  2.92  nc  California  automatic  2017    9   \n",
       "2017-09-19 15:35:00+00:00   4.52  3.10  us       Idaho   reviewed  2017    9   \n",
       "\n",
       "                           day  \n",
       "time                            \n",
       "2017-09-19 16:57:00+00:00   19  \n",
       "2017-09-19 16:15:00+00:00   19  \n",
       "2017-09-19 15:35:00+00:00   19  "
      ]
     },
     "execution_count": 1,
     "metadata": {},
     "output_type": "execute_result"
    }
   ],
   "source": [
    "import os\n",
    "\n",
    "import numpy as np\n",
    "import pandas as pd\n",
    "import matplotlib.pyplot as plt\n",
    "\n",
    "%matplotlib inline\n",
    "\n",
    "path = 'data'\n",
    "datafile = 'earthquakes.csv'\n",
    "filename = os.path.join('..', path, datafile)\n",
    "\n",
    "df = pd.read_csv(filename, parse_dates=[0])  # dialect defaults to Excel\n",
    "\n",
    "# fix the 'place' column\n",
    "df['place'] = df['place'].astype(str)\n",
    "df['place'] = df['place'].str.split(',').str.get(1)\n",
    "df['place'] = df['place'].str.strip()\n",
    "df['place'] = df['place'].str.replace(\"CA\", \"California\")\n",
    "\n",
    "#  make year, month, and day columns\n",
    "df['year'] = df['time'].dt.year\n",
    "df['mon'] = df['time'].dt.month\n",
    "df['day'] = df['time'].dt.day\n",
    "\n",
    "# nuke extraneous columns\n",
    "df.drop(df.columns[[1, 2, 5, 6, 7, 8, 9, 11, 12, 14, 15, 16, 17, 18, 20, 21]],\n",
    "        axis=1, inplace=True)\n",
    "\n",
    "# round to nearest minute and de-dup\n",
    "df['time'] = df['time'].dt.round('min')\n",
    "df = df.drop_duplicates('time')\n",
    "\n",
    "# make time the index\n",
    "df.set_index('time', inplace=True)\n",
    "\n",
    "df.head(3)"
   ]
  },
  {
   "cell_type": "code",
   "execution_count": null,
   "metadata": {},
   "outputs": [],
   "source": []
  }
 ],
 "metadata": {
  "kernelspec": {
   "display_name": "Python 3 (ipykernel)",
   "language": "python",
   "name": "python3"
  },
  "language_info": {
   "codemirror_mode": {
    "name": "ipython",
    "version": 3
   },
   "file_extension": ".py",
   "mimetype": "text/x-python",
   "name": "python",
   "nbconvert_exporter": "python",
   "pygments_lexer": "ipython3",
   "version": "3.9.5"
  },
  "toc": {
   "base_numbering": 1,
   "nav_menu": {},
   "number_sections": true,
   "sideBar": true,
   "skip_h1_title": false,
   "title_cell": "Table of Contents",
   "title_sidebar": "Contents",
   "toc_cell": false,
   "toc_position": {},
   "toc_section_display": true,
   "toc_window_display": true
  },
  "varInspector": {
   "cols": {
    "lenName": 16,
    "lenType": 16,
    "lenVar": 40
   },
   "kernels_config": {
    "python": {
     "delete_cmd_postfix": "",
     "delete_cmd_prefix": "del ",
     "library": "var_list.py",
     "varRefreshCmd": "print(var_dic_list())"
    },
    "r": {
     "delete_cmd_postfix": ") ",
     "delete_cmd_prefix": "rm(",
     "library": "var_list.r",
     "varRefreshCmd": "cat(var_dic_list()) "
    }
   },
   "types_to_exclude": [
    "module",
    "function",
    "builtin_function_or_method",
    "instance",
    "_Feature"
   ],
   "window_display": false
  }
 },
 "nbformat": 4,
 "nbformat_minor": 2
}
