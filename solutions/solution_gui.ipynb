{
 "cells": [
  {
   "cell_type": "code",
   "execution_count": 1,
   "id": "62512b45",
   "metadata": {
    "code_folding": []
   },
   "outputs": [],
   "source": [
    "from tkinter import *\n",
    "\n",
    "\n",
    "class Application(Frame):\n",
    "    \"\"\"Application main window class.\"\"\"\n",
    "\n",
    "    def __init__(self, master=None):\n",
    "        \"\"\"Main frame initialization (mostly delegated)\"\"\"\n",
    "        Frame.__init__(self, master)\n",
    "        self.pack()\n",
    "        self.createWidgets()\n",
    "\n",
    "    def createWidgets(self):\n",
    "        \"\"\"Add all the widgets to the main frame.\"\"\"\n",
    "\n",
    "        # The top frame holds the text box, label, and buttons\n",
    "        top_frame = Frame(self)\n",
    "        self.text_in = Entry(top_frame)\n",
    "        self.text_in.pack()\n",
    "\n",
    "        self.label = Label(top_frame, text=\"Output label\")\n",
    "        self.label.pack()\n",
    "\n",
    "        # We need a single IntVar to keep track of the radio buttons\n",
    "        self.r = IntVar()\n",
    "\n",
    "        # The radio buttons get packed in side-by-side\n",
    "        Radiobutton(top_frame, text=\"Upper case\",\n",
    "                    variable=self.r, value=1).pack(side=LEFT)\n",
    "        Radiobutton(top_frame, text=\"Lower case\",\n",
    "                    variable=self.r, value=2).pack(side=LEFT)\n",
    "        Radiobutton(top_frame, text=\"Title case\",\n",
    "                    variable=self.r, value=3).pack(side=LEFT)\n",
    "\n",
    "        # Pack the top frame\n",
    "        top_frame.pack(side=TOP)\n",
    "\n",
    "        # The bottom frame holds the Quit and Convert Buttons\n",
    "        bottom_frame = Frame(self)\n",
    "        bottom_frame.pack(side=TOP)\n",
    "\n",
    "        self.QUIT = Button(bottom_frame, text=\"Quit\", command=self.quit)\n",
    "        self.QUIT.pack(side=LEFT)\n",
    "\n",
    "        # The Convert button holds invokes the handler\n",
    "        self.handleb = Button(\n",
    "            bottom_frame, text=\"Convert\", command=self.handler)\n",
    "        self.handleb.pack(side=LEFT)\n",
    "\n",
    "    def handler(self):\n",
    "        \"\"\"Handle a click of the button by processing any text the\n",
    "        user has placed in the Entry widget according to the selected\n",
    "        radio button.\"\"\"\n",
    "        \n",
    "        # Snag the content and state of the radio buttons' IntVar\n",
    "        text = self.text_in.get()\n",
    "        operation = self.r.get()\n",
    "        \n",
    "        # Figure out what to do to the text\n",
    "        if operation == 1:\n",
    "            output = text.upper()\n",
    "        elif operation == 2:\n",
    "            output = text.lower()\n",
    "        elif operation == 3:\n",
    "            output = text.title()\n",
    "        else:\n",
    "            output = \"*******\"\n",
    "            \n",
    "        # Add the converted text to the Label widget\n",
    "        self.label.config(text=output)\n",
    "\n",
    "# Create and apply the main frame\n",
    "root = Tk()\n",
    "app = Application(master=root)\n",
    "\n",
    "# Fire off the event listener loop\n",
    "app.mainloop()"
   ]
  },
  {
   "cell_type": "code",
   "execution_count": null,
   "id": "937a85d2",
   "metadata": {},
   "outputs": [],
   "source": []
  }
 ],
 "metadata": {
  "kernelspec": {
   "display_name": "py39",
   "language": "python",
   "name": "py39"
  },
  "language_info": {
   "codemirror_mode": {
    "name": "ipython",
    "version": 3
   },
   "file_extension": ".py",
   "mimetype": "text/x-python",
   "name": "python",
   "nbconvert_exporter": "python",
   "pygments_lexer": "ipython3",
   "version": "3.8.8"
  },
  "toc": {
   "base_numbering": 1,
   "nav_menu": {},
   "number_sections": true,
   "sideBar": true,
   "skip_h1_title": false,
   "title_cell": "Table of Contents",
   "title_sidebar": "Contents",
   "toc_cell": false,
   "toc_position": {},
   "toc_section_display": true,
   "toc_window_display": true
  },
  "varInspector": {
   "cols": {
    "lenName": 16,
    "lenType": 16,
    "lenVar": 40
   },
   "kernels_config": {
    "python": {
     "delete_cmd_postfix": "",
     "delete_cmd_prefix": "del ",
     "library": "var_list.py",
     "varRefreshCmd": "print(var_dic_list())"
    },
    "r": {
     "delete_cmd_postfix": ") ",
     "delete_cmd_prefix": "rm(",
     "library": "var_list.r",
     "varRefreshCmd": "cat(var_dic_list()) "
    }
   },
   "types_to_exclude": [
    "module",
    "function",
    "builtin_function_or_method",
    "instance",
    "_Feature"
   ],
   "window_display": false
  }
 },
 "nbformat": 4,
 "nbformat_minor": 5
}
