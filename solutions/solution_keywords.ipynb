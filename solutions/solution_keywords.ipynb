{
 "cells": [
  {
   "cell_type": "code",
   "execution_count": 1,
   "id": "16576534",
   "metadata": {},
   "outputs": [
    {
     "data": {
      "text/plain": [
       "'False, None, True, and, as, assert, async, await, break, class, continue, def, del, elif, else, except, finally, for, from, global, if, import, in, is, lambda, nonlocal, not, or, pass, raise, return, try, while, with, yield'"
      ]
     },
     "execution_count": 1,
     "metadata": {},
     "output_type": "execute_result"
    }
   ],
   "source": [
    "import keyword\n",
    "\n",
    "# get all the keywords\n",
    "all_kw = keyword.kwlist\n",
    "\", \".join(all_kw)"
   ]
  },
  {
   "cell_type": "code",
   "execution_count": 4,
   "id": "97efd4cd",
   "metadata": {},
   "outputs": [
    {
     "data": {
      "text/plain": [
       "['__all__',\n",
       " '__builtins__',\n",
       " '__cached__',\n",
       " '__doc__',\n",
       " '__file__',\n",
       " '__loader__',\n",
       " '__name__',\n",
       " '__package__',\n",
       " '__spec__',\n",
       " 'iskeyword',\n",
       " 'kwlist']"
      ]
     },
     "execution_count": 4,
     "metadata": {},
     "output_type": "execute_result"
    }
   ],
   "source": [
    "dir(keyword)"
   ]
  },
  {
   "cell_type": "code",
   "execution_count": 5,
   "id": "29fe76a2",
   "metadata": {},
   "outputs": [
    {
     "data": {
      "text/plain": [
       "35"
      ]
     },
     "execution_count": 5,
     "metadata": {},
     "output_type": "execute_result"
    }
   ],
   "source": [
    "# figure out how many there are\n",
    "kw_count = len(all_kw)\n",
    "kw_count"
   ]
  },
  {
   "cell_type": "code",
   "execution_count": 13,
   "id": "bf5a4dc5",
   "metadata": {},
   "outputs": [
    {
     "name": "stdout",
     "output_type": "stream",
     "text": [
      "if\n",
      "if,else\n",
      "if,else\n",
      "if,else,in\n",
      "if,else,in\n",
      " guessed     missed  \n",
      "    3          35    \n"
     ]
    }
   ],
   "source": [
    "####### String methods  #######\n",
    "\n",
    "# one approach might be to use string methods to keep track of guessed and unguessed words\n",
    "guessed = ''  # not required (we don't need to initialize)\n",
    "\n",
    "# a counter for correct guesses\n",
    "counter = 0\n",
    "\n",
    "# what the user types when giving up\n",
    "cry_uncle = \"Uncle\"\n",
    "\n",
    "# for demo purposes, we'll loop through some simulated responses\n",
    "for guess in ('if', 'else', 'else', 'in', cry_uncle):\n",
    "\n",
    "    list_of_guessed = guessed.split(\",\")\n",
    "\n",
    "    # keep track of correct guesses\n",
    "    if guess in all_kw and not guess in list_of_guessed:\n",
    "        # if the string is empty, add the keyword\n",
    "        if len(guessed) == 0:  # if not len(guessed)\n",
    "            guessed = guess\n",
    "        # if there's already a correct guess, add a comma and the new one\n",
    "        else:\n",
    "            guessed += \",\" + guess\n",
    "        # either way, increment the counter\n",
    "        counter += 1\n",
    "\n",
    "    print(guessed)\n",
    "\n",
    "    # if user gives up or has guessed them all, print it out\n",
    "    if guess == cry_uncle or counter == kw_count:\n",
    "        format_string = \"{:^10} {:^10}\"\n",
    "        print(format_string.format(\"guessed\", \"missed\"))\n",
    "        print(format_string.format(counter, kw_count - counter))\n",
    "\n",
    "assert"
   ]
  },
  {
   "cell_type": "code",
   "execution_count": 14,
   "id": "97fddd27",
   "metadata": {},
   "outputs": [
    {
     "name": "stdout",
     "output_type": "stream",
     "text": [
      "\n",
      "\n",
      "\n",
      " guessed     missed  \n",
      "    4          32    \n",
      "\n",
      "\n",
      "\n",
      "\n",
      " keyword    guessed      missed  \n",
      "---------- ----------  ----------\n",
      "  False                    X     \n",
      "   None                    X     \n",
      "   True                    X     \n",
      "   and                     X     \n",
      "    as                     X     \n",
      "  assert                   X     \n",
      "  async                    X     \n",
      "  await                    X     \n",
      "  break                    X     \n",
      "  class                    X     \n",
      " continue                  X     \n",
      "   def                     X     \n",
      "   del                     X     \n",
      "   elif                    X     \n",
      "   else        X                 \n",
      "  except                   X     \n",
      " finally                   X     \n",
      "   for                     X     \n",
      "   from                    X     \n",
      "  global                   X     \n",
      "    if         X                 \n",
      "  import                   X     \n",
      "    in         X                 \n",
      "    is                     X     \n",
      "  lambda                   X     \n",
      " nonlocal                  X     \n",
      "   not                     X     \n",
      "    or                     X     \n",
      "   pass                    X     \n",
      "  raise                    X     \n",
      "  return                   X     \n",
      "   try                     X     \n",
      "  while                    X     \n",
      "   with                    X     \n",
      "  yield                    X     \n"
     ]
    }
   ],
   "source": [
    "# List methods  #\n",
    "\n",
    "# get all the keywords\n",
    "all_kw = keyword.kwlist\n",
    "\n",
    "# figure out how many there are\n",
    "kw_count = len(all_kw)\n",
    "\n",
    "# we could use a list to track correct guesses directly\n",
    "list_of_guessed = []\n",
    "\n",
    "# what the user types when giving up\n",
    "cry_uncle = \"Uncle\"\n",
    "\n",
    "# for demo purposes, we'll loop through some simulated responses\n",
    "for guess in ('if', 'else', 'else', 'in', cry_uncle):\n",
    "\n",
    "    if guess and not guess in list_of_guessed:\n",
    "        list_of_guessed.append(guess)\n",
    "\n",
    "    if len(list_of_guessed) == len(all_kw) or guess == cry_uncle:\n",
    "        # we're done, but now it's easy to report all guessed/unguessed\n",
    "        unguessed = []\n",
    "        for kw in all_kw:\n",
    "            if not kw in list_of_guessed:\n",
    "                unguessed.append(kw)\n",
    "\n",
    "        # print the table\n",
    "        print(\"\\n\\n\")\n",
    "        format_string = \"{:^10} {:^10}\"\n",
    "        print(format_string.format(\"guessed\", \"missed\"))\n",
    "        print(format_string.format(len(list_of_guessed), len(unguessed)))\n",
    "        print(\"\\n\"*3)\n",
    "\n",
    "        # if we want more detail\n",
    "        format_string = format_string = \"{:^10} {:^10}  {:^10}\"\n",
    "        print(format_string.format(\"keyword\", \"guessed\", \"missed\"))\n",
    "        print(format_string.format(\"-\"*10, \"-\"*10, \"-\"*10))\n",
    "        for kw in all_kw:\n",
    "            if kw in list_of_guessed:\n",
    "                print(format_string.format(kw, \"X\", \"\"))\n",
    "            else:\n",
    "                print(format_string.format(kw, \"\", \"X\"))"
   ]
  },
  {
   "cell_type": "code",
   "execution_count": null,
   "id": "b56212bb",
   "metadata": {},
   "outputs": [],
   "source": []
  }
 ],
 "metadata": {
  "kernelspec": {
   "display_name": "py39",
   "language": "python",
   "name": "py39"
  },
  "language_info": {
   "codemirror_mode": {
    "name": "ipython",
    "version": 3
   },
   "file_extension": ".py",
   "mimetype": "text/x-python",
   "name": "python",
   "nbconvert_exporter": "python",
   "pygments_lexer": "ipython3",
   "version": "3.8.8"
  },
  "toc": {
   "base_numbering": 1,
   "nav_menu": {},
   "number_sections": true,
   "sideBar": true,
   "skip_h1_title": false,
   "title_cell": "Table of Contents",
   "title_sidebar": "Contents",
   "toc_cell": false,
   "toc_position": {},
   "toc_section_display": true,
   "toc_window_display": true
  },
  "varInspector": {
   "cols": {
    "lenName": 16,
    "lenType": 16,
    "lenVar": 40
   },
   "kernels_config": {
    "python": {
     "delete_cmd_postfix": "",
     "delete_cmd_prefix": "del ",
     "library": "var_list.py",
     "varRefreshCmd": "print(var_dic_list())"
    },
    "r": {
     "delete_cmd_postfix": ") ",
     "delete_cmd_prefix": "rm(",
     "library": "var_list.r",
     "varRefreshCmd": "cat(var_dic_list()) "
    }
   },
   "types_to_exclude": [
    "module",
    "function",
    "builtin_function_or_method",
    "instance",
    "_Feature"
   ],
   "window_display": false
  }
 },
 "nbformat": 4,
 "nbformat_minor": 5
}
