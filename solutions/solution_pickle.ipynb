{
 "cells": [
  {
   "cell_type": "code",
   "execution_count": 1,
   "id": "4c09c378",
   "metadata": {},
   "outputs": [],
   "source": [
    "import pickle\n",
    "import os"
   ]
  },
  {
   "cell_type": "code",
   "execution_count": 2,
   "id": "ce39da2b",
   "metadata": {},
   "outputs": [
    {
     "data": {
      "text/plain": [
       "'\\nPlease create three functions in the same module (file). Each will take two\\ninputs. One file will add the numbers, another will multiply and the third\\nwill subtract them.\\n\\nDestroy the three functions then recreate them from the serialized files.\\nVerify that they still work as well as the original ones.\\n\\nYou can use either json or pickle to handle the serialization.'"
      ]
     },
     "execution_count": 2,
     "metadata": {},
     "output_type": "execute_result"
    }
   ],
   "source": [
    "\"\"\"\n",
    "Please create three functions in the same module (file). Each will take two\n",
    "inputs. One file will add the numbers, another will multiply and the third\n",
    "will subtract them.\n",
    "\n",
    "Destroy the three functions then recreate them from the serialized files.\n",
    "Verify that they still work as well as the original ones.\n",
    "\n",
    "You can use either json or pickle to handle the serialization.\"\"\""
   ]
  },
  {
   "cell_type": "code",
   "execution_count": 3,
   "id": "436660c3",
   "metadata": {},
   "outputs": [],
   "source": [
    "def adder(x, y):\n",
    "    return x+y"
   ]
  },
  {
   "cell_type": "code",
   "execution_count": 4,
   "id": "715591e0",
   "metadata": {},
   "outputs": [],
   "source": [
    "def multiplier(x,y):\n",
    "    return x*y"
   ]
  },
  {
   "cell_type": "code",
   "execution_count": 5,
   "id": "ceb4b982",
   "metadata": {},
   "outputs": [],
   "source": [
    "def subtractor(x,y):\n",
    "    return x-y"
   ]
  },
  {
   "cell_type": "code",
   "execution_count": 6,
   "id": "9c531eba",
   "metadata": {},
   "outputs": [],
   "source": [
    "def load_some_results():\n",
    "    \"function to load a test dict of results\"\n",
    "    x = 5;  y = 3  #you can do this, but it's not recommended\n",
    "    results={'adder': adder(x, y), \n",
    "             'multiplier': multiplier(x,y),\n",
    "             'subtractor': subtractor(x,y)\n",
    "             }\n",
    "    return(results)"
   ]
  },
  {
   "cell_type": "code",
   "execution_count": 7,
   "id": "62b48742",
   "metadata": {},
   "outputs": [],
   "source": [
    "#get some results\n",
    "the_pickle_names=('p_adder.pkl', 'p_multiplier.pkl', 'p_subtractor.pkl')\n",
    "things_to_pickle=(adder, multiplier, subtractor)  #a tuple\n",
    "\n",
    "original=load_some_results()"
   ]
  },
  {
   "cell_type": "code",
   "execution_count": 8,
   "id": "27438571",
   "metadata": {},
   "outputs": [],
   "source": [
    "#load our functions, first deleting any files already out there\n",
    "for name in the_pickle_names:\n",
    "    if os.path.exists(name):\n",
    "        os.remove(name)"
   ]
  },
  {
   "cell_type": "code",
   "execution_count": 9,
   "id": "3010016d",
   "metadata": {},
   "outputs": [],
   "source": [
    "for file_name, thing in zip(the_pickle_names, things_to_pickle):\n",
    "    with open(file_name, 'wb') as p:\n",
    "        pickle.dump(thing, p)"
   ]
  },
  {
   "cell_type": "code",
   "execution_count": 10,
   "id": "029d7a35",
   "metadata": {},
   "outputs": [
    {
     "name": "stdout",
     "output_type": "stream",
     "text": [
      "No adder here\n",
      "No multiplier here\n",
      "No subtractor here\n"
     ]
    }
   ],
   "source": [
    "#kill them off and prove they're dead\n",
    "for thing in things_to_pickle:\n",
    "    thing_name=thing.__name__\n",
    "    thing=None\n",
    "    if thing:\n",
    "        print(thing)\n",
    "    else:\n",
    "        print(\"No {} here\".format(thing_name))"
   ]
  },
  {
   "cell_type": "code",
   "execution_count": 11,
   "id": "43c94bc5",
   "metadata": {},
   "outputs": [],
   "source": [
    "#bring 'em back to life\t\n",
    "things_to_pickle=[]\n",
    "for file_name in the_pickle_names:\n",
    "    with open(file_name, 'rb') as p:\n",
    "        recovered_thing=pickle.load(p)\n",
    "        things_to_pickle.append(recovered_thing)"
   ]
  },
  {
   "cell_type": "code",
   "execution_count": 12,
   "id": "7f1d1b38",
   "metadata": {},
   "outputs": [],
   "source": [
    "#get results from them\n",
    "restored=load_some_results()"
   ]
  },
  {
   "cell_type": "code",
   "execution_count": 13,
   "id": "70a7e4a7",
   "metadata": {},
   "outputs": [
    {
     "name": "stdout",
     "output_type": "stream",
     "text": [
      "Yay!  The pickle thing worked!\n"
     ]
    }
   ],
   "source": [
    "#test against original\n",
    "for key in original.keys():\n",
    "    assert original[key]==restored[key]\n",
    "\n",
    "#if we didn't bomb out on an AssertionError, it worked.\n",
    "print(\"Yay!  The pickle thing worked!\")"
   ]
  }
 ],
 "metadata": {
  "kernelspec": {
   "display_name": "py39",
   "language": "python",
   "name": "py39"
  },
  "language_info": {
   "codemirror_mode": {
    "name": "ipython",
    "version": 3
   },
   "file_extension": ".py",
   "mimetype": "text/x-python",
   "name": "python",
   "nbconvert_exporter": "python",
   "pygments_lexer": "ipython3",
   "version": "3.8.8"
  },
  "toc": {
   "base_numbering": 1,
   "nav_menu": {},
   "number_sections": true,
   "sideBar": true,
   "skip_h1_title": false,
   "title_cell": "Table of Contents",
   "title_sidebar": "Contents",
   "toc_cell": false,
   "toc_position": {},
   "toc_section_display": true,
   "toc_window_display": true
  },
  "varInspector": {
   "cols": {
    "lenName": 16,
    "lenType": 16,
    "lenVar": 40
   },
   "kernels_config": {
    "python": {
     "delete_cmd_postfix": "",
     "delete_cmd_prefix": "del ",
     "library": "var_list.py",
     "varRefreshCmd": "print(var_dic_list())"
    },
    "r": {
     "delete_cmd_postfix": ") ",
     "delete_cmd_prefix": "rm(",
     "library": "var_list.r",
     "varRefreshCmd": "cat(var_dic_list()) "
    }
   },
   "types_to_exclude": [
    "module",
    "function",
    "builtin_function_or_method",
    "instance",
    "_Feature"
   ],
   "window_display": false
  }
 },
 "nbformat": 4,
 "nbformat_minor": 5
}
