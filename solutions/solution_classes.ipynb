{
 "cells": [
  {
   "cell_type": "code",
   "execution_count": 12,
   "id": "db2054bc",
   "metadata": {},
   "outputs": [],
   "source": [
    "import inspect"
   ]
  },
  {
   "cell_type": "code",
   "execution_count": 5,
   "id": "90426481",
   "metadata": {},
   "outputs": [],
   "source": [
    "class Vehicle:\n",
    "    def __init__(self):\n",
    "        self.__name__ = \"Vehicle\"\n",
    "        self.has_wheels = True\n",
    "\n",
    "    def __str__(self):\n",
    "        return \"I'm a {}\".format(self.__name__)"
   ]
  },
  {
   "cell_type": "code",
   "execution_count": 6,
   "id": "f65f5478",
   "metadata": {},
   "outputs": [],
   "source": [
    "class MotorVehicle(Vehicle):\n",
    "    def __init__(self):\n",
    "        self.__name__ = \"MotorVehicle\"\n",
    "        self.has_motor = True\n",
    "\n",
    "    def __str__(self):\n",
    "        return \"I'm a {}\".format(self.__name__)"
   ]
  },
  {
   "cell_type": "code",
   "execution_count": 7,
   "id": "0ec79217",
   "metadata": {},
   "outputs": [],
   "source": [
    "class Car(MotorVehicle):\n",
    "    def __init__(self):\n",
    "        super().__init__()\n",
    "        self.__name__ = \"Car\"\n",
    "        self.wheels = 4\n",
    "        self.has_AC = True\n",
    "\n",
    "    def __str__(self):\n",
    "        return \"I'm a {}.\".format(self.__name__)"
   ]
  },
  {
   "cell_type": "code",
   "execution_count": 8,
   "id": "9443ed72",
   "metadata": {},
   "outputs": [],
   "source": [
    "class MotorCycle(MotorVehicle):\n",
    "\n",
    "    def __init__(self, fairing_color):\n",
    "        super().__init__()\n",
    "        self.__name__ = \"MotorCycle\"\n",
    "        self.wheels = 2\n",
    "        self.has_fairing = True\n",
    "        self.fairing_color = fairing_color\n",
    "\n",
    "    def __str__(self):\n",
    "        return \"I'm a {}.\".format(self.__name__)\n",
    "\n",
    "    @property\n",
    "    def fairing_color(self):\n",
    "        print(\"Getting fairing color.\")\n",
    "        return self.__fairing_color\n",
    "\n",
    "    @fairing_color.setter\n",
    "    def fairing_color(self, fairing_color):\n",
    "        if isinstance(fairing_color, str):\n",
    "            print(\"Setting fairing color to {}.\".format(fairing_color))\n",
    "            self.__fairing_color = fairing_color\n",
    "        else:\n",
    "            print(\"I can't set the fairing color to {}.\".format(\n",
    "                type(fairing_color)))"
   ]
  },
  {
   "cell_type": "code",
   "execution_count": 9,
   "id": "a09e0faa",
   "metadata": {},
   "outputs": [],
   "source": [
    "def print_class_tree(tree, indent=-1):\n",
    "    \"introspectively look at the class structure\"\n",
    "    if type(tree) == list:\n",
    "        for branch in tree:\n",
    "            print_class_tree(branch, indent+1)\n",
    "    else:\n",
    "        print('  ' * indent, tree[0].__name__)\n",
    "    return"
   ]
  },
  {
   "cell_type": "code",
   "execution_count": 10,
   "id": "03c44e5c",
   "metadata": {},
   "outputs": [],
   "source": [
    "def print_method_resolution_order(this_cls):\n",
    "    for cls in inspect.getmro(this_cls):\n",
    "        print(cls)"
   ]
  },
  {
   "cell_type": "code",
   "execution_count": 13,
   "id": "f0a005d7",
   "metadata": {},
   "outputs": [
    {
     "name": "stdout",
     "output_type": "stream",
     "text": [
      "Here's the object hierarchy:\n",
      " object\n",
      "   Vehicle\n",
      "     MotorVehicle\n",
      "       Car\n",
      "       MotorCycle\n"
     ]
    }
   ],
   "source": [
    "print(\"Here's the object hierarchy:\")\n",
    "tree = inspect.getclasstree([MotorCycle, MotorVehicle, Car, Vehicle])\n",
    "print_class_tree(tree)"
   ]
  },
  {
   "cell_type": "code",
   "execution_count": 14,
   "id": "b663961c",
   "metadata": {},
   "outputs": [
    {
     "name": "stdout",
     "output_type": "stream",
     "text": [
      "Setting fairing color to blue.\n"
     ]
    }
   ],
   "source": [
    "# We should be able to set the fairing color\n",
    "mc = MotorCycle(fairing_color=\"blue\")"
   ]
  },
  {
   "cell_type": "code",
   "execution_count": 15,
   "id": "d117b738",
   "metadata": {},
   "outputs": [
    {
     "name": "stdout",
     "output_type": "stream",
     "text": [
      "I can't set the fairing color to <class 'int'>.\n"
     ]
    }
   ],
   "source": [
    "# Setting the color to an integer should fail\n",
    "mc1 = MotorCycle(fairing_color=123)"
   ]
  },
  {
   "cell_type": "code",
   "execution_count": null,
   "id": "59fdf25f",
   "metadata": {},
   "outputs": [],
   "source": []
  }
 ],
 "metadata": {
  "kernelspec": {
   "display_name": "py39",
   "language": "python",
   "name": "py39"
  },
  "language_info": {
   "codemirror_mode": {
    "name": "ipython",
    "version": 3
   },
   "file_extension": ".py",
   "mimetype": "text/x-python",
   "name": "python",
   "nbconvert_exporter": "python",
   "pygments_lexer": "ipython3",
   "version": "3.8.8"
  },
  "toc": {
   "base_numbering": 1,
   "nav_menu": {},
   "number_sections": true,
   "sideBar": true,
   "skip_h1_title": false,
   "title_cell": "Table of Contents",
   "title_sidebar": "Contents",
   "toc_cell": false,
   "toc_position": {},
   "toc_section_display": true,
   "toc_window_display": true
  },
  "varInspector": {
   "cols": {
    "lenName": 16,
    "lenType": 16,
    "lenVar": 40
   },
   "kernels_config": {
    "python": {
     "delete_cmd_postfix": "",
     "delete_cmd_prefix": "del ",
     "library": "var_list.py",
     "varRefreshCmd": "print(var_dic_list())"
    },
    "r": {
     "delete_cmd_postfix": ") ",
     "delete_cmd_prefix": "rm(",
     "library": "var_list.r",
     "varRefreshCmd": "cat(var_dic_list()) "
    }
   },
   "types_to_exclude": [
    "module",
    "function",
    "builtin_function_or_method",
    "instance",
    "_Feature"
   ],
   "window_display": false
  }
 },
 "nbformat": 4,
 "nbformat_minor": 5
}
