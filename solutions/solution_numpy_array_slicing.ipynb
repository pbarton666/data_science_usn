{
 "cells": [
  {
   "cell_type": "code",
   "execution_count": 5,
   "id": "5faa2a1a",
   "metadata": {},
   "outputs": [],
   "source": [
    "import numpy as np\n",
    "\n",
    "rows=3\n",
    "cols=4 \n",
    "beers=3\n",
    "\n",
    "#stake out some memory using zeros()\n",
    "arr=np.zeros([beers, rows, cols], dtype=int)\n",
    "\n",
    "#add each element\n",
    "for el in range(beers):\n",
    "    for r in range(rows):\n",
    "        for c in range(cols):\n",
    "            arr[el, r, c]=(el + 1) * 100 + (r + 1) * 10 + (c + 1)"
   ]
  },
  {
   "cell_type": "markdown",
   "id": "3ab45a74",
   "metadata": {},
   "source": []
  },
  {
   "cell_type": "code",
   "execution_count": 23,
   "id": "722cdf81",
   "metadata": {
    "scrolled": true
   },
   "outputs": [
    {
     "name": "stdout",
     "output_type": "stream",
     "text": [
      "The entire array:\n"
     ]
    },
    {
     "data": {
      "text/plain": [
       "array([[[111, 112, 113, 114],\n",
       "        [121, 122, 123, 124],\n",
       "        [131, 132, 133, 134]],\n",
       "\n",
       "       [[211, 212, 213, 214],\n",
       "        [221, 222, 223, 224],\n",
       "        [231, 232, 233, 234]],\n",
       "\n",
       "       [[311, 312, 313, 314],\n",
       "        [321, 322, 323, 324],\n",
       "        [331, 332, 333, 334]]])"
      ]
     },
     "execution_count": 23,
     "metadata": {},
     "output_type": "execute_result"
    }
   ],
   "source": [
    "print(f\"The entire array:\")\n",
    "arr"
   ]
  },
  {
   "cell_type": "code",
   "execution_count": 25,
   "id": "dfa74b3f",
   "metadata": {
    "scrolled": true
   },
   "outputs": [
    {
     "name": "stdout",
     "output_type": "stream",
     "text": [
      "IPA:\n"
     ]
    },
    {
     "data": {
      "text/plain": [
       "array([[111, 112, 113, 114],\n",
       "       [121, 122, 123, 124],\n",
       "       [131, 132, 133, 134]])"
      ]
     },
     "execution_count": 25,
     "metadata": {},
     "output_type": "execute_result"
    }
   ],
   "source": [
    "IPA = arr[0]\n",
    "print(\"IPA:\")\n",
    "IPA"
   ]
  },
  {
   "cell_type": "code",
   "execution_count": 24,
   "id": "b63665b5",
   "metadata": {},
   "outputs": [
    {
     "name": "stdout",
     "output_type": "stream",
     "text": [
      "A chunk of the lagers:\n"
     ]
    },
    {
     "data": {
      "text/plain": [
       "array([[222, 223],\n",
       "       [232, 233]])"
      ]
     },
     "execution_count": 24,
     "metadata": {},
     "output_type": "execute_result"
    }
   ],
   "source": [
    "chunk_of_lagers = arr[1, 1:3, 1:3]\n",
    "print(\"A chunk of the lagers:\")\n",
    "chunk_of_lagers"
   ]
  },
  {
   "cell_type": "code",
   "execution_count": 26,
   "id": "e5e7bfbd",
   "metadata": {},
   "outputs": [
    {
     "name": "stdout",
     "output_type": "stream",
     "text": [
      "Middle row of stouts:\n"
     ]
    },
    {
     "data": {
      "text/plain": [
       "array([331, 332, 333, 334])"
      ]
     },
     "execution_count": 26,
     "metadata": {},
     "output_type": "execute_result"
    }
   ],
   "source": [
    "middle_row_of_stouts = arr[2, 2, :]\n",
    "print(\"Middle row of stouts:\")\n",
    "middle_row_of_stouts"
   ]
  }
 ],
 "metadata": {
  "kernelspec": {
   "display_name": "py39",
   "language": "python",
   "name": "py39"
  },
  "language_info": {
   "codemirror_mode": {
    "name": "ipython",
    "version": 3
   },
   "file_extension": ".py",
   "mimetype": "text/x-python",
   "name": "python",
   "nbconvert_exporter": "python",
   "pygments_lexer": "ipython3",
   "version": "3.8.8"
  },
  "toc": {
   "base_numbering": 1,
   "nav_menu": {},
   "number_sections": true,
   "sideBar": true,
   "skip_h1_title": false,
   "title_cell": "Table of Contents",
   "title_sidebar": "Contents",
   "toc_cell": false,
   "toc_position": {},
   "toc_section_display": true,
   "toc_window_display": true
  },
  "varInspector": {
   "cols": {
    "lenName": 16,
    "lenType": 16,
    "lenVar": 40
   },
   "kernels_config": {
    "python": {
     "delete_cmd_postfix": "",
     "delete_cmd_prefix": "del ",
     "library": "var_list.py",
     "varRefreshCmd": "print(var_dic_list())"
    },
    "r": {
     "delete_cmd_postfix": ") ",
     "delete_cmd_prefix": "rm(",
     "library": "var_list.r",
     "varRefreshCmd": "cat(var_dic_list()) "
    }
   },
   "types_to_exclude": [
    "module",
    "function",
    "builtin_function_or_method",
    "instance",
    "_Feature"
   ],
   "window_display": false
  }
 },
 "nbformat": 4,
 "nbformat_minor": 5
}
