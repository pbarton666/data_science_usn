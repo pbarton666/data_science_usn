{
 "cells": [
  {
   "cell_type": "code",
   "execution_count": 2,
   "id": "2ccd7a02",
   "metadata": {},
   "outputs": [],
   "source": [
    "def screener(user_inp=None):\n",
    "    \"\"\"A function to square only floating points.\n",
    "       Returns custom exceptions if an int or complex is encountered.\"\"\"\n",
    "\n",
    "    # make sure something was input\n",
    "    if not user_inp:\n",
    "        print(\"Ummm...did you type in ANYTHING?\")\n",
    "        return\n",
    "\n",
    "    # If it *might* be a float (has a \".\") try to type-cast it and return\n",
    "    if \".\" in user_inp:\n",
    "        try:\n",
    "            inp_as_float = float(user_inp)\n",
    "            if isinstance(inp_as_float, float):\n",
    "                square = inp_as_float**2\n",
    "                print(\"You gave me {}.  Its square is: {}\".format(user_inp, square))\n",
    "        except:\n",
    "            return\n",
    "\n",
    "    try:  # see if we need to return the ComplexException\n",
    "        if \"(\" in user_inp:  # it might be complex if it has a (\n",
    "            inp_as_complex = complex(user_inp)\n",
    "            if isinstance(inp_as_complex, complex):\n",
    "                raise ComplexException(inp_as_complex)\n",
    "    except:  # it's not complex\n",
    "        pass\n",
    "\n",
    "    try:\n",
    "        # we already tried to type-cast to float, let's try casting to int\n",
    "        inp_as_integer = int(user_inp)\n",
    "        if isinstance(inp_as_integer, int):\n",
    "            raise IntException(inp_as_integer)\n",
    "    except:\n",
    "        pass\n",
    "\n",
    "    # if we're here, the function hasn't returned anything or raised an exception\n",
    "    print(\"Done processing  {} \".format(user_inp))"
   ]
  },
  {
   "cell_type": "code",
   "execution_count": 3,
   "id": "8cc712a2",
   "metadata": {},
   "outputs": [
    {
     "name": "stderr",
     "output_type": "stream",
     "text": [
      "test_complex (__main__.tester) ... ok\n",
      "test_even_integer (__main__.tester) ... ok\n",
      "test_list (__main__.tester) ... ok\n",
      "test_odd_float (__main__.tester) ... ok\n",
      "test_odd_integer (__main__.tester) ... ok\n",
      "test_odd_string (__main__.tester) ... ok\n",
      "\n",
      "----------------------------------------------------------------------\n",
      "Ran 6 tests in 0.007s\n",
      "\n",
      "OK\n"
     ]
    },
    {
     "data": {
      "text/plain": [
       "<unittest.main.TestProgram at 0x14bdc4707c0>"
      ]
     },
     "execution_count": 3,
     "metadata": {},
     "output_type": "execute_result"
    }
   ],
   "source": [
    "import unittest\n",
    "\n",
    "# In this notebook we have defined the screener function.   If it's stored in a file\n",
    "#    we might import it like this:\n",
    "#from py_screener import screener\n",
    "\n",
    "\n",
    "def odd_man_out(inp):\n",
    "    \"\"\"If input looks like an odd integer, return\n",
    "        twice its value; otherwise, return None\"\"\"\n",
    "\n",
    "    try:  # If it's a number, can it be cast as an integer?\n",
    "        inp = int(inp)\n",
    "    except:\n",
    "        return None\n",
    "\n",
    "    # If it's a number, is it odd?\n",
    "    if inp % 2:  # returns 0 if even\n",
    "        return(inp*2)\n",
    "\n",
    "\n",
    "class tester(unittest.TestCase):\n",
    "    def test_odd_integer(self):\n",
    "        self.assertEqual(odd_man_out(3), 6)\n",
    "\n",
    "    def test_even_integer(self):\n",
    "        self.assertEqual(odd_man_out(4), None)\n",
    "\n",
    "    def test_odd_string(self):\n",
    "        self.assertEqual(odd_man_out('123'), 246)\n",
    "\n",
    "    def test_odd_float(self):\n",
    "        self.assertEqual(odd_man_out(31.0), 62.0)\n",
    "\n",
    "    def test_list(self):\n",
    "        self.assertEqual(odd_man_out([1, 2, 3]), None)\n",
    "\n",
    "    def test_complex(self):\n",
    "        self.assertEqual(odd_man_out(complex(1, 2)), None)\n",
    "\n",
    "\n",
    "unittest.main(argv=[''], verbosity=2, exit=False)"
   ]
  },
  {
   "cell_type": "code",
   "execution_count": 3,
   "id": "4e581fdf",
   "metadata": {},
   "outputs": [
    {
     "name": "stderr",
     "output_type": "stream",
     "text": [
      "test_addition (__main__.AnotherTest)\n",
      "can we add? ... ERROR\n",
      "test_addition (__main__.Test)\n",
      "can we add? ... ok\n",
      "\n",
      "======================================================================\n",
      "ERROR: test_addition (__main__.AnotherTest)\n",
      "can we add?\n",
      "----------------------------------------------------------------------\n",
      "Traceback (most recent call last):\n",
      "  File \"<ipython-input-3-7797c12819fb>\", line 34, in test_addition\n",
      "    self.assertRaises(NoneTypeError(add_numbers(None, None)))\n",
      "  File \"<ipython-input-3-7797c12819fb>\", line 11, in add_numbers\n",
      "    raise NoneTypeError\n",
      "NoneTypeError\n",
      "\n",
      "----------------------------------------------------------------------\n",
      "Ran 2 tests in 0.003s\n",
      "\n",
      "FAILED (errors=1)\n"
     ]
    },
    {
     "data": {
      "text/plain": [
       "<unittest.main.TestProgram at 0x1aceba1b490>"
      ]
     },
     "execution_count": 3,
     "metadata": {},
     "output_type": "execute_result"
    }
   ],
   "source": [
    "class NoneTypeError(Exception):\n",
    "    pass\n",
    "\n",
    "class WrongDataTypeError(Exception):\n",
    "    pass\n",
    "\n",
    "def add_numbers(first, second):\n",
    "    \"adds two numbers\"\n",
    "    #check if either is None\n",
    "    if isinstance(first, type(None)) or isinstance(second, type(None)):\n",
    "        raise NoneTypeError\n",
    "    #see if the interpreter raises a TypeError\n",
    "    try:\n",
    "        answer=first+second\n",
    "    except TypeError:\n",
    "        #intercept the TypeError and return the custom one\n",
    "        raise WrongDataTypeError\n",
    "        \n",
    "    #if we've made it this far, we should be golden so return \n",
    "    return answer\n",
    "\n",
    "\n",
    "import unittest\n",
    "class Test(unittest.TestCase):\n",
    "    def test_addition(self):\n",
    "        \"can we add?\"\n",
    "        self.assertEqual(add_numbers(2,2), 4)\n",
    "\n",
    "class AnotherTest(unittest.TestCase):\n",
    "    def test_addition(self):\n",
    "        \"can we add?\"\n",
    "        self.assertEqual(add_numbers(1.0, 1.0), 2.0)\n",
    "        self.assertEqual(add_numbers(2,2), 4)\n",
    "        self.assertRaises(NoneTypeError(add_numbers(None, None)))\n",
    "        self.assertRaises(NoneTypeError(add_numbers(1, None)))\n",
    "        self.assertRaises(NoneTypeError(add_numbers(None, 1)))\n",
    "        self.assertRaises(WrongDataTypeError(add_numbers({}, {})))\n",
    "        \n",
    "unittest.main(argv=[''], verbosity=2, exit=False)    \n",
    "    \n",
    "  "
   ]
  },
  {
   "cell_type": "code",
   "execution_count": null,
   "id": "e96187fa",
   "metadata": {},
   "outputs": [],
   "source": []
  }
 ],
 "metadata": {
  "kernelspec": {
   "display_name": "py39",
   "language": "python",
   "name": "py39"
  },
  "language_info": {
   "codemirror_mode": {
    "name": "ipython",
    "version": 3
   },
   "file_extension": ".py",
   "mimetype": "text/x-python",
   "name": "python",
   "nbconvert_exporter": "python",
   "pygments_lexer": "ipython3",
   "version": "3.8.8"
  },
  "toc": {
   "base_numbering": 1,
   "nav_menu": {},
   "number_sections": true,
   "sideBar": true,
   "skip_h1_title": false,
   "title_cell": "Table of Contents",
   "title_sidebar": "Contents",
   "toc_cell": false,
   "toc_position": {},
   "toc_section_display": true,
   "toc_window_display": true
  },
  "varInspector": {
   "cols": {
    "lenName": 16,
    "lenType": 16,
    "lenVar": 40
   },
   "kernels_config": {
    "python": {
     "delete_cmd_postfix": "",
     "delete_cmd_prefix": "del ",
     "library": "var_list.py",
     "varRefreshCmd": "print(var_dic_list())"
    },
    "r": {
     "delete_cmd_postfix": ") ",
     "delete_cmd_prefix": "rm(",
     "library": "var_list.r",
     "varRefreshCmd": "cat(var_dic_list()) "
    }
   },
   "types_to_exclude": [
    "module",
    "function",
    "builtin_function_or_method",
    "instance",
    "_Feature"
   ],
   "window_display": false
  }
 },
 "nbformat": 4,
 "nbformat_minor": 5
}
