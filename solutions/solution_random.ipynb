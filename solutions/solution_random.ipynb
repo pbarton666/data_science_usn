{
 "cells": [
  {
   "cell_type": "code",
   "execution_count": 3,
   "id": "d28feee9",
   "metadata": {},
   "outputs": [],
   "source": [
    "import random\n",
    "\n",
    "# here's a \"pragma\" to switch execution modes depending on circumstances\n",
    "LIVE_MODE = False\n",
    "if LIVE_MODE:\n",
    "    magic_number = random.randint(1, 100)\n",
    "else:\n",
    "    magic_number = 50\n",
    "MAX_GUESSES = 5\n",
    "counter = 0"
   ]
  },
  {
   "cell_type": "code",
   "execution_count": 4,
   "id": "cfa58a92",
   "metadata": {
    "collapsed": true
   },
   "outputs": [
    {
     "name": "stdout",
     "output_type": "stream",
     "text": [
      "Please guess a number between 1 and 100:  1\n",
      "Good try, but you're a bit low.\n",
      "Please guess a number between 1 and 100:  50\n",
      "Yea!  You guessed the correct number, 50.\n"
     ]
    }
   ],
   "source": [
    "while True:\n",
    "    guess = input(\"Please guess a number between 1 and 100:  \")\n",
    "    counter += 1\n",
    "\n",
    "    # we've captured the guess \"from the wild\", let's clean it up and test it.\n",
    "\n",
    "    # this block uses the break keyword  in an if/else block\n",
    "    clean_guess = guess.strip()\n",
    "    if not clean_guess.isdigit():\n",
    "        print(\"C'mon  {} is not an integer\".format(clean_guess))\n",
    "        break\n",
    "    else:\n",
    "        clean_guess = int(clean_guess)\n",
    "\n",
    "    # this block uses the break keyword  in an if/elif block\n",
    "    if clean_guess < 0:\n",
    "        print(\"Your guess needs to be at least 0\")\n",
    "        break\n",
    "    elif clean_guess > 100:\n",
    "        print(\"Your guess is over 100.  Please try again\")\n",
    "        break\n",
    "\n",
    "    # here, we take advantage of the fact that only one suite can execute\n",
    "    if int(guess) == magic_number:\n",
    "        print(\"Yea!  You guessed the correct number, {}.\".format(magic_number))\n",
    "        break\n",
    "    elif counter >= MAX_GUESSES:\n",
    "        print(\"Sorry, but you've run out of guesses\")\n",
    "        break\n",
    "    elif int(guess) < magic_number:\n",
    "        print(\"Good try, but you're a bit low.\")\n",
    "    else:o\n",
    "        print(\"Getting there, but you're on the high side.\")"
   ]
  },
  {
   "cell_type": "code",
   "execution_count": null,
   "id": "5b14ea80",
   "metadata": {},
   "outputs": [],
   "source": []
  }
 ],
 "metadata": {
  "kernelspec": {
   "display_name": "py39",
   "language": "python",
   "name": "py39"
  },
  "language_info": {
   "codemirror_mode": {
    "name": "ipython",
    "version": 3
   },
   "file_extension": ".py",
   "mimetype": "text/x-python",
   "name": "python",
   "nbconvert_exporter": "python",
   "pygments_lexer": "ipython3",
   "version": "3.8.8"
  },
  "toc": {
   "base_numbering": 1,
   "nav_menu": {},
   "number_sections": true,
   "sideBar": true,
   "skip_h1_title": false,
   "title_cell": "Table of Contents",
   "title_sidebar": "Contents",
   "toc_cell": false,
   "toc_position": {},
   "toc_section_display": true,
   "toc_window_display": true
  },
  "varInspector": {
   "cols": {
    "lenName": 16,
    "lenType": 16,
    "lenVar": 40
   },
   "kernels_config": {
    "python": {
     "delete_cmd_postfix": "",
     "delete_cmd_prefix": "del ",
     "library": "var_list.py",
     "varRefreshCmd": "print(var_dic_list())"
    },
    "r": {
     "delete_cmd_postfix": ") ",
     "delete_cmd_prefix": "rm(",
     "library": "var_list.r",
     "varRefreshCmd": "cat(var_dic_list()) "
    }
   },
   "types_to_exclude": [
    "module",
    "function",
    "builtin_function_or_method",
    "instance",
    "_Feature"
   ],
   "window_display": false
  }
 },
 "nbformat": 4,
 "nbformat_minor": 5
}
