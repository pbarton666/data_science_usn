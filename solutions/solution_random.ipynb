{
 "cells": [
  {
   "cell_type": "code",
   "execution_count": 2,
   "id": "d28feee9",
   "metadata": {},
   "outputs": [],
   "source": [
    "import random\n",
    "\n",
    "# here's a \"pragma\" to switch execution modes depending on circumstances\n",
    "LIVE_MODE = False\n",
    "if LIVE_MODE:\n",
    "    magic_number = random.randint(1, 100)\n",
    "else:\n",
    "    magic_number = 50\n",
    "MAX_GUESSES = 5\n",
    "counter = 0"
   ]
  },
  {
   "cell_type": "code",
   "execution_count": 6,
   "id": "4d0885f7",
   "metadata": {
    "scrolled": true
   },
   "outputs": [
    {
     "data": {
      "text/plain": [
       "18"
      ]
     },
     "execution_count": 6,
     "metadata": {},
     "output_type": "execute_result"
    }
   ],
   "source": [
    "random.randint(1,100)"
   ]
  },
  {
   "cell_type": "code",
   "execution_count": 7,
   "id": "962e3b55",
   "metadata": {},
   "outputs": [
    {
     "name": "stdout",
     "output_type": "stream",
     "text": [
      "prompt345\n"
     ]
    }
   ],
   "source": [
    "a = input('prompt')"
   ]
  },
  {
   "cell_type": "code",
   "execution_count": 8,
   "id": "db4b7926",
   "metadata": {},
   "outputs": [
    {
     "data": {
      "text/plain": [
       "'345'"
      ]
     },
     "execution_count": 8,
     "metadata": {},
     "output_type": "execute_result"
    }
   ],
   "source": [
    "a"
   ]
  },
  {
   "cell_type": "code",
   "execution_count": 9,
   "id": "8fdb7c38",
   "metadata": {},
   "outputs": [
    {
     "data": {
      "text/plain": [
       "345"
      ]
     },
     "execution_count": 9,
     "metadata": {},
     "output_type": "execute_result"
    }
   ],
   "source": [
    "int(a)\n"
   ]
  },
  {
   "cell_type": "code",
   "execution_count": 10,
   "id": "d80e94a7",
   "metadata": {},
   "outputs": [
    {
     "data": {
      "text/plain": [
       "1"
      ]
     },
     "execution_count": 10,
     "metadata": {},
     "output_type": "execute_result"
    }
   ],
   "source": [
    "int(1.023)"
   ]
  },
  {
   "cell_type": "code",
   "execution_count": 11,
   "id": "dceb2416",
   "metadata": {
    "scrolled": true
   },
   "outputs": [
    {
     "ename": "ValueError",
     "evalue": "invalid literal for int() with base 10: 'hey'",
     "output_type": "error",
     "traceback": [
      "\u001b[1;31m---------------------------------------------------------------------------\u001b[0m",
      "\u001b[1;31mValueError\u001b[0m                                Traceback (most recent call last)",
      "\u001b[1;32m<ipython-input-11-ea1b41219e99>\u001b[0m in \u001b[0;36m<module>\u001b[1;34m\u001b[0m\n\u001b[1;32m----> 1\u001b[1;33m \u001b[0mint\u001b[0m\u001b[1;33m(\u001b[0m\u001b[1;34m'hey'\u001b[0m\u001b[1;33m)\u001b[0m\u001b[1;33m\u001b[0m\u001b[1;33m\u001b[0m\u001b[0m\n\u001b[0m",
      "\u001b[1;31mValueError\u001b[0m: invalid literal for int() with base 10: 'hey'"
     ]
    }
   ],
   "source": [
    "int('hey')"
   ]
  },
  {
   "cell_type": "code",
   "execution_count": 12,
   "id": "ee7e7e22",
   "metadata": {},
   "outputs": [
    {
     "data": {
      "text/plain": [
       "False"
      ]
     },
     "execution_count": 12,
     "metadata": {},
     "output_type": "execute_result"
    }
   ],
   "source": [
    "strg = '-40'\n",
    "strg.isdigit()"
   ]
  },
  {
   "cell_type": "code",
   "execution_count": 13,
   "id": "cb03fed7",
   "metadata": {
    "scrolled": true
   },
   "outputs": [
    {
     "data": {
      "text/plain": [
       "'-'"
      ]
     },
     "execution_count": 13,
     "metadata": {},
     "output_type": "execute_result"
    }
   ],
   "source": [
    "strg[0]"
   ]
  },
  {
   "cell_type": "code",
   "execution_count": 15,
   "id": "f9c2f6c5",
   "metadata": {},
   "outputs": [
    {
     "data": {
      "text/plain": [
       "2"
      ]
     },
     "execution_count": 15,
     "metadata": {},
     "output_type": "execute_result"
    }
   ],
   "source": [
    "eval('1+1') #os.chdir('/')   rmtree.delete('/')"
   ]
  },
  {
   "cell_type": "code",
   "execution_count": 14,
   "id": "b01b9c1f",
   "metadata": {},
   "outputs": [
    {
     "name": "stdout",
     "output_type": "stream",
     "text": [
      "Help on method_descriptor:\n",
      "\n",
      "isdigit(self, /)\n",
      "    Return True if the string is a digit string, False otherwise.\n",
      "    \n",
      "    A string is a digit string if all characters in the string are digits and there\n",
      "    is at least one character in the string.\n",
      "\n"
     ]
    }
   ],
   "source": [
    "help(str.isdigit)"
   ]
  },
  {
   "cell_type": "code",
   "execution_count": 5,
   "id": "cfa58a92",
   "metadata": {},
   "outputs": [
    {
     "name": "stdout",
     "output_type": "stream",
     "text": [
      "Please guess a number between 1 and 100:  50\n",
      "Yea!  You guessed the correct number, 50.\n"
     ]
    }
   ],
   "source": [
    "while True:  #while 1\n",
    "    guess = input(\"Please guess a number between 1 and 100:  \")\n",
    "    counter += 1\n",
    "\n",
    "    # we've captured the guess \"from the wild\", let's clean it up and test it.\n",
    "\n",
    "    # this block uses the break keyword  in an if/else block\n",
    "    clean_guess = guess.strip()\n",
    "    if not clean_guess.isdigit():\n",
    "        print(\"C'mon  {} is not an integer\".format(clean_guess))\n",
    "        break\n",
    "    else:\n",
    "        clean_guess = int(clean_guess)\n",
    "\n",
    "    # this block uses the break keyword  in an if/elif block\n",
    "    if clean_guess < 0:\n",
    "        print(\"Your guess needs to be at least 0\")\n",
    "        break\n",
    "    elif clean_guess > 100:\n",
    "        print(\"Your guess is over 100.  Please try again\")\n",
    "        break\n",
    "\n",
    "    # here, we take advantage of the fact that only one suite can execute\n",
    "    if int(guess) == magic_number:\n",
    "        print(\"Yea!  You guessed the correct number, {}.\".format(magic_number))\n",
    "        break\n",
    "    elif counter >= MAX_GUESSES:\n",
    "        print(\"Sorry, but you've run out of guesses\")\n",
    "        break\n",
    "    elif int(guess) < magic_number:\n",
    "        print(\"Good try, but you're a bit low.\")\n",
    "    else:\n",
    "        print(\"Getting there, but you're on the high side.\")"
   ]
  },
  {
   "cell_type": "code",
   "execution_count": null,
   "id": "5b14ea80",
   "metadata": {},
   "outputs": [],
   "source": [
    "0\n"
   ]
  }
 ],
 "metadata": {
  "kernelspec": {
   "display_name": "py39",
   "language": "python",
   "name": "py39"
  },
  "language_info": {
   "codemirror_mode": {
    "name": "ipython",
    "version": 3
   },
   "file_extension": ".py",
   "mimetype": "text/x-python",
   "name": "python",
   "nbconvert_exporter": "python",
   "pygments_lexer": "ipython3",
   "version": "3.8.8"
  },
  "toc": {
   "base_numbering": 1,
   "nav_menu": {},
   "number_sections": true,
   "sideBar": true,
   "skip_h1_title": false,
   "title_cell": "Table of Contents",
   "title_sidebar": "Contents",
   "toc_cell": false,
   "toc_position": {},
   "toc_section_display": true,
   "toc_window_display": true
  },
  "varInspector": {
   "cols": {
    "lenName": 16,
    "lenType": 16,
    "lenVar": 40
   },
   "kernels_config": {
    "python": {
     "delete_cmd_postfix": "",
     "delete_cmd_prefix": "del ",
     "library": "var_list.py",
     "varRefreshCmd": "print(var_dic_list())"
    },
    "r": {
     "delete_cmd_postfix": ") ",
     "delete_cmd_prefix": "rm(",
     "library": "var_list.r",
     "varRefreshCmd": "cat(var_dic_list()) "
    }
   },
   "types_to_exclude": [
    "module",
    "function",
    "builtin_function_or_method",
    "instance",
    "_Feature"
   ],
   "window_display": false
  }
 },
 "nbformat": 4,
 "nbformat_minor": 5
}
