{
 "cells": [
  {
   "cell_type": "code",
   "execution_count": 1,
   "id": "01f97e23",
   "metadata": {},
   "outputs": [],
   "source": [
    "def process_list(lst):\n",
    "\t\"process a list of titles; return a list of fixed titles\"\n",
    "\tnew_titles=[]\n",
    "\tfor title in lst:\n",
    "\t\tnew_titles.append(process_title(title))\n",
    "\treturn new_titles"
   ]
  },
  {
   "cell_type": "code",
   "execution_count": 2,
   "id": "4bb294bc",
   "metadata": {},
   "outputs": [],
   "source": [
    "def process_title(title):\n",
    "\t\"process an individual title; return fixed title\"\n",
    "\tnew_title = []\n",
    "\tfor word in title.split():\n",
    "\t\tnew_title.append(process_word(word))\n",
    "\treturn \" \".join(new_title)"
   ]
  },
  {
   "cell_type": "code",
   "execution_count": 3,
   "id": "33bf781d",
   "metadata": {},
   "outputs": [],
   "source": [
    "def process_word(word):\n",
    "\t\"process an individual word; return fixed version\"    \n",
    "\tword = word.lower()\n",
    "\tif word in ROYALTY:\n",
    "\t\tword = process_royalty(word)\n",
    "\telif len(word) > 3:\n",
    "\t\tword = word.capitalize()\n",
    "\tword = fix_apost(word)        \n",
    "\treturn word"
   ]
  },
  {
   "cell_type": "code",
   "execution_count": 4,
   "id": "d22344a7",
   "metadata": {},
   "outputs": [],
   "source": [
    "def fix_apost(word):\n",
    "\t\"deal with words that have apostropies\"\n",
    "\tsplit_word = word.split(\"'\")\n",
    "\tif len(split_word) > 1 and split_word[0].lower() == 'o':\n",
    "\t\tsplit_word[1] = split_word[1].capitalize()\n",
    "\t\treturn \"'\".join(split_word)\n",
    "\treturn word"
   ]
  },
  {
   "cell_type": "code",
   "execution_count": 5,
   "id": "a71e075a",
   "metadata": {},
   "outputs": [],
   "source": [
    "def process_royalty(word):\n",
    "\t#doesn't do much now, but placeholder for later changes\n",
    "\treturn word"
   ]
  },
  {
   "cell_type": "code",
   "execution_count": 7,
   "id": "9d842d94",
   "metadata": {},
   "outputs": [
    {
     "name": "stdout",
     "output_type": "stream",
     "text": [
      "old                             new                           \n",
      "====================            ====================          \n",
      "shot in the dark                Shot in the Dark              \n",
      "guido van rossum                Guido van Rossum              \n",
      "monty python's life of brian    Monty Python's Life of Brian  \n",
      "pat's thing                     Pat's Thing                   \n",
      "von RYAN's express              von Ryan's Express            \n",
      "Life of Brian                   Life of Brian                 \n",
      "trials of o'malley              Trials of O'Malley            \n"
     ]
    }
   ],
   "source": [
    "import unittest\n",
    "ROYALTY = ('von', 'van')\n",
    "\n",
    "# provide some titles to test out - note the extend() method\n",
    "lst = [\"shot in the dark\", \"guido van rossum\", \"monty python's life of brian\"]\n",
    "lst.extend([\"pat's thing\", \"von RYAN's express\",\n",
    "           \"Life of Brian\", \"trials of o'malley\"])\n",
    "\n",
    "new_titles = process_list(lst)\n",
    "\n",
    "# provide some fancy formatting for a clean list of titles\n",
    "fmt = \"{:<30}  {:<30}\"\n",
    "print(fmt.format(\"old\", \"new\"))\n",
    "print(fmt.format(\"=\"*20, \"=\"*20))\n",
    "\n",
    "# have a look at the 'before' and 'after' - note the zip() function\n",
    "for old, new in zip(lst, new_titles):\n",
    "    print(fmt.format(old, new))"
   ]
  },
  {
   "cell_type": "code",
   "execution_count": 8,
   "id": "479594bb",
   "metadata": {},
   "outputs": [],
   "source": [
    "zobj = zip(  (1,2,3), [2,34,5,6] , \"asfdasdf\"    )"
   ]
  },
  {
   "cell_type": "code",
   "execution_count": 9,
   "id": "d4a4d80a",
   "metadata": {},
   "outputs": [
    {
     "name": "stdout",
     "output_type": "stream",
     "text": [
      "(1, 2, 'a')\n",
      "(2, 34, 's')\n",
      "(3, 5, 'f')\n"
     ]
    }
   ],
   "source": [
    "for z in zobj:\n",
    "    print(z)"
   ]
  },
  {
   "cell_type": "code",
   "execution_count": null,
   "id": "18cb3ce3",
   "metadata": {},
   "outputs": [],
   "source": []
  }
 ],
 "metadata": {
  "kernelspec": {
   "display_name": "py39",
   "language": "python",
   "name": "py39"
  },
  "language_info": {
   "codemirror_mode": {
    "name": "ipython",
    "version": 3
   },
   "file_extension": ".py",
   "mimetype": "text/x-python",
   "name": "python",
   "nbconvert_exporter": "python",
   "pygments_lexer": "ipython3",
   "version": "3.8.8"
  },
  "toc": {
   "base_numbering": 1,
   "nav_menu": {},
   "number_sections": true,
   "sideBar": true,
   "skip_h1_title": false,
   "title_cell": "Table of Contents",
   "title_sidebar": "Contents",
   "toc_cell": false,
   "toc_position": {},
   "toc_section_display": true,
   "toc_window_display": true
  },
  "varInspector": {
   "cols": {
    "lenName": 16,
    "lenType": 16,
    "lenVar": 40
   },
   "kernels_config": {
    "python": {
     "delete_cmd_postfix": "",
     "delete_cmd_prefix": "del ",
     "library": "var_list.py",
     "varRefreshCmd": "print(var_dic_list())"
    },
    "r": {
     "delete_cmd_postfix": ") ",
     "delete_cmd_prefix": "rm(",
     "library": "var_list.r",
     "varRefreshCmd": "cat(var_dic_list()) "
    }
   },
   "types_to_exclude": [
    "module",
    "function",
    "builtin_function_or_method",
    "instance",
    "_Feature"
   ],
   "window_display": false
  }
 },
 "nbformat": 4,
 "nbformat_minor": 5
}
