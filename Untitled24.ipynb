{
 "cells": [
  {
   "cell_type": "code",
   "execution_count": 5,
   "id": "5e741378",
   "metadata": {},
   "outputs": [],
   "source": [
    "import numpy as np\n",
    "\n",
    "rows=3\n",
    "cols=4 \n",
    "beers=3\n",
    "\n",
    "#stake out some memory using zeros()\n",
    "arr=np.zeros([beers, rows, cols], dtype=int)\n",
    "\n",
    "#add each element\n",
    "for el in range(beers):\n",
    "    for r in range(rows):\n",
    "        for c in range(cols):\n",
    "            arr[el, r, c]=(el + 1) * 100 + (r + 1) * 10 + (c + 1)"
   ]
  },
  {
   "cell_type": "code",
   "execution_count": 6,
   "id": "fcadf5c9",
   "metadata": {
    "scrolled": true
   },
   "outputs": [
    {
     "data": {
      "text/plain": [
       "array([[[111, 112, 113, 114],\n",
       "        [121, 122, 123, 124],\n",
       "        [131, 132, 133, 134]],\n",
       "\n",
       "       [[211, 212, 213, 214],\n",
       "        [221, 222, 223, 224],\n",
       "        [231, 232, 233, 234]],\n",
       "\n",
       "       [[311, 312, 313, 314],\n",
       "        [321, 322, 323, 324],\n",
       "        [331, 332, 333, 334]]])"
      ]
     },
     "execution_count": 6,
     "metadata": {},
     "output_type": "execute_result"
    }
   ],
   "source": [
    "arr"
   ]
  },
  {
   "cell_type": "code",
   "execution_count": 7,
   "id": "415ffc64",
   "metadata": {},
   "outputs": [
    {
     "name": "stdout",
     "output_type": "stream",
     "text": [
      "[[[111 112 113 114]\n",
      "  [121 122 123 124]\n",
      "  [131 132 133 134]]\n",
      "\n",
      " [[211 212 213 214]\n",
      "  [221 222 223 224]\n",
      "  [231 232 233 234]]\n",
      "\n",
      " [[311 312 313 314]\n",
      "  [321 322 323 324]\n",
      "  [331 332 333 334]]]\n"
     ]
    }
   ],
   "source": [
    "print(arr)"
   ]
  },
  {
   "cell_type": "code",
   "execution_count": 2,
   "id": "f6927e00",
   "metadata": {},
   "outputs": [
    {
     "name": "stdout",
     "output_type": "stream",
     "text": [
      "[[111. 112. 113. 114.]\n",
      " [121. 122. 123. 124.]\n",
      " [131. 132. 133. 134.]]\n",
      "\n",
      "[[222. 223.]\n",
      " [232. 233.]]\n",
      "\n",
      "[331. 332. 333. 334.]\n",
      "\n",
      "[[[111. 112. 113. 114.]\n",
      "  [121. 122. 123. 124.]\n",
      "  [131. 132. 133. 134.]]\n",
      "\n",
      " [[211. 212. 213. 214.]\n",
      "  [221. 222. 223. 224.]\n",
      "  [231. 232. 233. 234.]]\n",
      "\n",
      " [[311. 312. 313. 314.]\n",
      "  [321. 322. 323. 324.]\n",
      "  [331. 332. 333. 334.]]]\n"
     ]
    }
   ],
   "source": [
    "import numpy as np\n",
    "rows=3; cols=4; beers=3\n",
    "#stake out some memory using zeros()\n",
    "arr=np.zeros([beers, rows, cols])\n",
    "#add each element\n",
    "for el in range(beers):\n",
    "    for r in range(rows):\n",
    "        for c in range(cols):\n",
    "            arr[el, r, c]=(el + 1) * 100 + (r + 1) * 10 + (c + 1)\n",
    "\n",
    "IPA=arr[0]\n",
    "print(IPA)\n",
    "print()\n",
    "\n",
    "mid_bottom_layer_2=arr[1, 1:3, 1:3]\n",
    "print(mid_bottom_layer_2)\n",
    "print()\n",
    "\n",
    "mid_row_layer_3 = arr[2, 2, :]\n",
    "print(mid_row_layer_3)\n",
    "print()\n",
    "\n",
    "print(arr)"
   ]
  },
  {
   "cell_type": "code",
   "execution_count": null,
   "id": "f37fd22c",
   "metadata": {},
   "outputs": [],
   "source": []
  }
 ],
 "metadata": {
  "kernelspec": {
   "display_name": "py39",
   "language": "python",
   "name": "py39"
  },
  "language_info": {
   "codemirror_mode": {
    "name": "ipython",
    "version": 3
   },
   "file_extension": ".py",
   "mimetype": "text/x-python",
   "name": "python",
   "nbconvert_exporter": "python",
   "pygments_lexer": "ipython3",
   "version": "3.8.8"
  },
  "toc": {
   "base_numbering": 1,
   "nav_menu": {},
   "number_sections": true,
   "sideBar": true,
   "skip_h1_title": false,
   "title_cell": "Table of Contents",
   "title_sidebar": "Contents",
   "toc_cell": false,
   "toc_position": {},
   "toc_section_display": true,
   "toc_window_display": true
  },
  "varInspector": {
   "cols": {
    "lenName": 16,
    "lenType": 16,
    "lenVar": 40
   },
   "kernels_config": {
    "python": {
     "delete_cmd_postfix": "",
     "delete_cmd_prefix": "del ",
     "library": "var_list.py",
     "varRefreshCmd": "print(var_dic_list())"
    },
    "r": {
     "delete_cmd_postfix": ") ",
     "delete_cmd_prefix": "rm(",
     "library": "var_list.r",
     "varRefreshCmd": "cat(var_dic_list()) "
    }
   },
   "types_to_exclude": [
    "module",
    "function",
    "builtin_function_or_method",
    "instance",
    "_Feature"
   ],
   "window_display": false
  }
 },
 "nbformat": 4,
 "nbformat_minor": 5
}
