{
 "cells": [
  {
   "cell_type": "code",
   "execution_count": 2,
   "id": "f479e554",
   "metadata": {},
   "outputs": [],
   "source": [
    "import re\n",
    "\n"
   ]
  },
  {
   "cell_type": "code",
   "execution_count": 7,
   "id": "8646bfef",
   "metadata": {},
   "outputs": [
    {
     "name": "stdout",
     "output_type": "stream",
     "text": [
      "We captured this group: 1234-5678-1234\n",
      "\n",
      "Success.  Changed 1234-5678-1234-5678 \n",
      "\tto the much safer ****-****-****-5678.\n"
     ]
    }
   ],
   "source": [
    "cc = \"1234-5678-1234-5678\"\n",
    "\n",
    "# This will check the first three groups of numbers and the separators.\n",
    "regex = re.compile(r'''(\n",
    "                        (\\d{4})   #match 4 digits\n",
    "                        (\\s*|\\-*) #matches either a white space '\\s' or a dash '\\'\n",
    "                        (\\d{4})   #match next 4 digits\n",
    "                        (\\s*|\\-*) #matches either a white space '\\s' or a dash '\\'\n",
    "                        (\\d{4})   #match next 4 digits\n",
    "                        )''', re.VERBOSE)\n",
    "\n",
    "\n",
    "# validation:  does it even look like a credit card?\n",
    "m = regex.match(cc)\n",
    "if not m:\n",
    "    print(\"Sorry, that's not a credit card number\")\n",
    "    \n",
    "print(f\"We captured this group: {m.group()}\")\n",
    "print()\n",
    "\n",
    "# if it is, we'll make a substitution of the first 12 numbers\n",
    "fixed = re.sub(m.group(), \"****-****-****\", cc)\n",
    "\n",
    "print(\"Success.  Changed {} \\n\\tto the much safer {}.\".format(cc, fixed))"
   ]
  },
  {
   "cell_type": "code",
   "execution_count": 4,
   "id": "b7c3105c",
   "metadata": {},
   "outputs": [
    {
     "data": {
      "text/plain": [
       "'1234-5678-1234'"
      ]
     },
     "execution_count": 4,
     "metadata": {},
     "output_type": "execute_result"
    }
   ],
   "source": [
    "m.group()\n"
   ]
  },
  {
   "cell_type": "code",
   "execution_count": 5,
   "id": "78db54e9",
   "metadata": {},
   "outputs": [
    {
     "data": {
      "text/plain": [
       "<re.Match object; span=(0, 14), match='1234-5678-1234'>"
      ]
     },
     "execution_count": 5,
     "metadata": {},
     "output_type": "execute_result"
    }
   ],
   "source": [
    "m"
   ]
  },
  {
   "cell_type": "code",
   "execution_count": null,
   "id": "c77bb798",
   "metadata": {},
   "outputs": [],
   "source": []
  }
 ],
 "metadata": {
  "kernelspec": {
   "display_name": "py39",
   "language": "python",
   "name": "py39"
  },
  "language_info": {
   "codemirror_mode": {
    "name": "ipython",
    "version": 3
   },
   "file_extension": ".py",
   "mimetype": "text/x-python",
   "name": "python",
   "nbconvert_exporter": "python",
   "pygments_lexer": "ipython3",
   "version": "3.8.8"
  },
  "toc": {
   "base_numbering": 1,
   "nav_menu": {},
   "number_sections": true,
   "sideBar": true,
   "skip_h1_title": false,
   "title_cell": "Table of Contents",
   "title_sidebar": "Contents",
   "toc_cell": false,
   "toc_position": {},
   "toc_section_display": true,
   "toc_window_display": true
  },
  "varInspector": {
   "cols": {
    "lenName": 16,
    "lenType": 16,
    "lenVar": 40
   },
   "kernels_config": {
    "python": {
     "delete_cmd_postfix": "",
     "delete_cmd_prefix": "del ",
     "library": "var_list.py",
     "varRefreshCmd": "print(var_dic_list())"
    },
    "r": {
     "delete_cmd_postfix": ") ",
     "delete_cmd_prefix": "rm(",
     "library": "var_list.r",
     "varRefreshCmd": "cat(var_dic_list()) "
    }
   },
   "types_to_exclude": [
    "module",
    "function",
    "builtin_function_or_method",
    "instance",
    "_Feature"
   ],
   "window_display": false
  }
 },
 "nbformat": 4,
 "nbformat_minor": 5
}
