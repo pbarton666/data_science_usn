{
 "cells": [
  {
   "cell_type": "code",
   "execution_count": 1,
   "id": "6c382f1a",
   "metadata": {},
   "outputs": [],
   "source": [
    "import datetime\n",
    "import calendar"
   ]
  },
  {
   "cell_type": "code",
   "execution_count": 2,
   "id": "66670f18",
   "metadata": {},
   "outputs": [],
   "source": [
    "# not for production code, but good for debugging\n",
    "debug = False"
   ]
  },
  {
   "cell_type": "code",
   "execution_count": 3,
   "id": "967119b0",
   "metadata": {},
   "outputs": [],
   "source": [
    "bday_text = \"May 5, 1970\""
   ]
  },
  {
   "cell_type": "code",
   "execution_count": 4,
   "id": "d99036e0",
   "metadata": {},
   "outputs": [
    {
     "data": {
      "text/plain": [
       "['May', '5', '1970']"
      ]
     },
     "execution_count": 4,
     "metadata": {},
     "output_type": "execute_result"
    }
   ],
   "source": [
    "# parse out the contents\n",
    "bday_parts = bday_text.replace(',', '').split()\n",
    "bday_parts"
   ]
  },
  {
   "cell_type": "code",
   "execution_count": 5,
   "id": "c6a9356f",
   "metadata": {},
   "outputs": [
    {
     "data": {
      "text/plain": [
       "datetime.datetime(1970, 5, 5, 0, 0)"
      ]
     },
     "execution_count": 5,
     "metadata": {},
     "output_type": "execute_result"
    }
   ],
   "source": [
    "# convert month to integer\n",
    "month_dict = {'Jan': 1, 'Feb': 2, 'Mar': 3, 'Apr': 4, 'May': 5, 'Jun': 6,\n",
    "              'Jul': 7, 'Aug': 8, 'Sep': 9, 'Oct': 10, 'Nov': 11, 'Dec': 12}\n",
    "\n",
    "# create a datetime object from the parsed birthday\n",
    "mon, day, yr = bday_parts\n",
    "bday_datetime = datetime.datetime(int(yr), month_dict[mon], int(day))\n",
    "bday_datetime"
   ]
  },
  {
   "cell_type": "code",
   "execution_count": 7,
   "id": "5c5c1d5b",
   "metadata": {},
   "outputs": [
    {
     "data": {
      "text/plain": [
       "datetime.datetime(2021, 7, 17, 15, 1, 22, 339161)"
      ]
     },
     "execution_count": 7,
     "metadata": {},
     "output_type": "execute_result"
    }
   ],
   "source": [
    "# figure out how long ago that was, using datetime objects\n",
    "now = datetime.datetime.now()\n",
    "now"
   ]
  },
  {
   "cell_type": "code",
   "execution_count": 8,
   "id": "db301424",
   "metadata": {},
   "outputs": [
    {
     "data": {
      "text/plain": [
       "datetime.timedelta(days=18701, seconds=54082, microseconds=339161)"
      ]
     },
     "execution_count": 8,
     "metadata": {},
     "output_type": "execute_result"
    }
   ],
   "source": [
    "delta = now - bday_datetime\n",
    "delta"
   ]
  },
  {
   "cell_type": "code",
   "execution_count": 10,
   "id": "fc7c73bc",
   "metadata": {},
   "outputs": [],
   "source": [
    "# parse out the days and roughly figure out age in years\n",
    "days_ago = delta.days\n",
    "age = delta.days / 365  # doesn't count leap year, but oh, well"
   ]
  },
  {
   "cell_type": "code",
   "execution_count": 11,
   "id": "1c109fda",
   "metadata": {},
   "outputs": [
    {
     "name": "stdout",
     "output_type": "stream",
     "text": [
      "I was born on May 5, 1970\n",
      "\n",
      "That was 18701 days ago ... and it makes me 51.\n"
     ]
    }
   ],
   "source": [
    "print(\"I was born on {}\".format(bday_text))\n",
    "print()\n",
    "print(f\"That was {days_ago} days ago ... and it makes me {int(age)}.\")"
   ]
  },
  {
   "cell_type": "code",
   "execution_count": 13,
   "id": "0c9f04d2",
   "metadata": {},
   "outputs": [
    {
     "ename": "SyntaxError",
     "evalue": "invalid syntax (<ipython-input-13-bfee91c724aa>, line 5)",
     "output_type": "error",
     "traceback": [
      "\u001b[1;36m  File \u001b[1;32m\"<ipython-input-13-bfee91c724aa>\"\u001b[1;36m, line \u001b[1;32m5\u001b[0m\n\u001b[1;33m    print(f\"I was born on a {weekday_dict[bday_day_of_week]}\")\u001b[0m\n\u001b[1;37m    ^\u001b[0m\n\u001b[1;31mSyntaxError\u001b[0m\u001b[1;31m:\u001b[0m invalid syntax\n"
     ]
    }
   ],
   "source": [
    "# figure out the day of week using calendar.weekday; returns an integer (Mon=0)\n",
    "bday_day_of_week = calendar.weekday(int(yr), month_dict[mon], int(day))\n",
    "weekday_dict={0:'Mon', 1:'Tue', 2:'Wed', 3:'Thr', 4:'Fri', 5:'Sat', 6:'Sun'\n",
    "\n",
    "print(f\"I was born on a {weekday_dict[bday_day_of_week]}\")\n",
    "\n"
   ]
  },
  {
   "cell_type": "code",
   "execution_count": null,
   "id": "fa2aaf3a",
   "metadata": {},
   "outputs": [],
   "source": []
  }
 ],
 "metadata": {
  "kernelspec": {
   "display_name": "py39",
   "language": "python",
   "name": "py39"
  },
  "language_info": {
   "codemirror_mode": {
    "name": "ipython",
    "version": 3
   },
   "file_extension": ".py",
   "mimetype": "text/x-python",
   "name": "python",
   "nbconvert_exporter": "python",
   "pygments_lexer": "ipython3",
   "version": "3.8.8"
  },
  "toc": {
   "base_numbering": 1,
   "nav_menu": {},
   "number_sections": true,
   "sideBar": true,
   "skip_h1_title": false,
   "title_cell": "Table of Contents",
   "title_sidebar": "Contents",
   "toc_cell": false,
   "toc_position": {},
   "toc_section_display": true,
   "toc_window_display": true
  },
  "varInspector": {
   "cols": {
    "lenName": 16,
    "lenType": 16,
    "lenVar": 40
   },
   "kernels_config": {
    "python": {
     "delete_cmd_postfix": "",
     "delete_cmd_prefix": "del ",
     "library": "var_list.py",
     "varRefreshCmd": "print(var_dic_list())"
    },
    "r": {
     "delete_cmd_postfix": ") ",
     "delete_cmd_prefix": "rm(",
     "library": "var_list.r",
     "varRefreshCmd": "cat(var_dic_list()) "
    }
   },
   "types_to_exclude": [
    "module",
    "function",
    "builtin_function_or_method",
    "instance",
    "_Feature"
   ],
   "window_display": false
  }
 },
 "nbformat": 4,
 "nbformat_minor": 5
}
