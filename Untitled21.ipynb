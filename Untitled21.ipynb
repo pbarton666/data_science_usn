{
 "cells": [
  {
   "cell_type": "code",
   "execution_count": 8,
   "id": "777de6dd",
   "metadata": {},
   "outputs": [],
   "source": [
    "import os\n",
    "import sqlite3\n",
    "import csv\n",
    "\n",
    "DB = 'db'\n",
    "TABLE = 'baseball'\n",
    "\n",
    "\n",
    "path = 'data'\n",
    "fn = 'py_baseball_data.csv'\n",
    "file_path = os.path.join('..', path, fn)"
   ]
  },
  {
   "cell_type": "code",
   "execution_count": 9,
   "id": "74fc5832",
   "metadata": {},
   "outputs": [],
   "source": [
    "def create_database(file_path, db, table):\n",
    "    \"\"\"\n",
    "    Creates a database w/ table loaded with file data.\n",
    "    \n",
    "    :param str filepath:  Fully-specified path/to/file\n",
    "    :param str db:  Name of database to be created\n",
    "    :param str table: Name of the database table to be created\n",
    "    :return: None\n",
    "    \n",
    "    \"\"\"\n",
    "    \n",
    "    # connect to the database\n",
    "    conn = sqlite3.connect(DB)\n",
    "    curs = conn.cursor()\n",
    "\n",
    "    # Set up a data table\n",
    "    cmd = \"DROP TABLE IF EXISTS {}\".format(TABLE)\n",
    "    curs.execute(cmd)\n",
    "\n",
    "    cmd = \"\"\"CREATE TABLE {}\n",
    "                         (year   INT, \n",
    "                          month  INT, \n",
    "                          day    INT, \n",
    "                          last   TEXT(20), \n",
    "                          first  TEXT(20), \n",
    "                          team   TEXT(30), \n",
    "                          league TEXT(2)\n",
    "                          )\"\"\".format(TABLE)\n",
    "    curs.execute(cmd)\n",
    "    conn.commit()\n",
    "\n",
    "    # Capture the column names\n",
    "\n",
    "    cmd = \"SELECT * FROM {}\".format(TABLE)\n",
    "    curs.execute(cmd)\n",
    "\n",
    "    cols = []\n",
    "    for name in curs.description:\n",
    "        cols.append(name[0])\n",
    "    cols = tuple(cols)\n",
    "\n",
    "    # open the file and read it, dropping each row into the data table\n",
    "    with open(file_path, 'r') as data_file:\n",
    "        reader = csv.reader(data_file)\n",
    "        next(reader)  # skips the header row\n",
    "        for data in reader:\n",
    "            # create tuples for our data and column values\n",
    "            cmd = \"INSERT INTO {} {} VALUES {}\".format(\n",
    "                TABLE, cols, tuple(data))\n",
    "            curs.execute(cmd)\n",
    "    conn.commit()\n",
    "    conn.close()"
   ]
  },
  {
   "cell_type": "code",
   "execution_count": 10,
   "id": "b72f8ef0",
   "metadata": {},
   "outputs": [],
   "source": [
    "def get_nh_results_nl_after_june(db, table):\n",
    "    \n",
    "    \"\"\"\n",
    "    Queries a database.\n",
    "    \n",
    "    :param str db:  Name of database to be queried\n",
    "    :param str table: Name of the database table to be queried\n",
    "    :return\n",
    "    \n",
    "    \"\"\"    \n",
    "    \"dig out the ho-hitters after June by NL teams\"\n",
    "    conn = sqlite3.connect(DB)\n",
    "    curs = conn.cursor()\n",
    "    cmd = \"SELECT * FROM {} WHERE league='NL' AND month>6\".format(TABLE)\n",
    "    curs.execute(cmd)\n",
    "\n",
    "    results = curs.fetchall()\n",
    "    return results"
   ]
  },
  {
   "cell_type": "code",
   "execution_count": 11,
   "id": "adca7b79",
   "metadata": {},
   "outputs": [
    {
     "ename": "FileNotFoundError",
     "evalue": "[Errno 2] No such file or directory: '..\\\\data\\\\py_baseball_data.csv'",
     "output_type": "error",
     "traceback": [
      "\u001b[1;31m------------------------------------------\u001b[0m",
      "\u001b[1;31mFileNotFoundError\u001b[0mTraceback (most recent call last)",
      "\u001b[1;32m<ipython-input-11-708a77dd5fc6>\u001b[0m in \u001b[0;36m<module>\u001b[1;34m\u001b[0m\n\u001b[0;32m      1\u001b[0m \u001b[1;31m# This is the main part of the program - we create the database then interrogate it.\u001b[0m\u001b[1;33m\u001b[0m\u001b[1;33m\u001b[0m\u001b[1;33m\u001b[0m\u001b[0m\n\u001b[0;32m      2\u001b[0m \u001b[1;33m\u001b[0m\u001b[0m\n\u001b[1;32m----> 3\u001b[1;33m \u001b[0mcreate_database\u001b[0m\u001b[1;33m(\u001b[0m\u001b[0mfile_path\u001b[0m\u001b[1;33m,\u001b[0m \u001b[0mDB\u001b[0m\u001b[1;33m,\u001b[0m \u001b[0mTABLE\u001b[0m\u001b[1;33m)\u001b[0m\u001b[1;33m\u001b[0m\u001b[1;33m\u001b[0m\u001b[0m\n\u001b[0m\u001b[0;32m      4\u001b[0m \u001b[0mresults\u001b[0m \u001b[1;33m=\u001b[0m \u001b[0mget_nh_results_nl_after_june\u001b[0m\u001b[1;33m(\u001b[0m\u001b[0mDB\u001b[0m\u001b[1;33m,\u001b[0m \u001b[0mTABLE\u001b[0m\u001b[1;33m)\u001b[0m\u001b[1;33m\u001b[0m\u001b[1;33m\u001b[0m\u001b[0m\n\u001b[0;32m      5\u001b[0m \u001b[1;33m\u001b[0m\u001b[0m\n",
      "\u001b[1;32m<ipython-input-9-1a593bca1a49>\u001b[0m in \u001b[0;36mcreate_database\u001b[1;34m(file_path, db, table)\u001b[0m\n\u001b[0;32m     41\u001b[0m \u001b[1;33m\u001b[0m\u001b[0m\n\u001b[0;32m     42\u001b[0m     \u001b[1;31m# open the file and read it, dropping each row into the data table\u001b[0m\u001b[1;33m\u001b[0m\u001b[1;33m\u001b[0m\u001b[1;33m\u001b[0m\u001b[0m\n\u001b[1;32m---> 43\u001b[1;33m     \u001b[1;32mwith\u001b[0m \u001b[0mopen\u001b[0m\u001b[1;33m(\u001b[0m\u001b[0mfile_path\u001b[0m\u001b[1;33m,\u001b[0m \u001b[1;34m'r'\u001b[0m\u001b[1;33m)\u001b[0m \u001b[1;32mas\u001b[0m \u001b[0mdata_file\u001b[0m\u001b[1;33m:\u001b[0m\u001b[1;33m\u001b[0m\u001b[1;33m\u001b[0m\u001b[0m\n\u001b[0m\u001b[0;32m     44\u001b[0m         \u001b[0mreader\u001b[0m \u001b[1;33m=\u001b[0m \u001b[0mcsv\u001b[0m\u001b[1;33m.\u001b[0m\u001b[0mreader\u001b[0m\u001b[1;33m(\u001b[0m\u001b[0mdata_file\u001b[0m\u001b[1;33m)\u001b[0m\u001b[1;33m\u001b[0m\u001b[1;33m\u001b[0m\u001b[0m\n\u001b[0;32m     45\u001b[0m         \u001b[0mnext\u001b[0m\u001b[1;33m(\u001b[0m\u001b[0mreader\u001b[0m\u001b[1;33m)\u001b[0m  \u001b[1;31m# skips the header row\u001b[0m\u001b[1;33m\u001b[0m\u001b[1;33m\u001b[0m\u001b[0m\n",
      "\u001b[1;31mFileNotFoundError\u001b[0m: [Errno 2] No such file or directory: '..\\\\data\\\\py_baseball_data.csv'"
     ]
    }
   ],
   "source": [
    "# This is the main part of the program - we create the database then interrogate it.\n",
    "\n",
    "create_database(file_path, DB, TABLE)\n",
    "results = get_nh_results_nl_after_june(DB, TABLE)\n",
    "\n",
    "print(results)"
   ]
  },
  {
   "cell_type": "code",
   "execution_count": null,
   "id": "7bab3b4a",
   "metadata": {},
   "outputs": [],
   "source": []
  }
 ],
 "metadata": {
  "kernelspec": {
   "display_name": "py39",
   "language": "python",
   "name": "py39"
  },
  "language_info": {
   "codemirror_mode": {
    "name": "ipython",
    "version": 3
   },
   "file_extension": ".py",
   "mimetype": "text/x-python",
   "name": "python",
   "nbconvert_exporter": "python",
   "pygments_lexer": "ipython3",
   "version": "3.8.8"
  },
  "toc": {
   "base_numbering": 1,
   "nav_menu": {},
   "number_sections": true,
   "sideBar": true,
   "skip_h1_title": false,
   "title_cell": "Table of Contents",
   "title_sidebar": "Contents",
   "toc_cell": false,
   "toc_position": {},
   "toc_section_display": true,
   "toc_window_display": true
  },
  "varInspector": {
   "cols": {
    "lenName": 16,
    "lenType": 16,
    "lenVar": 40
   },
   "kernels_config": {
    "python": {
     "delete_cmd_postfix": "",
     "delete_cmd_prefix": "del ",
     "library": "var_list.py",
     "varRefreshCmd": "print(var_dic_list())"
    },
    "r": {
     "delete_cmd_postfix": ") ",
     "delete_cmd_prefix": "rm(",
     "library": "var_list.r",
     "varRefreshCmd": "cat(var_dic_list()) "
    }
   },
   "types_to_exclude": [
    "module",
    "function",
    "builtin_function_or_method",
    "instance",
    "_Feature"
   ],
   "window_display": false
  }
 },
 "nbformat": 4,
 "nbformat_minor": 5
}
